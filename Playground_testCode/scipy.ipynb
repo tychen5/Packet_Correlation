{
 "cells": [
  {
   "cell_type": "code",
   "execution_count": 1,
   "metadata": {},
   "outputs": [],
   "source": [
    "# Libraries\n",
    "import pandas as pd\n",
    "from matplotlib import pyplot as plt\n",
    "from scipy.cluster.hierarchy import dendrogram, linkage\n",
    "import numpy as np\n"
   ]
  },
  {
   "cell_type": "code",
   "execution_count": 2,
   "metadata": {},
   "outputs": [
    {
     "ename": "AttributeError",
     "evalue": "can't delete attribute",
     "output_type": "error",
     "traceback": [
      "\u001b[0;31m---------------------------------------------------------------------------\u001b[0m",
      "\u001b[0;31mAttributeError\u001b[0m                            Traceback (most recent call last)",
      "\u001b[0;32m<ipython-input-2-d0d22da9236f>\u001b[0m in \u001b[0;36m<module>\u001b[0;34m\u001b[0m\n\u001b[1;32m      3\u001b[0m \u001b[0mdf\u001b[0m \u001b[0;34m=\u001b[0m \u001b[0mpd\u001b[0m\u001b[0;34m.\u001b[0m\u001b[0mread_csv\u001b[0m\u001b[0;34m(\u001b[0m\u001b[0murl\u001b[0m\u001b[0;34m)\u001b[0m\u001b[0;34m\u001b[0m\u001b[0;34m\u001b[0m\u001b[0m\n\u001b[1;32m      4\u001b[0m \u001b[0mdf\u001b[0m \u001b[0;34m=\u001b[0m \u001b[0mdf\u001b[0m\u001b[0;34m.\u001b[0m\u001b[0mset_index\u001b[0m\u001b[0;34m(\u001b[0m\u001b[0;34m'model'\u001b[0m\u001b[0;34m)\u001b[0m\u001b[0;34m\u001b[0m\u001b[0;34m\u001b[0m\u001b[0m\n\u001b[0;32m----> 5\u001b[0;31m \u001b[0;32mdel\u001b[0m \u001b[0mdf\u001b[0m\u001b[0;34m.\u001b[0m\u001b[0mindex\u001b[0m\u001b[0;34m.\u001b[0m\u001b[0mname\u001b[0m\u001b[0;34m\u001b[0m\u001b[0;34m\u001b[0m\u001b[0m\n\u001b[0m",
      "\u001b[0;31mAttributeError\u001b[0m: can't delete attribute"
     ]
    }
   ],
   "source": [
    "# Data set\n",
    "url = 'https://python-graph-gallery.com/wp-content/uploads/mtcars.csv'\n",
    "df = pd.read_csv(url)\n",
    "df = df.set_index('model')\n",
    "del df.index.name\n"
   ]
  },
  {
   "cell_type": "code",
   "execution_count": 28,
   "metadata": {
    "scrolled": true
   },
   "outputs": [
    {
     "data": {
      "text/plain": [
       "['Mazda RX4',\n",
       " 'Mazda RX4 Wag',\n",
       " 'Datsun 710',\n",
       " 'Hornet 4 Drive',\n",
       " 'Hornet Sportabout',\n",
       " 'Valiant',\n",
       " 'Duster 360',\n",
       " 'Merc 240D',\n",
       " 'Merc 230',\n",
       " 'Merc 280',\n",
       " 'Merc 280C',\n",
       " 'Merc 450SE',\n",
       " 'Merc 450SL',\n",
       " 'Merc 450SLC',\n",
       " 'Cadillac Fleetwood',\n",
       " 'Lincoln Continental',\n",
       " 'Chrysler Imperial',\n",
       " 'Fiat 128',\n",
       " 'Honda Civic',\n",
       " 'Toyota Corolla',\n",
       " 'Toyota Corona',\n",
       " 'Dodge Challenger',\n",
       " 'AMC Javelin',\n",
       " 'Camaro Z28',\n",
       " 'Pontiac Firebird',\n",
       " 'Fiat X1-9',\n",
       " 'Porsche 914-2',\n",
       " 'Lotus Europa',\n",
       " 'Ford Pantera L',\n",
       " 'Ferrari Dino',\n",
       " 'Maserati Bora',\n",
       " 'Volvo 142E']"
      ]
     },
     "execution_count": 28,
     "metadata": {},
     "output_type": "execute_result"
    }
   ],
   "source": [
    "df.index.tolist()"
   ]
  },
  {
   "cell_type": "code",
   "execution_count": 24,
   "metadata": {},
   "outputs": [
    {
     "data": {
      "text/plain": [
       "{'icoord': [[25.0, 25.0, 35.0, 35.0],\n",
       "  [15.0, 15.0, 30.0, 30.0],\n",
       "  [5.0, 5.0, 22.5, 22.5],\n",
       "  [95.0, 95.0, 105.0, 105.0],\n",
       "  [85.0, 85.0, 100.0, 100.0],\n",
       "  [75.0, 75.0, 92.5, 92.5],\n",
       "  [65.0, 65.0, 83.75, 83.75],\n",
       "  [55.0, 55.0, 74.375, 74.375],\n",
       "  [45.0, 45.0, 64.6875, 64.6875],\n",
       "  [125.0, 125.0, 135.0, 135.0],\n",
       "  [145.0, 145.0, 155.0, 155.0],\n",
       "  [130.0, 130.0, 150.0, 150.0],\n",
       "  [115.0, 115.0, 140.0, 140.0],\n",
       "  [54.84375, 54.84375, 127.5, 127.5],\n",
       "  [13.75, 13.75, 91.171875, 91.171875],\n",
       "  [165.0, 165.0, 175.0, 175.0],\n",
       "  [195.0, 195.0, 205.0, 205.0],\n",
       "  [185.0, 185.0, 200.0, 200.0],\n",
       "  [215.0, 215.0, 225.0, 225.0],\n",
       "  [192.5, 192.5, 220.0, 220.0],\n",
       "  [170.0, 170.0, 206.25, 206.25],\n",
       "  [255.0, 255.0, 265.0, 265.0],\n",
       "  [245.0, 245.0, 260.0, 260.0],\n",
       "  [235.0, 235.0, 252.5, 252.5],\n",
       "  [285.0, 285.0, 295.0, 295.0],\n",
       "  [275.0, 275.0, 290.0, 290.0],\n",
       "  [305.0, 305.0, 315.0, 315.0],\n",
       "  [282.5, 282.5, 310.0, 310.0],\n",
       "  [243.75, 243.75, 296.25, 296.25],\n",
       "  [188.125, 188.125, 270.0, 270.0],\n",
       "  [52.4609375, 52.4609375, 229.0625, 229.0625]],\n",
       " 'dcoord': [[0.0, 5.147341546856977, 5.147341546856977, 0.0],\n",
       "  [0.0, 10.201299345344859, 10.201299345344859, 5.147341546856977],\n",
       "  [0.0, 16.89707975262787, 16.89707975262787, 10.201299345344859],\n",
       "  [0.0, 8.65359029536296, 8.65359029536296, 0.0],\n",
       "  [0.0, 14.21755048053871, 14.21755048053871, 8.65359029536296],\n",
       "  [0.0, 19.89440928586052, 19.89440928586052, 14.21755048053871],\n",
       "  [0.0, 30.38720376243924, 30.38720376243924, 19.89440928586052],\n",
       "  [0.0, 41.765577612830086, 41.765577612830086, 30.38720376243924],\n",
       "  [0.0, 62.39473420394506, 62.39473420394506, 41.765577612830086],\n",
       "  [0.0, 0.6153251173160401, 0.6153251173160401, 0.0],\n",
       "  [0.0, 1.5231546211727793, 1.5231546211727793, 0.0],\n",
       "  [0.6153251173160401, 21.8609037438986, 21.8609037438986, 1.5231546211727793],\n",
       "  [0.0, 77.831513556528, 77.831513556528, 21.8609037438986],\n",
       "  [62.39473420394506, 124.42513884575622, 124.42513884575622, 77.831513556528],\n",
       "  [16.89707975262787,\n",
       "   189.75327331432254,\n",
       "   189.75327331432254,\n",
       "   124.42513884575622],\n",
       "  [0.0, 33.55086921377745, 33.55086921377745, 0.0],\n",
       "  [0.0, 0.9826494797230624, 0.9826494797230624, 0.0],\n",
       "  [0.0, 1.9956285559525688, 1.9956285559525688, 0.9826494797230624],\n",
       "  [0.0, 14.015499455959462, 14.015499455959462, 0.0],\n",
       "  [1.9956285559525688,\n",
       "   71.69000545171319,\n",
       "   71.69000545171319,\n",
       "   14.015499455959462],\n",
       "  [33.55086921377745,\n",
       "   131.24667573749386,\n",
       "   131.24667573749386,\n",
       "   71.69000545171319],\n",
       "  [0.0, 10.07612028510974, 10.07612028510974, 0.0],\n",
       "  [0.0, 22.748314223256195, 22.748314223256195, 10.07612028510974],\n",
       "  [0.0, 121.19933374404333, 121.19933374404333, 22.748314223256195],\n",
       "  [0.0, 15.622444623041554, 15.622444623041554, 0.0],\n",
       "  [0.0, 38.206294228394704, 38.206294228394704, 15.622444623041554],\n",
       "  [0.0, 40.00524746830096, 40.00524746830096, 0.0],\n",
       "  [38.206294228394704,\n",
       "   136.59795344708988,\n",
       "   136.59795344708988,\n",
       "   40.00524746830096],\n",
       "  [121.19933374404333,\n",
       "   236.74277069464608,\n",
       "   236.74277069464608,\n",
       "   136.59795344708988],\n",
       "  [131.24667573749386,\n",
       "   389.04227922692326,\n",
       "   389.04227922692326,\n",
       "   236.74277069464608],\n",
       "  [189.75327331432254,\n",
       "   955.3712450494048,\n",
       "   955.3712450494048,\n",
       "   389.04227922692326]],\n",
       " 'ivl': ['Honda Civic',\n",
       "  'Toyota Corolla',\n",
       "  'Fiat 128',\n",
       "  'Fiat X1-9',\n",
       "  'Merc 240D',\n",
       "  'Lotus Europa',\n",
       "  'Merc 230',\n",
       "  'Volvo 142E',\n",
       "  'Datsun 710',\n",
       "  'Toyota Corona',\n",
       "  'Porsche 914-2',\n",
       "  'Ferrari Dino',\n",
       "  'Mazda RX4',\n",
       "  'Mazda RX4 Wag',\n",
       "  'Merc 280',\n",
       "  'Merc 280C',\n",
       "  'Hornet 4 Drive',\n",
       "  'Valiant',\n",
       "  'Merc 450SLC',\n",
       "  'Merc 450SE',\n",
       "  'Merc 450SL',\n",
       "  'Dodge Challenger',\n",
       "  'AMC Javelin',\n",
       "  'Maserati Bora',\n",
       "  'Ford Pantera L',\n",
       "  'Duster 360',\n",
       "  'Camaro Z28',\n",
       "  'Chrysler Imperial',\n",
       "  'Cadillac Fleetwood',\n",
       "  'Lincoln Continental',\n",
       "  'Hornet Sportabout',\n",
       "  'Pontiac Firebird'],\n",
       " 'leaves': [18,\n",
       "  19,\n",
       "  17,\n",
       "  25,\n",
       "  7,\n",
       "  27,\n",
       "  8,\n",
       "  31,\n",
       "  2,\n",
       "  20,\n",
       "  26,\n",
       "  29,\n",
       "  0,\n",
       "  1,\n",
       "  9,\n",
       "  10,\n",
       "  3,\n",
       "  5,\n",
       "  13,\n",
       "  11,\n",
       "  12,\n",
       "  21,\n",
       "  22,\n",
       "  30,\n",
       "  28,\n",
       "  6,\n",
       "  23,\n",
       "  16,\n",
       "  14,\n",
       "  15,\n",
       "  4,\n",
       "  24],\n",
       " 'color_list': ['C1',\n",
       "  'C1',\n",
       "  'C1',\n",
       "  'C1',\n",
       "  'C1',\n",
       "  'C1',\n",
       "  'C1',\n",
       "  'C1',\n",
       "  'C1',\n",
       "  'C1',\n",
       "  'C1',\n",
       "  'C1',\n",
       "  'C1',\n",
       "  'C1',\n",
       "  'C1',\n",
       "  'C2',\n",
       "  'C2',\n",
       "  'C2',\n",
       "  'C2',\n",
       "  'C2',\n",
       "  'C2',\n",
       "  'C2',\n",
       "  'C2',\n",
       "  'C2',\n",
       "  'C2',\n",
       "  'C2',\n",
       "  'C2',\n",
       "  'C2',\n",
       "  'C2',\n",
       "  'C2',\n",
       "  'C0']}"
      ]
     },
     "execution_count": 24,
     "metadata": {},
     "output_type": "execute_result"
    },
    {
     "data": {
      "image/png": "[encoded data removed]",
      "text/plain": [
       "<Figure size 432x288 with 1 Axes>"
      ]
     },
     "metadata": {
      "needs_background": "light"
     },
     "output_type": "display_data"
    }
   ],
   "source": [
    "# Calculate the distance between each sample\n",
    "Z = linkage(df, 'ward')\n",
    "# Make the dendro\n",
    "dendrogram(Z, labels=df.index.tolist())\n"
   ]
  },
  {
   "cell_type": "code",
   "execution_count": 25,
   "metadata": {},
   "outputs": [],
   "source": [
    "# Create a color palette with 3 color for the 3 cyl possibilities\n",
    "my_palette = plt.cm.get_cmap(\"Accent\", 3)\n",
    " \n",
    "# transforme the 'cyl' column in a categorical variable. It will allow to put one color on each level.\n",
    "df['cyl']=pd.Categorical(df['cyl'])\n",
    "my_color=df['cyl'].cat.codes\n"
   ]
  },
  {
   "cell_type": "code",
   "execution_count": 6,
   "metadata": {
    "scrolled": true
   },
   "outputs": [
    {
     "data": {
      "text/plain": [
       "model\n",
       "Mazda RX4              1\n",
       "Mazda RX4 Wag          1\n",
       "Datsun 710             0\n",
       "Hornet 4 Drive         1\n",
       "Hornet Sportabout      2\n",
       "Valiant                1\n",
       "Duster 360             2\n",
       "Merc 240D              0\n",
       "Merc 230               0\n",
       "Merc 280               1\n",
       "Merc 280C              1\n",
       "Merc 450SE             2\n",
       "Merc 450SL             2\n",
       "Merc 450SLC            2\n",
       "Cadillac Fleetwood     2\n",
       "Lincoln Continental    2\n",
       "Chrysler Imperial      2\n",
       "Fiat 128               0\n",
       "Honda Civic            0\n",
       "Toyota Corolla         0\n",
       "Toyota Corona          0\n",
       "Dodge Challenger       2\n",
       "AMC Javelin            2\n",
       "Camaro Z28             2\n",
       "Pontiac Firebird       2\n",
       "Fiat X1-9              0\n",
       "Porsche 914-2          0\n",
       "Lotus Europa           0\n",
       "Ford Pantera L         2\n",
       "Ferrari Dino           1\n",
       "Maserati Bora          2\n",
       "Volvo 142E             0\n",
       "dtype: int8"
      ]
     },
     "execution_count": 6,
     "metadata": {},
     "output_type": "execute_result"
    }
   ],
   "source": [
    "my_color"
   ]
  },
  {
   "cell_type": "code",
   "execution_count": 31,
   "metadata": {},
   "outputs": [
    {
     "data": {
      "text/plain": [
       "(0.2196078431372549, 0.4235294117647059, 0.6901960784313725, 1.0)"
      ]
     },
     "execution_count": 31,
     "metadata": {},
     "output_type": "execute_result"
    }
   ],
   "source": [
    "colors = ['r','g','b','y','m','c','k']"
   ]
  },
  {
   "cell_type": "code",
   "execution_count": 27,
   "metadata": {},
   "outputs": [
    {
     "data": {
      "image/png": "[encoded data removed]",
      "text/plain": [
       "<Figure size 432x288 with 1 Axes>"
      ]
     },
     "metadata": {},
     "output_type": "display_data"
    }
   ],
   "source": [
    "# Apply the right color to each label\n",
    "ax = plt.gca()\n",
    "xlbls = ax.get_ymajorticklabels()\n",
    "num=-1\n",
    "for lbl in xlbls:\n",
    "    num+=1\n",
    "    val=my_color[num]\n",
    "    lbl.set_color(my_palette(val))\n"
   ]
  },
  {
   "cell_type": "code",
   "execution_count": 32,
   "metadata": {},
   "outputs": [
    {
     "data": {
      "image/png": "[encoded data removed]",
      "text/plain": [
       "<Figure size 432x288 with 1 Axes>"
      ]
     },
     "metadata": {
      "needs_background": "light"
     },
     "output_type": "display_data"
    }
   ],
   "source": [
    "import numpy as np \n",
    "from scipy.cluster.hierarchy import dendrogram, linkage \n",
    "import matplotlib.pyplot as plt \n",
    "\n",
    "\n",
    "mat = np.array([[1.0, 0.5, 0.0], \n",
    "       [0.5, 1.0, -0.5], \n",
    "       [1.0, -0.5, 0.5], \n",
    "       [0.0, 0.5, -0.5]]) \n",
    "\n",
    "dist_mat = mat \n",
    "linkage_matrix = linkage(dist_mat, \"single\") \n",
    "\n",
    "plt.clf() \n",
    "\n",
    "ddata = dendrogram(linkage_matrix, \n",
    "        color_threshold=1, \n",
    "        labels=[\"a\", \"b\", \"c\", \"d\"]) \n",
    "\n",
    "# Assignment of colors to labels: 'a' is red, 'b' is green, etc. \n",
    "label_colors = {'a': 'r', 'b': 'g', 'c': 'b', 'd': 'm'} \n",
    "\n",
    "ax = plt.gca() \n",
    "xlbls = ax.get_xmajorticklabels() \n",
    "for lbl in xlbls: \n",
    "    lbl.set_color(label_colors[lbl.get_text()]) \n",
    "\n",
    "plt.show() "
   ]
  },
  {
   "cell_type": "code",
   "execution_count": 33,
   "metadata": {},
   "outputs": [
    {
     "data": {
      "text/plain": [
       "'d'"
      ]
     },
     "execution_count": 33,
     "metadata": {},
     "output_type": "execute_result"
    }
   ],
   "source": [
    "lbl.get_text()"
   ]
  }
 ],
 "metadata": {
  "kernelspec": {
   "display_name": "Python [conda env:root] *",
   "language": "python",
   "name": "conda-root-py"
  },
  "language_info": {
   "codemirror_mode": {
    "name": "ipython",
    "version": 3
   },
   "file_extension": ".py",
   "mimetype": "text/x-python",
   "name": "python",
   "nbconvert_exporter": "python",
   "pygments_lexer": "ipython3",
   "version": "3.7.9"
  }
 },
 "nbformat": 4,
 "nbformat_minor": 4
}
