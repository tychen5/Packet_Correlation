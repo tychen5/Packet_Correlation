{
 "cells": [
  {
   "cell_type": "code",
   "execution_count": 1,
   "metadata": {},
   "outputs": [],
   "source": [
    "import os,sys\n",
    "import shutil,glob\n",
    "import pickle\n",
    "import path\n",
    "from tqdm import tqdm\n",
    "import hashlib"
   ]
  },
  {
   "cell_type": "code",
   "execution_count": 2,
   "metadata": {},
   "outputs": [],
   "source": [
    "rearrange_dir = '../../RAID6/original_tmp_data/0223-0307/'"
   ]
  },
  {
   "cell_type": "code",
   "execution_count": 3,
   "metadata": {},
   "outputs": [
    {
     "data": {
      "text/plain": [
       "['../../RAID6/original_tmp_data/0223-0307/中嘉寬頻/pcap/2020_02_23/pcap_2020_02_23.tar.gz',\n",
       " '../../RAID6/original_tmp_data/0223-0307/中嘉寬頻/pcap/2020_02_24/pcap_2020_02_24_part3.tar.gz',\n",
       " '../../RAID6/original_tmp_data/0223-0307/中嘉寬頻/pcap/2020_02_24/pcap_2020_02_24_part4.tar.gz',\n",
       " '../../RAID6/original_tmp_data/0223-0307/中嘉寬頻/pcap/2020_02_25/pcap_2020_02_25_part1.tar.gz',\n",
       " '../../RAID6/original_tmp_data/0223-0307/中嘉寬頻/pcap/2020_02_25/pcap_2020_02_25_part2.tar.gz',\n",
       " '../../RAID6/original_tmp_data/0223-0307/中嘉寬頻/pcap/2020_02_25/pcap_2020_02_25_part3.tar.gz',\n",
       " '../../RAID6/original_tmp_data/0223-0307/中嘉寬頻/pcap/2020_02_25/pcap_2020_02_25_part4.tar.gz',\n",
       " '../../RAID6/original_tmp_data/0223-0307/中嘉寬頻/pcap/2020_02_26/pcap_2020_02_26_part1.tar.gz',\n",
       " '../../RAID6/original_tmp_data/0223-0307/中嘉寬頻/pcap/2020_02_26/pcap_2020_02_26_part2.tar.gz',\n",
       " '../../RAID6/original_tmp_data/0223-0307/中嘉寬頻/pcap/2020_02_26/pcap_2020_02_26_part3.tar.gz',\n",
       " '../../RAID6/original_tmp_data/0223-0307/中嘉寬頻/pcap/2020_02_26/pcap_2020_02_26_part4.tar.gz',\n",
       " '../../RAID6/original_tmp_data/0223-0307/中嘉寬頻/pcap/2020_02_27/pcap_2020_02_27_part1.tar.gz',\n",
       " '../../RAID6/original_tmp_data/0223-0307/中嘉寬頻/pcap/2020_02_27/pcap_2020_02_27_part2.tar.gz',\n",
       " '../../RAID6/original_tmp_data/0223-0307/中嘉寬頻/pcap/2020_02_27/pcap_2020_02_27_part3.tar.gz',\n",
       " '../../RAID6/original_tmp_data/0223-0307/中嘉寬頻/pcap/2020_02_27/pcap_2020_02_27_part4.tar.gz',\n",
       " '../../RAID6/original_tmp_data/0223-0307/中嘉寬頻/pcap/2020_02_28/pcap_2020_02_28_part1.tar.gz',\n",
       " '../../RAID6/original_tmp_data/0223-0307/中嘉寬頻/pcap/2020_02_28/pcap_2020_02_28_part2.tar.gz',\n",
       " '../../RAID6/original_tmp_data/0223-0307/中嘉寬頻/pcap/2020_02_28/pcap_2020_02_28_part3.tar.gz',\n",
       " '../../RAID6/original_tmp_data/0223-0307/中嘉寬頻/pcap/2020_02_28/pcap_2020_02_28_part4.tar.gz',\n",
       " '../../RAID6/original_tmp_data/0223-0307/中嘉寬頻/pcap/2020_02_29/pcap_2020_02_29_part1.tar.gz',\n",
       " '../../RAID6/original_tmp_data/0223-0307/中嘉寬頻/pcap/2020_02_29/pcap_2020_02_29_part2.tar.gz',\n",
       " '../../RAID6/original_tmp_data/0223-0307/中嘉寬頻/pcap/2020_02_29/pcap_2020_02_29_part3.tar.gz',\n",
       " '../../RAID6/original_tmp_data/0223-0307/中嘉寬頻/pcap/2020_02_29/pcap_2020_02_29_part4.tar.gz',\n",
       " '../../RAID6/original_tmp_data/0223-0307/中嘉寬頻/pcap/2020_03_01/pcap_2020_03_01_part1.tar.gz',\n",
       " '../../RAID6/original_tmp_data/0223-0307/中嘉寬頻/pcap/2020_03_01/pcap_2020_03_01_part2.tar.gz',\n",
       " '../../RAID6/original_tmp_data/0223-0307/中嘉寬頻/pcap/2020_03_01/pcap_2020_03_01_part3.tar.gz',\n",
       " '../../RAID6/original_tmp_data/0223-0307/中嘉寬頻/pcap/2020_03_01/pcap_2020_03_01_part4.tar.gz',\n",
       " '../../RAID6/original_tmp_data/0223-0307/中嘉寬頻/pcap/2020_03_02/pcap_2020_03_02_part1.tar.gz',\n",
       " '../../RAID6/original_tmp_data/0223-0307/中嘉寬頻/pcap/2020_03_02/pcap_2020_03_02_part2.tar.gz',\n",
       " '../../RAID6/original_tmp_data/0223-0307/中嘉寬頻/pcap/2020_03_02/pcap_2020_03_02_part3.tar.gz',\n",
       " '../../RAID6/original_tmp_data/0223-0307/中嘉寬頻/pcap/2020_03_02/pcap_2020_03_02_part4.tar.gz',\n",
       " '../../RAID6/original_tmp_data/0223-0307/中嘉寬頻/pcap/2020_03_03/pcap_2020_03_03_part1.tar.gz',\n",
       " '../../RAID6/original_tmp_data/0223-0307/中嘉寬頻/pcap/2020_03_03/pcap_2020_03_03_part2.tar.gz',\n",
       " '../../RAID6/original_tmp_data/0223-0307/中嘉寬頻/pcap/2020_03_03/pcap_2020_03_03_part3.tar.gz',\n",
       " '../../RAID6/original_tmp_data/0223-0307/中嘉寬頻/pcap/2020_03_03/pcap_2020_03_03_part4.tar.gz',\n",
       " '../../RAID6/original_tmp_data/0223-0307/中嘉寬頻/pcap/2020_03_04/pcap_2020_03_04_part1.tar.gz',\n",
       " '../../RAID6/original_tmp_data/0223-0307/中嘉寬頻/pcap/2020_03_04/pcap_2020_03_04_part2.tar.gz',\n",
       " '../../RAID6/original_tmp_data/0223-0307/中嘉寬頻/pcap/2020_03_04/pcap_2020_03_04_part3.tar.gz',\n",
       " '../../RAID6/original_tmp_data/0223-0307/中嘉寬頻/pcap/2020_03_04/pcap_2020_03_04_part4.tar.gz',\n",
       " '../../RAID6/original_tmp_data/0223-0307/中嘉寬頻/pcap/2020_03_05/pcap_2020_03_05_part1.tar.gz',\n",
       " '../../RAID6/original_tmp_data/0223-0307/中嘉寬頻/pcap/2020_03_05/pcap_2020_03_05_part2.tar.gz',\n",
       " '../../RAID6/original_tmp_data/0223-0307/中嘉寬頻/pcap/2020_03_05/pcap_2020_03_05_part3.tar.gz',\n",
       " '../../RAID6/original_tmp_data/0223-0307/中嘉寬頻/pcap/2020_03_05/pcap_2020_03_05_part4.tar.gz',\n",
       " '../../RAID6/original_tmp_data/0223-0307/中嘉寬頻/pcap/2020_03_06/pcap_2020_03_06_part1.tar.gz',\n",
       " '../../RAID6/original_tmp_data/0223-0307/中嘉寬頻/pcap/2020_03_06/pcap_2020_03_06_part2.tar.gz',\n",
       " '../../RAID6/original_tmp_data/0223-0307/中嘉寬頻/pcap/2020_03_06/pcap_2020_03_06_part3.tar.gz',\n",
       " '../../RAID6/original_tmp_data/0223-0307/中嘉寬頻/pcap/2020_03_06/pcap_2020_03_06_part4.tar.gz',\n",
       " '../../RAID6/original_tmp_data/0223-0307/中嘉寬頻/pcap/2020_03_07/pcap_2020_03_07_part1.tar.gz',\n",
       " '../../RAID6/original_tmp_data/0223-0307/中嘉寬頻/pcap/2020_03_07/pcap_2020_03_07_part2.tar.gz',\n",
       " '../../RAID6/original_tmp_data/0223-0307/中嘉寬頻/honeypot/amun/2020_02_23/amun_file_2020_02_23.tar.gz',\n",
       " '../../RAID6/original_tmp_data/0223-0307/中嘉寬頻/honeypot/amun/2020_02_23/amun_log_2020_02_23.tar.gz',\n",
       " '../../RAID6/original_tmp_data/0223-0307/中嘉寬頻/honeypot/amun/2020_02_24/amun_log_2020_02_24.tar.gz',\n",
       " '../../RAID6/original_tmp_data/0223-0307/中嘉寬頻/honeypot/amun/2020_02_24/amun_file_2020_02_24.tar.gz',\n",
       " '../../RAID6/original_tmp_data/0223-0307/中嘉寬頻/honeypot/amun/2020_02_25/amun_file_2020_02_25.tar.gz',\n",
       " '../../RAID6/original_tmp_data/0223-0307/中嘉寬頻/honeypot/amun/2020_02_25/amun_log_2020_02_25.tar.gz',\n",
       " '../../RAID6/original_tmp_data/0223-0307/中嘉寬頻/honeypot/amun/2020_02_26/amun_file_2020_02_26.tar.gz',\n",
       " '../../RAID6/original_tmp_data/0223-0307/中嘉寬頻/honeypot/amun/2020_02_26/amun_log_2020_02_26.tar.gz',\n",
       " '../../RAID6/original_tmp_data/0223-0307/中嘉寬頻/honeypot/amun/2020_02_27/amun_file_2020_02_27.tar.gz',\n",
       " '../../RAID6/original_tmp_data/0223-0307/中嘉寬頻/honeypot/amun/2020_02_27/amun_log_2020_02_27.tar.gz',\n",
       " '../../RAID6/original_tmp_data/0223-0307/中嘉寬頻/honeypot/amun/2020_02_28/amun_file_2020_02_28.tar.gz',\n",
       " '../../RAID6/original_tmp_data/0223-0307/中嘉寬頻/honeypot/amun/2020_02_28/amun_log_2020_02_28.tar.gz',\n",
       " '../../RAID6/original_tmp_data/0223-0307/中嘉寬頻/honeypot/amun/2020_02_29/amun_file_2020_02_29.tar.gz',\n",
       " '../../RAID6/original_tmp_data/0223-0307/中嘉寬頻/honeypot/amun/2020_02_29/amun_log_2020_02_29.tar.gz',\n",
       " '../../RAID6/original_tmp_data/0223-0307/中嘉寬頻/honeypot/amun/2020_03_01/amun_file_2020_03_01.tar.gz',\n",
       " '../../RAID6/original_tmp_data/0223-0307/中嘉寬頻/honeypot/amun/2020_03_01/amun_log_2020_03_01.tar.gz',\n",
       " '../../RAID6/original_tmp_data/0223-0307/中嘉寬頻/honeypot/amun/2020_03_02/amun_file_2020_03_02.tar.gz',\n",
       " '../../RAID6/original_tmp_data/0223-0307/中嘉寬頻/honeypot/amun/2020_03_02/amun_log_2020_03_02.tar.gz',\n",
       " '../../RAID6/original_tmp_data/0223-0307/中嘉寬頻/honeypot/amun/2020_03_03/amun_file_2020_03_03.tar.gz',\n",
       " '../../RAID6/original_tmp_data/0223-0307/中嘉寬頻/honeypot/amun/2020_03_03/amun_log_2020_03_03.tar.gz',\n",
       " '../../RAID6/original_tmp_data/0223-0307/中嘉寬頻/honeypot/amun/2020_03_04/amun_file_2020_03_04.tar.gz',\n",
       " '../../RAID6/original_tmp_data/0223-0307/中嘉寬頻/honeypot/amun/2020_03_04/amun_log_2020_03_04.tar.gz',\n",
       " '../../RAID6/original_tmp_data/0223-0307/中嘉寬頻/honeypot/amun/2020_03_05/amun_file_2020_03_05.tar.gz',\n",
       " '../../RAID6/original_tmp_data/0223-0307/中嘉寬頻/honeypot/amun/2020_03_05/amun_log_2020_03_05.tar.gz',\n",
       " '../../RAID6/original_tmp_data/0223-0307/中嘉寬頻/honeypot/amun/2020_03_06/amun_file_2020_03_06.tar.gz',\n",
       " '../../RAID6/original_tmp_data/0223-0307/中嘉寬頻/honeypot/amun/2020_03_06/amun_log_2020_03_06.tar.gz',\n",
       " '../../RAID6/original_tmp_data/0223-0307/中嘉寬頻/honeypot/amun/2020_03_07/amun_file_2020_03_07.tar.gz',\n",
       " '../../RAID6/original_tmp_data/0223-0307/中嘉寬頻/honeypot/amun/2020_03_07/amun_log_2020_03_07.tar.gz',\n",
       " '../../RAID6/original_tmp_data/0223-0307/中嘉寬頻/honeypot/dionaea/2020_02_23/dionaea_file_2020_02_23.tar.gz',\n",
       " '../../RAID6/original_tmp_data/0223-0307/中嘉寬頻/honeypot/dionaea/2020_02_23/dionaea_log_2020_02_23.tar.gz',\n",
       " '../../RAID6/original_tmp_data/0223-0307/中嘉寬頻/honeypot/dionaea/2020_02_24/dionaea_file_2020_02_24.tar.gz',\n",
       " '../../RAID6/original_tmp_data/0223-0307/中嘉寬頻/honeypot/dionaea/2020_02_24/dionaea_log_2020_02_24.tar.gz',\n",
       " '../../RAID6/original_tmp_data/0223-0307/中嘉寬頻/honeypot/dionaea/2020_02_25/dionaea_file_2020_02_25.tar.gz',\n",
       " '../../RAID6/original_tmp_data/0223-0307/中嘉寬頻/honeypot/dionaea/2020_02_25/dionaea_log_2020_02_25.tar.gz',\n",
       " '../../RAID6/original_tmp_data/0223-0307/中嘉寬頻/honeypot/dionaea/2020_02_26/dionaea_file_2020_02_26.tar.gz',\n",
       " '../../RAID6/original_tmp_data/0223-0307/中嘉寬頻/honeypot/dionaea/2020_02_26/dionaea_log_2020_02_26.tar.gz',\n",
       " '../../RAID6/original_tmp_data/0223-0307/中嘉寬頻/honeypot/dionaea/2020_02_27/dionaea_file_2020_02_27.tar.gz',\n",
       " '../../RAID6/original_tmp_data/0223-0307/中嘉寬頻/honeypot/dionaea/2020_02_27/dionaea_log_2020_02_27.tar.gz',\n",
       " '../../RAID6/original_tmp_data/0223-0307/中嘉寬頻/honeypot/dionaea/2020_02_28/dionaea_log_2020_02_28.tar.gz',\n",
       " '../../RAID6/original_tmp_data/0223-0307/中嘉寬頻/honeypot/dionaea/2020_02_28/dionaea_file_2020_02_28.tar.gz',\n",
       " '../../RAID6/original_tmp_data/0223-0307/中嘉寬頻/honeypot/dionaea/2020_02_29/dionaea_file_2020_02_29.tar.gz',\n",
       " '../../RAID6/original_tmp_data/0223-0307/中嘉寬頻/honeypot/dionaea/2020_02_29/dionaea_log_2020_02_29.tar.gz',\n",
       " '../../RAID6/original_tmp_data/0223-0307/中嘉寬頻/honeypot/dionaea/2020_03_01/dionaea_log_2020_03_01.tar.gz',\n",
       " '../../RAID6/original_tmp_data/0223-0307/中嘉寬頻/honeypot/dionaea/2020_03_01/dionaea_file_2020_03_01.tar.gz',\n",
       " '../../RAID6/original_tmp_data/0223-0307/中嘉寬頻/honeypot/dionaea/2020_03_02/dionaea_file_2020_03_02.tar.gz',\n",
       " '../../RAID6/original_tmp_data/0223-0307/中嘉寬頻/honeypot/dionaea/2020_03_02/dionaea_log_2020_03_02.tar.gz',\n",
       " '../../RAID6/original_tmp_data/0223-0307/中嘉寬頻/honeypot/dionaea/2020_03_03/dionaea_file_2020_03_03.tar.gz',\n",
       " '../../RAID6/original_tmp_data/0223-0307/中嘉寬頻/honeypot/dionaea/2020_03_03/dionaea_log_2020_03_03.tar.gz',\n",
       " '../../RAID6/original_tmp_data/0223-0307/中嘉寬頻/honeypot/dionaea/2020_03_04/dionaea_file_2020_03_04.tar.gz',\n",
       " '../../RAID6/original_tmp_data/0223-0307/中嘉寬頻/honeypot/dionaea/2020_03_04/dionaea_log_2020_03_04.tar.gz',\n",
       " '../../RAID6/original_tmp_data/0223-0307/中嘉寬頻/honeypot/dionaea/2020_03_05/dionaea_file_2020_03_05.tar.gz',\n",
       " '../../RAID6/original_tmp_data/0223-0307/中嘉寬頻/honeypot/dionaea/2020_03_05/dionaea_log_2020_03_05.tar.gz',\n",
       " '../../RAID6/original_tmp_data/0223-0307/中嘉寬頻/honeypot/dionaea/2020_03_06/dionaea_file_2020_03_06.tar.gz',\n",
       " '../../RAID6/original_tmp_data/0223-0307/中嘉寬頻/honeypot/dionaea/2020_03_06/dionaea_log_2020_03_06.tar.gz',\n",
       " '../../RAID6/original_tmp_data/0223-0307/中嘉寬頻/honeypot/dionaea/2020_03_07/dionaea_file_2020_03_07.tar.gz',\n",
       " '../../RAID6/original_tmp_data/0223-0307/中嘉寬頻/honeypot/dionaea/2020_03_07/dionaea_log_2020_03_07.tar.gz',\n",
       " '../../RAID6/original_tmp_data/0223-0307/中嘉寬頻/honeypot/glastopf/2020_02_23/glastopf_file_2020_02_23.tar.gz',\n",
       " '../../RAID6/original_tmp_data/0223-0307/中嘉寬頻/honeypot/glastopf/2020_02_23/glastopf_log_2020_02_23.tar.gz',\n",
       " '../../RAID6/original_tmp_data/0223-0307/中嘉寬頻/honeypot/glastopf/2020_02_24/glastopf_file_2020_02_24.tar.gz',\n",
       " '../../RAID6/original_tmp_data/0223-0307/中嘉寬頻/honeypot/glastopf/2020_02_24/glastopf_log_2020_02_24.tar.gz',\n",
       " '../../RAID6/original_tmp_data/0223-0307/中嘉寬頻/honeypot/glastopf/2020_02_25/glastopf_log_2020_02_25.tar.gz',\n",
       " '../../RAID6/original_tmp_data/0223-0307/中嘉寬頻/honeypot/glastopf/2020_02_25/glastopf_file_2020_02_25.tar.gz',\n",
       " '../../RAID6/original_tmp_data/0223-0307/中嘉寬頻/honeypot/glastopf/2020_02_26/glastopf_file_2020_02_26.tar.gz',\n",
       " '../../RAID6/original_tmp_data/0223-0307/中嘉寬頻/honeypot/glastopf/2020_02_26/glastopf_log_2020_02_26.tar.gz',\n",
       " '../../RAID6/original_tmp_data/0223-0307/中嘉寬頻/honeypot/glastopf/2020_02_27/glastopf_file_2020_02_27.tar.gz',\n",
       " '../../RAID6/original_tmp_data/0223-0307/中嘉寬頻/honeypot/glastopf/2020_02_27/glastopf_log_2020_02_27.tar.gz',\n",
       " '../../RAID6/original_tmp_data/0223-0307/中嘉寬頻/honeypot/glastopf/2020_02_28/glastopf_log_2020_02_28.tar.gz',\n",
       " '../../RAID6/original_tmp_data/0223-0307/中嘉寬頻/honeypot/glastopf/2020_02_28/glastopf_file_2020_02_28.tar.gz',\n",
       " '../../RAID6/original_tmp_data/0223-0307/中嘉寬頻/honeypot/glastopf/2020_02_29/glastopf_file_2020_02_29.tar.gz',\n",
       " '../../RAID6/original_tmp_data/0223-0307/中嘉寬頻/honeypot/glastopf/2020_02_29/glastopf_log_2020_02_29.tar.gz',\n",
       " '../../RAID6/original_tmp_data/0223-0307/中嘉寬頻/honeypot/glastopf/2020_03_01/glastopf_file_2020_03_01.tar.gz',\n",
       " '../../RAID6/original_tmp_data/0223-0307/中嘉寬頻/honeypot/glastopf/2020_03_01/glastopf_log_2020_03_01.tar.gz',\n",
       " '../../RAID6/original_tmp_data/0223-0307/中嘉寬頻/honeypot/glastopf/2020_03_02/glastopf_file_2020_03_02.tar.gz',\n",
       " '../../RAID6/original_tmp_data/0223-0307/中嘉寬頻/honeypot/glastopf/2020_03_02/glastopf_log_2020_03_02.tar.gz',\n",
       " '../../RAID6/original_tmp_data/0223-0307/中嘉寬頻/honeypot/glastopf/2020_03_03/glastopf_file_2020_03_03.tar.gz',\n",
       " '../../RAID6/original_tmp_data/0223-0307/中嘉寬頻/honeypot/glastopf/2020_03_03/glastopf_log_2020_03_03.tar.gz',\n",
       " '../../RAID6/original_tmp_data/0223-0307/中嘉寬頻/honeypot/glastopf/2020_03_04/glastopf_file_2020_03_04.tar.gz',\n",
       " '../../RAID6/original_tmp_data/0223-0307/中嘉寬頻/honeypot/glastopf/2020_03_04/glastopf_log_2020_03_04.tar.gz',\n",
       " '../../RAID6/original_tmp_data/0223-0307/中嘉寬頻/honeypot/glastopf/2020_03_05/glastopf_file_2020_03_05.tar.gz',\n",
       " '../../RAID6/original_tmp_data/0223-0307/中嘉寬頻/honeypot/glastopf/2020_03_05/glastopf_log_2020_03_05.tar.gz',\n",
       " '../../RAID6/original_tmp_data/0223-0307/中嘉寬頻/honeypot/glastopf/2020_03_06/glastopf_file_2020_03_06.tar.gz',\n",
       " '../../RAID6/original_tmp_data/0223-0307/中嘉寬頻/honeypot/glastopf/2020_03_06/glastopf_log_2020_03_06.tar.gz',\n",
       " '../../RAID6/original_tmp_data/0223-0307/中嘉寬頻/honeypot/glastopf/2020_03_07/glastopf_file_2020_03_07.tar.gz',\n",
       " '../../RAID6/original_tmp_data/0223-0307/中嘉寬頻/honeypot/glastopf/2020_03_07/glastopf_log_2020_03_07.tar.gz',\n",
       " '../../RAID6/original_tmp_data/0223-0307/中嘉寬頻/honeypot/cowrie/2020_02_23/cowrie_file_2020_02_23.tar.gz',\n",
       " '../../RAID6/original_tmp_data/0223-0307/中嘉寬頻/honeypot/cowrie/2020_02_23/cowrie_log_2020_02_23.tar.gz',\n",
       " '../../RAID6/original_tmp_data/0223-0307/中嘉寬頻/honeypot/cowrie/2020_02_24/cowrie_file_2020_02_24.tar.gz',\n",
       " '../../RAID6/original_tmp_data/0223-0307/中嘉寬頻/honeypot/cowrie/2020_02_24/cowrie_log_2020_02_24.tar.gz',\n",
       " '../../RAID6/original_tmp_data/0223-0307/中嘉寬頻/honeypot/cowrie/2020_02_25/cowrie_file_2020_02_25.tar.gz',\n",
       " '../../RAID6/original_tmp_data/0223-0307/中嘉寬頻/honeypot/cowrie/2020_02_25/cowrie_log_2020_02_25.tar.gz',\n",
       " '../../RAID6/original_tmp_data/0223-0307/中嘉寬頻/honeypot/cowrie/2020_02_26/cowrie_file_2020_02_26.tar.gz',\n",
       " '../../RAID6/original_tmp_data/0223-0307/中嘉寬頻/honeypot/cowrie/2020_02_26/cowrie_log_2020_02_26.tar.gz',\n",
       " '../../RAID6/original_tmp_data/0223-0307/中嘉寬頻/honeypot/cowrie/2020_02_27/cowrie_file_2020_02_27.tar.gz',\n",
       " '../../RAID6/original_tmp_data/0223-0307/中嘉寬頻/honeypot/cowrie/2020_02_27/cowrie_log_2020_02_27.tar.gz',\n",
       " '../../RAID6/original_tmp_data/0223-0307/中嘉寬頻/honeypot/cowrie/2020_02_28/cowrie_file_2020_02_28.tar.gz',\n",
       " '../../RAID6/original_tmp_data/0223-0307/中嘉寬頻/honeypot/cowrie/2020_02_28/cowrie_log_2020_02_28.tar.gz',\n",
       " '../../RAID6/original_tmp_data/0223-0307/中嘉寬頻/honeypot/cowrie/2020_02_29/cowrie_file_2020_02_29.tar.gz',\n",
       " '../../RAID6/original_tmp_data/0223-0307/中嘉寬頻/honeypot/cowrie/2020_02_29/cowrie_log_2020_02_29.tar.gz',\n",
       " '../../RAID6/original_tmp_data/0223-0307/中嘉寬頻/honeypot/cowrie/2020_03_01/cowrie_file_2020_03_01.tar.gz',\n",
       " '../../RAID6/original_tmp_data/0223-0307/中嘉寬頻/honeypot/cowrie/2020_03_01/cowrie_log_2020_03_01.tar.gz',\n",
       " '../../RAID6/original_tmp_data/0223-0307/中嘉寬頻/honeypot/cowrie/2020_03_02/cowrie_file_2020_03_02.tar.gz',\n",
       " '../../RAID6/original_tmp_data/0223-0307/中嘉寬頻/honeypot/cowrie/2020_03_02/cowrie_log_2020_03_02.tar.gz',\n",
       " '../../RAID6/original_tmp_data/0223-0307/中嘉寬頻/honeypot/cowrie/2020_03_03/cowrie_file_2020_03_03.tar.gz',\n",
       " '../../RAID6/original_tmp_data/0223-0307/中嘉寬頻/honeypot/cowrie/2020_03_03/cowrie_log_2020_03_03.tar.gz',\n",
       " '../../RAID6/original_tmp_data/0223-0307/中嘉寬頻/honeypot/cowrie/2020_03_04/cowrie_file_2020_03_04.tar.gz',\n",
       " '../../RAID6/original_tmp_data/0223-0307/中嘉寬頻/honeypot/cowrie/2020_03_04/cowrie_log_2020_03_04.tar.gz',\n",
       " '../../RAID6/original_tmp_data/0223-0307/中嘉寬頻/honeypot/cowrie/2020_03_05/cowrie_file_2020_03_05.tar.gz',\n",
       " '../../RAID6/original_tmp_data/0223-0307/中嘉寬頻/honeypot/cowrie/2020_03_05/cowrie_log_2020_03_05.tar.gz',\n",
       " '../../RAID6/original_tmp_data/0223-0307/中嘉寬頻/honeypot/cowrie/2020_03_06/cowrie_file_2020_03_06.tar.gz',\n",
       " '../../RAID6/original_tmp_data/0223-0307/中嘉寬頻/honeypot/cowrie/2020_03_06/cowrie_log_2020_03_06.tar.gz',\n",
       " '../../RAID6/original_tmp_data/0223-0307/中嘉寬頻/honeypot/cowrie/2020_03_07/cowrie_file_2020_03_07.tar.gz',\n",
       " '../../RAID6/original_tmp_data/0223-0307/中嘉寬頻/honeypot/cowrie/2020_03_07/cowrie_log_2020_03_07.tar.gz',\n",
       " '../../RAID6/original_tmp_data/0223-0307/中華電信/pcap/2020_02_23/pcap_2020_02_23.tar.gz',\n",
       " '../../RAID6/original_tmp_data/0223-0307/中華電信/pcap/2020_02_24/pcap_2020_02_24_part3.tar.gz',\n",
       " '../../RAID6/original_tmp_data/0223-0307/中華電信/pcap/2020_02_24/pcap_2020_02_24_part4.tar.gz',\n",
       " '../../RAID6/original_tmp_data/0223-0307/中華電信/pcap/2020_02_25/pcap_2020_02_25_part1.tar.gz',\n",
       " '../../RAID6/original_tmp_data/0223-0307/中華電信/pcap/2020_02_25/pcap_2020_02_25_part2.tar.gz',\n",
       " '../../RAID6/original_tmp_data/0223-0307/中華電信/pcap/2020_02_25/pcap_2020_02_25_part3.tar.gz',\n",
       " '../../RAID6/original_tmp_data/0223-0307/中華電信/pcap/2020_02_25/pcap_2020_02_25_part4.tar.gz',\n",
       " '../../RAID6/original_tmp_data/0223-0307/中華電信/pcap/2020_02_26/pcap_2020_02_26_part1.tar.gz',\n",
       " '../../RAID6/original_tmp_data/0223-0307/中華電信/pcap/2020_02_26/pcap_2020_02_26_part2.tar.gz',\n",
       " '../../RAID6/original_tmp_data/0223-0307/中華電信/pcap/2020_02_26/pcap_2020_02_26_part3.tar.gz',\n",
       " '../../RAID6/original_tmp_data/0223-0307/中華電信/pcap/2020_02_26/pcap_2020_02_26_part4.tar.gz',\n",
       " '../../RAID6/original_tmp_data/0223-0307/中華電信/pcap/2020_02_27/pcap_2020_02_27_part1.tar.gz',\n",
       " '../../RAID6/original_tmp_data/0223-0307/中華電信/pcap/2020_02_27/pcap_2020_02_27_part2.tar.gz',\n",
       " '../../RAID6/original_tmp_data/0223-0307/中華電信/pcap/2020_02_27/pcap_2020_02_27_part3.tar.gz',\n",
       " '../../RAID6/original_tmp_data/0223-0307/中華電信/pcap/2020_02_27/pcap_2020_02_27_part4.tar.gz',\n",
       " '../../RAID6/original_tmp_data/0223-0307/中華電信/pcap/2020_02_28/pcap_2020_02_28_part1.tar.gz',\n",
       " '../../RAID6/original_tmp_data/0223-0307/中華電信/pcap/2020_02_28/pcap_2020_02_28_part2.tar.gz',\n",
       " '../../RAID6/original_tmp_data/0223-0307/中華電信/pcap/2020_02_28/pcap_2020_02_28_part3.tar.gz',\n",
       " '../../RAID6/original_tmp_data/0223-0307/中華電信/pcap/2020_02_28/pcap_2020_02_28_part4.tar.gz',\n",
       " '../../RAID6/original_tmp_data/0223-0307/中華電信/pcap/2020_02_29/pcap_2020_02_29_part1.tar.gz',\n",
       " '../../RAID6/original_tmp_data/0223-0307/中華電信/pcap/2020_02_29/pcap_2020_02_29_part2.tar.gz',\n",
       " '../../RAID6/original_tmp_data/0223-0307/中華電信/pcap/2020_02_29/pcap_2020_02_29_part3.tar.gz',\n",
       " '../../RAID6/original_tmp_data/0223-0307/中華電信/pcap/2020_02_29/pcap_2020_02_29_part4.tar.gz',\n",
       " '../../RAID6/original_tmp_data/0223-0307/中華電信/pcap/2020_03_01/pcap_2020_03_01_part1.tar.gz',\n",
       " '../../RAID6/original_tmp_data/0223-0307/中華電信/pcap/2020_03_01/pcap_2020_03_01_part2.tar.gz',\n",
       " '../../RAID6/original_tmp_data/0223-0307/中華電信/pcap/2020_03_01/pcap_2020_03_01_part3.tar.gz',\n",
       " '../../RAID6/original_tmp_data/0223-0307/中華電信/pcap/2020_03_01/pcap_2020_03_01_part4.tar.gz',\n",
       " '../../RAID6/original_tmp_data/0223-0307/中華電信/pcap/2020_03_02/pcap_2020_03_02_part1.tar.gz',\n",
       " '../../RAID6/original_tmp_data/0223-0307/中華電信/pcap/2020_03_02/pcap_2020_03_02_part2.tar.gz',\n",
       " '../../RAID6/original_tmp_data/0223-0307/中華電信/pcap/2020_03_02/pcap_2020_03_02_part3.tar.gz',\n",
       " '../../RAID6/original_tmp_data/0223-0307/中華電信/pcap/2020_03_02/pcap_2020_03_02_part4.tar.gz',\n",
       " '../../RAID6/original_tmp_data/0223-0307/中華電信/pcap/2020_03_03/pcap_2020_03_03_part1.tar.gz',\n",
       " '../../RAID6/original_tmp_data/0223-0307/中華電信/pcap/2020_03_03/pcap_2020_03_03_part2.tar.gz',\n",
       " '../../RAID6/original_tmp_data/0223-0307/中華電信/pcap/2020_03_03/pcap_2020_03_03_part3.tar.gz',\n",
       " '../../RAID6/original_tmp_data/0223-0307/中華電信/pcap/2020_03_03/pcap_2020_03_03_part4.tar.gz',\n",
       " '../../RAID6/original_tmp_data/0223-0307/中華電信/pcap/2020_03_04/pcap_2020_03_04_part1.tar.gz',\n",
       " '../../RAID6/original_tmp_data/0223-0307/中華電信/pcap/2020_03_04/pcap_2020_03_04_part2.tar.gz',\n",
       " '../../RAID6/original_tmp_data/0223-0307/中華電信/pcap/2020_03_04/pcap_2020_03_04_part3.tar.gz',\n",
       " '../../RAID6/original_tmp_data/0223-0307/中華電信/pcap/2020_03_04/pcap_2020_03_04_part4.tar.gz',\n",
       " '../../RAID6/original_tmp_data/0223-0307/中華電信/pcap/2020_03_05/pcap_2020_03_05_part1.tar.gz',\n",
       " '../../RAID6/original_tmp_data/0223-0307/中華電信/pcap/2020_03_05/pcap_2020_03_05_part2.tar.gz',\n",
       " '../../RAID6/original_tmp_data/0223-0307/中華電信/pcap/2020_03_05/pcap_2020_03_05_part3.tar.gz',\n",
       " '../../RAID6/original_tmp_data/0223-0307/中華電信/pcap/2020_03_05/pcap_2020_03_05_part4.tar.gz',\n",
       " '../../RAID6/original_tmp_data/0223-0307/中華電信/pcap/2020_03_06/pcap_2020_03_06_part1.tar.gz',\n",
       " '../../RAID6/original_tmp_data/0223-0307/中華電信/pcap/2020_03_06/pcap_2020_03_06_part2.tar.gz',\n",
       " '../../RAID6/original_tmp_data/0223-0307/中華電信/pcap/2020_03_06/pcap_2020_03_06_part3.tar.gz',\n",
       " '../../RAID6/original_tmp_data/0223-0307/中華電信/pcap/2020_03_06/pcap_2020_03_06_part4.tar.gz',\n",
       " '../../RAID6/original_tmp_data/0223-0307/中華電信/pcap/2020_03_07/pcap_2020_03_07_part1.tar.gz',\n",
       " '../../RAID6/original_tmp_data/0223-0307/中華電信/pcap/2020_03_07/pcap_2020_03_07_part2.tar.gz',\n",
       " '../../RAID6/original_tmp_data/0223-0307/中華電信/pcap/2020_03_07/pcap_2020_03_07_part3.tar.gz',\n",
       " '../../RAID6/original_tmp_data/0223-0307/中華電信/pcap/2020_03_07/pcap_2020_03_07_part4.tar.gz',\n",
       " '../../RAID6/original_tmp_data/0223-0307/中華電信/honeypot/amun/2020_02_23/amun_file_2020_02_23.tar.gz',\n",
       " '../../RAID6/original_tmp_data/0223-0307/中華電信/honeypot/amun/2020_02_23/amun_log_2020_02_23.tar.gz',\n",
       " '../../RAID6/original_tmp_data/0223-0307/中華電信/honeypot/amun/2020_02_24/amun_file_2020_02_24.tar.gz',\n",
       " '../../RAID6/original_tmp_data/0223-0307/中華電信/honeypot/amun/2020_02_24/amun_log_2020_02_24.tar.gz',\n",
       " '../../RAID6/original_tmp_data/0223-0307/中華電信/honeypot/amun/2020_02_25/amun_file_2020_02_25.tar.gz',\n",
       " '../../RAID6/original_tmp_data/0223-0307/中華電信/honeypot/amun/2020_02_25/amun_log_2020_02_25.tar.gz',\n",
       " '../../RAID6/original_tmp_data/0223-0307/中華電信/honeypot/amun/2020_02_26/amun_file_2020_02_26.tar.gz',\n",
       " '../../RAID6/original_tmp_data/0223-0307/中華電信/honeypot/amun/2020_02_26/amun_log_2020_02_26.tar.gz',\n",
       " '../../RAID6/original_tmp_data/0223-0307/中華電信/honeypot/amun/2020_02_27/amun_file_2020_02_27.tar.gz',\n",
       " '../../RAID6/original_tmp_data/0223-0307/中華電信/honeypot/amun/2020_02_27/amun_log_2020_02_27.tar.gz',\n",
       " '../../RAID6/original_tmp_data/0223-0307/中華電信/honeypot/amun/2020_02_28/amun_file_2020_02_28.tar.gz',\n",
       " '../../RAID6/original_tmp_data/0223-0307/中華電信/honeypot/amun/2020_02_28/amun_log_2020_02_28.tar.gz',\n",
       " '../../RAID6/original_tmp_data/0223-0307/中華電信/honeypot/amun/2020_02_29/amun_log_2020_02_29.tar.gz',\n",
       " '../../RAID6/original_tmp_data/0223-0307/中華電信/honeypot/amun/2020_02_29/amun_file_2020_02_29.tar.gz',\n",
       " '../../RAID6/original_tmp_data/0223-0307/中華電信/honeypot/amun/2020_03_01/amun_file_2020_03_01.tar.gz',\n",
       " '../../RAID6/original_tmp_data/0223-0307/中華電信/honeypot/amun/2020_03_01/amun_log_2020_03_01.tar.gz',\n",
       " '../../RAID6/original_tmp_data/0223-0307/中華電信/honeypot/amun/2020_03_02/amun_file_2020_03_02.tar.gz',\n",
       " '../../RAID6/original_tmp_data/0223-0307/中華電信/honeypot/amun/2020_03_02/amun_log_2020_03_02.tar.gz',\n",
       " '../../RAID6/original_tmp_data/0223-0307/中華電信/honeypot/amun/2020_03_03/amun_file_2020_03_03.tar.gz',\n",
       " '../../RAID6/original_tmp_data/0223-0307/中華電信/honeypot/amun/2020_03_03/amun_log_2020_03_03.tar.gz',\n",
       " '../../RAID6/original_tmp_data/0223-0307/中華電信/honeypot/amun/2020_03_04/amun_file_2020_03_04.tar.gz',\n",
       " '../../RAID6/original_tmp_data/0223-0307/中華電信/honeypot/amun/2020_03_04/amun_log_2020_03_04.tar.gz',\n",
       " '../../RAID6/original_tmp_data/0223-0307/中華電信/honeypot/amun/2020_03_05/amun_file_2020_03_05.tar.gz',\n",
       " '../../RAID6/original_tmp_data/0223-0307/中華電信/honeypot/amun/2020_03_05/amun_log_2020_03_05.tar.gz',\n",
       " '../../RAID6/original_tmp_data/0223-0307/中華電信/honeypot/amun/2020_03_06/amun_file_2020_03_06.tar.gz',\n",
       " '../../RAID6/original_tmp_data/0223-0307/中華電信/honeypot/amun/2020_03_06/amun_log_2020_03_06.tar.gz',\n",
       " '../../RAID6/original_tmp_data/0223-0307/中華電信/honeypot/amun/2020_03_07/amun_file_2020_03_07.tar.gz',\n",
       " '../../RAID6/original_tmp_data/0223-0307/中華電信/honeypot/amun/2020_03_07/amun_log_2020_03_07.tar.gz',\n",
       " '../../RAID6/original_tmp_data/0223-0307/中華電信/honeypot/dionaea/2020_02_23/dionaea_file_2020_02_23.tar.gz',\n",
       " '../../RAID6/original_tmp_data/0223-0307/中華電信/honeypot/dionaea/2020_02_23/dionaea_log_2020_02_23.tar.gz',\n",
       " '../../RAID6/original_tmp_data/0223-0307/中華電信/honeypot/dionaea/2020_02_24/dionaea_file_2020_02_24.tar.gz',\n",
       " '../../RAID6/original_tmp_data/0223-0307/中華電信/honeypot/dionaea/2020_02_24/dionaea_log_2020_02_24.tar.gz',\n",
       " '../../RAID6/original_tmp_data/0223-0307/中華電信/honeypot/dionaea/2020_02_25/dionaea_file_2020_02_25.tar.gz',\n",
       " '../../RAID6/original_tmp_data/0223-0307/中華電信/honeypot/dionaea/2020_02_25/dionaea_log_2020_02_25.tar.gz',\n",
       " '../../RAID6/original_tmp_data/0223-0307/中華電信/honeypot/dionaea/2020_02_26/dionaea_file_2020_02_26.tar.gz',\n",
       " '../../RAID6/original_tmp_data/0223-0307/中華電信/honeypot/dionaea/2020_02_26/dionaea_log_2020_02_26.tar.gz',\n",
       " '../../RAID6/original_tmp_data/0223-0307/中華電信/honeypot/dionaea/2020_02_27/dionaea_file_2020_02_27.tar.gz',\n",
       " '../../RAID6/original_tmp_data/0223-0307/中華電信/honeypot/dionaea/2020_02_27/dionaea_log_2020_02_27.tar.gz',\n",
       " '../../RAID6/original_tmp_data/0223-0307/中華電信/honeypot/dionaea/2020_02_28/dionaea_file_2020_02_28.tar.gz',\n",
       " '../../RAID6/original_tmp_data/0223-0307/中華電信/honeypot/dionaea/2020_02_28/dionaea_log_2020_02_28.tar.gz',\n",
       " '../../RAID6/original_tmp_data/0223-0307/中華電信/honeypot/dionaea/2020_02_29/dionaea_file_2020_02_29.tar.gz',\n",
       " '../../RAID6/original_tmp_data/0223-0307/中華電信/honeypot/dionaea/2020_02_29/dionaea_log_2020_02_29.tar.gz',\n",
       " '../../RAID6/original_tmp_data/0223-0307/中華電信/honeypot/dionaea/2020_03_01/dionaea_file_2020_03_01.tar.gz',\n",
       " '../../RAID6/original_tmp_data/0223-0307/中華電信/honeypot/dionaea/2020_03_01/dionaea_log_2020_03_01.tar.gz',\n",
       " '../../RAID6/original_tmp_data/0223-0307/中華電信/honeypot/dionaea/2020_03_02/dionaea_file_2020_03_02.tar.gz',\n",
       " '../../RAID6/original_tmp_data/0223-0307/中華電信/honeypot/dionaea/2020_03_02/dionaea_log_2020_03_02.tar.gz',\n",
       " '../../RAID6/original_tmp_data/0223-0307/中華電信/honeypot/dionaea/2020_03_03/dionaea_file_2020_03_03.tar.gz',\n",
       " '../../RAID6/original_tmp_data/0223-0307/中華電信/honeypot/dionaea/2020_03_03/dionaea_log_2020_03_03.tar.gz',\n",
       " '../../RAID6/original_tmp_data/0223-0307/中華電信/honeypot/dionaea/2020_03_04/dionaea_file_2020_03_04.tar.gz',\n",
       " '../../RAID6/original_tmp_data/0223-0307/中華電信/honeypot/dionaea/2020_03_04/dionaea_log_2020_03_04.tar.gz',\n",
       " '../../RAID6/original_tmp_data/0223-0307/中華電信/honeypot/dionaea/2020_03_05/dionaea_file_2020_03_05.tar.gz',\n",
       " '../../RAID6/original_tmp_data/0223-0307/中華電信/honeypot/dionaea/2020_03_05/dionaea_log_2020_03_05.tar.gz',\n",
       " '../../RAID6/original_tmp_data/0223-0307/中華電信/honeypot/dionaea/2020_03_06/dionaea_file_2020_03_06.tar.gz',\n",
       " '../../RAID6/original_tmp_data/0223-0307/中華電信/honeypot/dionaea/2020_03_06/dionaea_log_2020_03_06.tar.gz',\n",
       " '../../RAID6/original_tmp_data/0223-0307/中華電信/honeypot/dionaea/2020_03_07/dionaea_file_2020_03_07.tar.gz',\n",
       " '../../RAID6/original_tmp_data/0223-0307/中華電信/honeypot/dionaea/2020_03_07/dionaea_log_2020_03_07.tar.gz',\n",
       " '../../RAID6/original_tmp_data/0223-0307/中華電信/honeypot/glastopf/2020_02_23/glastopf_file_2020_02_23.tar.gz',\n",
       " '../../RAID6/original_tmp_data/0223-0307/中華電信/honeypot/glastopf/2020_02_23/glastopf_log_2020_02_23.tar.gz',\n",
       " '../../RAID6/original_tmp_data/0223-0307/中華電信/honeypot/glastopf/2020_02_24/glastopf_file_2020_02_24.tar.gz',\n",
       " '../../RAID6/original_tmp_data/0223-0307/中華電信/honeypot/glastopf/2020_02_24/glastopf_log_2020_02_24.tar.gz',\n",
       " '../../RAID6/original_tmp_data/0223-0307/中華電信/honeypot/glastopf/2020_02_25/glastopf_file_2020_02_25.tar.gz',\n",
       " '../../RAID6/original_tmp_data/0223-0307/中華電信/honeypot/glastopf/2020_02_25/glastopf_log_2020_02_25.tar.gz',\n",
       " '../../RAID6/original_tmp_data/0223-0307/中華電信/honeypot/glastopf/2020_02_26/glastopf_file_2020_02_26.tar.gz',\n",
       " '../../RAID6/original_tmp_data/0223-0307/中華電信/honeypot/glastopf/2020_02_26/glastopf_log_2020_02_26.tar.gz',\n",
       " '../../RAID6/original_tmp_data/0223-0307/中華電信/honeypot/glastopf/2020_02_27/glastopf_file_2020_02_27.tar.gz',\n",
       " '../../RAID6/original_tmp_data/0223-0307/中華電信/honeypot/glastopf/2020_02_27/glastopf_log_2020_02_27.tar.gz',\n",
       " '../../RAID6/original_tmp_data/0223-0307/中華電信/honeypot/glastopf/2020_02_28/glastopf_file_2020_02_28.tar.gz',\n",
       " '../../RAID6/original_tmp_data/0223-0307/中華電信/honeypot/glastopf/2020_02_28/glastopf_log_2020_02_28.tar.gz',\n",
       " '../../RAID6/original_tmp_data/0223-0307/中華電信/honeypot/glastopf/2020_02_29/glastopf_file_2020_02_29.tar.gz',\n",
       " '../../RAID6/original_tmp_data/0223-0307/中華電信/honeypot/glastopf/2020_02_29/glastopf_log_2020_02_29.tar.gz',\n",
       " '../../RAID6/original_tmp_data/0223-0307/中華電信/honeypot/glastopf/2020_03_01/glastopf_file_2020_03_01.tar.gz',\n",
       " '../../RAID6/original_tmp_data/0223-0307/中華電信/honeypot/glastopf/2020_03_01/glastopf_log_2020_03_01.tar.gz',\n",
       " '../../RAID6/original_tmp_data/0223-0307/中華電信/honeypot/glastopf/2020_03_02/glastopf_file_2020_03_02.tar.gz',\n",
       " '../../RAID6/original_tmp_data/0223-0307/中華電信/honeypot/glastopf/2020_03_02/glastopf_log_2020_03_02.tar.gz',\n",
       " '../../RAID6/original_tmp_data/0223-0307/中華電信/honeypot/glastopf/2020_03_03/glastopf_file_2020_03_03.tar.gz',\n",
       " '../../RAID6/original_tmp_data/0223-0307/中華電信/honeypot/glastopf/2020_03_03/glastopf_log_2020_03_03.tar.gz',\n",
       " '../../RAID6/original_tmp_data/0223-0307/中華電信/honeypot/glastopf/2020_03_04/glastopf_file_2020_03_04.tar.gz',\n",
       " '../../RAID6/original_tmp_data/0223-0307/中華電信/honeypot/glastopf/2020_03_04/glastopf_log_2020_03_04.tar.gz',\n",
       " '../../RAID6/original_tmp_data/0223-0307/中華電信/honeypot/glastopf/2020_03_05/glastopf_file_2020_03_05.tar.gz',\n",
       " '../../RAID6/original_tmp_data/0223-0307/中華電信/honeypot/glastopf/2020_03_05/glastopf_log_2020_03_05.tar.gz',\n",
       " '../../RAID6/original_tmp_data/0223-0307/中華電信/honeypot/glastopf/2020_03_06/glastopf_file_2020_03_06.tar.gz',\n",
       " '../../RAID6/original_tmp_data/0223-0307/中華電信/honeypot/glastopf/2020_03_06/glastopf_log_2020_03_06.tar.gz',\n",
       " '../../RAID6/original_tmp_data/0223-0307/中華電信/honeypot/glastopf/2020_03_07/glastopf_file_2020_03_07.tar.gz',\n",
       " '../../RAID6/original_tmp_data/0223-0307/中華電信/honeypot/glastopf/2020_03_07/glastopf_log_2020_03_07.tar.gz',\n",
       " '../../RAID6/original_tmp_data/0223-0307/中華電信/honeypot/cowrie/2020_02_23/cowrie_file_2020_02_23.tar.gz',\n",
       " '../../RAID6/original_tmp_data/0223-0307/中華電信/honeypot/cowrie/2020_02_23/cowrie_log_2020_02_23.tar.gz',\n",
       " '../../RAID6/original_tmp_data/0223-0307/中華電信/honeypot/cowrie/2020_02_24/cowrie_file_2020_02_24.tar.gz',\n",
       " '../../RAID6/original_tmp_data/0223-0307/中華電信/honeypot/cowrie/2020_02_24/cowrie_log_2020_02_24.tar.gz',\n",
       " '../../RAID6/original_tmp_data/0223-0307/中華電信/honeypot/cowrie/2020_02_25/cowrie_file_2020_02_25.tar.gz',\n",
       " '../../RAID6/original_tmp_data/0223-0307/中華電信/honeypot/cowrie/2020_02_25/cowrie_log_2020_02_25.tar.gz',\n",
       " '../../RAID6/original_tmp_data/0223-0307/中華電信/honeypot/cowrie/2020_02_26/cowrie_file_2020_02_26.tar.gz',\n",
       " '../../RAID6/original_tmp_data/0223-0307/中華電信/honeypot/cowrie/2020_02_26/cowrie_log_2020_02_26.tar.gz',\n",
       " '../../RAID6/original_tmp_data/0223-0307/中華電信/honeypot/cowrie/2020_02_27/cowrie_file_2020_02_27.tar.gz',\n",
       " '../../RAID6/original_tmp_data/0223-0307/中華電信/honeypot/cowrie/2020_02_27/cowrie_log_2020_02_27.tar.gz',\n",
       " '../../RAID6/original_tmp_data/0223-0307/中華電信/honeypot/cowrie/2020_02_28/cowrie_file_2020_02_28.tar.gz',\n",
       " '../../RAID6/original_tmp_data/0223-0307/中華電信/honeypot/cowrie/2020_02_28/cowrie_log_2020_02_28.tar.gz',\n",
       " '../../RAID6/original_tmp_data/0223-0307/中華電信/honeypot/cowrie/2020_02_29/cowrie_file_2020_02_29.tar.gz',\n",
       " '../../RAID6/original_tmp_data/0223-0307/中華電信/honeypot/cowrie/2020_02_29/cowrie_log_2020_02_29.tar.gz',\n",
       " '../../RAID6/original_tmp_data/0223-0307/中華電信/honeypot/cowrie/2020_03_01/cowrie_file_2020_03_01.tar.gz',\n",
       " '../../RAID6/original_tmp_data/0223-0307/中華電信/honeypot/cowrie/2020_03_01/cowrie_log_2020_03_01.tar.gz',\n",
       " '../../RAID6/original_tmp_data/0223-0307/中華電信/honeypot/cowrie/2020_03_02/cowrie_file_2020_03_02.tar.gz',\n",
       " '../../RAID6/original_tmp_data/0223-0307/中華電信/honeypot/cowrie/2020_03_02/cowrie_log_2020_03_02.tar.gz',\n",
       " '../../RAID6/original_tmp_data/0223-0307/中華電信/honeypot/cowrie/2020_03_03/cowrie_file_2020_03_03.tar.gz',\n",
       " '../../RAID6/original_tmp_data/0223-0307/中華電信/honeypot/cowrie/2020_03_03/cowrie_log_2020_03_03.tar.gz',\n",
       " '../../RAID6/original_tmp_data/0223-0307/中華電信/honeypot/cowrie/2020_03_04/cowrie_file_2020_03_04.tar.gz',\n",
       " '../../RAID6/original_tmp_data/0223-0307/中華電信/honeypot/cowrie/2020_03_04/cowrie_log_2020_03_04.tar.gz',\n",
       " '../../RAID6/original_tmp_data/0223-0307/中華電信/honeypot/cowrie/2020_03_05/cowrie_file_2020_03_05.tar.gz',\n",
       " '../../RAID6/original_tmp_data/0223-0307/中華電信/honeypot/cowrie/2020_03_05/cowrie_log_2020_03_05.tar.gz',\n",
       " '../../RAID6/original_tmp_data/0223-0307/中華電信/honeypot/cowrie/2020_03_06/cowrie_file_2020_03_06.tar.gz',\n",
       " '../../RAID6/original_tmp_data/0223-0307/中華電信/honeypot/cowrie/2020_03_06/cowrie_log_2020_03_06.tar.gz',\n",
       " '../../RAID6/original_tmp_data/0223-0307/中華電信/honeypot/cowrie/2020_03_07/cowrie_file_2020_03_07.tar.gz',\n",
       " '../../RAID6/original_tmp_data/0223-0307/中華電信/honeypot/cowrie/2020_03_07/cowrie_log_2020_03_07.tar.gz',\n",
       " '../../RAID6/original_tmp_data/0223-0307/亞太電信/pcap/2020_02_23/pcap_2020_02_23.tar.gz',\n",
       " '../../RAID6/original_tmp_data/0223-0307/亞太電信/pcap/2020_02_24/pcap_2020_02_24_part3.tar.gz',\n",
       " '../../RAID6/original_tmp_data/0223-0307/亞太電信/pcap/2020_02_24/pcap_2020_02_24_part4.tar.gz',\n",
       " '../../RAID6/original_tmp_data/0223-0307/亞太電信/pcap/2020_02_25/pcap_2020_02_25_part1.tar.gz',\n",
       " '../../RAID6/original_tmp_data/0223-0307/亞太電信/pcap/2020_02_25/pcap_2020_02_25_part2.tar.gz',\n",
       " '../../RAID6/original_tmp_data/0223-0307/亞太電信/pcap/2020_02_25/pcap_2020_02_25_part3.tar.gz',\n",
       " '../../RAID6/original_tmp_data/0223-0307/亞太電信/pcap/2020_02_25/pcap_2020_02_25_part4.tar.gz',\n",
       " '../../RAID6/original_tmp_data/0223-0307/亞太電信/pcap/2020_02_26/pcap_2020_02_26_part1.tar.gz',\n",
       " '../../RAID6/original_tmp_data/0223-0307/亞太電信/pcap/2020_02_26/pcap_2020_02_26_part2.tar.gz',\n",
       " '../../RAID6/original_tmp_data/0223-0307/亞太電信/pcap/2020_02_26/pcap_2020_02_26_part3.tar.gz',\n",
       " '../../RAID6/original_tmp_data/0223-0307/亞太電信/pcap/2020_02_26/pcap_2020_02_26_part4.tar.gz',\n",
       " '../../RAID6/original_tmp_data/0223-0307/亞太電信/pcap/2020_02_27/pcap_2020_02_27_part1.tar.gz',\n",
       " '../../RAID6/original_tmp_data/0223-0307/亞太電信/pcap/2020_02_27/pcap_2020_02_27_part2.tar.gz',\n",
       " '../../RAID6/original_tmp_data/0223-0307/亞太電信/pcap/2020_02_27/pcap_2020_02_27_part3.tar.gz',\n",
       " '../../RAID6/original_tmp_data/0223-0307/亞太電信/pcap/2020_02_27/pcap_2020_02_27_part4.tar.gz',\n",
       " '../../RAID6/original_tmp_data/0223-0307/亞太電信/pcap/2020_02_28/pcap_2020_02_28_part1.tar.gz',\n",
       " '../../RAID6/original_tmp_data/0223-0307/亞太電信/pcap/2020_02_28/pcap_2020_02_28_part2.tar.gz',\n",
       " '../../RAID6/original_tmp_data/0223-0307/亞太電信/pcap/2020_02_28/pcap_2020_02_28_part3.tar.gz',\n",
       " '../../RAID6/original_tmp_data/0223-0307/亞太電信/pcap/2020_02_28/pcap_2020_02_28_part4.tar.gz',\n",
       " '../../RAID6/original_tmp_data/0223-0307/亞太電信/pcap/2020_02_29/pcap_2020_02_29_part4.tar.gz',\n",
       " '../../RAID6/original_tmp_data/0223-0307/亞太電信/pcap/2020_02_29/pcap_2020_02_29_part2.tar.gz',\n",
       " '../../RAID6/original_tmp_data/0223-0307/亞太電信/pcap/2020_02_29/pcap_2020_02_29_part1.tar.gz',\n",
       " '../../RAID6/original_tmp_data/0223-0307/亞太電信/pcap/2020_02_29/pcap_2020_02_29_part3.tar.gz',\n",
       " '../../RAID6/original_tmp_data/0223-0307/亞太電信/pcap/2020_03_01/pcap_2020_03_01_part2.tar.gz',\n",
       " '../../RAID6/original_tmp_data/0223-0307/亞太電信/pcap/2020_03_01/pcap_2020_03_01_part3.tar.gz',\n",
       " '../../RAID6/original_tmp_data/0223-0307/亞太電信/pcap/2020_03_01/pcap_2020_03_01_part1.tar.gz',\n",
       " '../../RAID6/original_tmp_data/0223-0307/亞太電信/pcap/2020_03_01/pcap_2020_03_01_part4.tar.gz',\n",
       " '../../RAID6/original_tmp_data/0223-0307/亞太電信/pcap/2020_03_02/pcap_2020_03_02_part1.tar.gz',\n",
       " '../../RAID6/original_tmp_data/0223-0307/亞太電信/pcap/2020_03_02/pcap_2020_03_02_part2.tar.gz',\n",
       " '../../RAID6/original_tmp_data/0223-0307/亞太電信/pcap/2020_03_02/pcap_2020_03_02_part3.tar.gz',\n",
       " '../../RAID6/original_tmp_data/0223-0307/亞太電信/pcap/2020_03_02/pcap_2020_03_02_part4.tar.gz',\n",
       " '../../RAID6/original_tmp_data/0223-0307/亞太電信/pcap/2020_03_03/pcap_2020_03_03_part1.tar.gz',\n",
       " '../../RAID6/original_tmp_data/0223-0307/亞太電信/pcap/2020_03_03/pcap_2020_03_03_part2.tar.gz',\n",
       " '../../RAID6/original_tmp_data/0223-0307/亞太電信/pcap/2020_03_03/pcap_2020_03_03_part3.tar.gz',\n",
       " '../../RAID6/original_tmp_data/0223-0307/亞太電信/pcap/2020_03_03/pcap_2020_03_03_part4.tar.gz',\n",
       " '../../RAID6/original_tmp_data/0223-0307/亞太電信/pcap/2020_03_04/pcap_2020_03_04_part1.tar.gz',\n",
       " '../../RAID6/original_tmp_data/0223-0307/亞太電信/pcap/2020_03_04/pcap_2020_03_04_part2.tar.gz',\n",
       " '../../RAID6/original_tmp_data/0223-0307/亞太電信/pcap/2020_03_04/pcap_2020_03_04_part3.tar.gz',\n",
       " '../../RAID6/original_tmp_data/0223-0307/亞太電信/pcap/2020_03_04/pcap_2020_03_04_part4.tar.gz',\n",
       " '../../RAID6/original_tmp_data/0223-0307/亞太電信/pcap/2020_03_05/pcap_2020_03_05_part1.tar.gz',\n",
       " '../../RAID6/original_tmp_data/0223-0307/亞太電信/pcap/2020_03_05/pcap_2020_03_05_part2.tar.gz',\n",
       " '../../RAID6/original_tmp_data/0223-0307/亞太電信/pcap/2020_03_05/pcap_2020_03_05_part3.tar.gz',\n",
       " '../../RAID6/original_tmp_data/0223-0307/亞太電信/pcap/2020_03_05/pcap_2020_03_05_part4.tar.gz',\n",
       " '../../RAID6/original_tmp_data/0223-0307/亞太電信/pcap/2020_03_06/pcap_2020_03_06_part1.tar.gz',\n",
       " '../../RAID6/original_tmp_data/0223-0307/亞太電信/pcap/2020_03_06/pcap_2020_03_06_part2.tar.gz',\n",
       " '../../RAID6/original_tmp_data/0223-0307/亞太電信/pcap/2020_03_06/pcap_2020_03_06_part3.tar.gz',\n",
       " '../../RAID6/original_tmp_data/0223-0307/亞太電信/pcap/2020_03_06/pcap_2020_03_06_part4.tar.gz',\n",
       " '../../RAID6/original_tmp_data/0223-0307/亞太電信/pcap/2020_03_07/pcap_2020_03_07_part1.tar.gz',\n",
       " '../../RAID6/original_tmp_data/0223-0307/亞太電信/pcap/2020_03_07/pcap_2020_03_07_part2.tar.gz',\n",
       " '../../RAID6/original_tmp_data/0223-0307/亞太電信/pcap/2020_03_07/pcap_2020_03_07_part3.tar.gz',\n",
       " '../../RAID6/original_tmp_data/0223-0307/亞太電信/pcap/2020_03_07/pcap_2020_03_07_part4.tar.gz',\n",
       " '../../RAID6/original_tmp_data/0223-0307/亞太電信/honeypot/amun/2020_02_23/amun_file_2020_02_23.tar.gz',\n",
       " '../../RAID6/original_tmp_data/0223-0307/亞太電信/honeypot/amun/2020_02_23/amun_log_2020_02_23.tar.gz',\n",
       " '../../RAID6/original_tmp_data/0223-0307/亞太電信/honeypot/amun/2020_02_25/amun_file_2020_02_25.tar.gz',\n",
       " '../../RAID6/original_tmp_data/0223-0307/亞太電信/honeypot/amun/2020_02_25/amun_log_2020_02_25.tar.gz',\n",
       " '../../RAID6/original_tmp_data/0223-0307/亞太電信/honeypot/amun/2020_02_26/amun_file_2020_02_26.tar.gz',\n",
       " '../../RAID6/original_tmp_data/0223-0307/亞太電信/honeypot/amun/2020_02_26/amun_log_2020_02_26.tar.gz',\n",
       " '../../RAID6/original_tmp_data/0223-0307/亞太電信/honeypot/amun/2020_02_27/amun_file_2020_02_27.tar.gz',\n",
       " '../../RAID6/original_tmp_data/0223-0307/亞太電信/honeypot/amun/2020_02_27/amun_log_2020_02_27.tar.gz',\n",
       " '../../RAID6/original_tmp_data/0223-0307/亞太電信/honeypot/amun/2020_02_28/amun_file_2020_02_28.tar.gz',\n",
       " '../../RAID6/original_tmp_data/0223-0307/亞太電信/honeypot/amun/2020_02_28/amun_log_2020_02_28.tar.gz',\n",
       " '../../RAID6/original_tmp_data/0223-0307/亞太電信/honeypot/amun/2020_03_01/amun_file_2020_03_01.tar.gz',\n",
       " '../../RAID6/original_tmp_data/0223-0307/亞太電信/honeypot/amun/2020_03_01/amun_log_2020_03_01.tar.gz',\n",
       " '../../RAID6/original_tmp_data/0223-0307/亞太電信/honeypot/amun/2020_03_02/amun_file_2020_03_02.tar.gz',\n",
       " '../../RAID6/original_tmp_data/0223-0307/亞太電信/honeypot/amun/2020_03_02/amun_log_2020_03_02.tar.gz',\n",
       " '../../RAID6/original_tmp_data/0223-0307/亞太電信/honeypot/amun/2020_03_03/amun_file_2020_03_03.tar.gz',\n",
       " '../../RAID6/original_tmp_data/0223-0307/亞太電信/honeypot/amun/2020_03_03/amun_log_2020_03_03.tar.gz',\n",
       " '../../RAID6/original_tmp_data/0223-0307/亞太電信/honeypot/amun/2020_03_04/amun_file_2020_03_04.tar.gz',\n",
       " '../../RAID6/original_tmp_data/0223-0307/亞太電信/honeypot/amun/2020_03_04/amun_log_2020_03_04.tar.gz',\n",
       " '../../RAID6/original_tmp_data/0223-0307/亞太電信/honeypot/amun/2020_03_05/amun_file_2020_03_05.tar.gz',\n",
       " '../../RAID6/original_tmp_data/0223-0307/亞太電信/honeypot/amun/2020_03_05/amun_log_2020_03_05.tar.gz',\n",
       " '../../RAID6/original_tmp_data/0223-0307/亞太電信/honeypot/amun/2020_03_06/amun_file_2020_03_06.tar.gz',\n",
       " '../../RAID6/original_tmp_data/0223-0307/亞太電信/honeypot/amun/2020_03_06/amun_log_2020_03_06.tar.gz',\n",
       " '../../RAID6/original_tmp_data/0223-0307/亞太電信/honeypot/amun/2020_03_07/amun_file_2020_03_07.tar.gz',\n",
       " '../../RAID6/original_tmp_data/0223-0307/亞太電信/honeypot/amun/2020_03_07/amun_log_2020_03_07.tar.gz',\n",
       " '../../RAID6/original_tmp_data/0223-0307/亞太電信/honeypot/dionaea/2020_02_23/dionaea_file_2020_02_23.tar.gz',\n",
       " '../../RAID6/original_tmp_data/0223-0307/亞太電信/honeypot/dionaea/2020_02_23/dionaea_log_2020_02_23.tar.gz',\n",
       " '../../RAID6/original_tmp_data/0223-0307/亞太電信/honeypot/dionaea/2020_02_24/dionaea_file_2020_02_24.tar.gz',\n",
       " '../../RAID6/original_tmp_data/0223-0307/亞太電信/honeypot/dionaea/2020_02_24/dionaea_log_2020_02_24.tar.gz',\n",
       " '../../RAID6/original_tmp_data/0223-0307/亞太電信/honeypot/dionaea/2020_02_25/dionaea_file_2020_02_25.tar.gz',\n",
       " '../../RAID6/original_tmp_data/0223-0307/亞太電信/honeypot/dionaea/2020_02_25/dionaea_log_2020_02_25.tar.gz',\n",
       " '../../RAID6/original_tmp_data/0223-0307/亞太電信/honeypot/dionaea/2020_02_26/dionaea_file_2020_02_26.tar.gz',\n",
       " '../../RAID6/original_tmp_data/0223-0307/亞太電信/honeypot/dionaea/2020_02_26/dionaea_log_2020_02_26.tar.gz',\n",
       " '../../RAID6/original_tmp_data/0223-0307/亞太電信/honeypot/dionaea/2020_02_27/dionaea_file_2020_02_27.tar.gz',\n",
       " '../../RAID6/original_tmp_data/0223-0307/亞太電信/honeypot/dionaea/2020_02_27/dionaea_log_2020_02_27.tar.gz',\n",
       " '../../RAID6/original_tmp_data/0223-0307/亞太電信/honeypot/dionaea/2020_02_28/dionaea_file_2020_02_28.tar.gz',\n",
       " '../../RAID6/original_tmp_data/0223-0307/亞太電信/honeypot/dionaea/2020_02_28/dionaea_log_2020_02_28.tar.gz',\n",
       " '../../RAID6/original_tmp_data/0223-0307/亞太電信/honeypot/dionaea/2020_02_29/dionaea_file_2020_02_29.tar.gz',\n",
       " '../../RAID6/original_tmp_data/0223-0307/亞太電信/honeypot/dionaea/2020_02_29/dionaea_log_2020_02_29.tar.gz',\n",
       " '../../RAID6/original_tmp_data/0223-0307/亞太電信/honeypot/dionaea/2020_03_01/dionaea_file_2020_03_01.tar.gz',\n",
       " '../../RAID6/original_tmp_data/0223-0307/亞太電信/honeypot/dionaea/2020_03_01/dionaea_log_2020_03_01.tar.gz',\n",
       " '../../RAID6/original_tmp_data/0223-0307/亞太電信/honeypot/dionaea/2020_03_02/dionaea_file_2020_03_02.tar.gz',\n",
       " '../../RAID6/original_tmp_data/0223-0307/亞太電信/honeypot/dionaea/2020_03_02/dionaea_log_2020_03_02.tar.gz',\n",
       " '../../RAID6/original_tmp_data/0223-0307/亞太電信/honeypot/dionaea/2020_03_03/dionaea_file_2020_03_03.tar.gz',\n",
       " '../../RAID6/original_tmp_data/0223-0307/亞太電信/honeypot/dionaea/2020_03_03/dionaea_log_2020_03_03.tar.gz',\n",
       " '../../RAID6/original_tmp_data/0223-0307/亞太電信/honeypot/dionaea/2020_03_04/dionaea_file_2020_03_04.tar.gz',\n",
       " '../../RAID6/original_tmp_data/0223-0307/亞太電信/honeypot/dionaea/2020_03_04/dionaea_log_2020_03_04.tar.gz',\n",
       " '../../RAID6/original_tmp_data/0223-0307/亞太電信/honeypot/dionaea/2020_03_05/dionaea_file_2020_03_05.tar.gz',\n",
       " '../../RAID6/original_tmp_data/0223-0307/亞太電信/honeypot/dionaea/2020_03_05/dionaea_log_2020_03_05.tar.gz',\n",
       " '../../RAID6/original_tmp_data/0223-0307/亞太電信/honeypot/dionaea/2020_03_06/dionaea_file_2020_03_06.tar.gz',\n",
       " '../../RAID6/original_tmp_data/0223-0307/亞太電信/honeypot/dionaea/2020_03_06/dionaea_log_2020_03_06.tar.gz',\n",
       " '../../RAID6/original_tmp_data/0223-0307/亞太電信/honeypot/dionaea/2020_03_07/dionaea_file_2020_03_07.tar.gz',\n",
       " '../../RAID6/original_tmp_data/0223-0307/亞太電信/honeypot/dionaea/2020_03_07/dionaea_log_2020_03_07.tar.gz',\n",
       " '../../RAID6/original_tmp_data/0223-0307/亞太電信/honeypot/glastopf/2020_02_23/glastopf_file_2020_02_23.tar.gz',\n",
       " '../../RAID6/original_tmp_data/0223-0307/亞太電信/honeypot/glastopf/2020_02_23/glastopf_log_2020_02_23.tar.gz',\n",
       " '../../RAID6/original_tmp_data/0223-0307/亞太電信/honeypot/glastopf/2020_02_24/glastopf_log_2020_02_24.tar.gz',\n",
       " '../../RAID6/original_tmp_data/0223-0307/亞太電信/honeypot/glastopf/2020_02_24/glastopf_file_2020_02_24.tar.gz',\n",
       " '../../RAID6/original_tmp_data/0223-0307/亞太電信/honeypot/glastopf/2020_02_25/glastopf_file_2020_02_25.tar.gz',\n",
       " '../../RAID6/original_tmp_data/0223-0307/亞太電信/honeypot/glastopf/2020_02_25/glastopf_log_2020_02_25.tar.gz',\n",
       " '../../RAID6/original_tmp_data/0223-0307/亞太電信/honeypot/glastopf/2020_02_26/glastopf_file_2020_02_26.tar.gz',\n",
       " '../../RAID6/original_tmp_data/0223-0307/亞太電信/honeypot/glastopf/2020_02_26/glastopf_log_2020_02_26.tar.gz',\n",
       " '../../RAID6/original_tmp_data/0223-0307/亞太電信/honeypot/glastopf/2020_02_27/glastopf_file_2020_02_27.tar.gz',\n",
       " '../../RAID6/original_tmp_data/0223-0307/亞太電信/honeypot/glastopf/2020_02_27/glastopf_log_2020_02_27.tar.gz',\n",
       " '../../RAID6/original_tmp_data/0223-0307/亞太電信/honeypot/glastopf/2020_02_28/glastopf_file_2020_02_28.tar.gz',\n",
       " '../../RAID6/original_tmp_data/0223-0307/亞太電信/honeypot/glastopf/2020_02_28/glastopf_log_2020_02_28.tar.gz',\n",
       " '../../RAID6/original_tmp_data/0223-0307/亞太電信/honeypot/glastopf/2020_02_29/glastopf_file_2020_02_29.tar.gz',\n",
       " '../../RAID6/original_tmp_data/0223-0307/亞太電信/honeypot/glastopf/2020_02_29/glastopf_log_2020_02_29.tar.gz',\n",
       " '../../RAID6/original_tmp_data/0223-0307/亞太電信/honeypot/glastopf/2020_03_01/glastopf_file_2020_03_01.tar.gz',\n",
       " '../../RAID6/original_tmp_data/0223-0307/亞太電信/honeypot/glastopf/2020_03_01/glastopf_log_2020_03_01.tar.gz',\n",
       " '../../RAID6/original_tmp_data/0223-0307/亞太電信/honeypot/glastopf/2020_03_02/glastopf_file_2020_03_02.tar.gz',\n",
       " '../../RAID6/original_tmp_data/0223-0307/亞太電信/honeypot/glastopf/2020_03_02/glastopf_log_2020_03_02.tar.gz',\n",
       " '../../RAID6/original_tmp_data/0223-0307/亞太電信/honeypot/glastopf/2020_03_03/glastopf_file_2020_03_03.tar.gz',\n",
       " '../../RAID6/original_tmp_data/0223-0307/亞太電信/honeypot/glastopf/2020_03_03/glastopf_log_2020_03_03.tar.gz',\n",
       " '../../RAID6/original_tmp_data/0223-0307/亞太電信/honeypot/glastopf/2020_03_04/glastopf_file_2020_03_04.tar.gz',\n",
       " '../../RAID6/original_tmp_data/0223-0307/亞太電信/honeypot/glastopf/2020_03_04/glastopf_log_2020_03_04.tar.gz',\n",
       " '../../RAID6/original_tmp_data/0223-0307/亞太電信/honeypot/glastopf/2020_03_05/glastopf_file_2020_03_05.tar.gz',\n",
       " '../../RAID6/original_tmp_data/0223-0307/亞太電信/honeypot/glastopf/2020_03_05/glastopf_log_2020_03_05.tar.gz',\n",
       " '../../RAID6/original_tmp_data/0223-0307/亞太電信/honeypot/glastopf/2020_03_06/glastopf_file_2020_03_06.tar.gz',\n",
       " '../../RAID6/original_tmp_data/0223-0307/亞太電信/honeypot/glastopf/2020_03_06/glastopf_log_2020_03_06.tar.gz',\n",
       " '../../RAID6/original_tmp_data/0223-0307/亞太電信/honeypot/glastopf/2020_03_07/glastopf_file_2020_03_07.tar.gz',\n",
       " '../../RAID6/original_tmp_data/0223-0307/亞太電信/honeypot/glastopf/2020_03_07/glastopf_log_2020_03_07.tar.gz',\n",
       " '../../RAID6/original_tmp_data/0223-0307/亞太電信/honeypot/cowrie/2020_02_23/cowrie_file_2020_02_23.tar.gz',\n",
       " '../../RAID6/original_tmp_data/0223-0307/亞太電信/honeypot/cowrie/2020_02_23/cowrie_log_2020_02_23.tar.gz',\n",
       " '../../RAID6/original_tmp_data/0223-0307/亞太電信/honeypot/cowrie/2020_02_24/cowrie_file_2020_02_24.tar.gz',\n",
       " '../../RAID6/original_tmp_data/0223-0307/亞太電信/honeypot/cowrie/2020_02_24/cowrie_log_2020_02_24.tar.gz',\n",
       " '../../RAID6/original_tmp_data/0223-0307/亞太電信/honeypot/cowrie/2020_02_25/cowrie_file_2020_02_25.tar.gz',\n",
       " '../../RAID6/original_tmp_data/0223-0307/亞太電信/honeypot/cowrie/2020_02_25/cowrie_log_2020_02_25.tar.gz',\n",
       " '../../RAID6/original_tmp_data/0223-0307/亞太電信/honeypot/cowrie/2020_02_26/cowrie_file_2020_02_26.tar.gz',\n",
       " '../../RAID6/original_tmp_data/0223-0307/亞太電信/honeypot/cowrie/2020_02_26/cowrie_log_2020_02_26.tar.gz',\n",
       " '../../RAID6/original_tmp_data/0223-0307/亞太電信/honeypot/cowrie/2020_02_27/cowrie_file_2020_02_27.tar.gz',\n",
       " '../../RAID6/original_tmp_data/0223-0307/亞太電信/honeypot/cowrie/2020_02_27/cowrie_log_2020_02_27.tar.gz',\n",
       " '../../RAID6/original_tmp_data/0223-0307/亞太電信/honeypot/cowrie/2020_02_28/cowrie_file_2020_02_28.tar.gz',\n",
       " '../../RAID6/original_tmp_data/0223-0307/亞太電信/honeypot/cowrie/2020_02_28/cowrie_log_2020_02_28.tar.gz',\n",
       " '../../RAID6/original_tmp_data/0223-0307/亞太電信/honeypot/cowrie/2020_02_29/cowrie_file_2020_02_29.tar.gz',\n",
       " '../../RAID6/original_tmp_data/0223-0307/亞太電信/honeypot/cowrie/2020_02_29/cowrie_log_2020_02_29.tar.gz',\n",
       " '../../RAID6/original_tmp_data/0223-0307/亞太電信/honeypot/cowrie/2020_03_01/cowrie_file_2020_03_01.tar.gz',\n",
       " '../../RAID6/original_tmp_data/0223-0307/亞太電信/honeypot/cowrie/2020_03_02/cowrie_file_2020_03_02.tar.gz',\n",
       " '../../RAID6/original_tmp_data/0223-0307/亞太電信/honeypot/cowrie/2020_03_03/cowrie_file_2020_03_03.tar.gz',\n",
       " '../../RAID6/original_tmp_data/0223-0307/亞太電信/honeypot/cowrie/2020_03_04/cowrie_file_2020_03_04.tar.gz',\n",
       " '../../RAID6/original_tmp_data/0223-0307/亞太電信/honeypot/cowrie/2020_03_05/cowrie_file_2020_03_05.tar.gz',\n",
       " '../../RAID6/original_tmp_data/0223-0307/亞太電信/honeypot/cowrie/2020_03_05/cowrie_log_2020_03_05.tar.gz',\n",
       " '../../RAID6/original_tmp_data/0223-0307/亞太電信/honeypot/cowrie/2020_03_06/cowrie_file_2020_03_06.tar.gz',\n",
       " '../../RAID6/original_tmp_data/0223-0307/亞太電信/honeypot/cowrie/2020_03_06/cowrie_log_2020_03_06.tar.gz',\n",
       " '../../RAID6/original_tmp_data/0223-0307/亞太電信/honeypot/cowrie/2020_03_07/cowrie_file_2020_03_07.tar.gz',\n",
       " '../../RAID6/original_tmp_data/0223-0307/亞太電信/honeypot/cowrie/2020_03_07/cowrie_log_2020_03_07.tar.gz',\n",
       " '../../RAID6/original_tmp_data/0223-0307/凱擘/pcap/2020_02_23/pcap_2020_02_23.tar.gz',\n",
       " '../../RAID6/original_tmp_data/0223-0307/凱擘/pcap/2020_02_24/pcap_2020_02_24_part3.tar.gz',\n",
       " '../../RAID6/original_tmp_data/0223-0307/凱擘/pcap/2020_02_24/pcap_2020_02_24_part4.tar.gz',\n",
       " '../../RAID6/original_tmp_data/0223-0307/凱擘/pcap/2020_02_25/pcap_2020_02_25_part1.tar.gz',\n",
       " '../../RAID6/original_tmp_data/0223-0307/凱擘/pcap/2020_02_25/pcap_2020_02_25_part3.tar.gz',\n",
       " '../../RAID6/original_tmp_data/0223-0307/凱擘/pcap/2020_02_25/pcap_2020_02_25_part4.tar.gz',\n",
       " '../../RAID6/original_tmp_data/0223-0307/凱擘/pcap/2020_02_25/pcap_2020_02_25_part2.tar.gz',\n",
       " '../../RAID6/original_tmp_data/0223-0307/凱擘/pcap/2020_02_26/pcap_2020_02_26_part1.tar.gz',\n",
       " '../../RAID6/original_tmp_data/0223-0307/凱擘/pcap/2020_02_26/pcap_2020_02_26_part2.tar.gz',\n",
       " '../../RAID6/original_tmp_data/0223-0307/凱擘/pcap/2020_02_26/pcap_2020_02_26_part3.tar.gz',\n",
       " '../../RAID6/original_tmp_data/0223-0307/凱擘/pcap/2020_02_26/pcap_2020_02_26_part4.tar.gz',\n",
       " '../../RAID6/original_tmp_data/0223-0307/凱擘/pcap/2020_02_27/pcap_2020_02_27_part1.tar.gz',\n",
       " '../../RAID6/original_tmp_data/0223-0307/凱擘/pcap/2020_02_27/pcap_2020_02_27_part2.tar.gz',\n",
       " '../../RAID6/original_tmp_data/0223-0307/凱擘/pcap/2020_02_27/pcap_2020_02_27_part3.tar.gz',\n",
       " '../../RAID6/original_tmp_data/0223-0307/凱擘/pcap/2020_02_27/pcap_2020_02_27_part4.tar.gz',\n",
       " '../../RAID6/original_tmp_data/0223-0307/凱擘/pcap/2020_02_28/pcap_2020_02_28_part1.tar.gz',\n",
       " '../../RAID6/original_tmp_data/0223-0307/凱擘/pcap/2020_02_28/pcap_2020_02_28_part2.tar.gz',\n",
       " '../../RAID6/original_tmp_data/0223-0307/凱擘/pcap/2020_02_28/pcap_2020_02_28_part3.tar.gz',\n",
       " '../../RAID6/original_tmp_data/0223-0307/凱擘/pcap/2020_02_28/pcap_2020_02_28_part4.tar.gz',\n",
       " '../../RAID6/original_tmp_data/0223-0307/凱擘/pcap/2020_02_29/pcap_2020_02_29_part1.tar.gz',\n",
       " '../../RAID6/original_tmp_data/0223-0307/凱擘/pcap/2020_02_29/pcap_2020_02_29_part2.tar.gz',\n",
       " '../../RAID6/original_tmp_data/0223-0307/凱擘/pcap/2020_02_29/pcap_2020_02_29_part3.tar.gz',\n",
       " '../../RAID6/original_tmp_data/0223-0307/凱擘/pcap/2020_02_29/pcap_2020_02_29_part4.tar.gz',\n",
       " '../../RAID6/original_tmp_data/0223-0307/凱擘/pcap/2020_03_01/pcap_2020_03_01_part1.tar.gz',\n",
       " '../../RAID6/original_tmp_data/0223-0307/凱擘/pcap/2020_03_01/pcap_2020_03_01_part2.tar.gz',\n",
       " '../../RAID6/original_tmp_data/0223-0307/凱擘/pcap/2020_03_01/pcap_2020_03_01_part3.tar.gz',\n",
       " '../../RAID6/original_tmp_data/0223-0307/凱擘/pcap/2020_03_01/pcap_2020_03_01_part4.tar.gz',\n",
       " '../../RAID6/original_tmp_data/0223-0307/凱擘/pcap/2020_03_02/pcap_2020_03_02_part1.tar.gz',\n",
       " '../../RAID6/original_tmp_data/0223-0307/凱擘/pcap/2020_03_02/pcap_2020_03_02_part2.tar.gz',\n",
       " '../../RAID6/original_tmp_data/0223-0307/凱擘/pcap/2020_03_02/pcap_2020_03_02_part3.tar.gz',\n",
       " '../../RAID6/original_tmp_data/0223-0307/凱擘/pcap/2020_03_02/pcap_2020_03_02_part4.tar.gz',\n",
       " '../../RAID6/original_tmp_data/0223-0307/凱擘/pcap/2020_03_03/pcap_2020_03_03_part1.tar.gz',\n",
       " '../../RAID6/original_tmp_data/0223-0307/凱擘/pcap/2020_03_03/pcap_2020_03_03_part2.tar.gz',\n",
       " '../../RAID6/original_tmp_data/0223-0307/凱擘/pcap/2020_03_03/pcap_2020_03_03_part3.tar.gz',\n",
       " '../../RAID6/original_tmp_data/0223-0307/凱擘/pcap/2020_03_03/pcap_2020_03_03_part4.tar.gz',\n",
       " '../../RAID6/original_tmp_data/0223-0307/凱擘/pcap/2020_03_04/pcap_2020_03_04_part1.tar.gz',\n",
       " '../../RAID6/original_tmp_data/0223-0307/凱擘/pcap/2020_03_04/pcap_2020_03_04_part2.tar.gz',\n",
       " '../../RAID6/original_tmp_data/0223-0307/凱擘/pcap/2020_03_04/pcap_2020_03_04_part3.tar.gz',\n",
       " '../../RAID6/original_tmp_data/0223-0307/凱擘/pcap/2020_03_04/pcap_2020_03_04_part4.tar.gz',\n",
       " '../../RAID6/original_tmp_data/0223-0307/凱擘/pcap/2020_03_05/pcap_2020_03_05_part1.tar.gz',\n",
       " '../../RAID6/original_tmp_data/0223-0307/凱擘/pcap/2020_03_05/pcap_2020_03_05_part2.tar.gz',\n",
       " '../../RAID6/original_tmp_data/0223-0307/凱擘/pcap/2020_03_05/pcap_2020_03_05_part3.tar.gz',\n",
       " '../../RAID6/original_tmp_data/0223-0307/凱擘/pcap/2020_03_05/pcap_2020_03_05_part4.tar.gz',\n",
       " '../../RAID6/original_tmp_data/0223-0307/凱擘/pcap/2020_03_06/pcap_2020_03_06_part1.tar.gz',\n",
       " '../../RAID6/original_tmp_data/0223-0307/凱擘/pcap/2020_03_06/pcap_2020_03_06_part2.tar.gz',\n",
       " '../../RAID6/original_tmp_data/0223-0307/凱擘/pcap/2020_03_06/pcap_2020_03_06_part3.tar.gz',\n",
       " '../../RAID6/original_tmp_data/0223-0307/凱擘/pcap/2020_03_06/pcap_2020_03_06_part4.tar.gz',\n",
       " '../../RAID6/original_tmp_data/0223-0307/凱擘/pcap/2020_03_07/pcap_2020_03_07_part1.tar.gz',\n",
       " '../../RAID6/original_tmp_data/0223-0307/凱擘/pcap/2020_03_07/pcap_2020_03_07_part2.tar.gz',\n",
       " '../../RAID6/original_tmp_data/0223-0307/凱擘/pcap/2020_03_07/pcap_2020_03_07_part3.tar.gz',\n",
       " '../../RAID6/original_tmp_data/0223-0307/凱擘/pcap/2020_03_07/pcap_2020_03_07_part4.tar.gz',\n",
       " '../../RAID6/original_tmp_data/0223-0307/凱擘/honeypot/amun/2020_02_23/amun_file_2020_02_23.tar.gz',\n",
       " '../../RAID6/original_tmp_data/0223-0307/凱擘/honeypot/amun/2020_02_23/amun_log_2020_02_23.tar.gz',\n",
       " '../../RAID6/original_tmp_data/0223-0307/凱擘/honeypot/amun/2020_02_24/amun_file_2020_02_24.tar.gz',\n",
       " '../../RAID6/original_tmp_data/0223-0307/凱擘/honeypot/amun/2020_02_24/amun_log_2020_02_24.tar.gz',\n",
       " '../../RAID6/original_tmp_data/0223-0307/凱擘/honeypot/amun/2020_02_25/amun_file_2020_02_25.tar.gz',\n",
       " '../../RAID6/original_tmp_data/0223-0307/凱擘/honeypot/amun/2020_02_25/amun_log_2020_02_25.tar.gz',\n",
       " '../../RAID6/original_tmp_data/0223-0307/凱擘/honeypot/amun/2020_02_26/amun_file_2020_02_26.tar.gz',\n",
       " '../../RAID6/original_tmp_data/0223-0307/凱擘/honeypot/amun/2020_02_26/amun_log_2020_02_26.tar.gz',\n",
       " '../../RAID6/original_tmp_data/0223-0307/凱擘/honeypot/amun/2020_02_27/amun_file_2020_02_27.tar.gz',\n",
       " '../../RAID6/original_tmp_data/0223-0307/凱擘/honeypot/amun/2020_02_27/amun_log_2020_02_27.tar.gz',\n",
       " '../../RAID6/original_tmp_data/0223-0307/凱擘/honeypot/amun/2020_02_28/amun_file_2020_02_28.tar.gz',\n",
       " '../../RAID6/original_tmp_data/0223-0307/凱擘/honeypot/amun/2020_02_28/amun_log_2020_02_28.tar.gz',\n",
       " '../../RAID6/original_tmp_data/0223-0307/凱擘/honeypot/amun/2020_02_29/amun_file_2020_02_29.tar.gz',\n",
       " '../../RAID6/original_tmp_data/0223-0307/凱擘/honeypot/amun/2020_02_29/amun_log_2020_02_29.tar.gz',\n",
       " '../../RAID6/original_tmp_data/0223-0307/凱擘/honeypot/amun/2020_03_01/amun_file_2020_03_01.tar.gz',\n",
       " '../../RAID6/original_tmp_data/0223-0307/凱擘/honeypot/amun/2020_03_01/amun_log_2020_03_01.tar.gz',\n",
       " '../../RAID6/original_tmp_data/0223-0307/凱擘/honeypot/amun/2020_03_02/amun_file_2020_03_02.tar.gz',\n",
       " '../../RAID6/original_tmp_data/0223-0307/凱擘/honeypot/amun/2020_03_02/amun_log_2020_03_02.tar.gz',\n",
       " '../../RAID6/original_tmp_data/0223-0307/凱擘/honeypot/amun/2020_03_03/amun_file_2020_03_03.tar.gz',\n",
       " '../../RAID6/original_tmp_data/0223-0307/凱擘/honeypot/amun/2020_03_03/amun_log_2020_03_03.tar.gz',\n",
       " '../../RAID6/original_tmp_data/0223-0307/凱擘/honeypot/amun/2020_03_04/amun_file_2020_03_04.tar.gz',\n",
       " '../../RAID6/original_tmp_data/0223-0307/凱擘/honeypot/amun/2020_03_04/amun_log_2020_03_04.tar.gz',\n",
       " '../../RAID6/original_tmp_data/0223-0307/凱擘/honeypot/amun/2020_03_05/amun_file_2020_03_05.tar.gz',\n",
       " '../../RAID6/original_tmp_data/0223-0307/凱擘/honeypot/amun/2020_03_05/amun_log_2020_03_05.tar.gz',\n",
       " '../../RAID6/original_tmp_data/0223-0307/凱擘/honeypot/amun/2020_03_06/amun_file_2020_03_06.tar.gz',\n",
       " '../../RAID6/original_tmp_data/0223-0307/凱擘/honeypot/amun/2020_03_06/amun_log_2020_03_06.tar.gz',\n",
       " '../../RAID6/original_tmp_data/0223-0307/凱擘/honeypot/amun/2020_03_07/amun_file_2020_03_07.tar.gz',\n",
       " '../../RAID6/original_tmp_data/0223-0307/凱擘/honeypot/amun/2020_03_07/amun_log_2020_03_07.tar.gz',\n",
       " '../../RAID6/original_tmp_data/0223-0307/凱擘/honeypot/dionaea/2020_02_23/dionaea_file_2020_02_23.tar.gz',\n",
       " '../../RAID6/original_tmp_data/0223-0307/凱擘/honeypot/dionaea/2020_02_23/dionaea_log_2020_02_23.tar.gz',\n",
       " '../../RAID6/original_tmp_data/0223-0307/凱擘/honeypot/dionaea/2020_02_24/dionaea_file_2020_02_24.tar.gz',\n",
       " '../../RAID6/original_tmp_data/0223-0307/凱擘/honeypot/dionaea/2020_02_24/dionaea_log_2020_02_24.tar.gz',\n",
       " '../../RAID6/original_tmp_data/0223-0307/凱擘/honeypot/dionaea/2020_02_25/dionaea_file_2020_02_25.tar.gz',\n",
       " '../../RAID6/original_tmp_data/0223-0307/凱擘/honeypot/dionaea/2020_02_25/dionaea_log_2020_02_25.tar.gz',\n",
       " '../../RAID6/original_tmp_data/0223-0307/凱擘/honeypot/dionaea/2020_02_26/dionaea_file_2020_02_26.tar.gz',\n",
       " '../../RAID6/original_tmp_data/0223-0307/凱擘/honeypot/dionaea/2020_02_26/dionaea_log_2020_02_26.tar.gz',\n",
       " '../../RAID6/original_tmp_data/0223-0307/凱擘/honeypot/dionaea/2020_02_27/dionaea_file_2020_02_27.tar.gz',\n",
       " '../../RAID6/original_tmp_data/0223-0307/凱擘/honeypot/dionaea/2020_02_27/dionaea_log_2020_02_27.tar.gz',\n",
       " '../../RAID6/original_tmp_data/0223-0307/凱擘/honeypot/dionaea/2020_02_28/dionaea_file_2020_02_28.tar.gz',\n",
       " '../../RAID6/original_tmp_data/0223-0307/凱擘/honeypot/dionaea/2020_02_28/dionaea_log_2020_02_28.tar.gz',\n",
       " '../../RAID6/original_tmp_data/0223-0307/凱擘/honeypot/dionaea/2020_02_29/dionaea_file_2020_02_29.tar.gz',\n",
       " '../../RAID6/original_tmp_data/0223-0307/凱擘/honeypot/dionaea/2020_02_29/dionaea_log_2020_02_29.tar.gz',\n",
       " '../../RAID6/original_tmp_data/0223-0307/凱擘/honeypot/dionaea/2020_03_01/dionaea_file_2020_03_01.tar.gz',\n",
       " '../../RAID6/original_tmp_data/0223-0307/凱擘/honeypot/dionaea/2020_03_01/dionaea_log_2020_03_01.tar.gz',\n",
       " '../../RAID6/original_tmp_data/0223-0307/凱擘/honeypot/dionaea/2020_03_02/dionaea_file_2020_03_02.tar.gz',\n",
       " '../../RAID6/original_tmp_data/0223-0307/凱擘/honeypot/dionaea/2020_03_02/dionaea_log_2020_03_02.tar.gz',\n",
       " '../../RAID6/original_tmp_data/0223-0307/凱擘/honeypot/dionaea/2020_03_03/dionaea_file_2020_03_03.tar.gz',\n",
       " '../../RAID6/original_tmp_data/0223-0307/凱擘/honeypot/dionaea/2020_03_03/dionaea_log_2020_03_03.tar.gz',\n",
       " '../../RAID6/original_tmp_data/0223-0307/凱擘/honeypot/dionaea/2020_03_04/dionaea_file_2020_03_04.tar.gz',\n",
       " '../../RAID6/original_tmp_data/0223-0307/凱擘/honeypot/dionaea/2020_03_04/dionaea_log_2020_03_04.tar.gz',\n",
       " '../../RAID6/original_tmp_data/0223-0307/凱擘/honeypot/dionaea/2020_03_05/dionaea_file_2020_03_05.tar.gz',\n",
       " '../../RAID6/original_tmp_data/0223-0307/凱擘/honeypot/dionaea/2020_03_05/dionaea_log_2020_03_05.tar.gz',\n",
       " '../../RAID6/original_tmp_data/0223-0307/凱擘/honeypot/dionaea/2020_03_06/dionaea_file_2020_03_06.tar.gz',\n",
       " '../../RAID6/original_tmp_data/0223-0307/凱擘/honeypot/dionaea/2020_03_06/dionaea_log_2020_03_06.tar.gz',\n",
       " '../../RAID6/original_tmp_data/0223-0307/凱擘/honeypot/dionaea/2020_03_07/dionaea_file_2020_03_07.tar.gz',\n",
       " '../../RAID6/original_tmp_data/0223-0307/凱擘/honeypot/dionaea/2020_03_07/dionaea_log_2020_03_07.tar.gz',\n",
       " '../../RAID6/original_tmp_data/0223-0307/凱擘/honeypot/glastopf/2020_02_23/glastopf_file_2020_02_23.tar.gz',\n",
       " '../../RAID6/original_tmp_data/0223-0307/凱擘/honeypot/glastopf/2020_02_23/glastopf_log_2020_02_23.tar.gz',\n",
       " '../../RAID6/original_tmp_data/0223-0307/凱擘/honeypot/glastopf/2020_02_24/glastopf_file_2020_02_24.tar.gz',\n",
       " '../../RAID6/original_tmp_data/0223-0307/凱擘/honeypot/glastopf/2020_02_24/glastopf_log_2020_02_24.tar.gz',\n",
       " '../../RAID6/original_tmp_data/0223-0307/凱擘/honeypot/glastopf/2020_02_25/glastopf_file_2020_02_25.tar.gz',\n",
       " '../../RAID6/original_tmp_data/0223-0307/凱擘/honeypot/glastopf/2020_02_25/glastopf_log_2020_02_25.tar.gz',\n",
       " '../../RAID6/original_tmp_data/0223-0307/凱擘/honeypot/glastopf/2020_02_26/glastopf_file_2020_02_26.tar.gz',\n",
       " '../../RAID6/original_tmp_data/0223-0307/凱擘/honeypot/glastopf/2020_02_26/glastopf_log_2020_02_26.tar.gz',\n",
       " '../../RAID6/original_tmp_data/0223-0307/凱擘/honeypot/glastopf/2020_02_27/glastopf_file_2020_02_27.tar.gz',\n",
       " '../../RAID6/original_tmp_data/0223-0307/凱擘/honeypot/glastopf/2020_02_27/glastopf_log_2020_02_27.tar.gz',\n",
       " '../../RAID6/original_tmp_data/0223-0307/凱擘/honeypot/glastopf/2020_02_28/glastopf_file_2020_02_28.tar.gz',\n",
       " '../../RAID6/original_tmp_data/0223-0307/凱擘/honeypot/glastopf/2020_02_28/glastopf_log_2020_02_28.tar.gz',\n",
       " '../../RAID6/original_tmp_data/0223-0307/凱擘/honeypot/glastopf/2020_02_29/glastopf_file_2020_02_29.tar.gz',\n",
       " '../../RAID6/original_tmp_data/0223-0307/凱擘/honeypot/glastopf/2020_02_29/glastopf_log_2020_02_29.tar.gz',\n",
       " '../../RAID6/original_tmp_data/0223-0307/凱擘/honeypot/glastopf/2020_03_01/glastopf_file_2020_03_01.tar.gz',\n",
       " '../../RAID6/original_tmp_data/0223-0307/凱擘/honeypot/glastopf/2020_03_01/glastopf_log_2020_03_01.tar.gz',\n",
       " '../../RAID6/original_tmp_data/0223-0307/凱擘/honeypot/glastopf/2020_03_02/glastopf_file_2020_03_02.tar.gz',\n",
       " '../../RAID6/original_tmp_data/0223-0307/凱擘/honeypot/glastopf/2020_03_02/glastopf_log_2020_03_02.tar.gz',\n",
       " '../../RAID6/original_tmp_data/0223-0307/凱擘/honeypot/glastopf/2020_03_03/glastopf_file_2020_03_03.tar.gz',\n",
       " '../../RAID6/original_tmp_data/0223-0307/凱擘/honeypot/glastopf/2020_03_03/glastopf_log_2020_03_03.tar.gz',\n",
       " '../../RAID6/original_tmp_data/0223-0307/凱擘/honeypot/glastopf/2020_03_04/glastopf_file_2020_03_04.tar.gz',\n",
       " '../../RAID6/original_tmp_data/0223-0307/凱擘/honeypot/glastopf/2020_03_04/glastopf_log_2020_03_04.tar.gz',\n",
       " '../../RAID6/original_tmp_data/0223-0307/凱擘/honeypot/glastopf/2020_03_05/glastopf_file_2020_03_05.tar.gz',\n",
       " '../../RAID6/original_tmp_data/0223-0307/凱擘/honeypot/glastopf/2020_03_05/glastopf_log_2020_03_05.tar.gz',\n",
       " '../../RAID6/original_tmp_data/0223-0307/凱擘/honeypot/glastopf/2020_03_06/glastopf_file_2020_03_06.tar.gz',\n",
       " '../../RAID6/original_tmp_data/0223-0307/凱擘/honeypot/glastopf/2020_03_06/glastopf_log_2020_03_06.tar.gz',\n",
       " '../../RAID6/original_tmp_data/0223-0307/凱擘/honeypot/glastopf/2020_03_07/glastopf_file_2020_03_07.tar.gz',\n",
       " '../../RAID6/original_tmp_data/0223-0307/凱擘/honeypot/glastopf/2020_03_07/glastopf_log_2020_03_07.tar.gz',\n",
       " '../../RAID6/original_tmp_data/0223-0307/凱擘/honeypot/cowrie/2020_02_23/cowrie_file_2020_02_23.tar.gz',\n",
       " '../../RAID6/original_tmp_data/0223-0307/凱擘/honeypot/cowrie/2020_02_23/cowrie_log_2020_02_23.tar.gz',\n",
       " '../../RAID6/original_tmp_data/0223-0307/凱擘/honeypot/cowrie/2020_02_24/cowrie_file_2020_02_24.tar.gz',\n",
       " '../../RAID6/original_tmp_data/0223-0307/凱擘/honeypot/cowrie/2020_02_24/cowrie_log_2020_02_24.tar.gz',\n",
       " '../../RAID6/original_tmp_data/0223-0307/凱擘/honeypot/cowrie/2020_02_25/cowrie_file_2020_02_25.tar.gz',\n",
       " '../../RAID6/original_tmp_data/0223-0307/凱擘/honeypot/cowrie/2020_02_25/cowrie_log_2020_02_25.tar.gz',\n",
       " '../../RAID6/original_tmp_data/0223-0307/凱擘/honeypot/cowrie/2020_02_26/cowrie_file_2020_02_26.tar.gz',\n",
       " '../../RAID6/original_tmp_data/0223-0307/凱擘/honeypot/cowrie/2020_02_26/cowrie_log_2020_02_26.tar.gz',\n",
       " '../../RAID6/original_tmp_data/0223-0307/凱擘/honeypot/cowrie/2020_02_27/cowrie_file_2020_02_27.tar.gz',\n",
       " '../../RAID6/original_tmp_data/0223-0307/凱擘/honeypot/cowrie/2020_02_27/cowrie_log_2020_02_27.tar.gz',\n",
       " '../../RAID6/original_tmp_data/0223-0307/凱擘/honeypot/cowrie/2020_02_28/cowrie_file_2020_02_28.tar.gz',\n",
       " '../../RAID6/original_tmp_data/0223-0307/凱擘/honeypot/cowrie/2020_02_28/cowrie_log_2020_02_28.tar.gz',\n",
       " '../../RAID6/original_tmp_data/0223-0307/凱擘/honeypot/cowrie/2020_02_29/cowrie_file_2020_02_29.tar.gz',\n",
       " '../../RAID6/original_tmp_data/0223-0307/凱擘/honeypot/cowrie/2020_02_29/cowrie_log_2020_02_29.tar.gz',\n",
       " '../../RAID6/original_tmp_data/0223-0307/凱擘/honeypot/cowrie/2020_03_01/cowrie_file_2020_03_01.tar.gz',\n",
       " '../../RAID6/original_tmp_data/0223-0307/凱擘/honeypot/cowrie/2020_03_01/cowrie_log_2020_03_01.tar.gz',\n",
       " '../../RAID6/original_tmp_data/0223-0307/凱擘/honeypot/cowrie/2020_03_02/cowrie_file_2020_03_02.tar.gz',\n",
       " '../../RAID6/original_tmp_data/0223-0307/凱擘/honeypot/cowrie/2020_03_02/cowrie_log_2020_03_02.tar.gz',\n",
       " '../../RAID6/original_tmp_data/0223-0307/凱擘/honeypot/cowrie/2020_03_03/cowrie_file_2020_03_03.tar.gz',\n",
       " '../../RAID6/original_tmp_data/0223-0307/凱擘/honeypot/cowrie/2020_03_03/cowrie_log_2020_03_03.tar.gz',\n",
       " '../../RAID6/original_tmp_data/0223-0307/凱擘/honeypot/cowrie/2020_03_04/cowrie_file_2020_03_04.tar.gz',\n",
       " '../../RAID6/original_tmp_data/0223-0307/凱擘/honeypot/cowrie/2020_03_04/cowrie_log_2020_03_04.tar.gz',\n",
       " '../../RAID6/original_tmp_data/0223-0307/凱擘/honeypot/cowrie/2020_03_05/cowrie_file_2020_03_05.tar.gz',\n",
       " '../../RAID6/original_tmp_data/0223-0307/凱擘/honeypot/cowrie/2020_03_05/cowrie_log_2020_03_05.tar.gz',\n",
       " '../../RAID6/original_tmp_data/0223-0307/凱擘/honeypot/cowrie/2020_03_06/cowrie_file_2020_03_06.tar.gz',\n",
       " '../../RAID6/original_tmp_data/0223-0307/凱擘/honeypot/cowrie/2020_03_06/cowrie_log_2020_03_06.tar.gz',\n",
       " '../../RAID6/original_tmp_data/0223-0307/凱擘/honeypot/cowrie/2020_03_07/cowrie_file_2020_03_07.tar.gz',\n",
       " '../../RAID6/original_tmp_data/0223-0307/凱擘/honeypot/cowrie/2020_03_07/cowrie_log_2020_03_07.tar.gz',\n",
       " '../../RAID6/original_tmp_data/0223-0307/台固媒體/pcap/2020_02_23/pcap_2020_02_23.tar.gz',\n",
       " '../../RAID6/original_tmp_data/0223-0307/台固媒體/pcap/2020_02_24/pcap_2020_02_24_part4.tar.gz',\n",
       " '../../RAID6/original_tmp_data/0223-0307/台固媒體/pcap/2020_02_24/pcap_2020_02_24_part3.tar.gz',\n",
       " '../../RAID6/original_tmp_data/0223-0307/台固媒體/pcap/2020_02_25/pcap_2020_02_25_part1.tar.gz',\n",
       " '../../RAID6/original_tmp_data/0223-0307/台固媒體/pcap/2020_02_25/pcap_2020_02_25_part2.tar.gz',\n",
       " '../../RAID6/original_tmp_data/0223-0307/台固媒體/pcap/2020_02_25/pcap_2020_02_25_part3.tar.gz',\n",
       " '../../RAID6/original_tmp_data/0223-0307/台固媒體/pcap/2020_02_25/pcap_2020_02_25_part4.tar.gz',\n",
       " '../../RAID6/original_tmp_data/0223-0307/台固媒體/pcap/2020_02_26/pcap_2020_02_26_part1.tar.gz',\n",
       " '../../RAID6/original_tmp_data/0223-0307/台固媒體/pcap/2020_02_26/pcap_2020_02_26_part2.tar.gz',\n",
       " '../../RAID6/original_tmp_data/0223-0307/台固媒體/pcap/2020_02_26/pcap_2020_02_26_part3.tar.gz',\n",
       " '../../RAID6/original_tmp_data/0223-0307/台固媒體/pcap/2020_02_26/pcap_2020_02_26_part4.tar.gz',\n",
       " '../../RAID6/original_tmp_data/0223-0307/台固媒體/pcap/2020_02_27/pcap_2020_02_27_part1.tar.gz',\n",
       " '../../RAID6/original_tmp_data/0223-0307/台固媒體/pcap/2020_02_27/pcap_2020_02_27_part2.tar.gz',\n",
       " '../../RAID6/original_tmp_data/0223-0307/台固媒體/pcap/2020_02_27/pcap_2020_02_27_part3.tar.gz',\n",
       " '../../RAID6/original_tmp_data/0223-0307/台固媒體/pcap/2020_02_27/pcap_2020_02_27_part4.tar.gz',\n",
       " '../../RAID6/original_tmp_data/0223-0307/台固媒體/pcap/2020_02_28/pcap_2020_02_28_part1.tar.gz',\n",
       " '../../RAID6/original_tmp_data/0223-0307/台固媒體/pcap/2020_02_28/pcap_2020_02_28_part2.tar.gz',\n",
       " '../../RAID6/original_tmp_data/0223-0307/台固媒體/pcap/2020_02_28/pcap_2020_02_28_part3.tar.gz',\n",
       " '../../RAID6/original_tmp_data/0223-0307/台固媒體/pcap/2020_02_28/pcap_2020_02_28_part4.tar.gz',\n",
       " '../../RAID6/original_tmp_data/0223-0307/台固媒體/pcap/2020_02_29/pcap_2020_02_29_part1.tar.gz',\n",
       " '../../RAID6/original_tmp_data/0223-0307/台固媒體/pcap/2020_02_29/pcap_2020_02_29_part2.tar.gz',\n",
       " '../../RAID6/original_tmp_data/0223-0307/台固媒體/pcap/2020_02_29/pcap_2020_02_29_part3.tar.gz',\n",
       " '../../RAID6/original_tmp_data/0223-0307/台固媒體/pcap/2020_02_29/pcap_2020_02_29_part4.tar.gz',\n",
       " '../../RAID6/original_tmp_data/0223-0307/台固媒體/pcap/2020_03_01/pcap_2020_03_01_part1.tar.gz',\n",
       " '../../RAID6/original_tmp_data/0223-0307/台固媒體/pcap/2020_03_01/pcap_2020_03_01_part2.tar.gz',\n",
       " '../../RAID6/original_tmp_data/0223-0307/台固媒體/pcap/2020_03_01/pcap_2020_03_01_part3.tar.gz',\n",
       " '../../RAID6/original_tmp_data/0223-0307/台固媒體/pcap/2020_03_01/pcap_2020_03_01_part4.tar.gz',\n",
       " '../../RAID6/original_tmp_data/0223-0307/台固媒體/pcap/2020_03_02/pcap_2020_03_02_part1.tar.gz',\n",
       " '../../RAID6/original_tmp_data/0223-0307/台固媒體/pcap/2020_03_02/pcap_2020_03_02_part2.tar.gz',\n",
       " '../../RAID6/original_tmp_data/0223-0307/台固媒體/pcap/2020_03_02/pcap_2020_03_02_part3.tar.gz',\n",
       " '../../RAID6/original_tmp_data/0223-0307/台固媒體/pcap/2020_03_02/pcap_2020_03_02_part4.tar.gz',\n",
       " '../../RAID6/original_tmp_data/0223-0307/台固媒體/pcap/2020_03_03/pcap_2020_03_03_part1.tar.gz',\n",
       " '../../RAID6/original_tmp_data/0223-0307/台固媒體/pcap/2020_03_03/pcap_2020_03_03_part2.tar.gz',\n",
       " '../../RAID6/original_tmp_data/0223-0307/台固媒體/pcap/2020_03_03/pcap_2020_03_03_part3.tar.gz',\n",
       " '../../RAID6/original_tmp_data/0223-0307/台固媒體/pcap/2020_03_03/pcap_2020_03_03_part4.tar.gz',\n",
       " '../../RAID6/original_tmp_data/0223-0307/台固媒體/pcap/2020_03_04/pcap_2020_03_04_part1.tar.gz',\n",
       " '../../RAID6/original_tmp_data/0223-0307/台固媒體/pcap/2020_03_04/pcap_2020_03_04_part2.tar.gz',\n",
       " '../../RAID6/original_tmp_data/0223-0307/台固媒體/pcap/2020_03_04/pcap_2020_03_04_part3.tar.gz',\n",
       " '../../RAID6/original_tmp_data/0223-0307/台固媒體/pcap/2020_03_04/pcap_2020_03_04_part4.tar.gz',\n",
       " '../../RAID6/original_tmp_data/0223-0307/台固媒體/pcap/2020_03_05/pcap_2020_03_05_part1.tar.gz',\n",
       " '../../RAID6/original_tmp_data/0223-0307/台固媒體/pcap/2020_03_05/pcap_2020_03_05_part2.tar.gz',\n",
       " '../../RAID6/original_tmp_data/0223-0307/台固媒體/pcap/2020_03_05/pcap_2020_03_05_part3.tar.gz',\n",
       " '../../RAID6/original_tmp_data/0223-0307/台固媒體/pcap/2020_03_05/pcap_2020_03_05_part4.tar.gz',\n",
       " '../../RAID6/original_tmp_data/0223-0307/台固媒體/pcap/2020_03_06/pcap_2020_03_06_part1.tar.gz',\n",
       " '../../RAID6/original_tmp_data/0223-0307/台固媒體/pcap/2020_03_06/pcap_2020_03_06_part2.tar.gz',\n",
       " '../../RAID6/original_tmp_data/0223-0307/台固媒體/pcap/2020_03_06/pcap_2020_03_06_part3.tar.gz',\n",
       " '../../RAID6/original_tmp_data/0223-0307/台固媒體/pcap/2020_03_06/pcap_2020_03_06_part4.tar.gz',\n",
       " '../../RAID6/original_tmp_data/0223-0307/台固媒體/pcap/2020_03_07/pcap_2020_03_07_part1.tar.gz',\n",
       " '../../RAID6/original_tmp_data/0223-0307/台固媒體/pcap/2020_03_07/pcap_2020_03_07_part2.tar.gz',\n",
       " '../../RAID6/original_tmp_data/0223-0307/台固媒體/pcap/2020_03_07/pcap_2020_03_07_part3.tar.gz',\n",
       " '../../RAID6/original_tmp_data/0223-0307/台固媒體/pcap/2020_03_07/pcap_2020_03_07_part4.tar.gz',\n",
       " '../../RAID6/original_tmp_data/0223-0307/台固媒體/honeypot/amun/2020_02_23/amun_file_2020_02_23.tar.gz',\n",
       " '../../RAID6/original_tmp_data/0223-0307/台固媒體/honeypot/amun/2020_02_23/amun_log_2020_02_23.tar.gz',\n",
       " '../../RAID6/original_tmp_data/0223-0307/台固媒體/honeypot/amun/2020_02_24/amun_file_2020_02_24.tar.gz',\n",
       " '../../RAID6/original_tmp_data/0223-0307/台固媒體/honeypot/amun/2020_02_24/amun_log_2020_02_24.tar.gz',\n",
       " '../../RAID6/original_tmp_data/0223-0307/台固媒體/honeypot/amun/2020_02_25/amun_file_2020_02_25.tar.gz',\n",
       " '../../RAID6/original_tmp_data/0223-0307/台固媒體/honeypot/amun/2020_02_25/amun_log_2020_02_25.tar.gz',\n",
       " '../../RAID6/original_tmp_data/0223-0307/台固媒體/honeypot/amun/2020_02_26/amun_file_2020_02_26.tar.gz',\n",
       " '../../RAID6/original_tmp_data/0223-0307/台固媒體/honeypot/amun/2020_02_26/amun_log_2020_02_26.tar.gz',\n",
       " '../../RAID6/original_tmp_data/0223-0307/台固媒體/honeypot/amun/2020_02_27/amun_file_2020_02_27.tar.gz',\n",
       " '../../RAID6/original_tmp_data/0223-0307/台固媒體/honeypot/amun/2020_02_27/amun_log_2020_02_27.tar.gz',\n",
       " '../../RAID6/original_tmp_data/0223-0307/台固媒體/honeypot/amun/2020_02_28/amun_file_2020_02_28.tar.gz',\n",
       " '../../RAID6/original_tmp_data/0223-0307/台固媒體/honeypot/amun/2020_02_28/amun_log_2020_02_28.tar.gz',\n",
       " '../../RAID6/original_tmp_data/0223-0307/台固媒體/honeypot/amun/2020_02_29/amun_file_2020_02_29.tar.gz',\n",
       " '../../RAID6/original_tmp_data/0223-0307/台固媒體/honeypot/amun/2020_02_29/amun_log_2020_02_29.tar.gz',\n",
       " '../../RAID6/original_tmp_data/0223-0307/台固媒體/honeypot/amun/2020_03_01/amun_file_2020_03_01.tar.gz',\n",
       " '../../RAID6/original_tmp_data/0223-0307/台固媒體/honeypot/amun/2020_03_01/amun_log_2020_03_01.tar.gz',\n",
       " '../../RAID6/original_tmp_data/0223-0307/台固媒體/honeypot/amun/2020_03_02/amun_file_2020_03_02.tar.gz',\n",
       " '../../RAID6/original_tmp_data/0223-0307/台固媒體/honeypot/amun/2020_03_02/amun_log_2020_03_02.tar.gz',\n",
       " '../../RAID6/original_tmp_data/0223-0307/台固媒體/honeypot/amun/2020_03_03/amun_file_2020_03_03.tar.gz',\n",
       " '../../RAID6/original_tmp_data/0223-0307/台固媒體/honeypot/amun/2020_03_03/amun_log_2020_03_03.tar.gz',\n",
       " '../../RAID6/original_tmp_data/0223-0307/台固媒體/honeypot/amun/2020_03_04/amun_file_2020_03_04.tar.gz',\n",
       " '../../RAID6/original_tmp_data/0223-0307/台固媒體/honeypot/amun/2020_03_04/amun_log_2020_03_04.tar.gz',\n",
       " '../../RAID6/original_tmp_data/0223-0307/台固媒體/honeypot/amun/2020_03_05/amun_file_2020_03_05.tar.gz',\n",
       " '../../RAID6/original_tmp_data/0223-0307/台固媒體/honeypot/amun/2020_03_05/amun_log_2020_03_05.tar.gz',\n",
       " '../../RAID6/original_tmp_data/0223-0307/台固媒體/honeypot/amun/2020_03_06/amun_file_2020_03_06.tar.gz',\n",
       " '../../RAID6/original_tmp_data/0223-0307/台固媒體/honeypot/amun/2020_03_06/amun_log_2020_03_06.tar.gz',\n",
       " '../../RAID6/original_tmp_data/0223-0307/台固媒體/honeypot/amun/2020_03_07/amun_file_2020_03_07.tar.gz',\n",
       " '../../RAID6/original_tmp_data/0223-0307/台固媒體/honeypot/amun/2020_03_07/amun_log_2020_03_07.tar.gz',\n",
       " '../../RAID6/original_tmp_data/0223-0307/台固媒體/honeypot/dionaea/2020_02_23/dionaea_file_2020_02_23.tar.gz',\n",
       " '../../RAID6/original_tmp_data/0223-0307/台固媒體/honeypot/dionaea/2020_02_23/dionaea_log_2020_02_23.tar.gz',\n",
       " '../../RAID6/original_tmp_data/0223-0307/台固媒體/honeypot/dionaea/2020_02_24/dionaea_file_2020_02_24.tar.gz',\n",
       " '../../RAID6/original_tmp_data/0223-0307/台固媒體/honeypot/dionaea/2020_02_24/dionaea_log_2020_02_24.tar.gz',\n",
       " '../../RAID6/original_tmp_data/0223-0307/台固媒體/honeypot/dionaea/2020_02_25/dionaea_file_2020_02_25.tar.gz',\n",
       " '../../RAID6/original_tmp_data/0223-0307/台固媒體/honeypot/dionaea/2020_02_25/dionaea_log_2020_02_25.tar.gz',\n",
       " '../../RAID6/original_tmp_data/0223-0307/台固媒體/honeypot/dionaea/2020_02_26/dionaea_file_2020_02_26.tar.gz',\n",
       " '../../RAID6/original_tmp_data/0223-0307/台固媒體/honeypot/dionaea/2020_02_26/dionaea_log_2020_02_26.tar.gz',\n",
       " '../../RAID6/original_tmp_data/0223-0307/台固媒體/honeypot/dionaea/2020_02_27/dionaea_file_2020_02_27.tar.gz',\n",
       " '../../RAID6/original_tmp_data/0223-0307/台固媒體/honeypot/dionaea/2020_02_27/dionaea_log_2020_02_27.tar.gz',\n",
       " '../../RAID6/original_tmp_data/0223-0307/台固媒體/honeypot/dionaea/2020_02_28/dionaea_file_2020_02_28.tar.gz',\n",
       " '../../RAID6/original_tmp_data/0223-0307/台固媒體/honeypot/dionaea/2020_02_28/dionaea_log_2020_02_28.tar.gz',\n",
       " '../../RAID6/original_tmp_data/0223-0307/台固媒體/honeypot/dionaea/2020_02_29/dionaea_file_2020_02_29.tar.gz',\n",
       " '../../RAID6/original_tmp_data/0223-0307/台固媒體/honeypot/dionaea/2020_02_29/dionaea_log_2020_02_29.tar.gz',\n",
       " '../../RAID6/original_tmp_data/0223-0307/台固媒體/honeypot/dionaea/2020_03_01/dionaea_file_2020_03_01.tar.gz',\n",
       " '../../RAID6/original_tmp_data/0223-0307/台固媒體/honeypot/dionaea/2020_03_01/dionaea_log_2020_03_01.tar.gz',\n",
       " '../../RAID6/original_tmp_data/0223-0307/台固媒體/honeypot/dionaea/2020_03_02/dionaea_file_2020_03_02.tar.gz',\n",
       " '../../RAID6/original_tmp_data/0223-0307/台固媒體/honeypot/dionaea/2020_03_02/dionaea_log_2020_03_02.tar.gz',\n",
       " '../../RAID6/original_tmp_data/0223-0307/台固媒體/honeypot/dionaea/2020_03_03/dionaea_file_2020_03_03.tar.gz',\n",
       " '../../RAID6/original_tmp_data/0223-0307/台固媒體/honeypot/dionaea/2020_03_03/dionaea_log_2020_03_03.tar.gz',\n",
       " '../../RAID6/original_tmp_data/0223-0307/台固媒體/honeypot/dionaea/2020_03_04/dionaea_file_2020_03_04.tar.gz',\n",
       " '../../RAID6/original_tmp_data/0223-0307/台固媒體/honeypot/dionaea/2020_03_04/dionaea_log_2020_03_04.tar.gz',\n",
       " '../../RAID6/original_tmp_data/0223-0307/台固媒體/honeypot/dionaea/2020_03_05/dionaea_file_2020_03_05.tar.gz',\n",
       " '../../RAID6/original_tmp_data/0223-0307/台固媒體/honeypot/dionaea/2020_03_05/dionaea_log_2020_03_05.tar.gz',\n",
       " '../../RAID6/original_tmp_data/0223-0307/台固媒體/honeypot/dionaea/2020_03_06/dionaea_file_2020_03_06.tar.gz',\n",
       " '../../RAID6/original_tmp_data/0223-0307/台固媒體/honeypot/dionaea/2020_03_06/dionaea_log_2020_03_06.tar.gz',\n",
       " '../../RAID6/original_tmp_data/0223-0307/台固媒體/honeypot/dionaea/2020_03_07/dionaea_file_2020_03_07.tar.gz',\n",
       " '../../RAID6/original_tmp_data/0223-0307/台固媒體/honeypot/dionaea/2020_03_07/dionaea_log_2020_03_07.tar.gz',\n",
       " '../../RAID6/original_tmp_data/0223-0307/台固媒體/honeypot/glastopf/2020_02_23/glastopf_file_2020_02_23.tar.gz',\n",
       " '../../RAID6/original_tmp_data/0223-0307/台固媒體/honeypot/glastopf/2020_02_23/glastopf_log_2020_02_23.tar.gz',\n",
       " '../../RAID6/original_tmp_data/0223-0307/台固媒體/honeypot/glastopf/2020_02_24/glastopf_file_2020_02_24.tar.gz',\n",
       " '../../RAID6/original_tmp_data/0223-0307/台固媒體/honeypot/glastopf/2020_02_24/glastopf_log_2020_02_24.tar.gz',\n",
       " '../../RAID6/original_tmp_data/0223-0307/台固媒體/honeypot/glastopf/2020_02_25/glastopf_file_2020_02_25.tar.gz',\n",
       " '../../RAID6/original_tmp_data/0223-0307/台固媒體/honeypot/glastopf/2020_02_25/glastopf_log_2020_02_25.tar.gz',\n",
       " '../../RAID6/original_tmp_data/0223-0307/台固媒體/honeypot/glastopf/2020_02_26/glastopf_file_2020_02_26.tar.gz',\n",
       " '../../RAID6/original_tmp_data/0223-0307/台固媒體/honeypot/glastopf/2020_02_26/glastopf_log_2020_02_26.tar.gz',\n",
       " '../../RAID6/original_tmp_data/0223-0307/台固媒體/honeypot/glastopf/2020_02_27/glastopf_file_2020_02_27.tar.gz',\n",
       " '../../RAID6/original_tmp_data/0223-0307/台固媒體/honeypot/glastopf/2020_02_27/glastopf_log_2020_02_27.tar.gz',\n",
       " '../../RAID6/original_tmp_data/0223-0307/台固媒體/honeypot/glastopf/2020_02_28/glastopf_file_2020_02_28.tar.gz',\n",
       " '../../RAID6/original_tmp_data/0223-0307/台固媒體/honeypot/glastopf/2020_02_28/glastopf_log_2020_02_28.tar.gz',\n",
       " '../../RAID6/original_tmp_data/0223-0307/台固媒體/honeypot/glastopf/2020_02_29/glastopf_file_2020_02_29.tar.gz',\n",
       " '../../RAID6/original_tmp_data/0223-0307/台固媒體/honeypot/glastopf/2020_02_29/glastopf_log_2020_02_29.tar.gz',\n",
       " '../../RAID6/original_tmp_data/0223-0307/台固媒體/honeypot/glastopf/2020_03_01/glastopf_file_2020_03_01.tar.gz',\n",
       " '../../RAID6/original_tmp_data/0223-0307/台固媒體/honeypot/glastopf/2020_03_01/glastopf_log_2020_03_01.tar.gz',\n",
       " '../../RAID6/original_tmp_data/0223-0307/台固媒體/honeypot/glastopf/2020_03_02/glastopf_log_2020_03_02.tar.gz',\n",
       " '../../RAID6/original_tmp_data/0223-0307/台固媒體/honeypot/glastopf/2020_03_02/glastopf_file_2020_03_02.tar.gz',\n",
       " '../../RAID6/original_tmp_data/0223-0307/台固媒體/honeypot/glastopf/2020_03_03/glastopf_file_2020_03_03.tar.gz',\n",
       " '../../RAID6/original_tmp_data/0223-0307/台固媒體/honeypot/glastopf/2020_03_03/glastopf_log_2020_03_03.tar.gz',\n",
       " '../../RAID6/original_tmp_data/0223-0307/台固媒體/honeypot/glastopf/2020_03_04/glastopf_file_2020_03_04.tar.gz',\n",
       " '../../RAID6/original_tmp_data/0223-0307/台固媒體/honeypot/glastopf/2020_03_04/glastopf_log_2020_03_04.tar.gz',\n",
       " '../../RAID6/original_tmp_data/0223-0307/台固媒體/honeypot/glastopf/2020_03_05/glastopf_file_2020_03_05.tar.gz',\n",
       " '../../RAID6/original_tmp_data/0223-0307/台固媒體/honeypot/glastopf/2020_03_05/glastopf_log_2020_03_05.tar.gz',\n",
       " '../../RAID6/original_tmp_data/0223-0307/台固媒體/honeypot/glastopf/2020_03_06/glastopf_file_2020_03_06.tar.gz',\n",
       " '../../RAID6/original_tmp_data/0223-0307/台固媒體/honeypot/glastopf/2020_03_06/glastopf_log_2020_03_06.tar.gz',\n",
       " '../../RAID6/original_tmp_data/0223-0307/台固媒體/honeypot/glastopf/2020_03_07/glastopf_file_2020_03_07.tar.gz',\n",
       " '../../RAID6/original_tmp_data/0223-0307/台固媒體/honeypot/glastopf/2020_03_07/glastopf_log_2020_03_07.tar.gz',\n",
       " '../../RAID6/original_tmp_data/0223-0307/台固媒體/honeypot/cowrie/2020_02_23/cowrie_file_2020_02_23.tar.gz',\n",
       " '../../RAID6/original_tmp_data/0223-0307/台固媒體/honeypot/cowrie/2020_02_23/cowrie_log_2020_02_23.tar.gz',\n",
       " '../../RAID6/original_tmp_data/0223-0307/台固媒體/honeypot/cowrie/2020_02_24/cowrie_file_2020_02_24.tar.gz',\n",
       " '../../RAID6/original_tmp_data/0223-0307/台固媒體/honeypot/cowrie/2020_02_24/cowrie_log_2020_02_24.tar.gz',\n",
       " '../../RAID6/original_tmp_data/0223-0307/台固媒體/honeypot/cowrie/2020_02_25/cowrie_file_2020_02_25.tar.gz',\n",
       " '../../RAID6/original_tmp_data/0223-0307/台固媒體/honeypot/cowrie/2020_02_25/cowrie_log_2020_02_25.tar.gz',\n",
       " '../../RAID6/original_tmp_data/0223-0307/台固媒體/honeypot/cowrie/2020_02_26/cowrie_file_2020_02_26.tar.gz',\n",
       " '../../RAID6/original_tmp_data/0223-0307/台固媒體/honeypot/cowrie/2020_02_26/cowrie_log_2020_02_26.tar.gz',\n",
       " '../../RAID6/original_tmp_data/0223-0307/台固媒體/honeypot/cowrie/2020_02_27/cowrie_file_2020_02_27.tar.gz',\n",
       " '../../RAID6/original_tmp_data/0223-0307/台固媒體/honeypot/cowrie/2020_02_27/cowrie_log_2020_02_27.tar.gz',\n",
       " '../../RAID6/original_tmp_data/0223-0307/台固媒體/honeypot/cowrie/2020_02_28/cowrie_file_2020_02_28.tar.gz',\n",
       " '../../RAID6/original_tmp_data/0223-0307/台固媒體/honeypot/cowrie/2020_02_28/cowrie_log_2020_02_28.tar.gz',\n",
       " '../../RAID6/original_tmp_data/0223-0307/台固媒體/honeypot/cowrie/2020_02_29/cowrie_file_2020_02_29.tar.gz',\n",
       " '../../RAID6/original_tmp_data/0223-0307/台固媒體/honeypot/cowrie/2020_02_29/cowrie_log_2020_02_29.tar.gz',\n",
       " '../../RAID6/original_tmp_data/0223-0307/台固媒體/honeypot/cowrie/2020_03_01/cowrie_file_2020_03_01.tar.gz',\n",
       " '../../RAID6/original_tmp_data/0223-0307/台固媒體/honeypot/cowrie/2020_03_01/cowrie_log_2020_03_01.tar.gz',\n",
       " '../../RAID6/original_tmp_data/0223-0307/台固媒體/honeypot/cowrie/2020_03_02/cowrie_file_2020_03_02.tar.gz',\n",
       " '../../RAID6/original_tmp_data/0223-0307/台固媒體/honeypot/cowrie/2020_03_02/cowrie_log_2020_03_02.tar.gz',\n",
       " '../../RAID6/original_tmp_data/0223-0307/台固媒體/honeypot/cowrie/2020_03_03/cowrie_file_2020_03_03.tar.gz',\n",
       " '../../RAID6/original_tmp_data/0223-0307/台固媒體/honeypot/cowrie/2020_03_03/cowrie_log_2020_03_03.tar.gz',\n",
       " '../../RAID6/original_tmp_data/0223-0307/台固媒體/honeypot/cowrie/2020_03_04/cowrie_file_2020_03_04.tar.gz',\n",
       " '../../RAID6/original_tmp_data/0223-0307/台固媒體/honeypot/cowrie/2020_03_04/cowrie_log_2020_03_04.tar.gz',\n",
       " '../../RAID6/original_tmp_data/0223-0307/台固媒體/honeypot/cowrie/2020_03_05/cowrie_file_2020_03_05.tar.gz',\n",
       " '../../RAID6/original_tmp_data/0223-0307/台固媒體/honeypot/cowrie/2020_03_05/cowrie_log_2020_03_05.tar.gz',\n",
       " '../../RAID6/original_tmp_data/0223-0307/台固媒體/honeypot/cowrie/2020_03_06/cowrie_file_2020_03_06.tar.gz',\n",
       " '../../RAID6/original_tmp_data/0223-0307/台固媒體/honeypot/cowrie/2020_03_06/cowrie_log_2020_03_06.tar.gz',\n",
       " '../../RAID6/original_tmp_data/0223-0307/台固媒體/honeypot/cowrie/2020_03_07/cowrie_file_2020_03_07.tar.gz',\n",
       " '../../RAID6/original_tmp_data/0223-0307/台固媒體/honeypot/cowrie/2020_03_07/cowrie_log_2020_03_07.tar.gz',\n",
       " '../../RAID6/original_tmp_data/0223-0307/台灣之星/pcap/2020_02_23/pcap_2020_02_23.tar.gz',\n",
       " '../../RAID6/original_tmp_data/0223-0307/台灣之星/pcap/2020_02_24/pcap_2020_02_24_part3.tar.gz',\n",
       " '../../RAID6/original_tmp_data/0223-0307/台灣之星/pcap/2020_02_24/pcap_2020_02_24_part4.tar.gz',\n",
       " '../../RAID6/original_tmp_data/0223-0307/台灣之星/pcap/2020_02_25/pcap_2020_02_25_part1.tar.gz',\n",
       " '../../RAID6/original_tmp_data/0223-0307/台灣之星/pcap/2020_02_25/pcap_2020_02_25_part2.tar.gz',\n",
       " '../../RAID6/original_tmp_data/0223-0307/台灣之星/pcap/2020_02_25/pcap_2020_02_25_part3.tar.gz',\n",
       " '../../RAID6/original_tmp_data/0223-0307/台灣之星/pcap/2020_02_25/pcap_2020_02_25_part4.tar.gz',\n",
       " '../../RAID6/original_tmp_data/0223-0307/台灣之星/pcap/2020_02_26/pcap_2020_02_26_part1.tar.gz',\n",
       " '../../RAID6/original_tmp_data/0223-0307/台灣之星/pcap/2020_02_26/pcap_2020_02_26_part2.tar.gz',\n",
       " '../../RAID6/original_tmp_data/0223-0307/台灣之星/pcap/2020_02_26/pcap_2020_02_26_part3.tar.gz',\n",
       " '../../RAID6/original_tmp_data/0223-0307/台灣之星/pcap/2020_02_26/pcap_2020_02_26_part4.tar.gz',\n",
       " '../../RAID6/original_tmp_data/0223-0307/台灣之星/pcap/2020_02_27/pcap_2020_02_27_part1.tar.gz',\n",
       " '../../RAID6/original_tmp_data/0223-0307/台灣之星/pcap/2020_02_27/pcap_2020_02_27_part2.tar.gz',\n",
       " '../../RAID6/original_tmp_data/0223-0307/台灣之星/pcap/2020_02_27/pcap_2020_02_27_part3.tar.gz',\n",
       " '../../RAID6/original_tmp_data/0223-0307/台灣之星/pcap/2020_02_27/pcap_2020_02_27_part4.tar.gz',\n",
       " '../../RAID6/original_tmp_data/0223-0307/台灣之星/pcap/2020_02_28/pcap_2020_02_28_part1.tar.gz',\n",
       " '../../RAID6/original_tmp_data/0223-0307/台灣之星/pcap/2020_02_28/pcap_2020_02_28_part2.tar.gz',\n",
       " '../../RAID6/original_tmp_data/0223-0307/台灣之星/pcap/2020_02_28/pcap_2020_02_28_part3.tar.gz',\n",
       " '../../RAID6/original_tmp_data/0223-0307/台灣之星/pcap/2020_02_28/pcap_2020_02_28_part4.tar.gz',\n",
       " '../../RAID6/original_tmp_data/0223-0307/台灣之星/pcap/2020_02_29/pcap_2020_02_29_part2.tar.gz',\n",
       " '../../RAID6/original_tmp_data/0223-0307/台灣之星/pcap/2020_02_29/pcap_2020_02_29_part1.tar.gz',\n",
       " '../../RAID6/original_tmp_data/0223-0307/台灣之星/pcap/2020_02_29/pcap_2020_02_29_part3.tar.gz',\n",
       " '../../RAID6/original_tmp_data/0223-0307/台灣之星/pcap/2020_02_29/pcap_2020_02_29_part4.tar.gz',\n",
       " '../../RAID6/original_tmp_data/0223-0307/台灣之星/pcap/2020_03_01/pcap_2020_03_01_part1.tar.gz',\n",
       " '../../RAID6/original_tmp_data/0223-0307/台灣之星/pcap/2020_03_01/pcap_2020_03_01_part2.tar.gz',\n",
       " '../../RAID6/original_tmp_data/0223-0307/台灣之星/pcap/2020_03_01/pcap_2020_03_01_part3.tar.gz',\n",
       " '../../RAID6/original_tmp_data/0223-0307/台灣之星/pcap/2020_03_01/pcap_2020_03_01_part4.tar.gz',\n",
       " '../../RAID6/original_tmp_data/0223-0307/台灣之星/pcap/2020_03_02/pcap_2020_03_02_part3.tar.gz',\n",
       " '../../RAID6/original_tmp_data/0223-0307/台灣之星/pcap/2020_03_02/pcap_2020_03_02_part1.tar.gz',\n",
       " '../../RAID6/original_tmp_data/0223-0307/台灣之星/pcap/2020_03_02/pcap_2020_03_02_part4.tar.gz',\n",
       " '../../RAID6/original_tmp_data/0223-0307/台灣之星/pcap/2020_03_02/pcap_2020_03_02_part2.tar.gz',\n",
       " '../../RAID6/original_tmp_data/0223-0307/台灣之星/pcap/2020_03_03/pcap_2020_03_03_part1.tar.gz',\n",
       " '../../RAID6/original_tmp_data/0223-0307/台灣之星/pcap/2020_03_03/pcap_2020_03_03_part2.tar.gz',\n",
       " '../../RAID6/original_tmp_data/0223-0307/台灣之星/pcap/2020_03_03/pcap_2020_03_03_part3.tar.gz',\n",
       " '../../RAID6/original_tmp_data/0223-0307/台灣之星/pcap/2020_03_03/pcap_2020_03_03_part4.tar.gz',\n",
       " '../../RAID6/original_tmp_data/0223-0307/台灣之星/pcap/2020_03_04/pcap_2020_03_04_part1.tar.gz',\n",
       " '../../RAID6/original_tmp_data/0223-0307/台灣之星/pcap/2020_03_04/pcap_2020_03_04_part2.tar.gz',\n",
       " '../../RAID6/original_tmp_data/0223-0307/台灣之星/pcap/2020_03_04/pcap_2020_03_04_part3.tar.gz',\n",
       " '../../RAID6/original_tmp_data/0223-0307/台灣之星/pcap/2020_03_04/pcap_2020_03_04_part4.tar.gz',\n",
       " '../../RAID6/original_tmp_data/0223-0307/台灣之星/pcap/2020_03_05/pcap_2020_03_05_part1.tar.gz',\n",
       " '../../RAID6/original_tmp_data/0223-0307/台灣之星/pcap/2020_03_05/pcap_2020_03_05_part2.tar.gz',\n",
       " '../../RAID6/original_tmp_data/0223-0307/台灣之星/pcap/2020_03_05/pcap_2020_03_05_part3.tar.gz',\n",
       " '../../RAID6/original_tmp_data/0223-0307/台灣之星/pcap/2020_03_05/pcap_2020_03_05_part4.tar.gz',\n",
       " '../../RAID6/original_tmp_data/0223-0307/台灣之星/pcap/2020_03_06/pcap_2020_03_06_part1.tar.gz',\n",
       " '../../RAID6/original_tmp_data/0223-0307/台灣之星/pcap/2020_03_06/pcap_2020_03_06_part2.tar.gz',\n",
       " '../../RAID6/original_tmp_data/0223-0307/台灣之星/pcap/2020_03_06/pcap_2020_03_06_part3.tar.gz',\n",
       " '../../RAID6/original_tmp_data/0223-0307/台灣之星/pcap/2020_03_06/pcap_2020_03_06_part4.tar.gz',\n",
       " '../../RAID6/original_tmp_data/0223-0307/台灣之星/pcap/2020_03_07/pcap_2020_03_07_part1.tar.gz',\n",
       " '../../RAID6/original_tmp_data/0223-0307/台灣之星/pcap/2020_03_07/pcap_2020_03_07_part2.tar.gz',\n",
       " '../../RAID6/original_tmp_data/0223-0307/台灣之星/pcap/2020_03_07/pcap_2020_03_07_part3.tar.gz',\n",
       " '../../RAID6/original_tmp_data/0223-0307/台灣之星/pcap/2020_03_07/pcap_2020_03_07_part4.tar.gz',\n",
       " '../../RAID6/original_tmp_data/0223-0307/台灣之星/honeypot/amun/2020_02_23/amun_file_2020_02_23.tar.gz',\n",
       " '../../RAID6/original_tmp_data/0223-0307/台灣之星/honeypot/amun/2020_02_23/amun_log_2020_02_23.tar.gz',\n",
       " '../../RAID6/original_tmp_data/0223-0307/台灣之星/honeypot/amun/2020_02_24/amun_file_2020_02_24.tar.gz',\n",
       " '../../RAID6/original_tmp_data/0223-0307/台灣之星/honeypot/amun/2020_02_24/amun_log_2020_02_24.tar.gz',\n",
       " '../../RAID6/original_tmp_data/0223-0307/台灣之星/honeypot/amun/2020_02_25/amun_file_2020_02_25.tar.gz',\n",
       " '../../RAID6/original_tmp_data/0223-0307/台灣之星/honeypot/amun/2020_02_25/amun_log_2020_02_25.tar.gz',\n",
       " '../../RAID6/original_tmp_data/0223-0307/台灣之星/honeypot/amun/2020_02_26/amun_file_2020_02_26.tar.gz',\n",
       " '../../RAID6/original_tmp_data/0223-0307/台灣之星/honeypot/amun/2020_02_26/amun_log_2020_02_26.tar.gz',\n",
       " '../../RAID6/original_tmp_data/0223-0307/台灣之星/honeypot/amun/2020_02_27/amun_file_2020_02_27.tar.gz',\n",
       " '../../RAID6/original_tmp_data/0223-0307/台灣之星/honeypot/amun/2020_02_27/amun_log_2020_02_27.tar.gz',\n",
       " '../../RAID6/original_tmp_data/0223-0307/台灣之星/honeypot/amun/2020_02_28/amun_file_2020_02_28.tar.gz',\n",
       " '../../RAID6/original_tmp_data/0223-0307/台灣之星/honeypot/amun/2020_02_28/amun_log_2020_02_28.tar.gz',\n",
       " '../../RAID6/original_tmp_data/0223-0307/台灣之星/honeypot/amun/2020_02_29/amun_file_2020_02_29.tar.gz',\n",
       " '../../RAID6/original_tmp_data/0223-0307/台灣之星/honeypot/amun/2020_02_29/amun_log_2020_02_29.tar.gz',\n",
       " '../../RAID6/original_tmp_data/0223-0307/台灣之星/honeypot/amun/2020_03_01/amun_file_2020_03_01.tar.gz',\n",
       " '../../RAID6/original_tmp_data/0223-0307/台灣之星/honeypot/amun/2020_03_01/amun_log_2020_03_01.tar.gz',\n",
       " '../../RAID6/original_tmp_data/0223-0307/台灣之星/honeypot/amun/2020_03_02/amun_file_2020_03_02.tar.gz',\n",
       " '../../RAID6/original_tmp_data/0223-0307/台灣之星/honeypot/amun/2020_03_02/amun_log_2020_03_02.tar.gz',\n",
       " '../../RAID6/original_tmp_data/0223-0307/台灣之星/honeypot/amun/2020_03_03/amun_file_2020_03_03.tar.gz',\n",
       " '../../RAID6/original_tmp_data/0223-0307/台灣之星/honeypot/amun/2020_03_03/amun_log_2020_03_03.tar.gz',\n",
       " '../../RAID6/original_tmp_data/0223-0307/台灣之星/honeypot/amun/2020_03_04/amun_file_2020_03_04.tar.gz',\n",
       " '../../RAID6/original_tmp_data/0223-0307/台灣之星/honeypot/amun/2020_03_04/amun_log_2020_03_04.tar.gz',\n",
       " '../../RAID6/original_tmp_data/0223-0307/台灣之星/honeypot/amun/2020_03_05/amun_file_2020_03_05.tar.gz',\n",
       " '../../RAID6/original_tmp_data/0223-0307/台灣之星/honeypot/amun/2020_03_05/amun_log_2020_03_05.tar.gz',\n",
       " '../../RAID6/original_tmp_data/0223-0307/台灣之星/honeypot/amun/2020_03_06/amun_file_2020_03_06.tar.gz',\n",
       " '../../RAID6/original_tmp_data/0223-0307/台灣之星/honeypot/amun/2020_03_06/amun_log_2020_03_06.tar.gz',\n",
       " '../../RAID6/original_tmp_data/0223-0307/台灣之星/honeypot/amun/2020_03_07/amun_file_2020_03_07.tar.gz',\n",
       " '../../RAID6/original_tmp_data/0223-0307/台灣之星/honeypot/amun/2020_03_07/amun_log_2020_03_07.tar.gz',\n",
       " '../../RAID6/original_tmp_data/0223-0307/台灣之星/honeypot/dionaea/2020_02_23/dionaea_file_2020_02_23.tar.gz',\n",
       " '../../RAID6/original_tmp_data/0223-0307/台灣之星/honeypot/dionaea/2020_02_23/dionaea_log_2020_02_23.tar.gz',\n",
       " '../../RAID6/original_tmp_data/0223-0307/台灣之星/honeypot/dionaea/2020_02_24/dionaea_file_2020_02_24.tar.gz',\n",
       " '../../RAID6/original_tmp_data/0223-0307/台灣之星/honeypot/dionaea/2020_02_24/dionaea_log_2020_02_24.tar.gz',\n",
       " '../../RAID6/original_tmp_data/0223-0307/台灣之星/honeypot/dionaea/2020_02_25/dionaea_file_2020_02_25.tar.gz',\n",
       " '../../RAID6/original_tmp_data/0223-0307/台灣之星/honeypot/dionaea/2020_02_25/dionaea_log_2020_02_25.tar.gz',\n",
       " '../../RAID6/original_tmp_data/0223-0307/台灣之星/honeypot/dionaea/2020_02_26/dionaea_file_2020_02_26.tar.gz',\n",
       " '../../RAID6/original_tmp_data/0223-0307/台灣之星/honeypot/dionaea/2020_02_26/dionaea_log_2020_02_26.tar.gz',\n",
       " '../../RAID6/original_tmp_data/0223-0307/台灣之星/honeypot/dionaea/2020_02_27/dionaea_file_2020_02_27.tar.gz',\n",
       " '../../RAID6/original_tmp_data/0223-0307/台灣之星/honeypot/dionaea/2020_02_27/dionaea_log_2020_02_27.tar.gz',\n",
       " '../../RAID6/original_tmp_data/0223-0307/台灣之星/honeypot/dionaea/2020_02_28/dionaea_file_2020_02_28.tar.gz',\n",
       " '../../RAID6/original_tmp_data/0223-0307/台灣之星/honeypot/dionaea/2020_02_28/dionaea_log_2020_02_28.tar.gz',\n",
       " '../../RAID6/original_tmp_data/0223-0307/台灣之星/honeypot/dionaea/2020_02_29/dionaea_file_2020_02_29.tar.gz',\n",
       " '../../RAID6/original_tmp_data/0223-0307/台灣之星/honeypot/dionaea/2020_02_29/dionaea_log_2020_02_29.tar.gz',\n",
       " '../../RAID6/original_tmp_data/0223-0307/台灣之星/honeypot/dionaea/2020_03_01/dionaea_file_2020_03_01.tar.gz',\n",
       " '../../RAID6/original_tmp_data/0223-0307/台灣之星/honeypot/dionaea/2020_03_01/dionaea_log_2020_03_01.tar.gz',\n",
       " '../../RAID6/original_tmp_data/0223-0307/台灣之星/honeypot/dionaea/2020_03_02/dionaea_file_2020_03_02.tar.gz',\n",
       " '../../RAID6/original_tmp_data/0223-0307/台灣之星/honeypot/dionaea/2020_03_02/dionaea_log_2020_03_02.tar.gz',\n",
       " '../../RAID6/original_tmp_data/0223-0307/台灣之星/honeypot/dionaea/2020_03_03/dionaea_file_2020_03_03.tar.gz',\n",
       " '../../RAID6/original_tmp_data/0223-0307/台灣之星/honeypot/dionaea/2020_03_03/dionaea_log_2020_03_03.tar.gz',\n",
       " '../../RAID6/original_tmp_data/0223-0307/台灣之星/honeypot/dionaea/2020_03_04/dionaea_file_2020_03_04.tar.gz',\n",
       " '../../RAID6/original_tmp_data/0223-0307/台灣之星/honeypot/dionaea/2020_03_04/dionaea_log_2020_03_04.tar.gz',\n",
       " '../../RAID6/original_tmp_data/0223-0307/台灣之星/honeypot/dionaea/2020_03_05/dionaea_file_2020_03_05.tar.gz',\n",
       " '../../RAID6/original_tmp_data/0223-0307/台灣之星/honeypot/dionaea/2020_03_05/dionaea_log_2020_03_05.tar.gz',\n",
       " '../../RAID6/original_tmp_data/0223-0307/台灣之星/honeypot/dionaea/2020_03_06/dionaea_file_2020_03_06.tar.gz',\n",
       " '../../RAID6/original_tmp_data/0223-0307/台灣之星/honeypot/dionaea/2020_03_06/dionaea_log_2020_03_06.tar.gz',\n",
       " '../../RAID6/original_tmp_data/0223-0307/台灣之星/honeypot/dionaea/2020_03_07/dionaea_file_2020_03_07.tar.gz',\n",
       " '../../RAID6/original_tmp_data/0223-0307/台灣之星/honeypot/dionaea/2020_03_07/dionaea_log_2020_03_07.tar.gz',\n",
       " '../../RAID6/original_tmp_data/0223-0307/台灣之星/honeypot/glastopf/2020_02_23/glastopf_file_2020_02_23.tar.gz',\n",
       " '../../RAID6/original_tmp_data/0223-0307/台灣之星/honeypot/glastopf/2020_02_23/glastopf_log_2020_02_23.tar.gz',\n",
       " '../../RAID6/original_tmp_data/0223-0307/台灣之星/honeypot/glastopf/2020_02_24/glastopf_file_2020_02_24.tar.gz',\n",
       " '../../RAID6/original_tmp_data/0223-0307/台灣之星/honeypot/glastopf/2020_02_24/glastopf_log_2020_02_24.tar.gz',\n",
       " '../../RAID6/original_tmp_data/0223-0307/台灣之星/honeypot/glastopf/2020_02_25/glastopf_file_2020_02_25.tar.gz',\n",
       " '../../RAID6/original_tmp_data/0223-0307/台灣之星/honeypot/glastopf/2020_02_25/glastopf_log_2020_02_25.tar.gz',\n",
       " '../../RAID6/original_tmp_data/0223-0307/台灣之星/honeypot/glastopf/2020_02_26/glastopf_file_2020_02_26.tar.gz',\n",
       " '../../RAID6/original_tmp_data/0223-0307/台灣之星/honeypot/glastopf/2020_02_26/glastopf_log_2020_02_26.tar.gz',\n",
       " '../../RAID6/original_tmp_data/0223-0307/台灣之星/honeypot/glastopf/2020_02_27/glastopf_file_2020_02_27.tar.gz',\n",
       " '../../RAID6/original_tmp_data/0223-0307/台灣之星/honeypot/glastopf/2020_02_27/glastopf_log_2020_02_27.tar.gz',\n",
       " '../../RAID6/original_tmp_data/0223-0307/台灣之星/honeypot/glastopf/2020_02_28/glastopf_file_2020_02_28.tar.gz',\n",
       " '../../RAID6/original_tmp_data/0223-0307/台灣之星/honeypot/glastopf/2020_02_28/glastopf_log_2020_02_28.tar.gz',\n",
       " '../../RAID6/original_tmp_data/0223-0307/台灣之星/honeypot/glastopf/2020_02_29/glastopf_file_2020_02_29.tar.gz',\n",
       " '../../RAID6/original_tmp_data/0223-0307/台灣之星/honeypot/glastopf/2020_02_29/glastopf_log_2020_02_29.tar.gz',\n",
       " '../../RAID6/original_tmp_data/0223-0307/台灣之星/honeypot/glastopf/2020_03_01/glastopf_file_2020_03_01.tar.gz',\n",
       " '../../RAID6/original_tmp_data/0223-0307/台灣之星/honeypot/glastopf/2020_03_01/glastopf_log_2020_03_01.tar.gz',\n",
       " '../../RAID6/original_tmp_data/0223-0307/台灣之星/honeypot/glastopf/2020_03_02/glastopf_file_2020_03_02.tar.gz',\n",
       " '../../RAID6/original_tmp_data/0223-0307/台灣之星/honeypot/glastopf/2020_03_02/glastopf_log_2020_03_02.tar.gz',\n",
       " '../../RAID6/original_tmp_data/0223-0307/台灣之星/honeypot/glastopf/2020_03_03/glastopf_file_2020_03_03.tar.gz',\n",
       " '../../RAID6/original_tmp_data/0223-0307/台灣之星/honeypot/glastopf/2020_03_03/glastopf_log_2020_03_03.tar.gz',\n",
       " '../../RAID6/original_tmp_data/0223-0307/台灣之星/honeypot/glastopf/2020_03_04/glastopf_file_2020_03_04.tar.gz',\n",
       " '../../RAID6/original_tmp_data/0223-0307/台灣之星/honeypot/glastopf/2020_03_04/glastopf_log_2020_03_04.tar.gz',\n",
       " '../../RAID6/original_tmp_data/0223-0307/台灣之星/honeypot/glastopf/2020_03_05/glastopf_file_2020_03_05.tar.gz',\n",
       " '../../RAID6/original_tmp_data/0223-0307/台灣之星/honeypot/glastopf/2020_03_05/glastopf_log_2020_03_05.tar.gz',\n",
       " '../../RAID6/original_tmp_data/0223-0307/台灣之星/honeypot/glastopf/2020_03_06/glastopf_log_2020_03_06.tar.gz',\n",
       " '../../RAID6/original_tmp_data/0223-0307/台灣之星/honeypot/glastopf/2020_03_06/glastopf_file_2020_03_06.tar.gz',\n",
       " '../../RAID6/original_tmp_data/0223-0307/台灣之星/honeypot/glastopf/2020_03_07/glastopf_file_2020_03_07.tar.gz',\n",
       " '../../RAID6/original_tmp_data/0223-0307/台灣之星/honeypot/glastopf/2020_03_07/glastopf_log_2020_03_07.tar.gz',\n",
       " '../../RAID6/original_tmp_data/0223-0307/台灣之星/honeypot/cowrie/2020_02_23/cowrie_file_2020_02_23.tar.gz',\n",
       " '../../RAID6/original_tmp_data/0223-0307/台灣之星/honeypot/cowrie/2020_02_23/cowrie_log_2020_02_23.tar.gz',\n",
       " '../../RAID6/original_tmp_data/0223-0307/台灣之星/honeypot/cowrie/2020_02_24/cowrie_file_2020_02_24.tar.gz',\n",
       " '../../RAID6/original_tmp_data/0223-0307/台灣之星/honeypot/cowrie/2020_02_24/cowrie_log_2020_02_24.tar.gz',\n",
       " '../../RAID6/original_tmp_data/0223-0307/台灣之星/honeypot/cowrie/2020_02_25/cowrie_file_2020_02_25.tar.gz',\n",
       " '../../RAID6/original_tmp_data/0223-0307/台灣之星/honeypot/cowrie/2020_02_25/cowrie_log_2020_02_25.tar.gz',\n",
       " '../../RAID6/original_tmp_data/0223-0307/台灣之星/honeypot/cowrie/2020_02_26/cowrie_file_2020_02_26.tar.gz',\n",
       " '../../RAID6/original_tmp_data/0223-0307/台灣之星/honeypot/cowrie/2020_02_26/cowrie_log_2020_02_26.tar.gz',\n",
       " '../../RAID6/original_tmp_data/0223-0307/台灣之星/honeypot/cowrie/2020_02_27/cowrie_file_2020_02_27.tar.gz',\n",
       " '../../RAID6/original_tmp_data/0223-0307/台灣之星/honeypot/cowrie/2020_02_27/cowrie_log_2020_02_27.tar.gz',\n",
       " '../../RAID6/original_tmp_data/0223-0307/台灣之星/honeypot/cowrie/2020_02_28/cowrie_file_2020_02_28.tar.gz',\n",
       " '../../RAID6/original_tmp_data/0223-0307/台灣之星/honeypot/cowrie/2020_02_28/cowrie_log_2020_02_28.tar.gz',\n",
       " '../../RAID6/original_tmp_data/0223-0307/台灣之星/honeypot/cowrie/2020_02_29/cowrie_file_2020_02_29.tar.gz',\n",
       " '../../RAID6/original_tmp_data/0223-0307/台灣之星/honeypot/cowrie/2020_02_29/cowrie_log_2020_02_29.tar.gz',\n",
       " '../../RAID6/original_tmp_data/0223-0307/台灣之星/honeypot/cowrie/2020_03_01/cowrie_file_2020_03_01.tar.gz',\n",
       " '../../RAID6/original_tmp_data/0223-0307/台灣之星/honeypot/cowrie/2020_03_01/cowrie_log_2020_03_01.tar.gz',\n",
       " '../../RAID6/original_tmp_data/0223-0307/台灣之星/honeypot/cowrie/2020_03_02/cowrie_file_2020_03_02.tar.gz',\n",
       " '../../RAID6/original_tmp_data/0223-0307/台灣之星/honeypot/cowrie/2020_03_02/cowrie_log_2020_03_02.tar.gz',\n",
       " '../../RAID6/original_tmp_data/0223-0307/台灣之星/honeypot/cowrie/2020_03_03/cowrie_file_2020_03_03.tar.gz',\n",
       " '../../RAID6/original_tmp_data/0223-0307/台灣之星/honeypot/cowrie/2020_03_03/cowrie_log_2020_03_03.tar.gz',\n",
       " '../../RAID6/original_tmp_data/0223-0307/台灣之星/honeypot/cowrie/2020_03_04/cowrie_file_2020_03_04.tar.gz',\n",
       " '../../RAID6/original_tmp_data/0223-0307/台灣之星/honeypot/cowrie/2020_03_04/cowrie_log_2020_03_04.tar.gz',\n",
       " '../../RAID6/original_tmp_data/0223-0307/台灣之星/honeypot/cowrie/2020_03_05/cowrie_file_2020_03_05.tar.gz',\n",
       " '../../RAID6/original_tmp_data/0223-0307/台灣之星/honeypot/cowrie/2020_03_05/cowrie_log_2020_03_05.tar.gz',\n",
       " '../../RAID6/original_tmp_data/0223-0307/台灣之星/honeypot/cowrie/2020_03_06/cowrie_file_2020_03_06.tar.gz',\n",
       " '../../RAID6/original_tmp_data/0223-0307/台灣之星/honeypot/cowrie/2020_03_06/cowrie_log_2020_03_06.tar.gz',\n",
       " '../../RAID6/original_tmp_data/0223-0307/台灣之星/honeypot/cowrie/2020_03_07/cowrie_file_2020_03_07.tar.gz',\n",
       " '../../RAID6/original_tmp_data/0223-0307/台灣之星/honeypot/cowrie/2020_03_07/cowrie_log_2020_03_07.tar.gz',\n",
       " '../../RAID6/original_tmp_data/0223-0307/台灣固網/pcap/2020_02_23/pcap_2020_02_23.tar.gz',\n",
       " '../../RAID6/original_tmp_data/0223-0307/台灣固網/pcap/2020_02_24/pcap_2020_02_24_part4.tar.gz',\n",
       " '../../RAID6/original_tmp_data/0223-0307/台灣固網/pcap/2020_02_24/pcap_2020_02_24_part3.tar.gz',\n",
       " '../../RAID6/original_tmp_data/0223-0307/台灣固網/pcap/2020_02_25/pcap_2020_02_25_part1.tar.gz',\n",
       " '../../RAID6/original_tmp_data/0223-0307/台灣固網/pcap/2020_02_25/pcap_2020_02_25_part2.tar.gz',\n",
       " '../../RAID6/original_tmp_data/0223-0307/台灣固網/pcap/2020_02_25/pcap_2020_02_25_part3.tar.gz',\n",
       " '../../RAID6/original_tmp_data/0223-0307/台灣固網/pcap/2020_02_25/pcap_2020_02_25_part4.tar.gz',\n",
       " '../../RAID6/original_tmp_data/0223-0307/台灣固網/pcap/2020_02_26/pcap_2020_02_26_part1.tar.gz',\n",
       " '../../RAID6/original_tmp_data/0223-0307/台灣固網/pcap/2020_02_26/pcap_2020_02_26_part2.tar.gz',\n",
       " '../../RAID6/original_tmp_data/0223-0307/台灣固網/pcap/2020_02_26/pcap_2020_02_26_part3.tar.gz',\n",
       " '../../RAID6/original_tmp_data/0223-0307/台灣固網/pcap/2020_02_26/pcap_2020_02_26_part4.tar.gz',\n",
       " '../../RAID6/original_tmp_data/0223-0307/台灣固網/pcap/2020_02_27/pcap_2020_02_27_part1.tar.gz',\n",
       " '../../RAID6/original_tmp_data/0223-0307/台灣固網/pcap/2020_02_27/pcap_2020_02_27_part2.tar.gz',\n",
       " '../../RAID6/original_tmp_data/0223-0307/台灣固網/pcap/2020_02_27/pcap_2020_02_27_part3.tar.gz',\n",
       " '../../RAID6/original_tmp_data/0223-0307/台灣固網/pcap/2020_02_27/pcap_2020_02_27_part4.tar.gz',\n",
       " '../../RAID6/original_tmp_data/0223-0307/台灣固網/pcap/2020_02_28/pcap_2020_02_28_part2.tar.gz',\n",
       " '../../RAID6/original_tmp_data/0223-0307/台灣固網/pcap/2020_02_28/pcap_2020_02_28_part4.tar.gz',\n",
       " '../../RAID6/original_tmp_data/0223-0307/台灣固網/pcap/2020_02_28/pcap_2020_02_28_part1.tar.gz',\n",
       " '../../RAID6/original_tmp_data/0223-0307/台灣固網/pcap/2020_02_28/pcap_2020_02_28_part3.tar.gz',\n",
       " '../../RAID6/original_tmp_data/0223-0307/台灣固網/pcap/2020_02_29/pcap_2020_02_29_part1.tar.gz',\n",
       " '../../RAID6/original_tmp_data/0223-0307/台灣固網/pcap/2020_02_29/pcap_2020_02_29_part2.tar.gz',\n",
       " '../../RAID6/original_tmp_data/0223-0307/台灣固網/pcap/2020_02_29/pcap_2020_02_29_part3.tar.gz',\n",
       " '../../RAID6/original_tmp_data/0223-0307/台灣固網/pcap/2020_02_29/pcap_2020_02_29_part4.tar.gz',\n",
       " '../../RAID6/original_tmp_data/0223-0307/台灣固網/pcap/2020_03_01/pcap_2020_03_01_part1.tar.gz',\n",
       " '../../RAID6/original_tmp_data/0223-0307/台灣固網/pcap/2020_03_01/pcap_2020_03_01_part2.tar.gz',\n",
       " '../../RAID6/original_tmp_data/0223-0307/台灣固網/pcap/2020_03_01/pcap_2020_03_01_part3.tar.gz',\n",
       " '../../RAID6/original_tmp_data/0223-0307/台灣固網/pcap/2020_03_01/pcap_2020_03_01_part4.tar.gz',\n",
       " '../../RAID6/original_tmp_data/0223-0307/台灣固網/pcap/2020_03_02/pcap_2020_03_02_part1.tar.gz',\n",
       " '../../RAID6/original_tmp_data/0223-0307/台灣固網/pcap/2020_03_02/pcap_2020_03_02_part3.tar.gz',\n",
       " '../../RAID6/original_tmp_data/0223-0307/台灣固網/pcap/2020_03_02/pcap_2020_03_02_part2.tar.gz',\n",
       " '../../RAID6/original_tmp_data/0223-0307/台灣固網/pcap/2020_03_02/pcap_2020_03_02_part4.tar.gz',\n",
       " '../../RAID6/original_tmp_data/0223-0307/台灣固網/pcap/2020_03_03/pcap_2020_03_03_part1.tar.gz',\n",
       " ...]"
      ]
     },
     "execution_count": 3,
     "metadata": {},
     "output_type": "execute_result"
    }
   ],
   "source": [
    "all_files = glob.glob(rearrange_dir+'**/*.tar.gz', recursive=True)\n",
    "all_files"
   ]
  },
  {
   "cell_type": "markdown",
   "metadata": {},
   "source": [
    ".split('/') :\n",
    "* 4=>pcap/hp\n",
    "* 3=>ISP (轉換)\n",
    "* 5=>date (注意格式)\n",
    "* 6=>fileName\n",
    "***\n",
    "#### 最原本.tar.gz/.json TTC所給之原始檔案目前位於RAID5目錄下\n",
    "* pcap \n",
    "    * date\n",
    "        * ISP\n",
    "            * fileName\n",
    "* honeypot \n",
    "    * date\n",
    "        * type\n",
    "            * ISP or mongoDB\n",
    "                * fileName\n",
    "\n",
    "#### 經解壓縮、加工處理後等大size個別資料目前位於 data_hdd4t目錄下\n",
    "* pcap_process\n",
    "    * date\n",
    "        * ISP\n",
    "            * fileName\n",
    "* honeypot_process\n",
    "    * date\n",
    "        * type\n",
    "            * ISP or mongoDB\n",
    "                * fileName\n",
    "\n",
    "#### spark dataframe、pickle等經過整合或小size資料目前位於spark_data目錄下\n",
    "* pcap_inter\n",
    "    * date\n",
    "        * ISP\n",
    "            * fileName\n",
    "* honeypot_inter\n",
    "    * date\n",
    "        * type\n",
    "            * ISP or mongoDB\n",
    "                * fileName"
   ]
  },
  {
   "cell_type": "code",
   "execution_count": 7,
   "metadata": {},
   "outputs": [],
   "source": [
    "def aliase_convert(s):\n",
    "    '''\n",
    "    dictionary baesd conversion\n",
    "    '''\n",
    "    if s == '台哥大':\n",
    "        return '台灣大哥大'\n",
    "    elif s == '台基開發':\n",
    "        return '台灣基礎開發'\n",
    "    elif s == '亞太':\n",
    "        return '亞太電信'\n",
    "    elif s == '遠傳':\n",
    "        return '遠傳電信'\n",
    "    else:\n",
    "        return s"
   ]
  },
  {
   "cell_type": "code",
   "execution_count": 9,
   "metadata": {},
   "outputs": [
    {
     "name": "stdout",
     "output_type": "stream",
     "text": [
      "['..', '..', 'RAID6', 'original_tmp_data', '0223-0307', '遠傳', 'honeypot', 'cowrie', '2020_03_07', 'cowrie_log_2020_03_07.tar.gz']\n"
     ]
    },
    {
     "data": {
      "text/plain": [
       "10"
      ]
     },
     "execution_count": 9,
     "metadata": {},
     "output_type": "execute_result"
    }
   ],
   "source": [
    "idx = -1\n",
    "print(all_files[idx].split('/'))\n",
    "len(all_files[idx].split('/'))\n",
    "#10=>hp\n",
    "#9=>pcap"
   ]
  },
  {
   "cell_type": "code",
   "execution_count": 8,
   "metadata": {},
   "outputs": [],
   "source": [
    "for i,path in (enumerate(all_files)):\n",
    "    if 'mongo' in path:\n",
    "        print(i) #不應該要有印出東西\n",
    "        break"
   ]
  },
  {
   "cell_type": "code",
   "execution_count": 10,
   "metadata": {
    "scrolled": true
   },
   "outputs": [
    {
     "name": "stderr",
     "output_type": "stream",
     "text": [
      "100%|██████████| 1773/1773 [24:32:26<00:00, 49.83s/it]    \n"
     ]
    }
   ],
   "source": [
    "for path in tqdm(all_files):\n",
    "    path_li = path.split('/')\n",
    "    if path_li[3] in ['pcap','honeypot','metadata']: #如果是已經分好在RAID5的就不要動 #需要改\n",
    "        continue\n",
    "    if len(path_li) == 9: #pcap #需要改\n",
    "        date_dir = path_li[-2] #日期須修改\n",
    "        date_dir = date_dir.replace('-','_')\n",
    "        assert len(date_dir.split('_')) == 3\n",
    "        isp_dir = path_li[-4] #isp名稱位置 #需要改\n",
    "        isp_dir = aliase_convert(isp_dir)\n",
    "        fileName = path_li[-1]\n",
    "        assert 'pcap' in fileName\n",
    "        assert date_dir.split('_')[-1] in fileName\n",
    "        assert '.tar.gz' in fileName\n",
    "        save_dir = '../../RAID5/'+'pcap/'+date_dir+'/'+isp_dir #要儲存的位置 #需要改\n",
    "        if not os.path.exists(save_dir):\n",
    "            os.makedirs(save_dir,exist_ok=True)\n",
    "        try:\n",
    "            shutil.move(path,save_dir+'/')\n",
    "        except :\n",
    "            print(path)\n",
    "            ori = hashlib.md5(open(path,'rb').read()).hexdigest()\n",
    "            dest =  hashlib.md5(open('../../RAID5/'+'pcap/'+date_dir+'/'+isp_dir+'/'+fileName,'rb').read()).hexdigest()\n",
    "            if ori == dest:\n",
    "                os.remove(path)\n",
    "            else:\n",
    "                print('_2 was created')                \n",
    "                shutil.move(path,save_dir+'/'+fileName+'_2')\n",
    "    elif len(path_li) == 10: #hp #長度需要改\n",
    "        date_dir = path_li[-2] #日期須檢查\n",
    "        date_dir = date_dir.replace('-','_')\n",
    "        assert len(date_dir.split('_')) == 3\n",
    "        type_dir = path_li[-3] #hp的type #需要改\n",
    "        assert type_dir in ['amun', 'cowrie', 'dionaea',  'glastopf']\n",
    "        isp_dir = path_li[-5] #isp名稱位置 #需要改\n",
    "        isp_dir = aliase_convert(isp_dir)\n",
    "        fileName = path_li[-1]\n",
    "        assert type_dir in fileName\n",
    "        assert date_dir.split('_')[-1] in fileName\n",
    "        assert '.tar.gz' in fileName\n",
    "        save_dir = '../../RAID5/'+'honeypot/'+date_dir+'/'+type_dir+'/'+isp_dir#要儲存的位置 #需要改\n",
    "        if not os.path.exists(save_dir):\n",
    "            os.makedirs(save_dir,exist_ok=True)        \n",
    "        try:\n",
    "            shutil.move(path,save_dir+'/')\n",
    "        except : #重複一模一樣的檔名\n",
    "            print(path)\n",
    "            ori = hashlib.md5(open(path,'rb').read()).hexdigest()\n",
    "            dest =  hashlib.md5(open(save_dir+'/'+fileName,'rb').read()).hexdigest()\n",
    "            if ori == dest: #真的一模一樣舊移除舊的\n",
    "                os.remove(path)\n",
    "            else: #不一樣舊都保留到新的位置去\n",
    "                print('_2 was created')\n",
    "                shutil.move(path,save_dir+'/'+fileName+'_2')\n",
    "    else:\n",
    "        print(\"WARNING!!Assertion failed, not pcap nor hp. :\",path)\n",
    "            "
   ]
  },
  {
   "cell_type": "code",
   "execution_count": 11,
   "metadata": {},
   "outputs": [],
   "source": [
    "def recursive_delete_if_empty(path):\n",
    "    \"\"\"Recursively delete empty directories; return True\n",
    "    if everything was deleted.\"\"\"\n",
    "\n",
    "    if not os.path.isdir(path):\n",
    "        # If you also want to delete some files like desktop.ini, check\n",
    "        # for that here, and return True if you delete them.\n",
    "        return False\n",
    "\n",
    "    # Note that the list comprehension here is necessary, a\n",
    "    # generator expression would shortcut and we don't want that!\n",
    "    if all([recursive_delete_if_empty(os.path.join(path, filename))\n",
    "            for filename in os.listdir(path)]):\n",
    "        # Either there was nothing here or it was all deleted\n",
    "        os.rmdir(path)\n",
    "        return True\n",
    "    else:\n",
    "        return False"
   ]
  },
  {
   "cell_type": "code",
   "execution_count": 12,
   "metadata": {},
   "outputs": [
    {
     "name": "stdout",
     "output_type": "stream",
     "text": [
      "False\n"
     ]
    }
   ],
   "source": [
    "one = recursive_delete_if_empty(rearrange_dir)\n",
    "# two = recursive_delete_if_empty(rearrange_dir+'0126_0208')\n",
    "# three = recursive_delete_if_empty(rearrange_dir+'1229_0112')\n",
    "print(one)#,two,three)"
   ]
  },
  {
   "cell_type": "markdown",
   "metadata": {},
   "source": [
    "### Mongodb log from  Mybook\n",
    "* 須先把rm -rf System\\ Volume\\ Information/ \\$RECYCLE.BIN/"
   ]
  },
  {
   "cell_type": "code",
   "execution_count": 32,
   "metadata": {},
   "outputs": [],
   "source": [
    "src_dir = rearrange_dir#'../RAID5/Mongodblog/'"
   ]
  },
  {
   "cell_type": "code",
   "execution_count": 33,
   "metadata": {},
   "outputs": [
    {
     "name": "stdout",
     "output_type": "stream",
     "text": [
      "7248\n"
     ]
    },
    {
     "data": {
      "text/plain": [
       "['../../RAID5/original_tmp_data/0405-0418/mongo/遠傳/glastopf/glastopf.files_2020-04-18.json',\n",
       " '../../RAID5/original_tmp_data/0405-0418/mongo/遠傳/glastopf/glastopf.files_2020-04-17.json',\n",
       " '../../RAID5/original_tmp_data/0405-0418/mongo/遠傳/glastopf/glastopf.files_2020-04-16.json',\n",
       " '../../RAID5/original_tmp_data/0405-0418/mongo/遠傳/glastopf/glastopf.files_2020-04-15.json',\n",
       " '../../RAID5/original_tmp_data/0405-0418/mongo/遠傳/glastopf/glastopf.files_2020-04-14.json',\n",
       " '../../RAID5/original_tmp_data/0405-0418/mongo/遠傳/glastopf/glastopf.files_2020-04-13.json',\n",
       " '../../RAID5/original_tmp_data/0405-0418/mongo/遠傳/glastopf/glastopf.files_2020-04-12.json',\n",
       " '../../RAID5/original_tmp_data/0405-0418/mongo/遠傳/glastopf/glastopf.files_2020-04-11.json',\n",
       " '../../RAID5/original_tmp_data/0405-0418/mongo/遠傳/glastopf/glastopf.files_2020-04-10.json',\n",
       " '../../RAID5/original_tmp_data/0405-0418/mongo/遠傳/glastopf/glastopf.files_2020-04-09.json',\n",
       " '../../RAID5/original_tmp_data/0405-0418/mongo/遠傳/glastopf/glastopf.files_2020-04-08.json',\n",
       " '../../RAID5/original_tmp_data/0405-0418/mongo/遠傳/glastopf/glastopf.files_2020-04-07.json',\n",
       " '../../RAID5/original_tmp_data/0405-0418/mongo/遠傳/glastopf/glastopf.files_2020-04-06.json',\n",
       " '../../RAID5/original_tmp_data/0405-0418/mongo/遠傳/glastopf/glastopf.files_2020-04-05.json',\n",
       " '../../RAID5/original_tmp_data/0405-0418/mongo/遠傳/glastopf/glastopf.files_2020-04-04.json',\n",
       " '../../RAID5/original_tmp_data/0405-0418/mongo/遠傳/glastopf/glastopf.files_2020-04-03.json',\n",
       " '../../RAID5/original_tmp_data/0405-0418/mongo/遠傳/glastopf/glastopf.files_2020-04-02.json',\n",
       " '../../RAID5/original_tmp_data/0405-0418/mongo/遠傳/glastopf/glastopf.files_2020-04-01.json',\n",
       " '../../RAID5/original_tmp_data/0405-0418/mongo/遠傳/glastopf/glastopf.files_2020-03-31.json',\n",
       " '../../RAID5/original_tmp_data/0405-0418/mongo/遠傳/glastopf/glastopf.files_2020-03-30.json',\n",
       " '../../RAID5/original_tmp_data/0405-0418/mongo/遠傳/glastopf/glastopf.files_2020-03-29.json',\n",
       " '../../RAID5/original_tmp_data/0405-0418/mongo/遠傳/glastopf/glastopf.files_2020-03-28.json',\n",
       " '../../RAID5/original_tmp_data/0405-0418/mongo/遠傳/glastopf/glastopf.files_2020-03-27.json',\n",
       " '../../RAID5/original_tmp_data/0405-0418/mongo/遠傳/glastopf/glastopf.files_2020-03-26.json',\n",
       " '../../RAID5/original_tmp_data/0405-0418/mongo/遠傳/glastopf/glastopf.files_2020-03-25.json',\n",
       " '../../RAID5/original_tmp_data/0405-0418/mongo/遠傳/glastopf/glastopf.files_2020-03-24.json',\n",
       " '../../RAID5/original_tmp_data/0405-0418/mongo/遠傳/glastopf/glastopf.files_2020-03-23.json',\n",
       " '../../RAID5/original_tmp_data/0405-0418/mongo/遠傳/glastopf/glastopf.files_2020-03-22.json',\n",
       " '../../RAID5/original_tmp_data/0405-0418/mongo/遠傳/glastopf/glastopf.files_2020-03-21.json',\n",
       " '../../RAID5/original_tmp_data/0405-0418/mongo/遠傳/glastopf/glastopf.files_2020-03-20.json',\n",
       " '../../RAID5/original_tmp_data/0405-0418/mongo/遠傳/glastopf/glastopf.files_2020-03-19.json',\n",
       " '../../RAID5/original_tmp_data/0405-0418/mongo/遠傳/glastopf/glastopf.files_2020-03-18.json',\n",
       " '../../RAID5/original_tmp_data/0405-0418/mongo/遠傳/glastopf/glastopf.files_2020-03-17.json',\n",
       " '../../RAID5/original_tmp_data/0405-0418/mongo/遠傳/glastopf/glastopf.files_2020-03-16.json',\n",
       " '../../RAID5/original_tmp_data/0405-0418/mongo/遠傳/glastopf/glastopf.files_2020-03-15.json',\n",
       " '../../RAID5/original_tmp_data/0405-0418/mongo/遠傳/glastopf/glastopf.files_2020-03-14.json',\n",
       " '../../RAID5/original_tmp_data/0405-0418/mongo/遠傳/glastopf/glastopf.files_2020-03-13.json',\n",
       " '../../RAID5/original_tmp_data/0405-0418/mongo/遠傳/glastopf/glastopf.files_2020-03-12.json',\n",
       " '../../RAID5/original_tmp_data/0405-0418/mongo/遠傳/glastopf/glastopf.files_2020-03-11.json',\n",
       " '../../RAID5/original_tmp_data/0405-0418/mongo/遠傳/glastopf/glastopf.files_2020-03-10.json',\n",
       " '../../RAID5/original_tmp_data/0405-0418/mongo/遠傳/glastopf/glastopf.files_2020-03-09.json',\n",
       " '../../RAID5/original_tmp_data/0405-0418/mongo/遠傳/glastopf/glastopf.files_2020-03-08.json',\n",
       " '../../RAID5/original_tmp_data/0405-0418/mongo/遠傳/glastopf/glastopf.files_2020-03-07.json',\n",
       " '../../RAID5/original_tmp_data/0405-0418/mongo/遠傳/glastopf/glastopf.files_2020-03-06.json',\n",
       " '../../RAID5/original_tmp_data/0405-0418/mongo/遠傳/glastopf/glastopf.files_2020-03-05.json',\n",
       " '../../RAID5/original_tmp_data/0405-0418/mongo/遠傳/glastopf/glastopf.files_2020-03-04.json',\n",
       " '../../RAID5/original_tmp_data/0405-0418/mongo/遠傳/glastopf/glastopf.files_2020-03-03.json',\n",
       " '../../RAID5/original_tmp_data/0405-0418/mongo/遠傳/glastopf/glastopf.files_2020-03-02.json',\n",
       " '../../RAID5/original_tmp_data/0405-0418/mongo/遠傳/glastopf/glastopf.files_2020-03-01.json',\n",
       " '../../RAID5/original_tmp_data/0405-0418/mongo/遠傳/glastopf/glastopf.files_2020-02-29.json',\n",
       " '../../RAID5/original_tmp_data/0405-0418/mongo/遠傳/glastopf/glastopf.files_2020-02-28.json',\n",
       " '../../RAID5/original_tmp_data/0405-0418/mongo/遠傳/glastopf/glastopf.files_2020-02-27.json',\n",
       " '../../RAID5/original_tmp_data/0405-0418/mongo/遠傳/glastopf/glastopf.files_2020-02-26.json',\n",
       " '../../RAID5/original_tmp_data/0405-0418/mongo/遠傳/glastopf/glastopf.files_2020-02-25.json',\n",
       " '../../RAID5/original_tmp_data/0405-0418/mongo/遠傳/glastopf/glastopf.files_2020-02-24.json',\n",
       " '../../RAID5/original_tmp_data/0405-0418/mongo/遠傳/glastopf/glastopf.files_2020-02-23.json',\n",
       " '../../RAID5/original_tmp_data/0405-0418/mongo/遠傳/glastopf/glastopf.files_2020-02-22.json',\n",
       " '../../RAID5/original_tmp_data/0405-0418/mongo/遠傳/glastopf/glastopf.files_2020-02-21.json',\n",
       " '../../RAID5/original_tmp_data/0405-0418/mongo/遠傳/glastopf/glastopf.files_2020-02-20.json',\n",
       " '../../RAID5/original_tmp_data/0405-0418/mongo/遠傳/glastopf/glastopf.files_2020-02-19.json',\n",
       " '../../RAID5/original_tmp_data/0405-0418/mongo/遠傳/glastopf/glastopf.files_2020-02-18.json',\n",
       " '../../RAID5/original_tmp_data/0405-0418/mongo/遠傳/glastopf/glastopf.files_2020-02-17.json',\n",
       " '../../RAID5/original_tmp_data/0405-0418/mongo/遠傳/glastopf/glastopf.files_2020-02-16.json',\n",
       " '../../RAID5/original_tmp_data/0405-0418/mongo/遠傳/glastopf/glastopf.files_2020-02-15.json',\n",
       " '../../RAID5/original_tmp_data/0405-0418/mongo/遠傳/glastopf/glastopf.files_2020-02-14.json',\n",
       " '../../RAID5/original_tmp_data/0405-0418/mongo/遠傳/glastopf/glastopf.files_2020-02-13.json',\n",
       " '../../RAID5/original_tmp_data/0405-0418/mongo/遠傳/glastopf/glastopf.files_2020-02-12.json',\n",
       " '../../RAID5/original_tmp_data/0405-0418/mongo/遠傳/glastopf/glastopf.files_2020-02-11.json',\n",
       " '../../RAID5/original_tmp_data/0405-0418/mongo/遠傳/glastopf/glastopf.files_2020-02-10.json',\n",
       " '../../RAID5/original_tmp_data/0405-0418/mongo/遠傳/glastopf/glastopf.files_2020-02-09.json',\n",
       " '../../RAID5/original_tmp_data/0405-0418/mongo/遠傳/glastopf/glastopf.files_2020-02-08.json',\n",
       " '../../RAID5/original_tmp_data/0405-0418/mongo/遠傳/glastopf/glastopf.files_2020-02-07.json',\n",
       " '../../RAID5/original_tmp_data/0405-0418/mongo/遠傳/glastopf/glastopf.files_2020-02-06.json',\n",
       " '../../RAID5/original_tmp_data/0405-0418/mongo/遠傳/glastopf/glastopf.files_2020-02-05.json',\n",
       " '../../RAID5/original_tmp_data/0405-0418/mongo/遠傳/glastopf/glastopf.files_2020-02-04.json',\n",
       " '../../RAID5/original_tmp_data/0405-0418/mongo/遠傳/glastopf/glastopf.files_2020-02-03.json',\n",
       " '../../RAID5/original_tmp_data/0405-0418/mongo/遠傳/glastopf/glastopf.files_2020-02-02.json',\n",
       " '../../RAID5/original_tmp_data/0405-0418/mongo/遠傳/glastopf/glastopf.files_2020-02-01.json',\n",
       " '../../RAID5/original_tmp_data/0405-0418/mongo/遠傳/glastopf/glastopf.files_2020-01-31.json',\n",
       " '../../RAID5/original_tmp_data/0405-0418/mongo/遠傳/glastopf/glastopf.files_2020-01-30.json',\n",
       " '../../RAID5/original_tmp_data/0405-0418/mongo/遠傳/glastopf/glastopf.files_2020-01-29.json',\n",
       " '../../RAID5/original_tmp_data/0405-0418/mongo/遠傳/glastopf/glastopf.files_2020-01-28.json',\n",
       " '../../RAID5/original_tmp_data/0405-0418/mongo/遠傳/glastopf/glastopf.files_2020-01-27.json',\n",
       " '../../RAID5/original_tmp_data/0405-0418/mongo/遠傳/glastopf/glastopf.files_2020-01-26.json',\n",
       " '../../RAID5/original_tmp_data/0405-0418/mongo/遠傳/glastopf/glastopf.files_2020-01-25.json',\n",
       " '../../RAID5/original_tmp_data/0405-0418/mongo/遠傳/glastopf/glastopf.files_2020-01-24.json',\n",
       " '../../RAID5/original_tmp_data/0405-0418/mongo/遠傳/glastopf/glastopf.files_2020-01-23.json',\n",
       " '../../RAID5/original_tmp_data/0405-0418/mongo/遠傳/glastopf/glastopf.files_2020-01-22.json',\n",
       " '../../RAID5/original_tmp_data/0405-0418/mongo/遠傳/glastopf/glastopf.files_2020-01-21.json',\n",
       " '../../RAID5/original_tmp_data/0405-0418/mongo/遠傳/glastopf/glastopf.files_2020-01-20.json',\n",
       " '../../RAID5/original_tmp_data/0405-0418/mongo/遠傳/glastopf/glastopf.files_2020-01-19.json',\n",
       " '../../RAID5/original_tmp_data/0405-0418/mongo/遠傳/glastopf/glastopf.files_2020-01-18.json',\n",
       " '../../RAID5/original_tmp_data/0405-0418/mongo/遠傳/glastopf/glastopf.files_2020-01-17.json',\n",
       " '../../RAID5/original_tmp_data/0405-0418/mongo/遠傳/glastopf/glastopf.files_2020-01-16.json',\n",
       " '../../RAID5/original_tmp_data/0405-0418/mongo/遠傳/glastopf/glastopf.files_2020-01-15.json',\n",
       " '../../RAID5/original_tmp_data/0405-0418/mongo/遠傳/glastopf/glastopf.files_2020-01-14.json',\n",
       " '../../RAID5/original_tmp_data/0405-0418/mongo/遠傳/glastopf/glastopf.files_2020-01-13.json',\n",
       " '../../RAID5/original_tmp_data/0405-0418/mongo/遠傳/glastopf/glastopf.files_2020-01-12.json',\n",
       " '../../RAID5/original_tmp_data/0405-0418/mongo/遠傳/glastopf/glastopf.files_2020-01-11.json',\n",
       " '../../RAID5/original_tmp_data/0405-0418/mongo/遠傳/glastopf/glastopf.events_2020-04-18.json',\n",
       " '../../RAID5/original_tmp_data/0405-0418/mongo/遠傳/glastopf/glastopf.events_2020-04-17.json',\n",
       " '../../RAID5/original_tmp_data/0405-0418/mongo/遠傳/glastopf/glastopf.events_2020-04-16.json',\n",
       " '../../RAID5/original_tmp_data/0405-0418/mongo/遠傳/glastopf/glastopf.events_2020-04-15.json',\n",
       " '../../RAID5/original_tmp_data/0405-0418/mongo/遠傳/glastopf/glastopf.events_2020-04-14.json',\n",
       " '../../RAID5/original_tmp_data/0405-0418/mongo/遠傳/glastopf/glastopf.events_2020-04-13.json',\n",
       " '../../RAID5/original_tmp_data/0405-0418/mongo/遠傳/glastopf/glastopf.events_2020-04-12.json',\n",
       " '../../RAID5/original_tmp_data/0405-0418/mongo/遠傳/glastopf/glastopf.events_2020-04-11.json',\n",
       " '../../RAID5/original_tmp_data/0405-0418/mongo/遠傳/glastopf/glastopf.events_2020-04-10.json',\n",
       " '../../RAID5/original_tmp_data/0405-0418/mongo/遠傳/glastopf/glastopf.events_2020-04-09.json',\n",
       " '../../RAID5/original_tmp_data/0405-0418/mongo/遠傳/glastopf/glastopf.events_2020-04-08.json',\n",
       " '../../RAID5/original_tmp_data/0405-0418/mongo/遠傳/glastopf/glastopf.events_2020-04-07.json',\n",
       " '../../RAID5/original_tmp_data/0405-0418/mongo/遠傳/glastopf/glastopf.events_2020-04-06.json',\n",
       " '../../RAID5/original_tmp_data/0405-0418/mongo/遠傳/glastopf/glastopf.events_2020-04-05.json',\n",
       " '../../RAID5/original_tmp_data/0405-0418/mongo/遠傳/glastopf/glastopf.events_2020-04-04.json',\n",
       " '../../RAID5/original_tmp_data/0405-0418/mongo/遠傳/glastopf/glastopf.events_2020-04-03.json',\n",
       " '../../RAID5/original_tmp_data/0405-0418/mongo/遠傳/glastopf/glastopf.events_2020-04-02.json',\n",
       " '../../RAID5/original_tmp_data/0405-0418/mongo/遠傳/glastopf/glastopf.events_2020-04-01.json',\n",
       " '../../RAID5/original_tmp_data/0405-0418/mongo/遠傳/glastopf/glastopf.events_2020-03-31.json',\n",
       " '../../RAID5/original_tmp_data/0405-0418/mongo/遠傳/glastopf/glastopf.events_2020-03-30.json',\n",
       " '../../RAID5/original_tmp_data/0405-0418/mongo/遠傳/glastopf/glastopf.events_2020-03-29.json',\n",
       " '../../RAID5/original_tmp_data/0405-0418/mongo/遠傳/glastopf/glastopf.events_2020-03-28.json',\n",
       " '../../RAID5/original_tmp_data/0405-0418/mongo/遠傳/glastopf/glastopf.events_2020-03-27.json',\n",
       " '../../RAID5/original_tmp_data/0405-0418/mongo/遠傳/glastopf/glastopf.events_2020-03-26.json',\n",
       " '../../RAID5/original_tmp_data/0405-0418/mongo/遠傳/glastopf/glastopf.events_2020-03-25.json',\n",
       " '../../RAID5/original_tmp_data/0405-0418/mongo/遠傳/glastopf/glastopf.events_2020-03-24.json',\n",
       " '../../RAID5/original_tmp_data/0405-0418/mongo/遠傳/glastopf/glastopf.events_2020-03-23.json',\n",
       " '../../RAID5/original_tmp_data/0405-0418/mongo/遠傳/glastopf/glastopf.events_2020-03-22.json',\n",
       " '../../RAID5/original_tmp_data/0405-0418/mongo/遠傳/glastopf/glastopf.events_2020-03-21.json',\n",
       " '../../RAID5/original_tmp_data/0405-0418/mongo/遠傳/glastopf/glastopf.events_2020-03-20.json',\n",
       " '../../RAID5/original_tmp_data/0405-0418/mongo/遠傳/glastopf/glastopf.events_2020-03-19.json',\n",
       " '../../RAID5/original_tmp_data/0405-0418/mongo/遠傳/glastopf/glastopf.events_2020-03-18.json',\n",
       " '../../RAID5/original_tmp_data/0405-0418/mongo/遠傳/glastopf/glastopf.events_2020-03-17.json',\n",
       " '../../RAID5/original_tmp_data/0405-0418/mongo/遠傳/glastopf/glastopf.events_2020-03-16.json',\n",
       " '../../RAID5/original_tmp_data/0405-0418/mongo/遠傳/glastopf/glastopf.events_2020-03-15.json',\n",
       " '../../RAID5/original_tmp_data/0405-0418/mongo/遠傳/glastopf/glastopf.events_2020-03-14.json',\n",
       " '../../RAID5/original_tmp_data/0405-0418/mongo/遠傳/glastopf/glastopf.events_2020-03-13.json',\n",
       " '../../RAID5/original_tmp_data/0405-0418/mongo/遠傳/glastopf/glastopf.events_2020-03-12.json',\n",
       " '../../RAID5/original_tmp_data/0405-0418/mongo/遠傳/glastopf/glastopf.events_2020-03-11.json',\n",
       " '../../RAID5/original_tmp_data/0405-0418/mongo/遠傳/glastopf/glastopf.events_2020-03-10.json',\n",
       " '../../RAID5/original_tmp_data/0405-0418/mongo/遠傳/glastopf/glastopf.events_2020-03-09.json',\n",
       " '../../RAID5/original_tmp_data/0405-0418/mongo/遠傳/glastopf/glastopf.events_2020-03-08.json',\n",
       " '../../RAID5/original_tmp_data/0405-0418/mongo/遠傳/glastopf/glastopf.events_2020-03-07.json',\n",
       " '../../RAID5/original_tmp_data/0405-0418/mongo/遠傳/glastopf/glastopf.events_2020-03-06.json',\n",
       " '../../RAID5/original_tmp_data/0405-0418/mongo/遠傳/glastopf/glastopf.events_2020-03-05.json',\n",
       " '../../RAID5/original_tmp_data/0405-0418/mongo/遠傳/glastopf/glastopf.events_2020-03-04.json',\n",
       " '../../RAID5/original_tmp_data/0405-0418/mongo/遠傳/glastopf/glastopf.events_2020-03-03.json',\n",
       " '../../RAID5/original_tmp_data/0405-0418/mongo/遠傳/glastopf/glastopf.events_2020-03-02.json',\n",
       " '../../RAID5/original_tmp_data/0405-0418/mongo/遠傳/glastopf/glastopf.events_2020-03-01.json',\n",
       " '../../RAID5/original_tmp_data/0405-0418/mongo/遠傳/glastopf/glastopf.events_2020-02-29.json',\n",
       " '../../RAID5/original_tmp_data/0405-0418/mongo/遠傳/glastopf/glastopf.events_2020-02-28.json',\n",
       " '../../RAID5/original_tmp_data/0405-0418/mongo/遠傳/glastopf/glastopf.events_2020-02-27.json',\n",
       " '../../RAID5/original_tmp_data/0405-0418/mongo/遠傳/glastopf/glastopf.events_2020-02-26.json',\n",
       " '../../RAID5/original_tmp_data/0405-0418/mongo/遠傳/glastopf/glastopf.events_2020-02-25.json',\n",
       " '../../RAID5/original_tmp_data/0405-0418/mongo/遠傳/glastopf/glastopf.events_2020-02-24.json',\n",
       " '../../RAID5/original_tmp_data/0405-0418/mongo/遠傳/glastopf/glastopf.events_2020-02-23.json',\n",
       " '../../RAID5/original_tmp_data/0405-0418/mongo/遠傳/glastopf/glastopf.events_2020-02-22.json',\n",
       " '../../RAID5/original_tmp_data/0405-0418/mongo/遠傳/glastopf/glastopf.events_2020-02-21.json',\n",
       " '../../RAID5/original_tmp_data/0405-0418/mongo/遠傳/glastopf/glastopf.events_2020-02-20.json',\n",
       " '../../RAID5/original_tmp_data/0405-0418/mongo/遠傳/glastopf/glastopf.events_2020-02-19.json',\n",
       " '../../RAID5/original_tmp_data/0405-0418/mongo/遠傳/glastopf/glastopf.events_2020-02-18.json',\n",
       " '../../RAID5/original_tmp_data/0405-0418/mongo/遠傳/glastopf/glastopf.events_2020-02-17.json',\n",
       " '../../RAID5/original_tmp_data/0405-0418/mongo/遠傳/glastopf/glastopf.events_2020-02-16.json',\n",
       " '../../RAID5/original_tmp_data/0405-0418/mongo/遠傳/glastopf/glastopf.events_2020-02-15.json',\n",
       " '../../RAID5/original_tmp_data/0405-0418/mongo/遠傳/glastopf/glastopf.events_2020-02-14.json',\n",
       " '../../RAID5/original_tmp_data/0405-0418/mongo/遠傳/glastopf/glastopf.events_2020-02-13.json',\n",
       " '../../RAID5/original_tmp_data/0405-0418/mongo/遠傳/glastopf/glastopf.events_2020-02-12.json',\n",
       " '../../RAID5/original_tmp_data/0405-0418/mongo/遠傳/glastopf/glastopf.events_2020-02-11.json',\n",
       " '../../RAID5/original_tmp_data/0405-0418/mongo/遠傳/glastopf/glastopf.events_2020-02-10.json',\n",
       " '../../RAID5/original_tmp_data/0405-0418/mongo/遠傳/glastopf/glastopf.events_2020-02-09.json',\n",
       " '../../RAID5/original_tmp_data/0405-0418/mongo/遠傳/glastopf/glastopf.events_2020-02-08.json',\n",
       " '../../RAID5/original_tmp_data/0405-0418/mongo/遠傳/glastopf/glastopf.events_2020-02-07.json',\n",
       " '../../RAID5/original_tmp_data/0405-0418/mongo/遠傳/glastopf/glastopf.events_2020-02-06.json',\n",
       " '../../RAID5/original_tmp_data/0405-0418/mongo/遠傳/glastopf/glastopf.events_2020-02-05.json',\n",
       " '../../RAID5/original_tmp_data/0405-0418/mongo/遠傳/glastopf/glastopf.events_2020-02-04.json',\n",
       " '../../RAID5/original_tmp_data/0405-0418/mongo/遠傳/glastopf/glastopf.events_2020-02-03.json',\n",
       " '../../RAID5/original_tmp_data/0405-0418/mongo/遠傳/glastopf/glastopf.events_2020-02-02.json',\n",
       " '../../RAID5/original_tmp_data/0405-0418/mongo/遠傳/glastopf/glastopf.events_2020-02-01.json',\n",
       " '../../RAID5/original_tmp_data/0405-0418/mongo/遠傳/glastopf/glastopf.events_2020-01-31.json',\n",
       " '../../RAID5/original_tmp_data/0405-0418/mongo/遠傳/glastopf/glastopf.events_2020-01-30.json',\n",
       " '../../RAID5/original_tmp_data/0405-0418/mongo/遠傳/glastopf/glastopf.events_2020-01-29.json',\n",
       " '../../RAID5/original_tmp_data/0405-0418/mongo/遠傳/glastopf/glastopf.events_2020-01-28.json',\n",
       " '../../RAID5/original_tmp_data/0405-0418/mongo/遠傳/glastopf/glastopf.events_2020-01-27.json',\n",
       " '../../RAID5/original_tmp_data/0405-0418/mongo/遠傳/glastopf/glastopf.events_2020-01-26.json',\n",
       " '../../RAID5/original_tmp_data/0405-0418/mongo/遠傳/glastopf/glastopf.events_2020-01-25.json',\n",
       " '../../RAID5/original_tmp_data/0405-0418/mongo/遠傳/glastopf/glastopf.events_2020-01-24.json',\n",
       " '../../RAID5/original_tmp_data/0405-0418/mongo/遠傳/glastopf/glastopf.events_2020-01-23.json',\n",
       " '../../RAID5/original_tmp_data/0405-0418/mongo/遠傳/glastopf/glastopf.events_2020-01-22.json',\n",
       " '../../RAID5/original_tmp_data/0405-0418/mongo/遠傳/glastopf/glastopf.events_2020-01-21.json',\n",
       " '../../RAID5/original_tmp_data/0405-0418/mongo/遠傳/glastopf/glastopf.events_2020-01-20.json',\n",
       " '../../RAID5/original_tmp_data/0405-0418/mongo/遠傳/glastopf/glastopf.events_2020-01-19.json',\n",
       " '../../RAID5/original_tmp_data/0405-0418/mongo/遠傳/glastopf/glastopf.events_2020-01-18.json',\n",
       " '../../RAID5/original_tmp_data/0405-0418/mongo/遠傳/glastopf/glastopf.events_2020-01-17.json',\n",
       " '../../RAID5/original_tmp_data/0405-0418/mongo/遠傳/glastopf/glastopf.events_2020-01-16.json',\n",
       " '../../RAID5/original_tmp_data/0405-0418/mongo/遠傳/glastopf/glastopf.events_2020-01-15.json',\n",
       " '../../RAID5/original_tmp_data/0405-0418/mongo/遠傳/glastopf/glastopf.events_2020-01-14.json',\n",
       " '../../RAID5/original_tmp_data/0405-0418/mongo/遠傳/glastopf/glastopf.events_2020-01-13.json',\n",
       " '../../RAID5/original_tmp_data/0405-0418/mongo/遠傳/glastopf/glastopf.events_2020-01-12.json',\n",
       " '../../RAID5/original_tmp_data/0405-0418/mongo/遠傳/glastopf/glastopf.events_2020-01-11.json',\n",
       " '../../RAID5/original_tmp_data/0405-0418/mongo/遠傳/glastopf/glastopf.files_2020-01-10.json',\n",
       " '../../RAID5/original_tmp_data/0405-0418/mongo/遠傳/glastopf/glastopf.files_2020-01-09.json',\n",
       " '../../RAID5/original_tmp_data/0405-0418/mongo/遠傳/glastopf/glastopf.files_2020-01-08.json',\n",
       " '../../RAID5/original_tmp_data/0405-0418/mongo/遠傳/glastopf/glastopf.files_2020-01-07.json',\n",
       " '../../RAID5/original_tmp_data/0405-0418/mongo/遠傳/glastopf/glastopf.files_2020-01-06.json',\n",
       " '../../RAID5/original_tmp_data/0405-0418/mongo/遠傳/glastopf/glastopf.files_2020-01-05.json',\n",
       " '../../RAID5/original_tmp_data/0405-0418/mongo/遠傳/glastopf/glastopf.files_2020-01-04.json',\n",
       " '../../RAID5/original_tmp_data/0405-0418/mongo/遠傳/glastopf/glastopf.files_2020-01-03.json',\n",
       " '../../RAID5/original_tmp_data/0405-0418/mongo/遠傳/glastopf/glastopf.files_2020-01-02.json',\n",
       " '../../RAID5/original_tmp_data/0405-0418/mongo/遠傳/glastopf/glastopf.files_2020-01-01.json',\n",
       " '../../RAID5/original_tmp_data/0405-0418/mongo/遠傳/glastopf/glastopf.files_2019-12-31.json',\n",
       " '../../RAID5/original_tmp_data/0405-0418/mongo/遠傳/glastopf/glastopf.files_2019-12-30.json',\n",
       " '../../RAID5/original_tmp_data/0405-0418/mongo/遠傳/glastopf/glastopf.files_2019-12-29.json',\n",
       " '../../RAID5/original_tmp_data/0405-0418/mongo/遠傳/glastopf/glastopf.events_2020-01-07.json',\n",
       " '../../RAID5/original_tmp_data/0405-0418/mongo/遠傳/glastopf/glastopf.events_2020-01-08.json',\n",
       " '../../RAID5/original_tmp_data/0405-0418/mongo/遠傳/glastopf/glastopf.events_2020-01-09.json',\n",
       " '../../RAID5/original_tmp_data/0405-0418/mongo/遠傳/glastopf/glastopf.events_2020-01-01.json',\n",
       " '../../RAID5/original_tmp_data/0405-0418/mongo/遠傳/glastopf/glastopf.events_2020-01-02.json',\n",
       " '../../RAID5/original_tmp_data/0405-0418/mongo/遠傳/glastopf/glastopf.events_2020-01-03.json',\n",
       " '../../RAID5/original_tmp_data/0405-0418/mongo/遠傳/glastopf/glastopf.events_2020-01-06.json',\n",
       " '../../RAID5/original_tmp_data/0405-0418/mongo/遠傳/glastopf/glastopf.events_2019-12-31.json',\n",
       " '../../RAID5/original_tmp_data/0405-0418/mongo/遠傳/glastopf/glastopf.events_2020-01-10.json',\n",
       " '../../RAID5/original_tmp_data/0405-0418/mongo/遠傳/glastopf/glastopf.events_2019-12-29.json',\n",
       " '../../RAID5/original_tmp_data/0405-0418/mongo/遠傳/glastopf/glastopf.events_2020-01-05.json',\n",
       " '../../RAID5/original_tmp_data/0405-0418/mongo/遠傳/glastopf/glastopf.events_2019-12-30.json',\n",
       " '../../RAID5/original_tmp_data/0405-0418/mongo/遠傳/glastopf/glastopf.events_2020-01-04.json',\n",
       " '../../RAID5/original_tmp_data/0405-0418/mongo/遠傳/dionaea/dionaea.connections_2020-04-18.json',\n",
       " '../../RAID5/original_tmp_data/0405-0418/mongo/遠傳/dionaea/dionaea.connections_2020-04-17.json',\n",
       " '../../RAID5/original_tmp_data/0405-0418/mongo/遠傳/dionaea/dionaea.connections_2020-04-16.json',\n",
       " '../../RAID5/original_tmp_data/0405-0418/mongo/遠傳/dionaea/dionaea.connections_2020-04-15.json',\n",
       " '../../RAID5/original_tmp_data/0405-0418/mongo/遠傳/dionaea/dionaea.connections_2020-04-14.json',\n",
       " '../../RAID5/original_tmp_data/0405-0418/mongo/遠傳/dionaea/dionaea.connections_2020-04-13.json',\n",
       " '../../RAID5/original_tmp_data/0405-0418/mongo/遠傳/dionaea/dionaea.connections_2020-04-12.json',\n",
       " '../../RAID5/original_tmp_data/0405-0418/mongo/遠傳/dionaea/dionaea.connections_2020-04-11.json',\n",
       " '../../RAID5/original_tmp_data/0405-0418/mongo/遠傳/dionaea/dionaea.connections_2020-04-10.json',\n",
       " '../../RAID5/original_tmp_data/0405-0418/mongo/遠傳/dionaea/dionaea.connections_2020-04-09.json',\n",
       " '../../RAID5/original_tmp_data/0405-0418/mongo/遠傳/dionaea/dionaea.connections_2020-04-08.json',\n",
       " '../../RAID5/original_tmp_data/0405-0418/mongo/遠傳/dionaea/dionaea.connections_2020-04-07.json',\n",
       " '../../RAID5/original_tmp_data/0405-0418/mongo/遠傳/dionaea/dionaea.connections_2020-04-06.json',\n",
       " '../../RAID5/original_tmp_data/0405-0418/mongo/遠傳/dionaea/dionaea.connections_2020-04-05.json',\n",
       " '../../RAID5/original_tmp_data/0405-0418/mongo/遠傳/dionaea/dionaea.connections_2020-04-04.json',\n",
       " '../../RAID5/original_tmp_data/0405-0418/mongo/遠傳/dionaea/dionaea.connections_2020-04-03.json',\n",
       " '../../RAID5/original_tmp_data/0405-0418/mongo/遠傳/dionaea/dionaea.connections_2020-04-02.json',\n",
       " '../../RAID5/original_tmp_data/0405-0418/mongo/遠傳/dionaea/dionaea.connections_2020-04-01.json',\n",
       " '../../RAID5/original_tmp_data/0405-0418/mongo/遠傳/dionaea/dionaea.connections_2020-03-31.json',\n",
       " '../../RAID5/original_tmp_data/0405-0418/mongo/遠傳/dionaea/dionaea.connections_2020-03-30.json',\n",
       " '../../RAID5/original_tmp_data/0405-0418/mongo/遠傳/dionaea/dionaea.connections_2020-03-29.json',\n",
       " '../../RAID5/original_tmp_data/0405-0418/mongo/遠傳/dionaea/dionaea.connections_2020-03-28.json',\n",
       " '../../RAID5/original_tmp_data/0405-0418/mongo/遠傳/dionaea/dionaea.connections_2020-03-27.json',\n",
       " '../../RAID5/original_tmp_data/0405-0418/mongo/遠傳/dionaea/dionaea.connections_2020-03-26.json',\n",
       " '../../RAID5/original_tmp_data/0405-0418/mongo/遠傳/dionaea/dionaea.connections_2020-03-25.json',\n",
       " '../../RAID5/original_tmp_data/0405-0418/mongo/遠傳/dionaea/dionaea.connections_2020-03-24.json',\n",
       " '../../RAID5/original_tmp_data/0405-0418/mongo/遠傳/dionaea/dionaea.connections_2020-03-23.json',\n",
       " '../../RAID5/original_tmp_data/0405-0418/mongo/遠傳/dionaea/dionaea.connections_2020-03-22.json',\n",
       " '../../RAID5/original_tmp_data/0405-0418/mongo/遠傳/dionaea/dionaea.connections_2020-03-21.json',\n",
       " '../../RAID5/original_tmp_data/0405-0418/mongo/遠傳/dionaea/dionaea.connections_2020-03-20.json',\n",
       " '../../RAID5/original_tmp_data/0405-0418/mongo/遠傳/dionaea/dionaea.connections_2020-03-19.json',\n",
       " '../../RAID5/original_tmp_data/0405-0418/mongo/遠傳/dionaea/dionaea.connections_2020-03-18.json',\n",
       " '../../RAID5/original_tmp_data/0405-0418/mongo/遠傳/dionaea/dionaea.connections_2020-03-17.json',\n",
       " '../../RAID5/original_tmp_data/0405-0418/mongo/遠傳/dionaea/dionaea.connections_2020-03-16.json',\n",
       " '../../RAID5/original_tmp_data/0405-0418/mongo/遠傳/dionaea/dionaea.connections_2020-03-15.json',\n",
       " '../../RAID5/original_tmp_data/0405-0418/mongo/遠傳/dionaea/dionaea.connections_2020-03-14.json',\n",
       " '../../RAID5/original_tmp_data/0405-0418/mongo/遠傳/dionaea/dionaea.connections_2020-03-13.json',\n",
       " '../../RAID5/original_tmp_data/0405-0418/mongo/遠傳/dionaea/dionaea.connections_2020-03-12.json',\n",
       " '../../RAID5/original_tmp_data/0405-0418/mongo/遠傳/dionaea/dionaea.connections_2020-03-11.json',\n",
       " '../../RAID5/original_tmp_data/0405-0418/mongo/遠傳/dionaea/dionaea.connections_2020-03-10.json',\n",
       " '../../RAID5/original_tmp_data/0405-0418/mongo/遠傳/dionaea/dionaea.connections_2020-03-09.json',\n",
       " '../../RAID5/original_tmp_data/0405-0418/mongo/遠傳/dionaea/dionaea.connections_2020-03-08.json',\n",
       " '../../RAID5/original_tmp_data/0405-0418/mongo/遠傳/dionaea/dionaea.connections_2020-03-07.json',\n",
       " '../../RAID5/original_tmp_data/0405-0418/mongo/遠傳/dionaea/dionaea.connections_2020-03-06.json',\n",
       " '../../RAID5/original_tmp_data/0405-0418/mongo/遠傳/dionaea/dionaea.connections_2020-03-05.json',\n",
       " '../../RAID5/original_tmp_data/0405-0418/mongo/遠傳/dionaea/dionaea.connections_2020-03-04.json',\n",
       " '../../RAID5/original_tmp_data/0405-0418/mongo/遠傳/dionaea/dionaea.connections_2020-03-03.json',\n",
       " '../../RAID5/original_tmp_data/0405-0418/mongo/遠傳/dionaea/dionaea.connections_2020-03-02.json',\n",
       " '../../RAID5/original_tmp_data/0405-0418/mongo/遠傳/dionaea/dionaea.connections_2020-03-01.json',\n",
       " '../../RAID5/original_tmp_data/0405-0418/mongo/遠傳/dionaea/dionaea.connections_2020-02-29.json',\n",
       " '../../RAID5/original_tmp_data/0405-0418/mongo/遠傳/dionaea/dionaea.connections_2020-02-28.json',\n",
       " '../../RAID5/original_tmp_data/0405-0418/mongo/遠傳/dionaea/dionaea.connections_2020-02-27.json',\n",
       " '../../RAID5/original_tmp_data/0405-0418/mongo/遠傳/dionaea/dionaea.connections_2020-02-26.json',\n",
       " '../../RAID5/original_tmp_data/0405-0418/mongo/遠傳/dionaea/dionaea.connections_2020-02-25.json',\n",
       " '../../RAID5/original_tmp_data/0405-0418/mongo/遠傳/dionaea/dionaea.connections_2020-02-24.json',\n",
       " '../../RAID5/original_tmp_data/0405-0418/mongo/遠傳/dionaea/dionaea.connections_2020-02-23.json',\n",
       " '../../RAID5/original_tmp_data/0405-0418/mongo/遠傳/dionaea/dionaea.connections_2020-02-22.json',\n",
       " '../../RAID5/original_tmp_data/0405-0418/mongo/遠傳/dionaea/dionaea.connections_2020-02-21.json',\n",
       " '../../RAID5/original_tmp_data/0405-0418/mongo/遠傳/dionaea/dionaea.connections_2020-02-20.json',\n",
       " '../../RAID5/original_tmp_data/0405-0418/mongo/遠傳/dionaea/dionaea.connections_2020-02-19.json',\n",
       " '../../RAID5/original_tmp_data/0405-0418/mongo/遠傳/dionaea/dionaea.connections_2020-02-18.json',\n",
       " '../../RAID5/original_tmp_data/0405-0418/mongo/遠傳/dionaea/dionaea.connections_2020-02-17.json',\n",
       " '../../RAID5/original_tmp_data/0405-0418/mongo/遠傳/dionaea/dionaea.connections_2020-02-16.json',\n",
       " '../../RAID5/original_tmp_data/0405-0418/mongo/遠傳/dionaea/dionaea.connections_2020-02-15.json',\n",
       " '../../RAID5/original_tmp_data/0405-0418/mongo/遠傳/dionaea/dionaea.connections_2020-02-14.json',\n",
       " '../../RAID5/original_tmp_data/0405-0418/mongo/遠傳/dionaea/dionaea.connections_2020-02-13.json',\n",
       " '../../RAID5/original_tmp_data/0405-0418/mongo/遠傳/dionaea/dionaea.connections_2020-02-12.json',\n",
       " '../../RAID5/original_tmp_data/0405-0418/mongo/遠傳/dionaea/dionaea.connections_2020-02-11.json',\n",
       " '../../RAID5/original_tmp_data/0405-0418/mongo/遠傳/dionaea/dionaea.connections_2020-02-10.json',\n",
       " '../../RAID5/original_tmp_data/0405-0418/mongo/遠傳/dionaea/dionaea.connections_2020-02-09.json',\n",
       " '../../RAID5/original_tmp_data/0405-0418/mongo/遠傳/dionaea/dionaea.connections_2020-02-08.json',\n",
       " '../../RAID5/original_tmp_data/0405-0418/mongo/遠傳/dionaea/dionaea.connections_2020-02-07.json',\n",
       " '../../RAID5/original_tmp_data/0405-0418/mongo/遠傳/dionaea/dionaea.connections_2020-02-06.json',\n",
       " '../../RAID5/original_tmp_data/0405-0418/mongo/遠傳/dionaea/dionaea.connections_2020-02-05.json',\n",
       " '../../RAID5/original_tmp_data/0405-0418/mongo/遠傳/dionaea/dionaea.connections_2020-02-04.json',\n",
       " '../../RAID5/original_tmp_data/0405-0418/mongo/遠傳/dionaea/dionaea.connections_2020-02-03.json',\n",
       " '../../RAID5/original_tmp_data/0405-0418/mongo/遠傳/dionaea/dionaea.connections_2020-02-02.json',\n",
       " '../../RAID5/original_tmp_data/0405-0418/mongo/遠傳/dionaea/dionaea.connections_2020-02-01.json',\n",
       " '../../RAID5/original_tmp_data/0405-0418/mongo/遠傳/dionaea/dionaea.connections_2020-01-31.json',\n",
       " '../../RAID5/original_tmp_data/0405-0418/mongo/遠傳/dionaea/dionaea.connections_2020-01-30.json',\n",
       " '../../RAID5/original_tmp_data/0405-0418/mongo/遠傳/dionaea/dionaea.connections_2020-01-29.json',\n",
       " '../../RAID5/original_tmp_data/0405-0418/mongo/遠傳/dionaea/dionaea.connections_2020-01-28.json',\n",
       " '../../RAID5/original_tmp_data/0405-0418/mongo/遠傳/dionaea/dionaea.connections_2020-01-27.json',\n",
       " '../../RAID5/original_tmp_data/0405-0418/mongo/遠傳/dionaea/dionaea.connections_2020-01-26.json',\n",
       " '../../RAID5/original_tmp_data/0405-0418/mongo/遠傳/dionaea/dionaea.connections_2020-01-25.json',\n",
       " '../../RAID5/original_tmp_data/0405-0418/mongo/遠傳/dionaea/dionaea.connections_2020-01-24.json',\n",
       " '../../RAID5/original_tmp_data/0405-0418/mongo/遠傳/dionaea/dionaea.connections_2020-01-23.json',\n",
       " '../../RAID5/original_tmp_data/0405-0418/mongo/遠傳/dionaea/dionaea.connections_2020-01-22.json',\n",
       " '../../RAID5/original_tmp_data/0405-0418/mongo/遠傳/dionaea/dionaea.connections_2020-01-21.json',\n",
       " '../../RAID5/original_tmp_data/0405-0418/mongo/遠傳/dionaea/dionaea.connections_2020-01-20.json',\n",
       " '../../RAID5/original_tmp_data/0405-0418/mongo/遠傳/dionaea/dionaea.connections_2020-01-19.json',\n",
       " '../../RAID5/original_tmp_data/0405-0418/mongo/遠傳/dionaea/dionaea.connections_2020-01-18.json',\n",
       " '../../RAID5/original_tmp_data/0405-0418/mongo/遠傳/dionaea/dionaea.connections_2020-01-17.json',\n",
       " '../../RAID5/original_tmp_data/0405-0418/mongo/遠傳/dionaea/dionaea.connections_2020-01-16.json',\n",
       " '../../RAID5/original_tmp_data/0405-0418/mongo/遠傳/dionaea/dionaea.connections_2020-01-15.json',\n",
       " '../../RAID5/original_tmp_data/0405-0418/mongo/遠傳/dionaea/dionaea.connections_2020-01-14.json',\n",
       " '../../RAID5/original_tmp_data/0405-0418/mongo/遠傳/dionaea/dionaea.connections_2020-01-13.json',\n",
       " '../../RAID5/original_tmp_data/0405-0418/mongo/遠傳/dionaea/dionaea.connections_2020-01-12.json',\n",
       " '../../RAID5/original_tmp_data/0405-0418/mongo/遠傳/dionaea/dionaea.connections_2020-01-11.json',\n",
       " '../../RAID5/original_tmp_data/0405-0418/mongo/遠傳/dionaea/dionaea.capture_2020-04-18.json',\n",
       " '../../RAID5/original_tmp_data/0405-0418/mongo/遠傳/dionaea/dionaea.capture_2020-04-17.json',\n",
       " '../../RAID5/original_tmp_data/0405-0418/mongo/遠傳/dionaea/dionaea.capture_2020-04-16.json',\n",
       " '../../RAID5/original_tmp_data/0405-0418/mongo/遠傳/dionaea/dionaea.capture_2020-04-15.json',\n",
       " '../../RAID5/original_tmp_data/0405-0418/mongo/遠傳/dionaea/dionaea.capture_2020-04-14.json',\n",
       " '../../RAID5/original_tmp_data/0405-0418/mongo/遠傳/dionaea/dionaea.capture_2020-04-13.json',\n",
       " '../../RAID5/original_tmp_data/0405-0418/mongo/遠傳/dionaea/dionaea.capture_2020-04-12.json',\n",
       " '../../RAID5/original_tmp_data/0405-0418/mongo/遠傳/dionaea/dionaea.capture_2020-04-11.json',\n",
       " '../../RAID5/original_tmp_data/0405-0418/mongo/遠傳/dionaea/dionaea.capture_2020-04-10.json',\n",
       " '../../RAID5/original_tmp_data/0405-0418/mongo/遠傳/dionaea/dionaea.capture_2020-04-09.json',\n",
       " '../../RAID5/original_tmp_data/0405-0418/mongo/遠傳/dionaea/dionaea.capture_2020-04-08.json',\n",
       " '../../RAID5/original_tmp_data/0405-0418/mongo/遠傳/dionaea/dionaea.capture_2020-04-07.json',\n",
       " '../../RAID5/original_tmp_data/0405-0418/mongo/遠傳/dionaea/dionaea.capture_2020-04-06.json',\n",
       " '../../RAID5/original_tmp_data/0405-0418/mongo/遠傳/dionaea/dionaea.capture_2020-04-05.json',\n",
       " '../../RAID5/original_tmp_data/0405-0418/mongo/遠傳/dionaea/dionaea.capture_2020-04-04.json',\n",
       " '../../RAID5/original_tmp_data/0405-0418/mongo/遠傳/dionaea/dionaea.capture_2020-04-03.json',\n",
       " '../../RAID5/original_tmp_data/0405-0418/mongo/遠傳/dionaea/dionaea.capture_2020-04-02.json',\n",
       " '../../RAID5/original_tmp_data/0405-0418/mongo/遠傳/dionaea/dionaea.capture_2020-04-01.json',\n",
       " '../../RAID5/original_tmp_data/0405-0418/mongo/遠傳/dionaea/dionaea.capture_2020-03-31.json',\n",
       " '../../RAID5/original_tmp_data/0405-0418/mongo/遠傳/dionaea/dionaea.capture_2020-03-30.json',\n",
       " '../../RAID5/original_tmp_data/0405-0418/mongo/遠傳/dionaea/dionaea.capture_2020-03-29.json',\n",
       " '../../RAID5/original_tmp_data/0405-0418/mongo/遠傳/dionaea/dionaea.capture_2020-03-28.json',\n",
       " '../../RAID5/original_tmp_data/0405-0418/mongo/遠傳/dionaea/dionaea.capture_2020-03-27.json',\n",
       " '../../RAID5/original_tmp_data/0405-0418/mongo/遠傳/dionaea/dionaea.capture_2020-03-26.json',\n",
       " '../../RAID5/original_tmp_data/0405-0418/mongo/遠傳/dionaea/dionaea.capture_2020-03-25.json',\n",
       " '../../RAID5/original_tmp_data/0405-0418/mongo/遠傳/dionaea/dionaea.capture_2020-03-24.json',\n",
       " '../../RAID5/original_tmp_data/0405-0418/mongo/遠傳/dionaea/dionaea.capture_2020-03-23.json',\n",
       " '../../RAID5/original_tmp_data/0405-0418/mongo/遠傳/dionaea/dionaea.capture_2020-03-22.json',\n",
       " '../../RAID5/original_tmp_data/0405-0418/mongo/遠傳/dionaea/dionaea.capture_2020-03-21.json',\n",
       " '../../RAID5/original_tmp_data/0405-0418/mongo/遠傳/dionaea/dionaea.capture_2020-03-20.json',\n",
       " '../../RAID5/original_tmp_data/0405-0418/mongo/遠傳/dionaea/dionaea.capture_2020-03-19.json',\n",
       " '../../RAID5/original_tmp_data/0405-0418/mongo/遠傳/dionaea/dionaea.capture_2020-03-18.json',\n",
       " '../../RAID5/original_tmp_data/0405-0418/mongo/遠傳/dionaea/dionaea.capture_2020-03-17.json',\n",
       " '../../RAID5/original_tmp_data/0405-0418/mongo/遠傳/dionaea/dionaea.capture_2020-03-16.json',\n",
       " '../../RAID5/original_tmp_data/0405-0418/mongo/遠傳/dionaea/dionaea.capture_2020-03-15.json',\n",
       " '../../RAID5/original_tmp_data/0405-0418/mongo/遠傳/dionaea/dionaea.capture_2020-03-14.json',\n",
       " '../../RAID5/original_tmp_data/0405-0418/mongo/遠傳/dionaea/dionaea.capture_2020-03-13.json',\n",
       " '../../RAID5/original_tmp_data/0405-0418/mongo/遠傳/dionaea/dionaea.capture_2020-03-12.json',\n",
       " '../../RAID5/original_tmp_data/0405-0418/mongo/遠傳/dionaea/dionaea.capture_2020-03-11.json',\n",
       " '../../RAID5/original_tmp_data/0405-0418/mongo/遠傳/dionaea/dionaea.capture_2020-03-10.json',\n",
       " '../../RAID5/original_tmp_data/0405-0418/mongo/遠傳/dionaea/dionaea.capture_2020-03-09.json',\n",
       " '../../RAID5/original_tmp_data/0405-0418/mongo/遠傳/dionaea/dionaea.capture_2020-03-08.json',\n",
       " '../../RAID5/original_tmp_data/0405-0418/mongo/遠傳/dionaea/dionaea.capture_2020-03-07.json',\n",
       " '../../RAID5/original_tmp_data/0405-0418/mongo/遠傳/dionaea/dionaea.capture_2020-03-06.json',\n",
       " '../../RAID5/original_tmp_data/0405-0418/mongo/遠傳/dionaea/dionaea.capture_2020-03-05.json',\n",
       " '../../RAID5/original_tmp_data/0405-0418/mongo/遠傳/dionaea/dionaea.capture_2020-03-04.json',\n",
       " '../../RAID5/original_tmp_data/0405-0418/mongo/遠傳/dionaea/dionaea.capture_2020-03-03.json',\n",
       " '../../RAID5/original_tmp_data/0405-0418/mongo/遠傳/dionaea/dionaea.capture_2020-03-02.json',\n",
       " '../../RAID5/original_tmp_data/0405-0418/mongo/遠傳/dionaea/dionaea.capture_2020-03-01.json',\n",
       " '../../RAID5/original_tmp_data/0405-0418/mongo/遠傳/dionaea/dionaea.capture_2020-02-29.json',\n",
       " '../../RAID5/original_tmp_data/0405-0418/mongo/遠傳/dionaea/dionaea.capture_2020-02-28.json',\n",
       " '../../RAID5/original_tmp_data/0405-0418/mongo/遠傳/dionaea/dionaea.capture_2020-02-27.json',\n",
       " '../../RAID5/original_tmp_data/0405-0418/mongo/遠傳/dionaea/dionaea.capture_2020-02-26.json',\n",
       " '../../RAID5/original_tmp_data/0405-0418/mongo/遠傳/dionaea/dionaea.capture_2020-02-25.json',\n",
       " '../../RAID5/original_tmp_data/0405-0418/mongo/遠傳/dionaea/dionaea.capture_2020-02-24.json',\n",
       " '../../RAID5/original_tmp_data/0405-0418/mongo/遠傳/dionaea/dionaea.capture_2020-02-23.json',\n",
       " '../../RAID5/original_tmp_data/0405-0418/mongo/遠傳/dionaea/dionaea.capture_2020-02-22.json',\n",
       " '../../RAID5/original_tmp_data/0405-0418/mongo/遠傳/dionaea/dionaea.capture_2020-02-21.json',\n",
       " '../../RAID5/original_tmp_data/0405-0418/mongo/遠傳/dionaea/dionaea.capture_2020-02-20.json',\n",
       " '../../RAID5/original_tmp_data/0405-0418/mongo/遠傳/dionaea/dionaea.capture_2020-02-19.json',\n",
       " '../../RAID5/original_tmp_data/0405-0418/mongo/遠傳/dionaea/dionaea.capture_2020-02-18.json',\n",
       " '../../RAID5/original_tmp_data/0405-0418/mongo/遠傳/dionaea/dionaea.capture_2020-02-17.json',\n",
       " '../../RAID5/original_tmp_data/0405-0418/mongo/遠傳/dionaea/dionaea.capture_2020-02-16.json',\n",
       " '../../RAID5/original_tmp_data/0405-0418/mongo/遠傳/dionaea/dionaea.capture_2020-02-15.json',\n",
       " '../../RAID5/original_tmp_data/0405-0418/mongo/遠傳/dionaea/dionaea.capture_2020-02-14.json',\n",
       " '../../RAID5/original_tmp_data/0405-0418/mongo/遠傳/dionaea/dionaea.capture_2020-02-13.json',\n",
       " '../../RAID5/original_tmp_data/0405-0418/mongo/遠傳/dionaea/dionaea.capture_2020-02-12.json',\n",
       " '../../RAID5/original_tmp_data/0405-0418/mongo/遠傳/dionaea/dionaea.capture_2020-02-11.json',\n",
       " '../../RAID5/original_tmp_data/0405-0418/mongo/遠傳/dionaea/dionaea.capture_2020-02-10.json',\n",
       " '../../RAID5/original_tmp_data/0405-0418/mongo/遠傳/dionaea/dionaea.capture_2020-02-09.json',\n",
       " '../../RAID5/original_tmp_data/0405-0418/mongo/遠傳/dionaea/dionaea.capture_2020-02-08.json',\n",
       " '../../RAID5/original_tmp_data/0405-0418/mongo/遠傳/dionaea/dionaea.capture_2020-02-07.json',\n",
       " '../../RAID5/original_tmp_data/0405-0418/mongo/遠傳/dionaea/dionaea.capture_2020-02-06.json',\n",
       " '../../RAID5/original_tmp_data/0405-0418/mongo/遠傳/dionaea/dionaea.capture_2020-02-05.json',\n",
       " '../../RAID5/original_tmp_data/0405-0418/mongo/遠傳/dionaea/dionaea.capture_2020-02-04.json',\n",
       " '../../RAID5/original_tmp_data/0405-0418/mongo/遠傳/dionaea/dionaea.capture_2020-02-03.json',\n",
       " '../../RAID5/original_tmp_data/0405-0418/mongo/遠傳/dionaea/dionaea.capture_2020-02-02.json',\n",
       " '../../RAID5/original_tmp_data/0405-0418/mongo/遠傳/dionaea/dionaea.capture_2020-02-01.json',\n",
       " '../../RAID5/original_tmp_data/0405-0418/mongo/遠傳/dionaea/dionaea.capture_2020-01-31.json',\n",
       " '../../RAID5/original_tmp_data/0405-0418/mongo/遠傳/dionaea/dionaea.capture_2020-01-30.json',\n",
       " '../../RAID5/original_tmp_data/0405-0418/mongo/遠傳/dionaea/dionaea.capture_2020-01-29.json',\n",
       " '../../RAID5/original_tmp_data/0405-0418/mongo/遠傳/dionaea/dionaea.capture_2020-01-28.json',\n",
       " '../../RAID5/original_tmp_data/0405-0418/mongo/遠傳/dionaea/dionaea.capture_2020-01-27.json',\n",
       " '../../RAID5/original_tmp_data/0405-0418/mongo/遠傳/dionaea/dionaea.capture_2020-01-26.json',\n",
       " '../../RAID5/original_tmp_data/0405-0418/mongo/遠傳/dionaea/dionaea.capture_2020-01-25.json',\n",
       " '../../RAID5/original_tmp_data/0405-0418/mongo/遠傳/dionaea/dionaea.capture_2020-01-24.json',\n",
       " '../../RAID5/original_tmp_data/0405-0418/mongo/遠傳/dionaea/dionaea.capture_2020-01-23.json',\n",
       " '../../RAID5/original_tmp_data/0405-0418/mongo/遠傳/dionaea/dionaea.capture_2020-01-22.json',\n",
       " '../../RAID5/original_tmp_data/0405-0418/mongo/遠傳/dionaea/dionaea.capture_2020-01-21.json',\n",
       " '../../RAID5/original_tmp_data/0405-0418/mongo/遠傳/dionaea/dionaea.capture_2020-01-20.json',\n",
       " '../../RAID5/original_tmp_data/0405-0418/mongo/遠傳/dionaea/dionaea.capture_2020-01-19.json',\n",
       " '../../RAID5/original_tmp_data/0405-0418/mongo/遠傳/dionaea/dionaea.capture_2020-01-18.json',\n",
       " '../../RAID5/original_tmp_data/0405-0418/mongo/遠傳/dionaea/dionaea.capture_2020-01-17.json',\n",
       " '../../RAID5/original_tmp_data/0405-0418/mongo/遠傳/dionaea/dionaea.capture_2020-01-16.json',\n",
       " '../../RAID5/original_tmp_data/0405-0418/mongo/遠傳/dionaea/dionaea.capture_2020-01-15.json',\n",
       " '../../RAID5/original_tmp_data/0405-0418/mongo/遠傳/dionaea/dionaea.capture_2020-01-14.json',\n",
       " '../../RAID5/original_tmp_data/0405-0418/mongo/遠傳/dionaea/dionaea.capture_2020-01-13.json',\n",
       " '../../RAID5/original_tmp_data/0405-0418/mongo/遠傳/dionaea/dionaea.capture_2020-01-12.json',\n",
       " '../../RAID5/original_tmp_data/0405-0418/mongo/遠傳/dionaea/dionaea.capture_2020-01-11.json',\n",
       " '../../RAID5/original_tmp_data/0405-0418/mongo/遠傳/dionaea/dionaea.connections_2020-01-10.json',\n",
       " '../../RAID5/original_tmp_data/0405-0418/mongo/遠傳/dionaea/dionaea.connections_2020-01-09.json',\n",
       " '../../RAID5/original_tmp_data/0405-0418/mongo/遠傳/dionaea/dionaea.connections_2020-01-08.json',\n",
       " '../../RAID5/original_tmp_data/0405-0418/mongo/遠傳/dionaea/dionaea.connections_2020-01-07.json',\n",
       " '../../RAID5/original_tmp_data/0405-0418/mongo/遠傳/dionaea/dionaea.connections_2020-01-06.json',\n",
       " '../../RAID5/original_tmp_data/0405-0418/mongo/遠傳/dionaea/dionaea.connections_2020-01-05.json',\n",
       " '../../RAID5/original_tmp_data/0405-0418/mongo/遠傳/dionaea/dionaea.connections_2020-01-04.json',\n",
       " '../../RAID5/original_tmp_data/0405-0418/mongo/遠傳/dionaea/dionaea.connections_2020-01-03.json',\n",
       " '../../RAID5/original_tmp_data/0405-0418/mongo/遠傳/dionaea/dionaea.connections_2020-01-02.json',\n",
       " '../../RAID5/original_tmp_data/0405-0418/mongo/遠傳/dionaea/dionaea.connections_2020-01-01.json',\n",
       " '../../RAID5/original_tmp_data/0405-0418/mongo/遠傳/dionaea/dionaea.connections_2019-12-31.json',\n",
       " '../../RAID5/original_tmp_data/0405-0418/mongo/遠傳/dionaea/dionaea.connections_2019-12-30.json',\n",
       " '../../RAID5/original_tmp_data/0405-0418/mongo/遠傳/dionaea/dionaea.connections_2019-12-29.json',\n",
       " '../../RAID5/original_tmp_data/0405-0418/mongo/遠傳/dionaea/dionaea.capture_2020-01-08.json',\n",
       " '../../RAID5/original_tmp_data/0405-0418/mongo/遠傳/dionaea/dionaea.capture_2019-12-29.json',\n",
       " '../../RAID5/original_tmp_data/0405-0418/mongo/遠傳/dionaea/dionaea.capture_2020-01-05.json',\n",
       " '../../RAID5/original_tmp_data/0405-0418/mongo/遠傳/dionaea/dionaea.capture_2020-01-07.json',\n",
       " '../../RAID5/original_tmp_data/0405-0418/mongo/遠傳/dionaea/dionaea.capture_2019-12-31.json',\n",
       " '../../RAID5/original_tmp_data/0405-0418/mongo/遠傳/dionaea/dionaea.capture_2020-01-01.json',\n",
       " '../../RAID5/original_tmp_data/0405-0418/mongo/遠傳/dionaea/dionaea.capture_2020-01-06.json',\n",
       " '../../RAID5/original_tmp_data/0405-0418/mongo/遠傳/dionaea/dionaea.capture_2020-01-03.json',\n",
       " '../../RAID5/original_tmp_data/0405-0418/mongo/遠傳/dionaea/dionaea.capture_2020-01-10.json',\n",
       " '../../RAID5/original_tmp_data/0405-0418/mongo/遠傳/dionaea/dionaea.capture_2020-01-04.json',\n",
       " '../../RAID5/original_tmp_data/0405-0418/mongo/遠傳/dionaea/dionaea.capture_2019-12-30.json',\n",
       " '../../RAID5/original_tmp_data/0405-0418/mongo/遠傳/dionaea/dionaea.capture_2020-01-09.json',\n",
       " '../../RAID5/original_tmp_data/0405-0418/mongo/遠傳/dionaea/dionaea.capture_2020-01-02.json',\n",
       " '../../RAID5/original_tmp_data/0405-0418/mongo/遠傳/cowrie/cowrie.sessions_2020-04-18.json',\n",
       " '../../RAID5/original_tmp_data/0405-0418/mongo/遠傳/cowrie/cowrie.sessions_2020-04-17.json',\n",
       " '../../RAID5/original_tmp_data/0405-0418/mongo/遠傳/cowrie/cowrie.sessions_2020-04-16.json',\n",
       " '../../RAID5/original_tmp_data/0405-0418/mongo/遠傳/cowrie/cowrie.sessions_2020-04-15.json',\n",
       " '../../RAID5/original_tmp_data/0405-0418/mongo/遠傳/cowrie/cowrie.sessions_2020-04-14.json',\n",
       " '../../RAID5/original_tmp_data/0405-0418/mongo/遠傳/cowrie/cowrie.sessions_2020-04-13.json',\n",
       " '../../RAID5/original_tmp_data/0405-0418/mongo/遠傳/cowrie/cowrie.sessions_2020-04-12.json',\n",
       " '../../RAID5/original_tmp_data/0405-0418/mongo/遠傳/cowrie/cowrie.sessions_2020-04-11.json',\n",
       " '../../RAID5/original_tmp_data/0405-0418/mongo/遠傳/cowrie/cowrie.sessions_2020-04-10.json',\n",
       " '../../RAID5/original_tmp_data/0405-0418/mongo/遠傳/cowrie/cowrie.sessions_2020-04-09.json',\n",
       " '../../RAID5/original_tmp_data/0405-0418/mongo/遠傳/cowrie/cowrie.sessions_2020-04-08.json',\n",
       " '../../RAID5/original_tmp_data/0405-0418/mongo/遠傳/cowrie/cowrie.sessions_2020-04-07.json',\n",
       " '../../RAID5/original_tmp_data/0405-0418/mongo/遠傳/cowrie/cowrie.sessions_2020-04-06.json',\n",
       " '../../RAID5/original_tmp_data/0405-0418/mongo/遠傳/cowrie/cowrie.sessions_2020-04-05.json',\n",
       " '../../RAID5/original_tmp_data/0405-0418/mongo/遠傳/cowrie/cowrie.sessions_2020-04-04.json',\n",
       " '../../RAID5/original_tmp_data/0405-0418/mongo/遠傳/cowrie/cowrie.sessions_2020-04-03.json',\n",
       " '../../RAID5/original_tmp_data/0405-0418/mongo/遠傳/cowrie/cowrie.sessions_2020-04-02.json',\n",
       " '../../RAID5/original_tmp_data/0405-0418/mongo/遠傳/cowrie/cowrie.sessions_2020-04-01.json',\n",
       " '../../RAID5/original_tmp_data/0405-0418/mongo/遠傳/cowrie/cowrie.sessions_2020-03-31.json',\n",
       " '../../RAID5/original_tmp_data/0405-0418/mongo/遠傳/cowrie/cowrie.sessions_2020-03-30.json',\n",
       " '../../RAID5/original_tmp_data/0405-0418/mongo/遠傳/cowrie/cowrie.sessions_2020-03-29.json',\n",
       " '../../RAID5/original_tmp_data/0405-0418/mongo/遠傳/cowrie/cowrie.sessions_2020-03-28.json',\n",
       " '../../RAID5/original_tmp_data/0405-0418/mongo/遠傳/cowrie/cowrie.sessions_2020-03-27.json',\n",
       " '../../RAID5/original_tmp_data/0405-0418/mongo/遠傳/cowrie/cowrie.sessions_2020-03-26.json',\n",
       " '../../RAID5/original_tmp_data/0405-0418/mongo/遠傳/cowrie/cowrie.sessions_2020-03-25.json',\n",
       " '../../RAID5/original_tmp_data/0405-0418/mongo/遠傳/cowrie/cowrie.sessions_2020-03-24.json',\n",
       " '../../RAID5/original_tmp_data/0405-0418/mongo/遠傳/cowrie/cowrie.sessions_2020-03-23.json',\n",
       " '../../RAID5/original_tmp_data/0405-0418/mongo/遠傳/cowrie/cowrie.sessions_2020-03-22.json',\n",
       " '../../RAID5/original_tmp_data/0405-0418/mongo/遠傳/cowrie/cowrie.sessions_2020-03-21.json',\n",
       " '../../RAID5/original_tmp_data/0405-0418/mongo/遠傳/cowrie/cowrie.sessions_2020-03-20.json',\n",
       " '../../RAID5/original_tmp_data/0405-0418/mongo/遠傳/cowrie/cowrie.sessions_2020-03-19.json',\n",
       " '../../RAID5/original_tmp_data/0405-0418/mongo/遠傳/cowrie/cowrie.sessions_2020-03-18.json',\n",
       " '../../RAID5/original_tmp_data/0405-0418/mongo/遠傳/cowrie/cowrie.sessions_2020-03-17.json',\n",
       " '../../RAID5/original_tmp_data/0405-0418/mongo/遠傳/cowrie/cowrie.sessions_2020-03-16.json',\n",
       " '../../RAID5/original_tmp_data/0405-0418/mongo/遠傳/cowrie/cowrie.sessions_2020-03-15.json',\n",
       " '../../RAID5/original_tmp_data/0405-0418/mongo/遠傳/cowrie/cowrie.sessions_2020-03-14.json',\n",
       " '../../RAID5/original_tmp_data/0405-0418/mongo/遠傳/cowrie/cowrie.sessions_2020-03-13.json',\n",
       " '../../RAID5/original_tmp_data/0405-0418/mongo/遠傳/cowrie/cowrie.sessions_2020-03-12.json',\n",
       " '../../RAID5/original_tmp_data/0405-0418/mongo/遠傳/cowrie/cowrie.sessions_2020-03-11.json',\n",
       " '../../RAID5/original_tmp_data/0405-0418/mongo/遠傳/cowrie/cowrie.sessions_2020-03-10.json',\n",
       " '../../RAID5/original_tmp_data/0405-0418/mongo/遠傳/cowrie/cowrie.sessions_2020-03-09.json',\n",
       " '../../RAID5/original_tmp_data/0405-0418/mongo/遠傳/cowrie/cowrie.sessions_2020-03-08.json',\n",
       " '../../RAID5/original_tmp_data/0405-0418/mongo/遠傳/cowrie/cowrie.sessions_2020-03-07.json',\n",
       " '../../RAID5/original_tmp_data/0405-0418/mongo/遠傳/cowrie/cowrie.sessions_2020-03-06.json',\n",
       " '../../RAID5/original_tmp_data/0405-0418/mongo/遠傳/cowrie/cowrie.sessions_2020-03-05.json',\n",
       " '../../RAID5/original_tmp_data/0405-0418/mongo/遠傳/cowrie/cowrie.sessions_2020-03-04.json',\n",
       " '../../RAID5/original_tmp_data/0405-0418/mongo/遠傳/cowrie/cowrie.sessions_2020-03-03.json',\n",
       " '../../RAID5/original_tmp_data/0405-0418/mongo/遠傳/cowrie/cowrie.sessions_2020-03-02.json',\n",
       " '../../RAID5/original_tmp_data/0405-0418/mongo/遠傳/cowrie/cowrie.sessions_2020-03-01.json',\n",
       " '../../RAID5/original_tmp_data/0405-0418/mongo/遠傳/cowrie/cowrie.sessions_2020-02-29.json',\n",
       " '../../RAID5/original_tmp_data/0405-0418/mongo/遠傳/cowrie/cowrie.sessions_2020-02-28.json',\n",
       " '../../RAID5/original_tmp_data/0405-0418/mongo/遠傳/cowrie/cowrie.sessions_2020-02-27.json',\n",
       " '../../RAID5/original_tmp_data/0405-0418/mongo/遠傳/cowrie/cowrie.sessions_2020-02-26.json',\n",
       " '../../RAID5/original_tmp_data/0405-0418/mongo/遠傳/cowrie/cowrie.sessions_2020-02-25.json',\n",
       " '../../RAID5/original_tmp_data/0405-0418/mongo/遠傳/cowrie/cowrie.sessions_2020-02-24.json',\n",
       " '../../RAID5/original_tmp_data/0405-0418/mongo/遠傳/cowrie/cowrie.sessions_2020-02-23.json',\n",
       " '../../RAID5/original_tmp_data/0405-0418/mongo/遠傳/cowrie/cowrie.sessions_2020-02-22.json',\n",
       " '../../RAID5/original_tmp_data/0405-0418/mongo/遠傳/cowrie/cowrie.sessions_2020-02-21.json',\n",
       " '../../RAID5/original_tmp_data/0405-0418/mongo/遠傳/cowrie/cowrie.sessions_2020-02-20.json',\n",
       " '../../RAID5/original_tmp_data/0405-0418/mongo/遠傳/cowrie/cowrie.sessions_2020-02-19.json',\n",
       " '../../RAID5/original_tmp_data/0405-0418/mongo/遠傳/cowrie/cowrie.sessions_2020-02-18.json',\n",
       " '../../RAID5/original_tmp_data/0405-0418/mongo/遠傳/cowrie/cowrie.sessions_2020-02-17.json',\n",
       " '../../RAID5/original_tmp_data/0405-0418/mongo/遠傳/cowrie/cowrie.sessions_2020-02-16.json',\n",
       " '../../RAID5/original_tmp_data/0405-0418/mongo/遠傳/cowrie/cowrie.sessions_2020-02-15.json',\n",
       " '../../RAID5/original_tmp_data/0405-0418/mongo/遠傳/cowrie/cowrie.sessions_2020-02-14.json',\n",
       " '../../RAID5/original_tmp_data/0405-0418/mongo/遠傳/cowrie/cowrie.sessions_2020-02-13.json',\n",
       " '../../RAID5/original_tmp_data/0405-0418/mongo/遠傳/cowrie/cowrie.sessions_2020-02-12.json',\n",
       " '../../RAID5/original_tmp_data/0405-0418/mongo/遠傳/cowrie/cowrie.sessions_2020-02-11.json',\n",
       " '../../RAID5/original_tmp_data/0405-0418/mongo/遠傳/cowrie/cowrie.sessions_2020-02-10.json',\n",
       " '../../RAID5/original_tmp_data/0405-0418/mongo/遠傳/cowrie/cowrie.sessions_2020-02-09.json',\n",
       " '../../RAID5/original_tmp_data/0405-0418/mongo/遠傳/cowrie/cowrie.sessions_2020-02-08.json',\n",
       " '../../RAID5/original_tmp_data/0405-0418/mongo/遠傳/cowrie/cowrie.sessions_2020-02-07.json',\n",
       " '../../RAID5/original_tmp_data/0405-0418/mongo/遠傳/cowrie/cowrie.sessions_2020-02-06.json',\n",
       " '../../RAID5/original_tmp_data/0405-0418/mongo/遠傳/cowrie/cowrie.sessions_2020-02-05.json',\n",
       " '../../RAID5/original_tmp_data/0405-0418/mongo/遠傳/cowrie/cowrie.sessions_2020-02-04.json',\n",
       " '../../RAID5/original_tmp_data/0405-0418/mongo/遠傳/cowrie/cowrie.sessions_2020-02-03.json',\n",
       " '../../RAID5/original_tmp_data/0405-0418/mongo/遠傳/cowrie/cowrie.sessions_2020-02-02.json',\n",
       " '../../RAID5/original_tmp_data/0405-0418/mongo/遠傳/cowrie/cowrie.sessions_2020-02-01.json',\n",
       " '../../RAID5/original_tmp_data/0405-0418/mongo/遠傳/cowrie/cowrie.sessions_2020-01-31.json',\n",
       " '../../RAID5/original_tmp_data/0405-0418/mongo/遠傳/cowrie/cowrie.sessions_2020-01-30.json',\n",
       " '../../RAID5/original_tmp_data/0405-0418/mongo/遠傳/cowrie/cowrie.sessions_2020-01-29.json',\n",
       " '../../RAID5/original_tmp_data/0405-0418/mongo/遠傳/cowrie/cowrie.sessions_2020-01-28.json',\n",
       " '../../RAID5/original_tmp_data/0405-0418/mongo/遠傳/cowrie/cowrie.sessions_2020-01-27.json',\n",
       " '../../RAID5/original_tmp_data/0405-0418/mongo/遠傳/cowrie/cowrie.sessions_2020-01-26.json',\n",
       " '../../RAID5/original_tmp_data/0405-0418/mongo/遠傳/cowrie/cowrie.sessions_2020-01-25.json',\n",
       " '../../RAID5/original_tmp_data/0405-0418/mongo/遠傳/cowrie/cowrie.sessions_2020-01-24.json',\n",
       " '../../RAID5/original_tmp_data/0405-0418/mongo/遠傳/cowrie/cowrie.sessions_2020-01-23.json',\n",
       " '../../RAID5/original_tmp_data/0405-0418/mongo/遠傳/cowrie/cowrie.sessions_2020-01-22.json',\n",
       " '../../RAID5/original_tmp_data/0405-0418/mongo/遠傳/cowrie/cowrie.sessions_2020-01-21.json',\n",
       " '../../RAID5/original_tmp_data/0405-0418/mongo/遠傳/cowrie/cowrie.sessions_2020-01-20.json',\n",
       " '../../RAID5/original_tmp_data/0405-0418/mongo/遠傳/cowrie/cowrie.sessions_2020-01-19.json',\n",
       " '../../RAID5/original_tmp_data/0405-0418/mongo/遠傳/cowrie/cowrie.sessions_2020-01-18.json',\n",
       " '../../RAID5/original_tmp_data/0405-0418/mongo/遠傳/cowrie/cowrie.sessions_2020-01-17.json',\n",
       " '../../RAID5/original_tmp_data/0405-0418/mongo/遠傳/cowrie/cowrie.sessions_2020-01-16.json',\n",
       " '../../RAID5/original_tmp_data/0405-0418/mongo/遠傳/cowrie/cowrie.sessions_2020-01-15.json',\n",
       " '../../RAID5/original_tmp_data/0405-0418/mongo/遠傳/cowrie/cowrie.sessions_2020-01-14.json',\n",
       " '../../RAID5/original_tmp_data/0405-0418/mongo/遠傳/cowrie/cowrie.sessions_2020-01-13.json',\n",
       " '../../RAID5/original_tmp_data/0405-0418/mongo/遠傳/cowrie/cowrie.sessions_2020-01-12.json',\n",
       " '../../RAID5/original_tmp_data/0405-0418/mongo/遠傳/cowrie/cowrie.sessions_2020-01-11.json',\n",
       " '../../RAID5/original_tmp_data/0405-0418/mongo/遠傳/cowrie/cowrie.sessions_2020-01-10.json',\n",
       " '../../RAID5/original_tmp_data/0405-0418/mongo/遠傳/cowrie/cowrie.sessions_2020-01-09.json',\n",
       " '../../RAID5/original_tmp_data/0405-0418/mongo/遠傳/cowrie/cowrie.sessions_2020-01-08.json',\n",
       " '../../RAID5/original_tmp_data/0405-0418/mongo/遠傳/cowrie/cowrie.sessions_2020-01-07.json',\n",
       " '../../RAID5/original_tmp_data/0405-0418/mongo/遠傳/cowrie/cowrie.sessions_2020-01-06.json',\n",
       " '../../RAID5/original_tmp_data/0405-0418/mongo/遠傳/cowrie/cowrie.sessions_2020-01-05.json',\n",
       " '../../RAID5/original_tmp_data/0405-0418/mongo/遠傳/cowrie/cowrie.sessions_2020-01-04.json',\n",
       " '../../RAID5/original_tmp_data/0405-0418/mongo/遠傳/cowrie/cowrie.sessions_2020-01-03.json',\n",
       " '../../RAID5/original_tmp_data/0405-0418/mongo/遠傳/cowrie/cowrie.sessions_2020-01-02.json',\n",
       " '../../RAID5/original_tmp_data/0405-0418/mongo/遠傳/cowrie/cowrie.sessions_2020-01-01.json',\n",
       " '../../RAID5/original_tmp_data/0405-0418/mongo/遠傳/cowrie/cowrie.sessions_2019-12-31.json',\n",
       " '../../RAID5/original_tmp_data/0405-0418/mongo/遠傳/cowrie/cowrie.sessions_2019-12-30.json',\n",
       " '../../RAID5/original_tmp_data/0405-0418/mongo/遠傳/cowrie/cowrie.sessions_2019-12-29.json',\n",
       " '../../RAID5/original_tmp_data/0405-0418/mongo/遠傳/amun/amun.events_2020-04-18.json',\n",
       " '../../RAID5/original_tmp_data/0405-0418/mongo/遠傳/amun/amun.events_2020-04-17.json',\n",
       " '../../RAID5/original_tmp_data/0405-0418/mongo/遠傳/amun/amun.events_2020-04-16.json',\n",
       " '../../RAID5/original_tmp_data/0405-0418/mongo/遠傳/amun/amun.events_2020-04-15.json',\n",
       " '../../RAID5/original_tmp_data/0405-0418/mongo/遠傳/amun/amun.events_2020-04-14.json',\n",
       " '../../RAID5/original_tmp_data/0405-0418/mongo/遠傳/amun/amun.events_2020-04-13.json',\n",
       " '../../RAID5/original_tmp_data/0405-0418/mongo/遠傳/amun/amun.events_2020-04-12.json',\n",
       " '../../RAID5/original_tmp_data/0405-0418/mongo/遠傳/amun/amun.events_2020-04-11.json',\n",
       " '../../RAID5/original_tmp_data/0405-0418/mongo/遠傳/amun/amun.events_2020-04-10.json',\n",
       " '../../RAID5/original_tmp_data/0405-0418/mongo/遠傳/amun/amun.events_2020-04-09.json',\n",
       " '../../RAID5/original_tmp_data/0405-0418/mongo/遠傳/amun/amun.events_2020-04-08.json',\n",
       " '../../RAID5/original_tmp_data/0405-0418/mongo/遠傳/amun/amun.events_2020-04-07.json',\n",
       " '../../RAID5/original_tmp_data/0405-0418/mongo/遠傳/amun/amun.events_2020-04-06.json',\n",
       " '../../RAID5/original_tmp_data/0405-0418/mongo/遠傳/amun/amun.events_2020-04-05.json',\n",
       " '../../RAID5/original_tmp_data/0405-0418/mongo/遠傳/amun/amun.events_2020-04-04.json',\n",
       " '../../RAID5/original_tmp_data/0405-0418/mongo/遠傳/amun/amun.events_2020-04-03.json',\n",
       " '../../RAID5/original_tmp_data/0405-0418/mongo/遠傳/amun/amun.events_2020-04-02.json',\n",
       " '../../RAID5/original_tmp_data/0405-0418/mongo/遠傳/amun/amun.events_2020-04-01.json',\n",
       " '../../RAID5/original_tmp_data/0405-0418/mongo/遠傳/amun/amun.events_2020-03-31.json',\n",
       " '../../RAID5/original_tmp_data/0405-0418/mongo/遠傳/amun/amun.events_2020-03-30.json',\n",
       " '../../RAID5/original_tmp_data/0405-0418/mongo/遠傳/amun/amun.events_2020-03-29.json',\n",
       " '../../RAID5/original_tmp_data/0405-0418/mongo/遠傳/amun/amun.events_2020-03-28.json',\n",
       " '../../RAID5/original_tmp_data/0405-0418/mongo/遠傳/amun/amun.events_2020-03-27.json',\n",
       " '../../RAID5/original_tmp_data/0405-0418/mongo/遠傳/amun/amun.events_2020-03-26.json',\n",
       " '../../RAID5/original_tmp_data/0405-0418/mongo/遠傳/amun/amun.events_2020-03-25.json',\n",
       " '../../RAID5/original_tmp_data/0405-0418/mongo/遠傳/amun/amun.events_2020-03-24.json',\n",
       " '../../RAID5/original_tmp_data/0405-0418/mongo/遠傳/amun/amun.events_2020-03-23.json',\n",
       " '../../RAID5/original_tmp_data/0405-0418/mongo/遠傳/amun/amun.events_2020-03-22.json',\n",
       " '../../RAID5/original_tmp_data/0405-0418/mongo/遠傳/amun/amun.events_2020-03-21.json',\n",
       " '../../RAID5/original_tmp_data/0405-0418/mongo/遠傳/amun/amun.events_2020-03-20.json',\n",
       " '../../RAID5/original_tmp_data/0405-0418/mongo/遠傳/amun/amun.events_2020-03-19.json',\n",
       " '../../RAID5/original_tmp_data/0405-0418/mongo/遠傳/amun/amun.events_2020-03-18.json',\n",
       " '../../RAID5/original_tmp_data/0405-0418/mongo/遠傳/amun/amun.events_2020-03-17.json',\n",
       " '../../RAID5/original_tmp_data/0405-0418/mongo/遠傳/amun/amun.events_2020-03-16.json',\n",
       " '../../RAID5/original_tmp_data/0405-0418/mongo/遠傳/amun/amun.events_2020-03-15.json',\n",
       " '../../RAID5/original_tmp_data/0405-0418/mongo/遠傳/amun/amun.events_2020-03-14.json',\n",
       " '../../RAID5/original_tmp_data/0405-0418/mongo/遠傳/amun/amun.events_2020-03-13.json',\n",
       " '../../RAID5/original_tmp_data/0405-0418/mongo/遠傳/amun/amun.events_2020-03-12.json',\n",
       " '../../RAID5/original_tmp_data/0405-0418/mongo/遠傳/amun/amun.events_2020-03-11.json',\n",
       " '../../RAID5/original_tmp_data/0405-0418/mongo/遠傳/amun/amun.events_2020-03-10.json',\n",
       " '../../RAID5/original_tmp_data/0405-0418/mongo/遠傳/amun/amun.events_2020-03-09.json',\n",
       " '../../RAID5/original_tmp_data/0405-0418/mongo/遠傳/amun/amun.events_2020-03-08.json',\n",
       " '../../RAID5/original_tmp_data/0405-0418/mongo/遠傳/amun/amun.events_2020-03-07.json',\n",
       " '../../RAID5/original_tmp_data/0405-0418/mongo/遠傳/amun/amun.events_2020-03-06.json',\n",
       " '../../RAID5/original_tmp_data/0405-0418/mongo/遠傳/amun/amun.events_2020-03-05.json',\n",
       " '../../RAID5/original_tmp_data/0405-0418/mongo/遠傳/amun/amun.events_2020-03-04.json',\n",
       " '../../RAID5/original_tmp_data/0405-0418/mongo/遠傳/amun/amun.events_2020-03-03.json',\n",
       " '../../RAID5/original_tmp_data/0405-0418/mongo/遠傳/amun/amun.events_2020-03-02.json',\n",
       " '../../RAID5/original_tmp_data/0405-0418/mongo/遠傳/amun/amun.events_2020-03-01.json',\n",
       " '../../RAID5/original_tmp_data/0405-0418/mongo/遠傳/amun/amun.events_2020-02-29.json',\n",
       " '../../RAID5/original_tmp_data/0405-0418/mongo/遠傳/amun/amun.events_2020-02-28.json',\n",
       " '../../RAID5/original_tmp_data/0405-0418/mongo/遠傳/amun/amun.events_2020-02-27.json',\n",
       " '../../RAID5/original_tmp_data/0405-0418/mongo/遠傳/amun/amun.events_2020-02-26.json',\n",
       " '../../RAID5/original_tmp_data/0405-0418/mongo/遠傳/amun/amun.events_2020-02-25.json',\n",
       " '../../RAID5/original_tmp_data/0405-0418/mongo/遠傳/amun/amun.events_2020-02-24.json',\n",
       " '../../RAID5/original_tmp_data/0405-0418/mongo/遠傳/amun/amun.events_2020-02-23.json',\n",
       " '../../RAID5/original_tmp_data/0405-0418/mongo/遠傳/amun/amun.events_2020-02-22.json',\n",
       " '../../RAID5/original_tmp_data/0405-0418/mongo/遠傳/amun/amun.events_2020-02-21.json',\n",
       " '../../RAID5/original_tmp_data/0405-0418/mongo/遠傳/amun/amun.events_2020-02-20.json',\n",
       " '../../RAID5/original_tmp_data/0405-0418/mongo/遠傳/amun/amun.events_2020-02-19.json',\n",
       " '../../RAID5/original_tmp_data/0405-0418/mongo/遠傳/amun/amun.events_2020-02-18.json',\n",
       " '../../RAID5/original_tmp_data/0405-0418/mongo/遠傳/amun/amun.events_2020-02-17.json',\n",
       " '../../RAID5/original_tmp_data/0405-0418/mongo/遠傳/amun/amun.events_2020-02-16.json',\n",
       " '../../RAID5/original_tmp_data/0405-0418/mongo/遠傳/amun/amun.events_2020-02-15.json',\n",
       " '../../RAID5/original_tmp_data/0405-0418/mongo/遠傳/amun/amun.events_2020-02-14.json',\n",
       " '../../RAID5/original_tmp_data/0405-0418/mongo/遠傳/amun/amun.events_2020-02-13.json',\n",
       " '../../RAID5/original_tmp_data/0405-0418/mongo/遠傳/amun/amun.events_2020-02-12.json',\n",
       " '../../RAID5/original_tmp_data/0405-0418/mongo/遠傳/amun/amun.events_2020-02-11.json',\n",
       " '../../RAID5/original_tmp_data/0405-0418/mongo/遠傳/amun/amun.events_2020-02-10.json',\n",
       " '../../RAID5/original_tmp_data/0405-0418/mongo/遠傳/amun/amun.events_2020-02-09.json',\n",
       " '../../RAID5/original_tmp_data/0405-0418/mongo/遠傳/amun/amun.events_2020-02-08.json',\n",
       " '../../RAID5/original_tmp_data/0405-0418/mongo/遠傳/amun/amun.events_2020-02-07.json',\n",
       " '../../RAID5/original_tmp_data/0405-0418/mongo/遠傳/amun/amun.events_2020-02-06.json',\n",
       " '../../RAID5/original_tmp_data/0405-0418/mongo/遠傳/amun/amun.events_2020-02-05.json',\n",
       " '../../RAID5/original_tmp_data/0405-0418/mongo/遠傳/amun/amun.events_2020-02-04.json',\n",
       " '../../RAID5/original_tmp_data/0405-0418/mongo/遠傳/amun/amun.events_2020-02-03.json',\n",
       " '../../RAID5/original_tmp_data/0405-0418/mongo/遠傳/amun/amun.events_2020-02-02.json',\n",
       " '../../RAID5/original_tmp_data/0405-0418/mongo/遠傳/amun/amun.events_2020-02-01.json',\n",
       " '../../RAID5/original_tmp_data/0405-0418/mongo/遠傳/amun/amun.events_2020-01-31.json',\n",
       " '../../RAID5/original_tmp_data/0405-0418/mongo/遠傳/amun/amun.events_2020-01-30.json',\n",
       " '../../RAID5/original_tmp_data/0405-0418/mongo/遠傳/amun/amun.events_2020-01-29.json',\n",
       " '../../RAID5/original_tmp_data/0405-0418/mongo/遠傳/amun/amun.events_2020-01-28.json',\n",
       " '../../RAID5/original_tmp_data/0405-0418/mongo/遠傳/amun/amun.events_2020-01-27.json',\n",
       " '../../RAID5/original_tmp_data/0405-0418/mongo/遠傳/amun/amun.events_2020-01-26.json',\n",
       " '../../RAID5/original_tmp_data/0405-0418/mongo/遠傳/amun/amun.events_2020-01-25.json',\n",
       " '../../RAID5/original_tmp_data/0405-0418/mongo/遠傳/amun/amun.events_2020-01-24.json',\n",
       " '../../RAID5/original_tmp_data/0405-0418/mongo/遠傳/amun/amun.events_2020-01-23.json',\n",
       " '../../RAID5/original_tmp_data/0405-0418/mongo/遠傳/amun/amun.events_2020-01-22.json',\n",
       " '../../RAID5/original_tmp_data/0405-0418/mongo/遠傳/amun/amun.events_2020-01-21.json',\n",
       " '../../RAID5/original_tmp_data/0405-0418/mongo/遠傳/amun/amun.events_2020-01-20.json',\n",
       " '../../RAID5/original_tmp_data/0405-0418/mongo/遠傳/amun/amun.events_2020-01-19.json',\n",
       " '../../RAID5/original_tmp_data/0405-0418/mongo/遠傳/amun/amun.events_2020-01-18.json',\n",
       " '../../RAID5/original_tmp_data/0405-0418/mongo/遠傳/amun/amun.events_2020-01-17.json',\n",
       " '../../RAID5/original_tmp_data/0405-0418/mongo/遠傳/amun/amun.events_2020-01-16.json',\n",
       " '../../RAID5/original_tmp_data/0405-0418/mongo/遠傳/amun/amun.events_2020-01-15.json',\n",
       " '../../RAID5/original_tmp_data/0405-0418/mongo/遠傳/amun/amun.events_2020-01-14.json',\n",
       " '../../RAID5/original_tmp_data/0405-0418/mongo/遠傳/amun/amun.events_2020-01-13.json',\n",
       " '../../RAID5/original_tmp_data/0405-0418/mongo/遠傳/amun/amun.events_2020-01-12.json',\n",
       " '../../RAID5/original_tmp_data/0405-0418/mongo/遠傳/amun/amun.events_2020-01-11.json',\n",
       " '../../RAID5/original_tmp_data/0405-0418/mongo/遠傳/amun/amun.events_2020-01-10.json',\n",
       " '../../RAID5/original_tmp_data/0405-0418/mongo/遠傳/amun/amun.events_2020-01-09.json',\n",
       " '../../RAID5/original_tmp_data/0405-0418/mongo/遠傳/amun/amun.events_2020-01-08.json',\n",
       " '../../RAID5/original_tmp_data/0405-0418/mongo/遠傳/amun/amun.events_2020-01-07.json',\n",
       " '../../RAID5/original_tmp_data/0405-0418/mongo/遠傳/amun/amun.events_2020-01-06.json',\n",
       " '../../RAID5/original_tmp_data/0405-0418/mongo/遠傳/amun/amun.events_2020-01-05.json',\n",
       " '../../RAID5/original_tmp_data/0405-0418/mongo/遠傳/amun/amun.events_2020-01-04.json',\n",
       " '../../RAID5/original_tmp_data/0405-0418/mongo/遠傳/amun/amun.events_2020-01-03.json',\n",
       " '../../RAID5/original_tmp_data/0405-0418/mongo/遠傳/amun/amun.events_2020-01-02.json',\n",
       " '../../RAID5/original_tmp_data/0405-0418/mongo/遠傳/amun/amun.events_2020-01-01.json',\n",
       " '../../RAID5/original_tmp_data/0405-0418/mongo/遠傳/amun/amun.events_2019-12-31.json',\n",
       " '../../RAID5/original_tmp_data/0405-0418/mongo/遠傳/amun/amun.events_2019-12-30.json',\n",
       " '../../RAID5/original_tmp_data/0405-0418/mongo/遠傳/amun/amun.events_2019-12-29.json',\n",
       " '../../RAID5/original_tmp_data/0405-0418/mongo/凱擘/glastopf/glastopf.files_2020-04-18.json',\n",
       " '../../RAID5/original_tmp_data/0405-0418/mongo/凱擘/glastopf/glastopf.files_2020-04-17.json',\n",
       " '../../RAID5/original_tmp_data/0405-0418/mongo/凱擘/glastopf/glastopf.files_2020-04-16.json',\n",
       " '../../RAID5/original_tmp_data/0405-0418/mongo/凱擘/glastopf/glastopf.files_2020-04-15.json',\n",
       " '../../RAID5/original_tmp_data/0405-0418/mongo/凱擘/glastopf/glastopf.files_2020-04-14.json',\n",
       " '../../RAID5/original_tmp_data/0405-0418/mongo/凱擘/glastopf/glastopf.files_2020-04-13.json',\n",
       " '../../RAID5/original_tmp_data/0405-0418/mongo/凱擘/glastopf/glastopf.files_2020-04-12.json',\n",
       " '../../RAID5/original_tmp_data/0405-0418/mongo/凱擘/glastopf/glastopf.files_2020-04-11.json',\n",
       " '../../RAID5/original_tmp_data/0405-0418/mongo/凱擘/glastopf/glastopf.files_2020-04-10.json',\n",
       " '../../RAID5/original_tmp_data/0405-0418/mongo/凱擘/glastopf/glastopf.files_2020-04-09.json',\n",
       " '../../RAID5/original_tmp_data/0405-0418/mongo/凱擘/glastopf/glastopf.files_2020-04-08.json',\n",
       " '../../RAID5/original_tmp_data/0405-0418/mongo/凱擘/glastopf/glastopf.files_2020-04-07.json',\n",
       " '../../RAID5/original_tmp_data/0405-0418/mongo/凱擘/glastopf/glastopf.files_2020-04-06.json',\n",
       " '../../RAID5/original_tmp_data/0405-0418/mongo/凱擘/glastopf/glastopf.files_2020-04-05.json',\n",
       " '../../RAID5/original_tmp_data/0405-0418/mongo/凱擘/glastopf/glastopf.files_2020-04-04.json',\n",
       " '../../RAID5/original_tmp_data/0405-0418/mongo/凱擘/glastopf/glastopf.files_2020-04-03.json',\n",
       " '../../RAID5/original_tmp_data/0405-0418/mongo/凱擘/glastopf/glastopf.files_2020-04-02.json',\n",
       " '../../RAID5/original_tmp_data/0405-0418/mongo/凱擘/glastopf/glastopf.files_2020-04-01.json',\n",
       " '../../RAID5/original_tmp_data/0405-0418/mongo/凱擘/glastopf/glastopf.files_2020-03-31.json',\n",
       " '../../RAID5/original_tmp_data/0405-0418/mongo/凱擘/glastopf/glastopf.files_2020-03-30.json',\n",
       " '../../RAID5/original_tmp_data/0405-0418/mongo/凱擘/glastopf/glastopf.files_2020-03-29.json',\n",
       " '../../RAID5/original_tmp_data/0405-0418/mongo/凱擘/glastopf/glastopf.files_2020-03-28.json',\n",
       " '../../RAID5/original_tmp_data/0405-0418/mongo/凱擘/glastopf/glastopf.files_2020-03-27.json',\n",
       " '../../RAID5/original_tmp_data/0405-0418/mongo/凱擘/glastopf/glastopf.files_2020-03-26.json',\n",
       " '../../RAID5/original_tmp_data/0405-0418/mongo/凱擘/glastopf/glastopf.files_2020-03-25.json',\n",
       " '../../RAID5/original_tmp_data/0405-0418/mongo/凱擘/glastopf/glastopf.files_2020-03-24.json',\n",
       " '../../RAID5/original_tmp_data/0405-0418/mongo/凱擘/glastopf/glastopf.files_2020-03-23.json',\n",
       " '../../RAID5/original_tmp_data/0405-0418/mongo/凱擘/glastopf/glastopf.files_2020-03-22.json',\n",
       " '../../RAID5/original_tmp_data/0405-0418/mongo/凱擘/glastopf/glastopf.files_2020-03-21.json',\n",
       " '../../RAID5/original_tmp_data/0405-0418/mongo/凱擘/glastopf/glastopf.files_2020-03-20.json',\n",
       " '../../RAID5/original_tmp_data/0405-0418/mongo/凱擘/glastopf/glastopf.files_2020-03-19.json',\n",
       " '../../RAID5/original_tmp_data/0405-0418/mongo/凱擘/glastopf/glastopf.files_2020-03-18.json',\n",
       " '../../RAID5/original_tmp_data/0405-0418/mongo/凱擘/glastopf/glastopf.files_2020-03-17.json',\n",
       " '../../RAID5/original_tmp_data/0405-0418/mongo/凱擘/glastopf/glastopf.files_2020-03-16.json',\n",
       " '../../RAID5/original_tmp_data/0405-0418/mongo/凱擘/glastopf/glastopf.files_2020-03-15.json',\n",
       " '../../RAID5/original_tmp_data/0405-0418/mongo/凱擘/glastopf/glastopf.files_2020-03-14.json',\n",
       " '../../RAID5/original_tmp_data/0405-0418/mongo/凱擘/glastopf/glastopf.files_2020-03-13.json',\n",
       " '../../RAID5/original_tmp_data/0405-0418/mongo/凱擘/glastopf/glastopf.files_2020-03-12.json',\n",
       " '../../RAID5/original_tmp_data/0405-0418/mongo/凱擘/glastopf/glastopf.files_2020-03-11.json',\n",
       " '../../RAID5/original_tmp_data/0405-0418/mongo/凱擘/glastopf/glastopf.files_2020-03-10.json',\n",
       " '../../RAID5/original_tmp_data/0405-0418/mongo/凱擘/glastopf/glastopf.files_2020-03-09.json',\n",
       " '../../RAID5/original_tmp_data/0405-0418/mongo/凱擘/glastopf/glastopf.files_2020-03-08.json',\n",
       " '../../RAID5/original_tmp_data/0405-0418/mongo/凱擘/glastopf/glastopf.files_2020-03-07.json',\n",
       " '../../RAID5/original_tmp_data/0405-0418/mongo/凱擘/glastopf/glastopf.files_2020-03-06.json',\n",
       " '../../RAID5/original_tmp_data/0405-0418/mongo/凱擘/glastopf/glastopf.files_2020-03-05.json',\n",
       " '../../RAID5/original_tmp_data/0405-0418/mongo/凱擘/glastopf/glastopf.files_2020-03-04.json',\n",
       " '../../RAID5/original_tmp_data/0405-0418/mongo/凱擘/glastopf/glastopf.files_2020-03-03.json',\n",
       " '../../RAID5/original_tmp_data/0405-0418/mongo/凱擘/glastopf/glastopf.files_2020-03-02.json',\n",
       " '../../RAID5/original_tmp_data/0405-0418/mongo/凱擘/glastopf/glastopf.files_2020-03-01.json',\n",
       " '../../RAID5/original_tmp_data/0405-0418/mongo/凱擘/glastopf/glastopf.files_2020-02-29.json',\n",
       " '../../RAID5/original_tmp_data/0405-0418/mongo/凱擘/glastopf/glastopf.files_2020-02-28.json',\n",
       " '../../RAID5/original_tmp_data/0405-0418/mongo/凱擘/glastopf/glastopf.files_2020-02-27.json',\n",
       " '../../RAID5/original_tmp_data/0405-0418/mongo/凱擘/glastopf/glastopf.files_2020-02-26.json',\n",
       " '../../RAID5/original_tmp_data/0405-0418/mongo/凱擘/glastopf/glastopf.files_2020-02-25.json',\n",
       " '../../RAID5/original_tmp_data/0405-0418/mongo/凱擘/glastopf/glastopf.files_2020-02-24.json',\n",
       " '../../RAID5/original_tmp_data/0405-0418/mongo/凱擘/glastopf/glastopf.files_2020-02-23.json',\n",
       " '../../RAID5/original_tmp_data/0405-0418/mongo/凱擘/glastopf/glastopf.files_2020-02-22.json',\n",
       " '../../RAID5/original_tmp_data/0405-0418/mongo/凱擘/glastopf/glastopf.files_2020-02-21.json',\n",
       " '../../RAID5/original_tmp_data/0405-0418/mongo/凱擘/glastopf/glastopf.files_2020-02-20.json',\n",
       " '../../RAID5/original_tmp_data/0405-0418/mongo/凱擘/glastopf/glastopf.files_2020-02-19.json',\n",
       " '../../RAID5/original_tmp_data/0405-0418/mongo/凱擘/glastopf/glastopf.files_2020-02-18.json',\n",
       " '../../RAID5/original_tmp_data/0405-0418/mongo/凱擘/glastopf/glastopf.files_2020-02-17.json',\n",
       " '../../RAID5/original_tmp_data/0405-0418/mongo/凱擘/glastopf/glastopf.files_2020-02-16.json',\n",
       " '../../RAID5/original_tmp_data/0405-0418/mongo/凱擘/glastopf/glastopf.files_2020-02-15.json',\n",
       " '../../RAID5/original_tmp_data/0405-0418/mongo/凱擘/glastopf/glastopf.files_2020-02-14.json',\n",
       " '../../RAID5/original_tmp_data/0405-0418/mongo/凱擘/glastopf/glastopf.files_2020-02-13.json',\n",
       " '../../RAID5/original_tmp_data/0405-0418/mongo/凱擘/glastopf/glastopf.files_2020-02-12.json',\n",
       " '../../RAID5/original_tmp_data/0405-0418/mongo/凱擘/glastopf/glastopf.files_2020-02-11.json',\n",
       " '../../RAID5/original_tmp_data/0405-0418/mongo/凱擘/glastopf/glastopf.files_2020-02-10.json',\n",
       " '../../RAID5/original_tmp_data/0405-0418/mongo/凱擘/glastopf/glastopf.files_2020-02-09.json',\n",
       " '../../RAID5/original_tmp_data/0405-0418/mongo/凱擘/glastopf/glastopf.files_2020-02-08.json',\n",
       " '../../RAID5/original_tmp_data/0405-0418/mongo/凱擘/glastopf/glastopf.files_2020-02-07.json',\n",
       " '../../RAID5/original_tmp_data/0405-0418/mongo/凱擘/glastopf/glastopf.files_2020-02-06.json',\n",
       " '../../RAID5/original_tmp_data/0405-0418/mongo/凱擘/glastopf/glastopf.files_2020-02-05.json',\n",
       " '../../RAID5/original_tmp_data/0405-0418/mongo/凱擘/glastopf/glastopf.files_2020-02-04.json',\n",
       " '../../RAID5/original_tmp_data/0405-0418/mongo/凱擘/glastopf/glastopf.files_2020-02-03.json',\n",
       " '../../RAID5/original_tmp_data/0405-0418/mongo/凱擘/glastopf/glastopf.files_2020-02-02.json',\n",
       " '../../RAID5/original_tmp_data/0405-0418/mongo/凱擘/glastopf/glastopf.files_2020-02-01.json',\n",
       " '../../RAID5/original_tmp_data/0405-0418/mongo/凱擘/glastopf/glastopf.files_2020-01-31.json',\n",
       " '../../RAID5/original_tmp_data/0405-0418/mongo/凱擘/glastopf/glastopf.files_2020-01-30.json',\n",
       " '../../RAID5/original_tmp_data/0405-0418/mongo/凱擘/glastopf/glastopf.files_2020-01-29.json',\n",
       " '../../RAID5/original_tmp_data/0405-0418/mongo/凱擘/glastopf/glastopf.files_2020-01-28.json',\n",
       " '../../RAID5/original_tmp_data/0405-0418/mongo/凱擘/glastopf/glastopf.files_2020-01-27.json',\n",
       " '../../RAID5/original_tmp_data/0405-0418/mongo/凱擘/glastopf/glastopf.files_2020-01-26.json',\n",
       " '../../RAID5/original_tmp_data/0405-0418/mongo/凱擘/glastopf/glastopf.files_2020-01-25.json',\n",
       " '../../RAID5/original_tmp_data/0405-0418/mongo/凱擘/glastopf/glastopf.files_2020-01-24.json',\n",
       " '../../RAID5/original_tmp_data/0405-0418/mongo/凱擘/glastopf/glastopf.files_2020-01-23.json',\n",
       " '../../RAID5/original_tmp_data/0405-0418/mongo/凱擘/glastopf/glastopf.files_2020-01-22.json',\n",
       " '../../RAID5/original_tmp_data/0405-0418/mongo/凱擘/glastopf/glastopf.files_2020-01-21.json',\n",
       " '../../RAID5/original_tmp_data/0405-0418/mongo/凱擘/glastopf/glastopf.files_2020-01-20.json',\n",
       " '../../RAID5/original_tmp_data/0405-0418/mongo/凱擘/glastopf/glastopf.files_2020-01-19.json',\n",
       " '../../RAID5/original_tmp_data/0405-0418/mongo/凱擘/glastopf/glastopf.files_2020-01-18.json',\n",
       " '../../RAID5/original_tmp_data/0405-0418/mongo/凱擘/glastopf/glastopf.files_2020-01-17.json',\n",
       " '../../RAID5/original_tmp_data/0405-0418/mongo/凱擘/glastopf/glastopf.files_2020-01-16.json',\n",
       " '../../RAID5/original_tmp_data/0405-0418/mongo/凱擘/glastopf/glastopf.files_2020-01-15.json',\n",
       " '../../RAID5/original_tmp_data/0405-0418/mongo/凱擘/glastopf/glastopf.files_2020-01-14.json',\n",
       " '../../RAID5/original_tmp_data/0405-0418/mongo/凱擘/glastopf/glastopf.files_2020-01-13.json',\n",
       " '../../RAID5/original_tmp_data/0405-0418/mongo/凱擘/glastopf/glastopf.files_2020-01-12.json',\n",
       " '../../RAID5/original_tmp_data/0405-0418/mongo/凱擘/glastopf/glastopf.files_2020-01-11.json',\n",
       " '../../RAID5/original_tmp_data/0405-0418/mongo/凱擘/glastopf/glastopf.files_2020-01-10.json',\n",
       " '../../RAID5/original_tmp_data/0405-0418/mongo/凱擘/glastopf/glastopf.files_2020-01-09.json',\n",
       " '../../RAID5/original_tmp_data/0405-0418/mongo/凱擘/glastopf/glastopf.files_2020-01-08.json',\n",
       " '../../RAID5/original_tmp_data/0405-0418/mongo/凱擘/glastopf/glastopf.files_2020-01-07.json',\n",
       " '../../RAID5/original_tmp_data/0405-0418/mongo/凱擘/glastopf/glastopf.files_2020-01-06.json',\n",
       " '../../RAID5/original_tmp_data/0405-0418/mongo/凱擘/glastopf/glastopf.files_2020-01-05.json',\n",
       " '../../RAID5/original_tmp_data/0405-0418/mongo/凱擘/glastopf/glastopf.files_2020-01-04.json',\n",
       " '../../RAID5/original_tmp_data/0405-0418/mongo/凱擘/glastopf/glastopf.files_2020-01-03.json',\n",
       " '../../RAID5/original_tmp_data/0405-0418/mongo/凱擘/glastopf/glastopf.files_2020-01-02.json',\n",
       " '../../RAID5/original_tmp_data/0405-0418/mongo/凱擘/glastopf/glastopf.files_2020-01-01.json',\n",
       " '../../RAID5/original_tmp_data/0405-0418/mongo/凱擘/glastopf/glastopf.files_2019-12-31.json',\n",
       " '../../RAID5/original_tmp_data/0405-0418/mongo/凱擘/glastopf/glastopf.files_2019-12-30.json',\n",
       " '../../RAID5/original_tmp_data/0405-0418/mongo/凱擘/glastopf/glastopf.files_2019-12-29.json',\n",
       " '../../RAID5/original_tmp_data/0405-0418/mongo/凱擘/glastopf/glastopf.events_2020-05-27.json',\n",
       " '../../RAID5/original_tmp_data/0405-0418/mongo/凱擘/glastopf/glastopf.events_2020-05-26.json',\n",
       " '../../RAID5/original_tmp_data/0405-0418/mongo/凱擘/glastopf/glastopf.events_2020-05-25.json',\n",
       " '../../RAID5/original_tmp_data/0405-0418/mongo/凱擘/glastopf/glastopf.events_2020-05-24.json',\n",
       " '../../RAID5/original_tmp_data/0405-0418/mongo/凱擘/glastopf/glastopf.events_2020-05-21.json',\n",
       " '../../RAID5/original_tmp_data/0405-0418/mongo/凱擘/glastopf/glastopf.events_2020-05-15.json',\n",
       " '../../RAID5/original_tmp_data/0405-0418/mongo/凱擘/glastopf/glastopf.events_2020-05-14.json',\n",
       " '../../RAID5/original_tmp_data/0405-0418/mongo/凱擘/glastopf/glastopf.events_2020-05-13.json',\n",
       " '../../RAID5/original_tmp_data/0405-0418/mongo/凱擘/glastopf/glastopf.events_2020-05-12.json',\n",
       " '../../RAID5/original_tmp_data/0405-0418/mongo/凱擘/glastopf/glastopf.events_2020-05-11.json',\n",
       " '../../RAID5/original_tmp_data/0405-0418/mongo/凱擘/glastopf/glastopf.events_2020-05-10.json',\n",
       " '../../RAID5/original_tmp_data/0405-0418/mongo/凱擘/glastopf/glastopf.events_2020-05-09.json',\n",
       " '../../RAID5/original_tmp_data/0405-0418/mongo/凱擘/glastopf/glastopf.events_2020-05-08.json',\n",
       " '../../RAID5/original_tmp_data/0405-0418/mongo/凱擘/glastopf/glastopf.events_2020-05-07.json',\n",
       " '../../RAID5/original_tmp_data/0405-0418/mongo/凱擘/glastopf/glastopf.events_2020-05-06.json',\n",
       " '../../RAID5/original_tmp_data/0405-0418/mongo/凱擘/glastopf/glastopf.events_2020-05-05.json',\n",
       " '../../RAID5/original_tmp_data/0405-0418/mongo/凱擘/glastopf/glastopf.events_2020-05-04.json',\n",
       " '../../RAID5/original_tmp_data/0405-0418/mongo/凱擘/glastopf/glastopf.events_2020-05-03.json',\n",
       " '../../RAID5/original_tmp_data/0405-0418/mongo/凱擘/glastopf/glastopf.events_2020-05-02.json',\n",
       " '../../RAID5/original_tmp_data/0405-0418/mongo/凱擘/glastopf/glastopf.events_2020-05-01.json',\n",
       " '../../RAID5/original_tmp_data/0405-0418/mongo/凱擘/glastopf/glastopf.events_2020-04-30.json',\n",
       " '../../RAID5/original_tmp_data/0405-0418/mongo/凱擘/glastopf/glastopf.events_2020-04-29.json',\n",
       " '../../RAID5/original_tmp_data/0405-0418/mongo/凱擘/glastopf/glastopf.events_2020-04-28.json',\n",
       " '../../RAID5/original_tmp_data/0405-0418/mongo/凱擘/glastopf/glastopf.events_2020-04-27.json',\n",
       " '../../RAID5/original_tmp_data/0405-0418/mongo/凱擘/glastopf/glastopf.events_2020-04-26.json',\n",
       " '../../RAID5/original_tmp_data/0405-0418/mongo/凱擘/glastopf/glastopf.events_2020-04-25.json',\n",
       " '../../RAID5/original_tmp_data/0405-0418/mongo/凱擘/glastopf/glastopf.events_2020-04-24.json',\n",
       " '../../RAID5/original_tmp_data/0405-0418/mongo/凱擘/glastopf/glastopf.events_2020-04-23.json',\n",
       " '../../RAID5/original_tmp_data/0405-0418/mongo/凱擘/glastopf/glastopf.events_2020-04-22.json',\n",
       " '../../RAID5/original_tmp_data/0405-0418/mongo/凱擘/glastopf/glastopf.events_2020-04-21.json',\n",
       " '../../RAID5/original_tmp_data/0405-0418/mongo/凱擘/glastopf/glastopf.events_2020-04-20.json',\n",
       " '../../RAID5/original_tmp_data/0405-0418/mongo/凱擘/glastopf/glastopf.events_2020-04-19.json',\n",
       " '../../RAID5/original_tmp_data/0405-0418/mongo/凱擘/glastopf/glastopf.events_2020-04-18.json',\n",
       " '../../RAID5/original_tmp_data/0405-0418/mongo/凱擘/glastopf/glastopf.events_2020-04-17.json',\n",
       " '../../RAID5/original_tmp_data/0405-0418/mongo/凱擘/glastopf/glastopf.events_2020-04-16.json',\n",
       " '../../RAID5/original_tmp_data/0405-0418/mongo/凱擘/glastopf/glastopf.events_2020-04-15.json',\n",
       " '../../RAID5/original_tmp_data/0405-0418/mongo/凱擘/glastopf/glastopf.events_2020-04-14.json',\n",
       " '../../RAID5/original_tmp_data/0405-0418/mongo/凱擘/glastopf/glastopf.events_2020-04-13.json',\n",
       " '../../RAID5/original_tmp_data/0405-0418/mongo/凱擘/glastopf/glastopf.events_2020-04-12.json',\n",
       " '../../RAID5/original_tmp_data/0405-0418/mongo/凱擘/glastopf/glastopf.events_2020-04-11.json',\n",
       " '../../RAID5/original_tmp_data/0405-0418/mongo/凱擘/glastopf/glastopf.events_2020-04-10.json',\n",
       " '../../RAID5/original_tmp_data/0405-0418/mongo/凱擘/glastopf/glastopf.events_2020-04-09.json',\n",
       " '../../RAID5/original_tmp_data/0405-0418/mongo/凱擘/glastopf/glastopf.events_2020-04-08.json',\n",
       " '../../RAID5/original_tmp_data/0405-0418/mongo/凱擘/glastopf/glastopf.events_2020-04-07.json',\n",
       " '../../RAID5/original_tmp_data/0405-0418/mongo/凱擘/glastopf/glastopf.events_2020-04-06.json',\n",
       " '../../RAID5/original_tmp_data/0405-0418/mongo/凱擘/glastopf/glastopf.events_2020-04-05.json',\n",
       " '../../RAID5/original_tmp_data/0405-0418/mongo/凱擘/glastopf/glastopf.events_2020-04-04.json',\n",
       " '../../RAID5/original_tmp_data/0405-0418/mongo/凱擘/glastopf/glastopf.events_2020-04-03.json',\n",
       " '../../RAID5/original_tmp_data/0405-0418/mongo/凱擘/glastopf/glastopf.events_2020-04-02.json',\n",
       " '../../RAID5/original_tmp_data/0405-0418/mongo/凱擘/glastopf/glastopf.events_2020-04-01.json',\n",
       " '../../RAID5/original_tmp_data/0405-0418/mongo/凱擘/glastopf/glastopf.events_2020-03-31.json',\n",
       " '../../RAID5/original_tmp_data/0405-0418/mongo/凱擘/glastopf/glastopf.events_2020-03-30.json',\n",
       " '../../RAID5/original_tmp_data/0405-0418/mongo/凱擘/glastopf/glastopf.events_2020-03-29.json',\n",
       " '../../RAID5/original_tmp_data/0405-0418/mongo/凱擘/glastopf/glastopf.events_2020-03-28.json',\n",
       " '../../RAID5/original_tmp_data/0405-0418/mongo/凱擘/glastopf/glastopf.events_2020-03-27.json',\n",
       " '../../RAID5/original_tmp_data/0405-0418/mongo/凱擘/glastopf/glastopf.events_2020-03-26.json',\n",
       " '../../RAID5/original_tmp_data/0405-0418/mongo/凱擘/glastopf/glastopf.events_2020-03-25.json',\n",
       " '../../RAID5/original_tmp_data/0405-0418/mongo/凱擘/glastopf/glastopf.events_2020-03-24.json',\n",
       " '../../RAID5/original_tmp_data/0405-0418/mongo/凱擘/glastopf/glastopf.events_2020-03-23.json',\n",
       " '../../RAID5/original_tmp_data/0405-0418/mongo/凱擘/glastopf/glastopf.events_2020-03-22.json',\n",
       " '../../RAID5/original_tmp_data/0405-0418/mongo/凱擘/glastopf/glastopf.events_2020-03-21.json',\n",
       " '../../RAID5/original_tmp_data/0405-0418/mongo/凱擘/glastopf/glastopf.events_2020-03-20.json',\n",
       " '../../RAID5/original_tmp_data/0405-0418/mongo/凱擘/glastopf/glastopf.events_2020-03-19.json',\n",
       " '../../RAID5/original_tmp_data/0405-0418/mongo/凱擘/glastopf/glastopf.events_2020-03-18.json',\n",
       " '../../RAID5/original_tmp_data/0405-0418/mongo/凱擘/glastopf/glastopf.events_2020-03-17.json',\n",
       " '../../RAID5/original_tmp_data/0405-0418/mongo/凱擘/glastopf/glastopf.events_2020-03-16.json',\n",
       " '../../RAID5/original_tmp_data/0405-0418/mongo/凱擘/glastopf/glastopf.events_2020-03-15.json',\n",
       " '../../RAID5/original_tmp_data/0405-0418/mongo/凱擘/glastopf/glastopf.events_2020-03-14.json',\n",
       " '../../RAID5/original_tmp_data/0405-0418/mongo/凱擘/glastopf/glastopf.events_2020-03-13.json',\n",
       " '../../RAID5/original_tmp_data/0405-0418/mongo/凱擘/glastopf/glastopf.events_2020-03-12.json',\n",
       " '../../RAID5/original_tmp_data/0405-0418/mongo/凱擘/glastopf/glastopf.events_2020-03-11.json',\n",
       " '../../RAID5/original_tmp_data/0405-0418/mongo/凱擘/glastopf/glastopf.events_2020-03-10.json',\n",
       " '../../RAID5/original_tmp_data/0405-0418/mongo/凱擘/glastopf/glastopf.events_2020-03-09.json',\n",
       " '../../RAID5/original_tmp_data/0405-0418/mongo/凱擘/glastopf/glastopf.events_2020-03-08.json',\n",
       " '../../RAID5/original_tmp_data/0405-0418/mongo/凱擘/glastopf/glastopf.events_2020-03-07.json',\n",
       " '../../RAID5/original_tmp_data/0405-0418/mongo/凱擘/glastopf/glastopf.events_2020-03-06.json',\n",
       " '../../RAID5/original_tmp_data/0405-0418/mongo/凱擘/glastopf/glastopf.events_2020-03-05.json',\n",
       " '../../RAID5/original_tmp_data/0405-0418/mongo/凱擘/glastopf/glastopf.events_2020-03-04.json',\n",
       " '../../RAID5/original_tmp_data/0405-0418/mongo/凱擘/glastopf/glastopf.events_2020-03-03.json',\n",
       " '../../RAID5/original_tmp_data/0405-0418/mongo/凱擘/glastopf/glastopf.events_2020-03-02.json',\n",
       " '../../RAID5/original_tmp_data/0405-0418/mongo/凱擘/glastopf/glastopf.events_2020-03-01.json',\n",
       " '../../RAID5/original_tmp_data/0405-0418/mongo/凱擘/glastopf/glastopf.events_2020-02-29.json',\n",
       " '../../RAID5/original_tmp_data/0405-0418/mongo/凱擘/glastopf/glastopf.events_2020-02-28.json',\n",
       " '../../RAID5/original_tmp_data/0405-0418/mongo/凱擘/glastopf/glastopf.events_2020-02-27.json',\n",
       " '../../RAID5/original_tmp_data/0405-0418/mongo/凱擘/glastopf/glastopf.events_2020-02-26.json',\n",
       " '../../RAID5/original_tmp_data/0405-0418/mongo/凱擘/glastopf/glastopf.events_2020-02-25.json',\n",
       " '../../RAID5/original_tmp_data/0405-0418/mongo/凱擘/glastopf/glastopf.events_2020-02-24.json',\n",
       " '../../RAID5/original_tmp_data/0405-0418/mongo/凱擘/glastopf/glastopf.events_2020-02-23.json',\n",
       " '../../RAID5/original_tmp_data/0405-0418/mongo/凱擘/glastopf/glastopf.events_2020-02-22.json',\n",
       " '../../RAID5/original_tmp_data/0405-0418/mongo/凱擘/glastopf/glastopf.events_2020-02-21.json',\n",
       " '../../RAID5/original_tmp_data/0405-0418/mongo/凱擘/glastopf/glastopf.events_2020-02-20.json',\n",
       " '../../RAID5/original_tmp_data/0405-0418/mongo/凱擘/glastopf/glastopf.events_2020-02-19.json',\n",
       " '../../RAID5/original_tmp_data/0405-0418/mongo/凱擘/glastopf/glastopf.events_2020-02-18.json',\n",
       " '../../RAID5/original_tmp_data/0405-0418/mongo/凱擘/glastopf/glastopf.events_2020-02-17.json',\n",
       " '../../RAID5/original_tmp_data/0405-0418/mongo/凱擘/glastopf/glastopf.events_2020-02-16.json',\n",
       " '../../RAID5/original_tmp_data/0405-0418/mongo/凱擘/glastopf/glastopf.events_2020-02-15.json',\n",
       " '../../RAID5/original_tmp_data/0405-0418/mongo/凱擘/glastopf/glastopf.events_2020-02-14.json',\n",
       " '../../RAID5/original_tmp_data/0405-0418/mongo/凱擘/glastopf/glastopf.events_2020-02-13.json',\n",
       " '../../RAID5/original_tmp_data/0405-0418/mongo/凱擘/glastopf/glastopf.events_2020-02-12.json',\n",
       " '../../RAID5/original_tmp_data/0405-0418/mongo/凱擘/glastopf/glastopf.events_2020-02-11.json',\n",
       " '../../RAID5/original_tmp_data/0405-0418/mongo/凱擘/glastopf/glastopf.events_2020-02-10.json',\n",
       " '../../RAID5/original_tmp_data/0405-0418/mongo/凱擘/glastopf/glastopf.events_2020-02-09.json',\n",
       " '../../RAID5/original_tmp_data/0405-0418/mongo/凱擘/glastopf/glastopf.events_2020-02-08.json',\n",
       " '../../RAID5/original_tmp_data/0405-0418/mongo/凱擘/glastopf/glastopf.events_2020-02-07.json',\n",
       " '../../RAID5/original_tmp_data/0405-0418/mongo/凱擘/glastopf/glastopf.events_2020-02-06.json',\n",
       " '../../RAID5/original_tmp_data/0405-0418/mongo/凱擘/glastopf/glastopf.events_2020-02-05.json',\n",
       " '../../RAID5/original_tmp_data/0405-0418/mongo/凱擘/glastopf/glastopf.events_2020-02-04.json',\n",
       " '../../RAID5/original_tmp_data/0405-0418/mongo/凱擘/glastopf/glastopf.events_2020-02-03.json',\n",
       " '../../RAID5/original_tmp_data/0405-0418/mongo/凱擘/glastopf/glastopf.events_2020-02-02.json',\n",
       " '../../RAID5/original_tmp_data/0405-0418/mongo/凱擘/glastopf/glastopf.events_2020-02-01.json',\n",
       " '../../RAID5/original_tmp_data/0405-0418/mongo/凱擘/glastopf/glastopf.events_2020-01-31.json',\n",
       " '../../RAID5/original_tmp_data/0405-0418/mongo/凱擘/glastopf/glastopf.events_2020-01-30.json',\n",
       " '../../RAID5/original_tmp_data/0405-0418/mongo/凱擘/glastopf/glastopf.events_2020-01-29.json',\n",
       " '../../RAID5/original_tmp_data/0405-0418/mongo/凱擘/glastopf/glastopf.events_2020-01-28.json',\n",
       " '../../RAID5/original_tmp_data/0405-0418/mongo/凱擘/glastopf/glastopf.events_2020-01-27.json',\n",
       " '../../RAID5/original_tmp_data/0405-0418/mongo/凱擘/glastopf/glastopf.events_2020-01-26.json',\n",
       " '../../RAID5/original_tmp_data/0405-0418/mongo/凱擘/glastopf/glastopf.events_2020-01-25.json',\n",
       " '../../RAID5/original_tmp_data/0405-0418/mongo/凱擘/glastopf/glastopf.events_2020-01-24.json',\n",
       " '../../RAID5/original_tmp_data/0405-0418/mongo/凱擘/glastopf/glastopf.events_2020-01-23.json',\n",
       " '../../RAID5/original_tmp_data/0405-0418/mongo/凱擘/glastopf/glastopf.events_2020-01-22.json',\n",
       " '../../RAID5/original_tmp_data/0405-0418/mongo/凱擘/glastopf/glastopf.events_2020-01-21.json',\n",
       " '../../RAID5/original_tmp_data/0405-0418/mongo/凱擘/glastopf/glastopf.events_2020-01-20.json',\n",
       " '../../RAID5/original_tmp_data/0405-0418/mongo/凱擘/glastopf/glastopf.events_2020-01-19.json',\n",
       " '../../RAID5/original_tmp_data/0405-0418/mongo/凱擘/glastopf/glastopf.events_2020-01-18.json',\n",
       " '../../RAID5/original_tmp_data/0405-0418/mongo/凱擘/glastopf/glastopf.events_2020-01-17.json',\n",
       " '../../RAID5/original_tmp_data/0405-0418/mongo/凱擘/glastopf/glastopf.events_2020-01-16.json',\n",
       " '../../RAID5/original_tmp_data/0405-0418/mongo/凱擘/glastopf/glastopf.events_2020-01-15.json',\n",
       " '../../RAID5/original_tmp_data/0405-0418/mongo/凱擘/glastopf/glastopf.events_2020-01-14.json',\n",
       " '../../RAID5/original_tmp_data/0405-0418/mongo/凱擘/glastopf/glastopf.events_2020-01-13.json',\n",
       " '../../RAID5/original_tmp_data/0405-0418/mongo/凱擘/glastopf/glastopf.events_2020-01-12.json',\n",
       " '../../RAID5/original_tmp_data/0405-0418/mongo/凱擘/glastopf/glastopf.events_2020-01-11.json',\n",
       " '../../RAID5/original_tmp_data/0405-0418/mongo/凱擘/glastopf/glastopf.events_2020-01-10.json',\n",
       " '../../RAID5/original_tmp_data/0405-0418/mongo/凱擘/glastopf/glastopf.events_2020-01-09.json',\n",
       " '../../RAID5/original_tmp_data/0405-0418/mongo/凱擘/glastopf/glastopf.events_2020-01-08.json',\n",
       " '../../RAID5/original_tmp_data/0405-0418/mongo/凱擘/glastopf/glastopf.events_2020-01-07.json',\n",
       " '../../RAID5/original_tmp_data/0405-0418/mongo/凱擘/glastopf/glastopf.events_2020-01-06.json',\n",
       " '../../RAID5/original_tmp_data/0405-0418/mongo/凱擘/glastopf/glastopf.events_2020-01-05.json',\n",
       " '../../RAID5/original_tmp_data/0405-0418/mongo/凱擘/glastopf/glastopf.events_2020-01-04.json',\n",
       " '../../RAID5/original_tmp_data/0405-0418/mongo/凱擘/glastopf/glastopf.events_2020-01-03.json',\n",
       " '../../RAID5/original_tmp_data/0405-0418/mongo/凱擘/glastopf/glastopf.events_2020-01-02.json',\n",
       " '../../RAID5/original_tmp_data/0405-0418/mongo/凱擘/glastopf/glastopf.events_2020-01-01.json',\n",
       " '../../RAID5/original_tmp_data/0405-0418/mongo/凱擘/glastopf/glastopf.events_2019-12-31.json',\n",
       " '../../RAID5/original_tmp_data/0405-0418/mongo/凱擘/glastopf/glastopf.events_2019-12-30.json',\n",
       " '../../RAID5/original_tmp_data/0405-0418/mongo/凱擘/glastopf/glastopf.events_2019-12-29.json',\n",
       " '../../RAID5/original_tmp_data/0405-0418/mongo/凱擘/dionaea/dionaea.connections_2020-04-18.json',\n",
       " '../../RAID5/original_tmp_data/0405-0418/mongo/凱擘/dionaea/dionaea.connections_2020-04-17.json',\n",
       " '../../RAID5/original_tmp_data/0405-0418/mongo/凱擘/dionaea/dionaea.connections_2020-04-16.json',\n",
       " '../../RAID5/original_tmp_data/0405-0418/mongo/凱擘/dionaea/dionaea.connections_2020-04-15.json',\n",
       " '../../RAID5/original_tmp_data/0405-0418/mongo/凱擘/dionaea/dionaea.connections_2020-04-14.json',\n",
       " '../../RAID5/original_tmp_data/0405-0418/mongo/凱擘/dionaea/dionaea.connections_2020-04-13.json',\n",
       " '../../RAID5/original_tmp_data/0405-0418/mongo/凱擘/dionaea/dionaea.connections_2020-04-12.json',\n",
       " '../../RAID5/original_tmp_data/0405-0418/mongo/凱擘/dionaea/dionaea.connections_2020-04-11.json',\n",
       " '../../RAID5/original_tmp_data/0405-0418/mongo/凱擘/dionaea/dionaea.connections_2020-04-10.json',\n",
       " '../../RAID5/original_tmp_data/0405-0418/mongo/凱擘/dionaea/dionaea.connections_2020-04-09.json',\n",
       " '../../RAID5/original_tmp_data/0405-0418/mongo/凱擘/dionaea/dionaea.connections_2020-04-08.json',\n",
       " '../../RAID5/original_tmp_data/0405-0418/mongo/凱擘/dionaea/dionaea.connections_2020-04-07.json',\n",
       " '../../RAID5/original_tmp_data/0405-0418/mongo/凱擘/dionaea/dionaea.connections_2020-04-06.json',\n",
       " '../../RAID5/original_tmp_data/0405-0418/mongo/凱擘/dionaea/dionaea.connections_2020-04-05.json',\n",
       " '../../RAID5/original_tmp_data/0405-0418/mongo/凱擘/dionaea/dionaea.connections_2020-04-04.json',\n",
       " '../../RAID5/original_tmp_data/0405-0418/mongo/凱擘/dionaea/dionaea.connections_2020-04-03.json',\n",
       " '../../RAID5/original_tmp_data/0405-0418/mongo/凱擘/dionaea/dionaea.connections_2020-04-02.json',\n",
       " '../../RAID5/original_tmp_data/0405-0418/mongo/凱擘/dionaea/dionaea.connections_2020-04-01.json',\n",
       " '../../RAID5/original_tmp_data/0405-0418/mongo/凱擘/dionaea/dionaea.connections_2020-03-31.json',\n",
       " '../../RAID5/original_tmp_data/0405-0418/mongo/凱擘/dionaea/dionaea.connections_2020-03-30.json',\n",
       " '../../RAID5/original_tmp_data/0405-0418/mongo/凱擘/dionaea/dionaea.connections_2020-03-29.json',\n",
       " '../../RAID5/original_tmp_data/0405-0418/mongo/凱擘/dionaea/dionaea.connections_2020-03-28.json',\n",
       " '../../RAID5/original_tmp_data/0405-0418/mongo/凱擘/dionaea/dionaea.connections_2020-03-27.json',\n",
       " '../../RAID5/original_tmp_data/0405-0418/mongo/凱擘/dionaea/dionaea.connections_2020-03-26.json',\n",
       " '../../RAID5/original_tmp_data/0405-0418/mongo/凱擘/dionaea/dionaea.connections_2020-03-25.json',\n",
       " '../../RAID5/original_tmp_data/0405-0418/mongo/凱擘/dionaea/dionaea.connections_2020-03-24.json',\n",
       " '../../RAID5/original_tmp_data/0405-0418/mongo/凱擘/dionaea/dionaea.connections_2020-03-23.json',\n",
       " '../../RAID5/original_tmp_data/0405-0418/mongo/凱擘/dionaea/dionaea.connections_2020-03-22.json',\n",
       " '../../RAID5/original_tmp_data/0405-0418/mongo/凱擘/dionaea/dionaea.connections_2020-03-21.json',\n",
       " '../../RAID5/original_tmp_data/0405-0418/mongo/凱擘/dionaea/dionaea.connections_2020-03-20.json',\n",
       " '../../RAID5/original_tmp_data/0405-0418/mongo/凱擘/dionaea/dionaea.connections_2020-03-19.json',\n",
       " '../../RAID5/original_tmp_data/0405-0418/mongo/凱擘/dionaea/dionaea.connections_2020-03-18.json',\n",
       " '../../RAID5/original_tmp_data/0405-0418/mongo/凱擘/dionaea/dionaea.connections_2020-03-17.json',\n",
       " '../../RAID5/original_tmp_data/0405-0418/mongo/凱擘/dionaea/dionaea.connections_2020-03-16.json',\n",
       " '../../RAID5/original_tmp_data/0405-0418/mongo/凱擘/dionaea/dionaea.connections_2020-03-15.json',\n",
       " '../../RAID5/original_tmp_data/0405-0418/mongo/凱擘/dionaea/dionaea.connections_2020-03-14.json',\n",
       " '../../RAID5/original_tmp_data/0405-0418/mongo/凱擘/dionaea/dionaea.connections_2020-03-13.json',\n",
       " '../../RAID5/original_tmp_data/0405-0418/mongo/凱擘/dionaea/dionaea.connections_2020-03-12.json',\n",
       " '../../RAID5/original_tmp_data/0405-0418/mongo/凱擘/dionaea/dionaea.connections_2020-03-11.json',\n",
       " '../../RAID5/original_tmp_data/0405-0418/mongo/凱擘/dionaea/dionaea.connections_2020-03-10.json',\n",
       " '../../RAID5/original_tmp_data/0405-0418/mongo/凱擘/dionaea/dionaea.connections_2020-03-09.json',\n",
       " '../../RAID5/original_tmp_data/0405-0418/mongo/凱擘/dionaea/dionaea.connections_2020-03-08.json',\n",
       " '../../RAID5/original_tmp_data/0405-0418/mongo/凱擘/dionaea/dionaea.connections_2020-03-07.json',\n",
       " '../../RAID5/original_tmp_data/0405-0418/mongo/凱擘/dionaea/dionaea.connections_2020-03-06.json',\n",
       " '../../RAID5/original_tmp_data/0405-0418/mongo/凱擘/dionaea/dionaea.connections_2020-03-05.json',\n",
       " '../../RAID5/original_tmp_data/0405-0418/mongo/凱擘/dionaea/dionaea.connections_2020-03-04.json',\n",
       " '../../RAID5/original_tmp_data/0405-0418/mongo/凱擘/dionaea/dionaea.connections_2020-03-03.json',\n",
       " '../../RAID5/original_tmp_data/0405-0418/mongo/凱擘/dionaea/dionaea.connections_2020-03-02.json',\n",
       " '../../RAID5/original_tmp_data/0405-0418/mongo/凱擘/dionaea/dionaea.connections_2020-03-01.json',\n",
       " '../../RAID5/original_tmp_data/0405-0418/mongo/凱擘/dionaea/dionaea.connections_2020-02-29.json',\n",
       " '../../RAID5/original_tmp_data/0405-0418/mongo/凱擘/dionaea/dionaea.connections_2020-02-28.json',\n",
       " '../../RAID5/original_tmp_data/0405-0418/mongo/凱擘/dionaea/dionaea.connections_2020-02-27.json',\n",
       " '../../RAID5/original_tmp_data/0405-0418/mongo/凱擘/dionaea/dionaea.connections_2020-02-26.json',\n",
       " '../../RAID5/original_tmp_data/0405-0418/mongo/凱擘/dionaea/dionaea.connections_2020-02-25.json',\n",
       " '../../RAID5/original_tmp_data/0405-0418/mongo/凱擘/dionaea/dionaea.connections_2020-02-24.json',\n",
       " '../../RAID5/original_tmp_data/0405-0418/mongo/凱擘/dionaea/dionaea.connections_2020-02-23.json',\n",
       " '../../RAID5/original_tmp_data/0405-0418/mongo/凱擘/dionaea/dionaea.connections_2020-02-22.json',\n",
       " '../../RAID5/original_tmp_data/0405-0418/mongo/凱擘/dionaea/dionaea.connections_2020-02-21.json',\n",
       " '../../RAID5/original_tmp_data/0405-0418/mongo/凱擘/dionaea/dionaea.connections_2020-02-20.json',\n",
       " '../../RAID5/original_tmp_data/0405-0418/mongo/凱擘/dionaea/dionaea.connections_2020-02-19.json',\n",
       " '../../RAID5/original_tmp_data/0405-0418/mongo/凱擘/dionaea/dionaea.connections_2020-02-18.json',\n",
       " '../../RAID5/original_tmp_data/0405-0418/mongo/凱擘/dionaea/dionaea.connections_2020-02-17.json',\n",
       " '../../RAID5/original_tmp_data/0405-0418/mongo/凱擘/dionaea/dionaea.connections_2020-02-16.json',\n",
       " '../../RAID5/original_tmp_data/0405-0418/mongo/凱擘/dionaea/dionaea.connections_2020-02-15.json',\n",
       " '../../RAID5/original_tmp_data/0405-0418/mongo/凱擘/dionaea/dionaea.connections_2020-02-14.json',\n",
       " '../../RAID5/original_tmp_data/0405-0418/mongo/凱擘/dionaea/dionaea.connections_2020-02-13.json',\n",
       " '../../RAID5/original_tmp_data/0405-0418/mongo/凱擘/dionaea/dionaea.connections_2020-02-12.json',\n",
       " '../../RAID5/original_tmp_data/0405-0418/mongo/凱擘/dionaea/dionaea.connections_2020-02-11.json',\n",
       " '../../RAID5/original_tmp_data/0405-0418/mongo/凱擘/dionaea/dionaea.connections_2020-02-10.json',\n",
       " '../../RAID5/original_tmp_data/0405-0418/mongo/凱擘/dionaea/dionaea.connections_2020-02-09.json',\n",
       " '../../RAID5/original_tmp_data/0405-0418/mongo/凱擘/dionaea/dionaea.connections_2020-02-08.json',\n",
       " '../../RAID5/original_tmp_data/0405-0418/mongo/凱擘/dionaea/dionaea.connections_2020-02-07.json',\n",
       " ...]"
      ]
     },
     "execution_count": 33,
     "metadata": {},
     "output_type": "execute_result"
    }
   ],
   "source": [
    "all_paths = glob.glob(src_dir+'**/*.json', recursive=True)\n",
    "print(len(all_paths))\n",
    "all_paths"
   ]
  },
  {
   "cell_type": "code",
   "execution_count": 34,
   "metadata": {},
   "outputs": [
    {
     "data": {
      "text/plain": [
       "'../../RAID5/original_tmp_data/0405-0418/mongo/台灣基礎開發/amun/amun.events_2019-12-29.json'"
      ]
     },
     "execution_count": 34,
     "metadata": {},
     "output_type": "execute_result"
    }
   ],
   "source": [
    "all_paths[-1]"
   ]
  },
  {
   "cell_type": "code",
   "execution_count": null,
   "metadata": {
    "scrolled": true
   },
   "outputs": [
    {
     "name": "stderr",
     "output_type": "stream",
     "text": [
      "  1%|▏         | 98/7248 [00:03<02:48, 42.53it/s]"
     ]
    },
    {
     "name": "stdout",
     "output_type": "stream",
     "text": [
      "../../RAID5/original_tmp_data/0405-0418/mongo/遠傳/glastopf/glastopf.files_2020-01-11.json\n",
      "../../RAID5/original_tmp_data/0405-0418/mongo/遠傳/glastopf/glastopf.events_2020-01-11.json\n"
     ]
    },
    {
     "name": "stderr",
     "output_type": "stream",
     "text": [
      "\r",
      "  3%|▎         | 198/7248 [00:03<02:01, 57.85it/s]"
     ]
    },
    {
     "name": "stdout",
     "output_type": "stream",
     "text": [
      "../../RAID5/original_tmp_data/0405-0418/mongo/遠傳/glastopf/glastopf.files_2020-01-10.json\n",
      "../../RAID5/original_tmp_data/0405-0418/mongo/遠傳/glastopf/glastopf.files_2020-01-09.json\n",
      "../../RAID5/original_tmp_data/0405-0418/mongo/遠傳/glastopf/glastopf.files_2020-01-08.json\n",
      "../../RAID5/original_tmp_data/0405-0418/mongo/遠傳/glastopf/glastopf.files_2020-01-07.json\n",
      "../../RAID5/original_tmp_data/0405-0418/mongo/遠傳/glastopf/glastopf.files_2020-01-06.json\n",
      "../../RAID5/original_tmp_data/0405-0418/mongo/遠傳/glastopf/glastopf.files_2020-01-05.json\n",
      "../../RAID5/original_tmp_data/0405-0418/mongo/遠傳/glastopf/glastopf.files_2020-01-04.json\n",
      "../../RAID5/original_tmp_data/0405-0418/mongo/遠傳/glastopf/glastopf.files_2020-01-03.json\n",
      "../../RAID5/original_tmp_data/0405-0418/mongo/遠傳/glastopf/glastopf.files_2020-01-02.json\n",
      "../../RAID5/original_tmp_data/0405-0418/mongo/遠傳/glastopf/glastopf.files_2020-01-01.json\n",
      "../../RAID5/original_tmp_data/0405-0418/mongo/遠傳/glastopf/glastopf.files_2019-12-31.json\n",
      "../../RAID5/original_tmp_data/0405-0418/mongo/遠傳/glastopf/glastopf.files_2019-12-30.json\n",
      "../../RAID5/original_tmp_data/0405-0418/mongo/遠傳/glastopf/glastopf.files_2019-12-29.json\n",
      "../../RAID5/original_tmp_data/0405-0418/mongo/遠傳/glastopf/glastopf.events_2020-01-07.json\n"
     ]
    },
    {
     "name": "stderr",
     "output_type": "stream",
     "text": [
      "\r",
      "  3%|▎         | 212/7248 [00:03<02:22, 49.33it/s]"
     ]
    },
    {
     "name": "stdout",
     "output_type": "stream",
     "text": [
      "../../RAID5/original_tmp_data/0405-0418/mongo/遠傳/glastopf/glastopf.events_2020-01-08.json\n",
      "../../RAID5/original_tmp_data/0405-0418/mongo/遠傳/glastopf/glastopf.events_2020-01-09.json\n",
      "../../RAID5/original_tmp_data/0405-0418/mongo/遠傳/glastopf/glastopf.events_2020-01-01.json\n",
      "../../RAID5/original_tmp_data/0405-0418/mongo/遠傳/glastopf/glastopf.events_2020-01-02.json\n",
      "../../RAID5/original_tmp_data/0405-0418/mongo/遠傳/glastopf/glastopf.events_2020-01-03.json\n",
      "../../RAID5/original_tmp_data/0405-0418/mongo/遠傳/glastopf/glastopf.events_2020-01-06.json\n",
      "../../RAID5/original_tmp_data/0405-0418/mongo/遠傳/glastopf/glastopf.events_2019-12-31.json\n",
      "../../RAID5/original_tmp_data/0405-0418/mongo/遠傳/glastopf/glastopf.events_2020-01-10.json\n",
      "../../RAID5/original_tmp_data/0405-0418/mongo/遠傳/glastopf/glastopf.events_2019-12-29.json\n",
      "../../RAID5/original_tmp_data/0405-0418/mongo/遠傳/glastopf/glastopf.events_2020-01-05.json\n",
      "../../RAID5/original_tmp_data/0405-0418/mongo/遠傳/glastopf/glastopf.events_2019-12-30.json\n"
     ]
    },
    {
     "name": "stderr",
     "output_type": "stream",
     "text": [
      "\r",
      "  3%|▎         | 223/7248 [00:10<24:15,  4.83it/s]"
     ]
    },
    {
     "name": "stdout",
     "output_type": "stream",
     "text": [
      "../../RAID5/original_tmp_data/0405-0418/mongo/遠傳/glastopf/glastopf.events_2020-01-04.json\n"
     ]
    },
    {
     "name": "stderr",
     "output_type": "stream",
     "text": [
      "  4%|▍         | 318/7248 [00:15<02:38, 43.79it/s]"
     ]
    },
    {
     "name": "stdout",
     "output_type": "stream",
     "text": [
      "../../RAID5/original_tmp_data/0405-0418/mongo/遠傳/dionaea/dionaea.connections_2020-01-11.json\n"
     ]
    },
    {
     "name": "stderr",
     "output_type": "stream",
     "text": [
      "  4%|▍         | 323/7248 [00:30<1:50:40,  1.04it/s]"
     ]
    },
    {
     "name": "stdout",
     "output_type": "stream",
     "text": [
      "../../RAID5/original_tmp_data/0405-0418/mongo/遠傳/dionaea/dionaea.capture_2020-01-11.json\n",
      "../../RAID5/original_tmp_data/0405-0418/mongo/遠傳/dionaea/dionaea.connections_2020-01-10.json\n"
     ]
    },
    {
     "name": "stderr",
     "output_type": "stream",
     "text": [
      "\r",
      "  6%|▌         | 423/7248 [00:31<1:16:40,  1.48it/s]"
     ]
    },
    {
     "name": "stdout",
     "output_type": "stream",
     "text": [
      "../../RAID5/original_tmp_data/0405-0418/mongo/遠傳/dionaea/dionaea.connections_2020-01-09.json\n",
      "../../RAID5/original_tmp_data/0405-0418/mongo/遠傳/dionaea/dionaea.connections_2020-01-08.json\n",
      "../../RAID5/original_tmp_data/0405-0418/mongo/遠傳/dionaea/dionaea.connections_2020-01-07.json\n",
      "../../RAID5/original_tmp_data/0405-0418/mongo/遠傳/dionaea/dionaea.connections_2020-01-06.json\n"
     ]
    },
    {
     "name": "stderr",
     "output_type": "stream",
     "text": [
      "\r",
      "  6%|▌         | 427/7248 [00:41<2:14:33,  1.18s/it]"
     ]
    },
    {
     "name": "stdout",
     "output_type": "stream",
     "text": [
      "../../RAID5/original_tmp_data/0405-0418/mongo/遠傳/dionaea/dionaea.connections_2020-01-05.json\n"
     ]
    },
    {
     "name": "stderr",
     "output_type": "stream",
     "text": [
      "  6%|▌         | 428/7248 [01:28<28:17:12, 14.93s/it]"
     ]
    },
    {
     "name": "stdout",
     "output_type": "stream",
     "text": [
      "../../RAID5/original_tmp_data/0405-0418/mongo/遠傳/dionaea/dionaea.connections_2020-01-04.json\n"
     ]
    },
    {
     "name": "stderr",
     "output_type": "stream",
     "text": [
      "\r",
      "  6%|▌         | 429/7248 [01:35<23:33:20, 12.44s/it]"
     ]
    },
    {
     "name": "stdout",
     "output_type": "stream",
     "text": [
      "../../RAID5/original_tmp_data/0405-0418/mongo/遠傳/dionaea/dionaea.connections_2020-01-03.json\n"
     ]
    },
    {
     "name": "stderr",
     "output_type": "stream",
     "text": [
      "\r",
      "  6%|▌         | 430/7248 [01:35<16:52:54,  8.91s/it]"
     ]
    },
    {
     "name": "stdout",
     "output_type": "stream",
     "text": [
      "../../RAID5/original_tmp_data/0405-0418/mongo/遠傳/dionaea/dionaea.connections_2020-01-02.json\n"
     ]
    },
    {
     "name": "stderr",
     "output_type": "stream",
     "text": [
      "\r",
      "  6%|▌         | 431/7248 [01:36<12:27:35,  6.58s/it]"
     ]
    },
    {
     "name": "stdout",
     "output_type": "stream",
     "text": [
      "../../RAID5/original_tmp_data/0405-0418/mongo/遠傳/dionaea/dionaea.connections_2020-01-01.json\n"
     ]
    },
    {
     "name": "stderr",
     "output_type": "stream",
     "text": [
      "\r",
      "  6%|▌         | 432/7248 [01:37<9:01:52,  4.77s/it] "
     ]
    },
    {
     "name": "stdout",
     "output_type": "stream",
     "text": [
      "../../RAID5/original_tmp_data/0405-0418/mongo/遠傳/dionaea/dionaea.connections_2019-12-31.json\n"
     ]
    },
    {
     "name": "stderr",
     "output_type": "stream",
     "text": [
      "\r",
      "  6%|▌         | 433/7248 [01:40<8:22:09,  4.42s/it]"
     ]
    },
    {
     "name": "stdout",
     "output_type": "stream",
     "text": [
      "../../RAID5/original_tmp_data/0405-0418/mongo/遠傳/dionaea/dionaea.connections_2019-12-30.json\n"
     ]
    },
    {
     "name": "stderr",
     "output_type": "stream",
     "text": [
      "\r",
      "  6%|▌         | 434/7248 [01:54<13:48:37,  7.30s/it]"
     ]
    },
    {
     "name": "stdout",
     "output_type": "stream",
     "text": [
      "../../RAID5/original_tmp_data/0405-0418/mongo/遠傳/dionaea/dionaea.connections_2019-12-29.json\n"
     ]
    },
    {
     "name": "stderr",
     "output_type": "stream",
     "text": [
      "  6%|▋         | 453/7248 [02:07<11:34:40,  6.13s/it]"
     ]
    },
    {
     "name": "stdout",
     "output_type": "stream",
     "text": [
      "../../RAID5/original_tmp_data/0405-0418/mongo/遠傳/dionaea/dionaea.capture_2020-01-08.json\n",
      "../../RAID5/original_tmp_data/0405-0418/mongo/遠傳/dionaea/dionaea.capture_2019-12-29.json\n",
      "../../RAID5/original_tmp_data/0405-0418/mongo/遠傳/dionaea/dionaea.capture_2020-01-05.json\n",
      "../../RAID5/original_tmp_data/0405-0418/mongo/遠傳/dionaea/dionaea.capture_2020-01-07.json\n",
      "../../RAID5/original_tmp_data/0405-0418/mongo/遠傳/dionaea/dionaea.capture_2019-12-31.json\n",
      "../../RAID5/original_tmp_data/0405-0418/mongo/遠傳/dionaea/dionaea.capture_2020-01-01.json\n",
      "../../RAID5/original_tmp_data/0405-0418/mongo/遠傳/dionaea/dionaea.capture_2020-01-06.json\n",
      "../../RAID5/original_tmp_data/0405-0418/mongo/遠傳/dionaea/dionaea.capture_2020-01-03.json\n",
      "../../RAID5/original_tmp_data/0405-0418/mongo/遠傳/dionaea/dionaea.capture_2020-01-10.json\n",
      "../../RAID5/original_tmp_data/0405-0418/mongo/遠傳/dionaea/dionaea.capture_2020-01-04.json\n",
      "../../RAID5/original_tmp_data/0405-0418/mongo/遠傳/dionaea/dionaea.capture_2019-12-30.json\n",
      "../../RAID5/original_tmp_data/0405-0418/mongo/遠傳/dionaea/dionaea.capture_2020-01-09.json\n",
      "../../RAID5/original_tmp_data/0405-0418/mongo/遠傳/dionaea/dionaea.capture_2020-01-02.json\n"
     ]
    },
    {
     "name": "stderr",
     "output_type": "stream",
     "text": [
      "  7%|▋         | 542/7248 [02:09<03:05, 36.16it/s]   "
     ]
    },
    {
     "name": "stdout",
     "output_type": "stream",
     "text": [
      "../../RAID5/original_tmp_data/0405-0418/mongo/遠傳/cowrie/cowrie.sessions_2020-01-11.json\n"
     ]
    },
    {
     "name": "stderr",
     "output_type": "stream",
     "text": [
      "  8%|▊         | 547/7248 [02:30<2:23:11,  1.28s/it]"
     ]
    },
    {
     "name": "stdout",
     "output_type": "stream",
     "text": [
      "../../RAID5/original_tmp_data/0405-0418/mongo/遠傳/cowrie/cowrie.sessions_2020-01-10.json\n"
     ]
    },
    {
     "name": "stderr",
     "output_type": "stream",
     "text": [
      "\r",
      "  8%|▊         | 548/7248 [02:42<8:27:45,  4.55s/it]"
     ]
    },
    {
     "name": "stdout",
     "output_type": "stream",
     "text": [
      "../../RAID5/original_tmp_data/0405-0418/mongo/遠傳/cowrie/cowrie.sessions_2020-01-09.json\n"
     ]
    },
    {
     "name": "stderr",
     "output_type": "stream",
     "text": [
      "\r",
      "  8%|▊         | 549/7248 [02:55<13:01:30,  7.00s/it]"
     ]
    },
    {
     "name": "stdout",
     "output_type": "stream",
     "text": [
      "../../RAID5/original_tmp_data/0405-0418/mongo/遠傳/cowrie/cowrie.sessions_2020-01-08.json\n"
     ]
    },
    {
     "name": "stderr",
     "output_type": "stream",
     "text": [
      "\r",
      "  8%|▊         | 550/7248 [03:07<15:57:39,  8.58s/it]"
     ]
    },
    {
     "name": "stdout",
     "output_type": "stream",
     "text": [
      "../../RAID5/original_tmp_data/0405-0418/mongo/遠傳/cowrie/cowrie.sessions_2020-01-07.json\n"
     ]
    },
    {
     "name": "stderr",
     "output_type": "stream",
     "text": [
      "\r",
      "  8%|▊         | 551/7248 [03:20<18:10:51,  9.77s/it]"
     ]
    },
    {
     "name": "stdout",
     "output_type": "stream",
     "text": [
      "../../RAID5/original_tmp_data/0405-0418/mongo/遠傳/cowrie/cowrie.sessions_2020-01-06.json\n"
     ]
    },
    {
     "name": "stderr",
     "output_type": "stream",
     "text": [
      "\r",
      "  8%|▊         | 552/7248 [03:33<19:50:01, 10.66s/it]"
     ]
    },
    {
     "name": "stdout",
     "output_type": "stream",
     "text": [
      "../../RAID5/original_tmp_data/0405-0418/mongo/遠傳/cowrie/cowrie.sessions_2020-01-05.json\n"
     ]
    },
    {
     "name": "stderr",
     "output_type": "stream",
     "text": [
      "\r",
      "  8%|▊         | 553/7248 [03:46<21:06:35, 11.35s/it]"
     ]
    },
    {
     "name": "stdout",
     "output_type": "stream",
     "text": [
      "../../RAID5/original_tmp_data/0405-0418/mongo/遠傳/cowrie/cowrie.sessions_2020-01-04.json\n"
     ]
    },
    {
     "name": "stderr",
     "output_type": "stream",
     "text": [
      "\r",
      "  8%|▊         | 554/7248 [03:58<21:38:55, 11.64s/it]"
     ]
    },
    {
     "name": "stdout",
     "output_type": "stream",
     "text": [
      "../../RAID5/original_tmp_data/0405-0418/mongo/遠傳/cowrie/cowrie.sessions_2020-01-03.json\n"
     ]
    },
    {
     "name": "stderr",
     "output_type": "stream",
     "text": [
      "\r",
      "  8%|▊         | 555/7248 [04:11<22:25:46, 12.06s/it]"
     ]
    },
    {
     "name": "stdout",
     "output_type": "stream",
     "text": [
      "../../RAID5/original_tmp_data/0405-0418/mongo/遠傳/cowrie/cowrie.sessions_2020-01-02.json\n"
     ]
    },
    {
     "name": "stderr",
     "output_type": "stream",
     "text": [
      "\r",
      "  8%|▊         | 556/7248 [04:24<22:56:49, 12.34s/it]"
     ]
    },
    {
     "name": "stdout",
     "output_type": "stream",
     "text": [
      "../../RAID5/original_tmp_data/0405-0418/mongo/遠傳/cowrie/cowrie.sessions_2020-01-01.json\n"
     ]
    },
    {
     "name": "stderr",
     "output_type": "stream",
     "text": [
      "\r",
      "  8%|▊         | 557/7248 [04:37<23:24:30, 12.59s/it]"
     ]
    },
    {
     "name": "stdout",
     "output_type": "stream",
     "text": [
      "../../RAID5/original_tmp_data/0405-0418/mongo/遠傳/cowrie/cowrie.sessions_2019-12-31.json\n"
     ]
    },
    {
     "name": "stderr",
     "output_type": "stream",
     "text": [
      "\r",
      "  8%|▊         | 558/7248 [04:49<23:08:46, 12.46s/it]"
     ]
    },
    {
     "name": "stdout",
     "output_type": "stream",
     "text": [
      "../../RAID5/original_tmp_data/0405-0418/mongo/遠傳/cowrie/cowrie.sessions_2019-12-30.json\n"
     ]
    },
    {
     "name": "stderr",
     "output_type": "stream",
     "text": [
      "\r",
      "  8%|▊         | 559/7248 [05:01<22:50:57, 12.30s/it]"
     ]
    },
    {
     "name": "stdout",
     "output_type": "stream",
     "text": [
      "../../RAID5/original_tmp_data/0405-0418/mongo/遠傳/cowrie/cowrie.sessions_2019-12-29.json\n"
     ]
    },
    {
     "name": "stderr",
     "output_type": "stream",
     "text": [
      "  9%|▉         | 654/7248 [05:16<04:37, 23.78it/s]   "
     ]
    },
    {
     "name": "stdout",
     "output_type": "stream",
     "text": [
      "../../RAID5/original_tmp_data/0405-0418/mongo/遠傳/amun/amun.events_2020-01-11.json\n"
     ]
    },
    {
     "name": "stderr",
     "output_type": "stream",
     "text": [
      "\r",
      "  9%|▉         | 659/7248 [05:17<08:38, 12.71it/s]"
     ]
    },
    {
     "name": "stdout",
     "output_type": "stream",
     "text": [
      "../../RAID5/original_tmp_data/0405-0418/mongo/遠傳/amun/amun.events_2020-01-10.json\n",
      "../../RAID5/original_tmp_data/0405-0418/mongo/遠傳/amun/amun.events_2020-01-09.json\n",
      "../../RAID5/original_tmp_data/0405-0418/mongo/遠傳/amun/amun.events_2020-01-08.json\n"
     ]
    },
    {
     "name": "stderr",
     "output_type": "stream",
     "text": [
      "\r",
      "  9%|▉         | 662/7248 [05:20<32:06,  3.42it/s]"
     ]
    },
    {
     "name": "stdout",
     "output_type": "stream",
     "text": [
      "../../RAID5/original_tmp_data/0405-0418/mongo/遠傳/amun/amun.events_2020-01-07.json\n",
      "../../RAID5/original_tmp_data/0405-0418/mongo/遠傳/amun/amun.events_2020-01-06.json\n"
     ]
    },
    {
     "name": "stderr",
     "output_type": "stream",
     "text": [
      "\r",
      "  9%|▉         | 664/7248 [05:21<47:55,  2.29it/s]"
     ]
    },
    {
     "name": "stdout",
     "output_type": "stream",
     "text": [
      "../../RAID5/original_tmp_data/0405-0418/mongo/遠傳/amun/amun.events_2020-01-05.json\n",
      "../../RAID5/original_tmp_data/0405-0418/mongo/遠傳/amun/amun.events_2020-01-04.json\n"
     ]
    },
    {
     "name": "stderr",
     "output_type": "stream",
     "text": [
      "\r",
      "  9%|▉         | 666/7248 [05:23<59:06,  1.86it/s]"
     ]
    },
    {
     "name": "stdout",
     "output_type": "stream",
     "text": [
      "../../RAID5/original_tmp_data/0405-0418/mongo/遠傳/amun/amun.events_2020-01-03.json\n"
     ]
    },
    {
     "name": "stderr",
     "output_type": "stream",
     "text": [
      "\r",
      "  9%|▉         | 667/7248 [05:24<1:06:42,  1.64it/s]"
     ]
    },
    {
     "name": "stdout",
     "output_type": "stream",
     "text": [
      "../../RAID5/original_tmp_data/0405-0418/mongo/遠傳/amun/amun.events_2020-01-02.json\n"
     ]
    },
    {
     "name": "stderr",
     "output_type": "stream",
     "text": [
      "\r",
      "  9%|▉         | 668/7248 [05:24<1:12:21,  1.52it/s]"
     ]
    },
    {
     "name": "stdout",
     "output_type": "stream",
     "text": [
      "../../RAID5/original_tmp_data/0405-0418/mongo/遠傳/amun/amun.events_2020-01-01.json\n"
     ]
    },
    {
     "name": "stderr",
     "output_type": "stream",
     "text": [
      "\r",
      "  9%|▉         | 669/7248 [05:25<1:16:57,  1.42it/s]"
     ]
    },
    {
     "name": "stdout",
     "output_type": "stream",
     "text": [
      "../../RAID5/original_tmp_data/0405-0418/mongo/遠傳/amun/amun.events_2019-12-31.json\n"
     ]
    },
    {
     "name": "stderr",
     "output_type": "stream",
     "text": [
      "\r",
      "  9%|▉         | 670/7248 [05:26<1:18:21,  1.40it/s]"
     ]
    },
    {
     "name": "stdout",
     "output_type": "stream",
     "text": [
      "../../RAID5/original_tmp_data/0405-0418/mongo/遠傳/amun/amun.events_2019-12-30.json\n"
     ]
    },
    {
     "name": "stderr",
     "output_type": "stream",
     "text": [
      "\r",
      "  9%|▉         | 671/7248 [05:27<1:20:09,  1.37it/s]"
     ]
    },
    {
     "name": "stdout",
     "output_type": "stream",
     "text": [
      "../../RAID5/original_tmp_data/0405-0418/mongo/遠傳/amun/amun.events_2019-12-29.json\n"
     ]
    },
    {
     "name": "stderr",
     "output_type": "stream",
     "text": [
      "  9%|▉         | 680/7248 [05:27<49:10,  2.23it/s]  "
     ]
    },
    {
     "name": "stdout",
     "output_type": "stream",
     "text": [
      "_2 was created\n"
     ]
    },
    {
     "name": "stderr",
     "output_type": "stream",
     "text": [
      " 11%|█         | 768/7248 [05:28<03:47, 28.44it/s]"
     ]
    },
    {
     "name": "stdout",
     "output_type": "stream",
     "text": [
      "../../RAID5/original_tmp_data/0405-0418/mongo/凱擘/glastopf/glastopf.files_2020-01-11.json\n",
      "../../RAID5/original_tmp_data/0405-0418/mongo/凱擘/glastopf/glastopf.files_2020-01-10.json\n",
      "../../RAID5/original_tmp_data/0405-0418/mongo/凱擘/glastopf/glastopf.files_2020-01-09.json\n",
      "../../RAID5/original_tmp_data/0405-0418/mongo/凱擘/glastopf/glastopf.files_2020-01-08.json\n",
      "../../RAID5/original_tmp_data/0405-0418/mongo/凱擘/glastopf/glastopf.files_2020-01-07.json\n",
      "../../RAID5/original_tmp_data/0405-0418/mongo/凱擘/glastopf/glastopf.files_2020-01-06.json\n",
      "../../RAID5/original_tmp_data/0405-0418/mongo/凱擘/glastopf/glastopf.files_2020-01-05.json\n"
     ]
    },
    {
     "name": "stderr",
     "output_type": "stream",
     "text": [
      "\r",
      " 11%|█         | 778/7248 [05:29<05:22, 20.09it/s]"
     ]
    },
    {
     "name": "stdout",
     "output_type": "stream",
     "text": [
      "../../RAID5/original_tmp_data/0405-0418/mongo/凱擘/glastopf/glastopf.files_2020-01-04.json\n",
      "../../RAID5/original_tmp_data/0405-0418/mongo/凱擘/glastopf/glastopf.files_2020-01-03.json\n",
      "../../RAID5/original_tmp_data/0405-0418/mongo/凱擘/glastopf/glastopf.files_2020-01-02.json\n",
      "../../RAID5/original_tmp_data/0405-0418/mongo/凱擘/glastopf/glastopf.files_2020-01-01.json\n",
      "../../RAID5/original_tmp_data/0405-0418/mongo/凱擘/glastopf/glastopf.files_2019-12-31.json\n",
      "../../RAID5/original_tmp_data/0405-0418/mongo/凱擘/glastopf/glastopf.files_2019-12-30.json\n",
      "../../RAID5/original_tmp_data/0405-0418/mongo/凱擘/glastopf/glastopf.files_2019-12-29.json\n"
     ]
    },
    {
     "name": "stderr",
     "output_type": "stream",
     "text": [
      " 11%|█▏        | 816/7248 [05:31<04:17, 24.96it/s]"
     ]
    },
    {
     "name": "stdout",
     "output_type": "stream",
     "text": [
      "../../RAID5/original_tmp_data/0405-0418/mongo/凱擘/glastopf/glastopf.events_2020-01-11.json\n"
     ]
    },
    {
     "name": "stderr",
     "output_type": "stream",
     "text": [
      "\r",
      " 13%|█▎        | 915/7248 [05:37<04:50, 21.84it/s]"
     ]
    },
    {
     "name": "stdout",
     "output_type": "stream",
     "text": [
      "../../RAID5/original_tmp_data/0405-0418/mongo/凱擘/glastopf/glastopf.events_2020-01-10.json\n"
     ]
    },
    {
     "name": "stderr",
     "output_type": "stream",
     "text": [
      " 13%|█▎        | 916/7248 [05:54<9:05:21,  5.17s/it]"
     ]
    },
    {
     "name": "stdout",
     "output_type": "stream",
     "text": [
      "../../RAID5/original_tmp_data/0405-0418/mongo/凱擘/glastopf/glastopf.events_2020-01-09.json\n"
     ]
    },
    {
     "name": "stderr",
     "output_type": "stream",
     "text": [
      "\r",
      " 13%|█▎        | 917/7248 [05:56<7:46:57,  4.43s/it]"
     ]
    },
    {
     "name": "stdout",
     "output_type": "stream",
     "text": [
      "../../RAID5/original_tmp_data/0405-0418/mongo/凱擘/glastopf/glastopf.events_2020-01-08.json\n"
     ]
    },
    {
     "name": "stderr",
     "output_type": "stream",
     "text": [
      "\r",
      " 13%|█▎        | 918/7248 [05:59<6:40:32,  3.80s/it]"
     ]
    },
    {
     "name": "stdout",
     "output_type": "stream",
     "text": [
      "../../RAID5/original_tmp_data/0405-0418/mongo/凱擘/glastopf/glastopf.events_2020-01-07.json\n"
     ]
    },
    {
     "name": "stderr",
     "output_type": "stream",
     "text": [
      "\r",
      " 13%|█▎        | 919/7248 [06:01<5:56:16,  3.38s/it]"
     ]
    },
    {
     "name": "stdout",
     "output_type": "stream",
     "text": [
      "../../RAID5/original_tmp_data/0405-0418/mongo/凱擘/glastopf/glastopf.events_2020-01-06.json\n"
     ]
    },
    {
     "name": "stderr",
     "output_type": "stream",
     "text": [
      "\r",
      " 13%|█▎        | 920/7248 [06:03<5:20:41,  3.04s/it]"
     ]
    },
    {
     "name": "stdout",
     "output_type": "stream",
     "text": [
      "../../RAID5/original_tmp_data/0405-0418/mongo/凱擘/glastopf/glastopf.events_2020-01-05.json\n"
     ]
    },
    {
     "name": "stderr",
     "output_type": "stream",
     "text": [
      "\r",
      " 13%|█▎        | 921/7248 [06:05<4:50:28,  2.75s/it]"
     ]
    },
    {
     "name": "stdout",
     "output_type": "stream",
     "text": [
      "../../RAID5/original_tmp_data/0405-0418/mongo/凱擘/glastopf/glastopf.events_2020-01-04.json\n"
     ]
    },
    {
     "name": "stderr",
     "output_type": "stream",
     "text": [
      "\r",
      " 13%|█▎        | 922/7248 [06:08<4:31:13,  2.57s/it]"
     ]
    },
    {
     "name": "stdout",
     "output_type": "stream",
     "text": [
      "../../RAID5/original_tmp_data/0405-0418/mongo/凱擘/glastopf/glastopf.events_2020-01-03.json\n"
     ]
    },
    {
     "name": "stderr",
     "output_type": "stream",
     "text": [
      "\r",
      " 13%|█▎        | 923/7248 [06:10<4:23:50,  2.50s/it]"
     ]
    },
    {
     "name": "stdout",
     "output_type": "stream",
     "text": [
      "../../RAID5/original_tmp_data/0405-0418/mongo/凱擘/glastopf/glastopf.events_2020-01-02.json\n"
     ]
    },
    {
     "name": "stderr",
     "output_type": "stream",
     "text": [
      "\r",
      " 13%|█▎        | 924/7248 [06:13<4:27:53,  2.54s/it]"
     ]
    },
    {
     "name": "stdout",
     "output_type": "stream",
     "text": [
      "../../RAID5/original_tmp_data/0405-0418/mongo/凱擘/glastopf/glastopf.events_2020-01-01.json\n"
     ]
    },
    {
     "name": "stderr",
     "output_type": "stream",
     "text": [
      "\r",
      " 13%|█▎        | 925/7248 [06:15<4:18:13,  2.45s/it]"
     ]
    },
    {
     "name": "stdout",
     "output_type": "stream",
     "text": [
      "../../RAID5/original_tmp_data/0405-0418/mongo/凱擘/glastopf/glastopf.events_2019-12-31.json\n"
     ]
    },
    {
     "name": "stderr",
     "output_type": "stream",
     "text": [
      "\r",
      " 13%|█▎        | 926/7248 [06:17<4:10:50,  2.38s/it]"
     ]
    },
    {
     "name": "stdout",
     "output_type": "stream",
     "text": [
      "../../RAID5/original_tmp_data/0405-0418/mongo/凱擘/glastopf/glastopf.events_2019-12-30.json\n"
     ]
    },
    {
     "name": "stderr",
     "output_type": "stream",
     "text": [
      "\r",
      " 13%|█▎        | 927/7248 [06:20<4:26:14,  2.53s/it]"
     ]
    },
    {
     "name": "stdout",
     "output_type": "stream",
     "text": [
      "../../RAID5/original_tmp_data/0405-0418/mongo/凱擘/glastopf/glastopf.events_2019-12-29.json\n"
     ]
    },
    {
     "name": "stderr",
     "output_type": "stream",
     "text": [
      " 14%|█▍        | 1024/7248 [06:23<11:39,  8.90it/s] "
     ]
    },
    {
     "name": "stdout",
     "output_type": "stream",
     "text": [
      "../../RAID5/original_tmp_data/0405-0418/mongo/凱擘/dionaea/dionaea.connections_2020-01-11.json\n",
      "../../RAID5/original_tmp_data/0405-0418/mongo/凱擘/dionaea/dionaea.connections_2020-01-10.json\n"
     ]
    },
    {
     "name": "stderr",
     "output_type": "stream",
     "text": [
      " 14%|█▍        | 1028/7248 [06:52<3:46:55,  2.19s/it]"
     ]
    },
    {
     "name": "stdout",
     "output_type": "stream",
     "text": [
      "../../RAID5/original_tmp_data/0405-0418/mongo/凱擘/dionaea/dionaea.connections_2020-01-09.json\n"
     ]
    },
    {
     "name": "stderr",
     "output_type": "stream",
     "text": [
      "\r",
      " 14%|█▍        | 1029/7248 [07:19<16:50:52,  9.75s/it]"
     ]
    },
    {
     "name": "stdout",
     "output_type": "stream",
     "text": [
      "../../RAID5/original_tmp_data/0405-0418/mongo/凱擘/dionaea/dionaea.connections_2020-01-08.json\n"
     ]
    },
    {
     "name": "stderr",
     "output_type": "stream",
     "text": [
      "\r",
      " 14%|█▍        | 1030/7248 [07:36<20:39:45, 11.96s/it]"
     ]
    },
    {
     "name": "stdout",
     "output_type": "stream",
     "text": [
      "../../RAID5/original_tmp_data/0405-0418/mongo/凱擘/dionaea/dionaea.connections_2020-01-07.json\n"
     ]
    },
    {
     "name": "stderr",
     "output_type": "stream",
     "text": [
      "\r",
      " 14%|█▍        | 1031/7248 [07:54<23:37:33, 13.68s/it]"
     ]
    },
    {
     "name": "stdout",
     "output_type": "stream",
     "text": [
      "../../RAID5/original_tmp_data/0405-0418/mongo/凱擘/dionaea/dionaea.connections_2020-01-06.json\n"
     ]
    },
    {
     "name": "stderr",
     "output_type": "stream",
     "text": [
      "\r",
      " 14%|█▍        | 1032/7248 [08:16<27:53:04, 16.15s/it]"
     ]
    },
    {
     "name": "stdout",
     "output_type": "stream",
     "text": [
      "../../RAID5/original_tmp_data/0405-0418/mongo/凱擘/dionaea/dionaea.connections_2020-01-05.json\n"
     ]
    },
    {
     "name": "stderr",
     "output_type": "stream",
     "text": [
      "\r",
      " 14%|█▍        | 1033/7248 [08:44<34:09:59, 19.79s/it]"
     ]
    },
    {
     "name": "stdout",
     "output_type": "stream",
     "text": [
      "../../RAID5/original_tmp_data/0405-0418/mongo/凱擘/dionaea/dionaea.connections_2020-01-04.json\n"
     ]
    },
    {
     "name": "stderr",
     "output_type": "stream",
     "text": [
      "\r",
      " 14%|█▍        | 1034/7248 [09:03<33:48:49, 19.59s/it]"
     ]
    },
    {
     "name": "stdout",
     "output_type": "stream",
     "text": [
      "../../RAID5/original_tmp_data/0405-0418/mongo/凱擘/dionaea/dionaea.connections_2020-01-03.json\n"
     ]
    },
    {
     "name": "stderr",
     "output_type": "stream",
     "text": [
      "\r",
      " 14%|█▍        | 1035/7248 [09:11<27:53:57, 16.17s/it]"
     ]
    },
    {
     "name": "stdout",
     "output_type": "stream",
     "text": [
      "../../RAID5/original_tmp_data/0405-0418/mongo/凱擘/dionaea/dionaea.connections_2020-01-02.json\n"
     ]
    },
    {
     "name": "stderr",
     "output_type": "stream",
     "text": [
      "\r",
      " 14%|█▍        | 1036/7248 [09:24<26:19:23, 15.25s/it]"
     ]
    },
    {
     "name": "stdout",
     "output_type": "stream",
     "text": [
      "../../RAID5/original_tmp_data/0405-0418/mongo/凱擘/dionaea/dionaea.connections_2020-01-01.json\n"
     ]
    },
    {
     "name": "stderr",
     "output_type": "stream",
     "text": [
      "\r",
      " 14%|█▍        | 1037/7248 [09:41<27:10:49, 15.75s/it]"
     ]
    },
    {
     "name": "stdout",
     "output_type": "stream",
     "text": [
      "../../RAID5/original_tmp_data/0405-0418/mongo/凱擘/dionaea/dionaea.connections_2019-12-31.json\n"
     ]
    },
    {
     "name": "stderr",
     "output_type": "stream",
     "text": [
      "\r",
      " 14%|█▍        | 1038/7248 [10:00<28:53:05, 16.74s/it]"
     ]
    },
    {
     "name": "stdout",
     "output_type": "stream",
     "text": [
      "../../RAID5/original_tmp_data/0405-0418/mongo/凱擘/dionaea/dionaea.connections_2019-12-30.json\n"
     ]
    },
    {
     "name": "stderr",
     "output_type": "stream",
     "text": [
      "\r",
      " 14%|█▍        | 1039/7248 [10:23<31:44:54, 18.41s/it]"
     ]
    },
    {
     "name": "stdout",
     "output_type": "stream",
     "text": [
      "../../RAID5/original_tmp_data/0405-0418/mongo/凱擘/dionaea/dionaea.connections_2019-12-29.json\n"
     ]
    },
    {
     "name": "stderr",
     "output_type": "stream",
     "text": [
      " 15%|█▌        | 1093/7248 [10:44<22:54:08, 13.40s/it]"
     ]
    },
    {
     "name": "stdout",
     "output_type": "stream",
     "text": [
      "../../RAID5/original_tmp_data/0405-0418/mongo/凱擘/dionaea/dionaea.capture_2020-01-11.json\n",
      "../../RAID5/original_tmp_data/0405-0418/mongo/凱擘/dionaea/dionaea.capture_2020-01-10.json\n"
     ]
    },
    {
     "name": "stderr",
     "output_type": "stream",
     "text": [
      "\r",
      " 16%|█▌        | 1140/7248 [10:44<15:54:52,  9.38s/it]"
     ]
    },
    {
     "name": "stdout",
     "output_type": "stream",
     "text": [
      "../../RAID5/original_tmp_data/0405-0418/mongo/凱擘/dionaea/dionaea.capture_2020-01-09.json\n",
      "../../RAID5/original_tmp_data/0405-0418/mongo/凱擘/dionaea/dionaea.capture_2020-01-08.json\n",
      "../../RAID5/original_tmp_data/0405-0418/mongo/凱擘/dionaea/dionaea.capture_2020-01-07.json\n",
      "../../RAID5/original_tmp_data/0405-0418/mongo/凱擘/dionaea/dionaea.capture_2020-01-06.json\n",
      "../../RAID5/original_tmp_data/0405-0418/mongo/凱擘/dionaea/dionaea.capture_2020-01-05.json\n"
     ]
    },
    {
     "name": "stderr",
     "output_type": "stream",
     "text": [
      "\r",
      " 16%|█▌        | 1148/7248 [10:45<11:09:47,  6.59s/it]"
     ]
    },
    {
     "name": "stdout",
     "output_type": "stream",
     "text": [
      "../../RAID5/original_tmp_data/0405-0418/mongo/凱擘/dionaea/dionaea.capture_2020-01-04.json\n",
      "../../RAID5/original_tmp_data/0405-0418/mongo/凱擘/dionaea/dionaea.capture_2020-01-03.json\n",
      "../../RAID5/original_tmp_data/0405-0418/mongo/凱擘/dionaea/dionaea.capture_2020-01-02.json\n",
      "../../RAID5/original_tmp_data/0405-0418/mongo/凱擘/dionaea/dionaea.capture_2020-01-01.json\n",
      "../../RAID5/original_tmp_data/0405-0418/mongo/凱擘/dionaea/dionaea.capture_2019-12-31.json\n",
      "../../RAID5/original_tmp_data/0405-0418/mongo/凱擘/dionaea/dionaea.capture_2019-12-30.json\n",
      "../../RAID5/original_tmp_data/0405-0418/mongo/凱擘/dionaea/dionaea.capture_2019-12-29.json\n"
     ]
    },
    {
     "name": "stderr",
     "output_type": "stream",
     "text": [
      " 17%|█▋        | 1242/7248 [10:46<27:34,  3.63it/s]   "
     ]
    },
    {
     "name": "stdout",
     "output_type": "stream",
     "text": [
      "../../RAID5/original_tmp_data/0405-0418/mongo/凱擘/cowrie/cowrie.sessions_2020-01-11.json\n",
      "../../RAID5/original_tmp_data/0405-0418/mongo/凱擘/cowrie/cowrie.sessions_2020-01-10.json\n",
      "../../RAID5/original_tmp_data/0405-0418/mongo/凱擘/cowrie/cowrie.sessions_2020-01-09.json\n"
     ]
    },
    {
     "name": "stderr",
     "output_type": "stream",
     "text": [
      " 17%|█▋        | 1253/7248 [11:10<1:25:09,  1.17it/s]"
     ]
    },
    {
     "name": "stdout",
     "output_type": "stream",
     "text": [
      "../../RAID5/original_tmp_data/0405-0418/mongo/凱擘/cowrie/cowrie.sessions_2020-01-08.json\n"
     ]
    },
    {
     "name": "stderr",
     "output_type": "stream",
     "text": [
      "\r",
      " 17%|█▋        | 1254/7248 [11:28<9:59:21,  6.00s/it]"
     ]
    },
    {
     "name": "stdout",
     "output_type": "stream",
     "text": [
      "../../RAID5/original_tmp_data/0405-0418/mongo/凱擘/cowrie/cowrie.sessions_2020-01-07.json\n"
     ]
    },
    {
     "name": "stderr",
     "output_type": "stream",
     "text": [
      "\r",
      " 17%|█▋        | 1255/7248 [11:35<10:34:03,  6.35s/it]"
     ]
    },
    {
     "name": "stdout",
     "output_type": "stream",
     "text": [
      "../../RAID5/original_tmp_data/0405-0418/mongo/凱擘/cowrie/cowrie.sessions_2020-01-06.json\n"
     ]
    },
    {
     "name": "stderr",
     "output_type": "stream",
     "text": [
      "\r",
      " 17%|█▋        | 1256/7248 [11:43<11:05:33,  6.66s/it]"
     ]
    },
    {
     "name": "stdout",
     "output_type": "stream",
     "text": [
      "../../RAID5/original_tmp_data/0405-0418/mongo/凱擘/cowrie/cowrie.sessions_2020-01-05.json\n"
     ]
    },
    {
     "name": "stderr",
     "output_type": "stream",
     "text": [
      "\r",
      " 17%|█▋        | 1257/7248 [11:50<11:39:42,  7.01s/it]"
     ]
    },
    {
     "name": "stdout",
     "output_type": "stream",
     "text": [
      "../../RAID5/original_tmp_data/0405-0418/mongo/凱擘/cowrie/cowrie.sessions_2020-01-04.json\n"
     ]
    },
    {
     "name": "stderr",
     "output_type": "stream",
     "text": [
      "\r",
      " 17%|█▋        | 1258/7248 [11:59<12:36:34,  7.58s/it]"
     ]
    },
    {
     "name": "stdout",
     "output_type": "stream",
     "text": [
      "../../RAID5/original_tmp_data/0405-0418/mongo/凱擘/cowrie/cowrie.sessions_2020-01-03.json\n"
     ]
    },
    {
     "name": "stderr",
     "output_type": "stream",
     "text": [
      "\r",
      " 17%|█▋        | 1259/7248 [12:08<13:14:44,  7.96s/it]"
     ]
    },
    {
     "name": "stdout",
     "output_type": "stream",
     "text": [
      "../../RAID5/original_tmp_data/0405-0418/mongo/凱擘/cowrie/cowrie.sessions_2020-01-02.json\n"
     ]
    },
    {
     "name": "stderr",
     "output_type": "stream",
     "text": [
      "\r",
      " 17%|█▋        | 1260/7248 [12:15<12:55:34,  7.77s/it]"
     ]
    },
    {
     "name": "stdout",
     "output_type": "stream",
     "text": [
      "../../RAID5/original_tmp_data/0405-0418/mongo/凱擘/cowrie/cowrie.sessions_2020-01-01.json\n"
     ]
    },
    {
     "name": "stderr",
     "output_type": "stream",
     "text": [
      "\r",
      " 17%|█▋        | 1261/7248 [12:23<12:53:52,  7.76s/it]"
     ]
    },
    {
     "name": "stdout",
     "output_type": "stream",
     "text": [
      "../../RAID5/original_tmp_data/0405-0418/mongo/凱擘/cowrie/cowrie.sessions_2019-12-31.json\n"
     ]
    },
    {
     "name": "stderr",
     "output_type": "stream",
     "text": [
      "\r",
      " 17%|█▋        | 1262/7248 [12:30<12:28:09,  7.50s/it]"
     ]
    },
    {
     "name": "stdout",
     "output_type": "stream",
     "text": [
      "../../RAID5/original_tmp_data/0405-0418/mongo/凱擘/cowrie/cowrie.sessions_2019-12-30.json\n"
     ]
    },
    {
     "name": "stderr",
     "output_type": "stream",
     "text": [
      "\r",
      " 17%|█▋        | 1263/7248 [12:35<11:22:11,  6.84s/it]"
     ]
    },
    {
     "name": "stdout",
     "output_type": "stream",
     "text": [
      "../../RAID5/original_tmp_data/0405-0418/mongo/凱擘/cowrie/cowrie.sessions_2019-12-29.json\n"
     ]
    },
    {
     "name": "stderr",
     "output_type": "stream",
     "text": [
      " 19%|█▉        | 1361/7248 [12:47<32:13,  3.04it/s]   "
     ]
    },
    {
     "name": "stdout",
     "output_type": "stream",
     "text": [
      "../../RAID5/original_tmp_data/0405-0418/mongo/凱擘/amun/amun.events_2020-01-11.json\n",
      "../../RAID5/original_tmp_data/0405-0418/mongo/凱擘/amun/amun.events_2020-01-10.json\n",
      "../../RAID5/original_tmp_data/0405-0418/mongo/凱擘/amun/amun.events_2020-01-09.json\n",
      "../../RAID5/original_tmp_data/0405-0418/mongo/凱擘/amun/amun.events_2020-01-08.json\n",
      "../../RAID5/original_tmp_data/0405-0418/mongo/凱擘/amun/amun.events_2020-01-07.json\n",
      "../../RAID5/original_tmp_data/0405-0418/mongo/凱擘/amun/amun.events_2020-01-06.json\n",
      "../../RAID5/original_tmp_data/0405-0418/mongo/凱擘/amun/amun.events_2020-01-05.json\n",
      "../../RAID5/original_tmp_data/0405-0418/mongo/凱擘/amun/amun.events_2020-01-04.json\n",
      "../../RAID5/original_tmp_data/0405-0418/mongo/凱擘/amun/amun.events_2020-01-03.json\n"
     ]
    },
    {
     "name": "stderr",
     "output_type": "stream",
     "text": [
      "\r",
      " 19%|█▉        | 1371/7248 [12:55<45:34,  2.15it/s]"
     ]
    },
    {
     "name": "stdout",
     "output_type": "stream",
     "text": [
      "../../RAID5/original_tmp_data/0405-0418/mongo/凱擘/amun/amun.events_2020-01-02.json\n",
      "../../RAID5/original_tmp_data/0405-0418/mongo/凱擘/amun/amun.events_2020-01-01.json\n",
      "../../RAID5/original_tmp_data/0405-0418/mongo/凱擘/amun/amun.events_2019-12-31.json\n",
      "../../RAID5/original_tmp_data/0405-0418/mongo/凱擘/amun/amun.events_2019-12-30.json\n",
      "../../RAID5/original_tmp_data/0405-0418/mongo/凱擘/amun/amun.events_2019-12-29.json\n"
     ]
    },
    {
     "name": "stderr",
     "output_type": "stream",
     "text": [
      " 21%|██        | 1490/7248 [12:59<02:38, 36.25it/s]"
     ]
    },
    {
     "name": "stdout",
     "output_type": "stream",
     "text": [
      "../../RAID5/original_tmp_data/0405-0418/mongo/亞太電信/glastopf/glastopf.files_2020-01-11.json\n",
      "../../RAID5/original_tmp_data/0405-0418/mongo/亞太電信/glastopf/glastopf.files_2020-01-10.json\n",
      "../../RAID5/original_tmp_data/0405-0418/mongo/亞太電信/glastopf/glastopf.files_2020-01-09.json\n",
      "../../RAID5/original_tmp_data/0405-0418/mongo/亞太電信/glastopf/glastopf.files_2020-01-08.json\n",
      "../../RAID5/original_tmp_data/0405-0418/mongo/亞太電信/glastopf/glastopf.files_2020-01-07.json\n",
      "../../RAID5/original_tmp_data/0405-0418/mongo/亞太電信/glastopf/glastopf.files_2020-01-06.json\n",
      "../../RAID5/original_tmp_data/0405-0418/mongo/亞太電信/glastopf/glastopf.files_2020-01-05.json\n",
      "../../RAID5/original_tmp_data/0405-0418/mongo/亞太電信/glastopf/glastopf.files_2020-01-04.json\n",
      "../../RAID5/original_tmp_data/0405-0418/mongo/亞太電信/glastopf/glastopf.files_2020-01-03.json\n",
      "../../RAID5/original_tmp_data/0405-0418/mongo/亞太電信/glastopf/glastopf.files_2020-01-02.json\n",
      "../../RAID5/original_tmp_data/0405-0418/mongo/亞太電信/glastopf/glastopf.files_2020-01-01.json\n",
      "../../RAID5/original_tmp_data/0405-0418/mongo/亞太電信/glastopf/glastopf.files_2019-12-31.json\n",
      "../../RAID5/original_tmp_data/0405-0418/mongo/亞太電信/glastopf/glastopf.files_2019-12-30.json\n"
     ]
    },
    {
     "name": "stderr",
     "output_type": "stream",
     "text": [
      "\r",
      " 21%|██        | 1503/7248 [13:00<03:30, 27.35it/s]"
     ]
    },
    {
     "name": "stdout",
     "output_type": "stream",
     "text": [
      "../../RAID5/original_tmp_data/0405-0418/mongo/亞太電信/glastopf/glastopf.files_2019-12-29.json\n",
      "../../RAID5/original_tmp_data/0405-0418/mongo/亞太電信/glastopf/glastopf.events_2020-01-11.json\n"
     ]
    },
    {
     "name": "stderr",
     "output_type": "stream",
     "text": [
      "\r",
      " 22%|██▏       | 1587/7248 [13:01<02:34, 36.57it/s]"
     ]
    },
    {
     "name": "stdout",
     "output_type": "stream",
     "text": [
      "../../RAID5/original_tmp_data/0405-0418/mongo/亞太電信/glastopf/glastopf.events_2020-01-10.json\n",
      "../../RAID5/original_tmp_data/0405-0418/mongo/亞太電信/glastopf/glastopf.events_2020-01-09.json\n",
      "../../RAID5/original_tmp_data/0405-0418/mongo/亞太電信/glastopf/glastopf.events_2020-01-08.json\n",
      "../../RAID5/original_tmp_data/0405-0418/mongo/亞太電信/glastopf/glastopf.events_2020-01-07.json\n",
      "../../RAID5/original_tmp_data/0405-0418/mongo/亞太電信/glastopf/glastopf.events_2020-01-06.json\n",
      "../../RAID5/original_tmp_data/0405-0418/mongo/亞太電信/glastopf/glastopf.events_2020-01-05.json\n",
      "../../RAID5/original_tmp_data/0405-0418/mongo/亞太電信/glastopf/glastopf.events_2020-01-04.json\n",
      "../../RAID5/original_tmp_data/0405-0418/mongo/亞太電信/glastopf/glastopf.events_2020-01-03.json\n",
      "../../RAID5/original_tmp_data/0405-0418/mongo/亞太電信/glastopf/glastopf.events_2020-01-02.json\n",
      "../../RAID5/original_tmp_data/0405-0418/mongo/亞太電信/glastopf/glastopf.events_2020-01-01.json\n",
      "../../RAID5/original_tmp_data/0405-0418/mongo/亞太電信/glastopf/glastopf.events_2019-12-31.json\n",
      "../../RAID5/original_tmp_data/0405-0418/mongo/亞太電信/glastopf/glastopf.events_2019-12-30.json\n"
     ]
    },
    {
     "name": "stderr",
     "output_type": "stream",
     "text": [
      "\r",
      " 22%|██▏       | 1599/7248 [13:06<14:34,  6.46it/s]"
     ]
    },
    {
     "name": "stdout",
     "output_type": "stream",
     "text": [
      "../../RAID5/original_tmp_data/0405-0418/mongo/亞太電信/glastopf/glastopf.events_2019-12-29.json\n"
     ]
    },
    {
     "name": "stderr",
     "output_type": "stream",
     "text": [
      " 23%|██▎       | 1696/7248 [13:07<01:33, 59.44it/s]"
     ]
    },
    {
     "name": "stdout",
     "output_type": "stream",
     "text": [
      "../../RAID5/original_tmp_data/0405-0418/mongo/亞太電信/dionaea/dionaea.connections_2020-01-11.json\n"
     ]
    }
   ],
   "source": [
    "for path in tqdm(all_paths):\n",
    "    path_li = path.split('/')\n",
    "    #以下要隨路徑而改\n",
    "    date_dir = path_li[-1].split('_')[-1].split('.')[0]\n",
    "    date_dir = date_dir.replace('-','_')\n",
    "    assert len(date_dir.split('_')) == 3\n",
    "    type_dir = path_li[-2]\n",
    "    assert type_dir in ['amun', 'cowrie', 'dionaea',  'glastopf']\n",
    "    isp_dir = path_li[-3]\n",
    "    isp_dir = aliase_convert(isp_dir)\n",
    "    fileName = path_li[-1]\n",
    "    assert type_dir in fileName\n",
    "    assert date_dir.split('_')[-1] in fileName\n",
    "    assert '.json' in fileName\n",
    "    save_dir = '../../RAID5/'+'honeypot/'+date_dir+'/'+type_dir+'/mongoDB/'+isp_dir #要儲存的位置 #需要改\n",
    "    if not os.path.exists(save_dir):\n",
    "        os.makedirs(save_dir,exist_ok=True)        \n",
    "    try:\n",
    "        shutil.move(path,save_dir+'/')\n",
    "    except : #重複一模一樣的檔名\n",
    "        print(path)\n",
    "        ori = hashlib.md5(open(path,'rb').read()).hexdigest()\n",
    "        dest =  hashlib.md5(open(save_dir+'/'+fileName,'rb').read()).hexdigest()\n",
    "        if ori == dest: #真的一模一樣舊移除舊的\n",
    "            pass\n",
    "            os.remove(path)\n",
    "        else: #不一樣舊都保留到新的位置去\n",
    "            print('_2 was created')\n",
    "            shutil.move(path,save_dir+'/'+fileName+'_2')    "
   ]
  },
  {
   "cell_type": "code",
   "execution_count": 39,
   "metadata": {},
   "outputs": [
    {
     "data": {
      "text/plain": [
       "True"
      ]
     },
     "execution_count": 39,
     "metadata": {},
     "output_type": "execute_result"
    }
   ],
   "source": [
    "recursive_delete_if_empty(src_dir)"
   ]
  },
  {
   "cell_type": "markdown",
   "metadata": {},
   "source": [
    "## original old data"
   ]
  },
  {
   "cell_type": "code",
   "execution_count": 29,
   "metadata": {},
   "outputs": [],
   "source": [
    "src_dir = '../data_hdd4t/中華電信/'"
   ]
  },
  {
   "cell_type": "code",
   "execution_count": 20,
   "metadata": {},
   "outputs": [
    {
     "name": "stdout",
     "output_type": "stream",
     "text": [
      "635\n"
     ]
    },
    {
     "data": {
      "text/plain": [
       "['../data_hdd4t/亞太/honeypot/2020-01-10/cowrie/cowrie_log_2020-01-10.tar.gz',\n",
       " '../data_hdd4t/亞太/honeypot/2020-01-10/cowrie/cowrie_file_2020-01-10.tar.gz',\n",
       " '../data_hdd4t/亞太/honeypot/2020-01-10/amun/amun_log_2020-01-10.tar.gz',\n",
       " '../data_hdd4t/亞太/honeypot/2020-01-10/amun/amun_file_2020-01-10.tar.gz',\n",
       " '../data_hdd4t/亞太/honeypot/2020-01-10/glastopf/glastopf_file_2020-01-10.tar.gz',\n",
       " '../data_hdd4t/亞太/honeypot/2020-01-10/glastopf/glastopf_log_2020-01-10.tar.gz',\n",
       " '../data_hdd4t/亞太/honeypot/2020-01-10/dionaea/dionaea_log_2020-01-10.tar.gz',\n",
       " '../data_hdd4t/亞太/honeypot/2020-01-10/dionaea/dionaea_file_2020-01-10.tar.gz',\n",
       " '../data_hdd4t/亞太/honeypot/2020-01-11/cowrie/cowrie_log_2020-01-11.tar.gz',\n",
       " '../data_hdd4t/亞太/honeypot/2020-01-11/cowrie/cowrie_file_2020-01-11.tar.gz',\n",
       " '../data_hdd4t/亞太/honeypot/2020-01-11/amun/amun_log_2020-01-11.tar.gz',\n",
       " '../data_hdd4t/亞太/honeypot/2020-01-11/amun/amun_file_2020-01-11.tar.gz',\n",
       " '../data_hdd4t/亞太/honeypot/2020-01-11/glastopf/glastopf_file_2020-01-11.tar.gz',\n",
       " '../data_hdd4t/亞太/honeypot/2020-01-11/glastopf/glastopf_log_2020-01-11.tar.gz',\n",
       " '../data_hdd4t/亞太/honeypot/2020-01-11/dionaea/dionaea_file_2020-01-11.tar.gz',\n",
       " '../data_hdd4t/亞太/honeypot/2020-01-11/dionaea/dionaea_log_2020-01-11.tar.gz',\n",
       " '../data_hdd4t/亞太/honeypot/2020-01-06/cowrie/cowrie_log_2020-01-06.tar.gz',\n",
       " '../data_hdd4t/亞太/honeypot/2020-01-06/cowrie/cowrie_file_2020-01-06.tar.gz',\n",
       " '../data_hdd4t/亞太/honeypot/2020-01-06/amun/amun_log_2020-01-06.tar.gz',\n",
       " '../data_hdd4t/亞太/honeypot/2020-01-06/amun/amun_file_2020-01-06.tar.gz',\n",
       " '../data_hdd4t/亞太/honeypot/2020-01-06/glastopf/glastopf_file_2020-01-06.tar.gz',\n",
       " '../data_hdd4t/亞太/honeypot/2020-01-06/glastopf/glastopf_log_2020-01-06.tar.gz',\n",
       " '../data_hdd4t/亞太/honeypot/2020-01-06/dionaea/dionaea_file_2020-01-06.tar.gz',\n",
       " '../data_hdd4t/亞太/honeypot/2020-01-06/dionaea/dionaea_log_2020-01-06.tar.gz',\n",
       " '../data_hdd4t/亞太/honeypot/2020-01-05/cowrie/cowrie_file_2020-01-05.tar.gz',\n",
       " '../data_hdd4t/亞太/honeypot/2020-01-05/cowrie/cowrie_log_2020-01-05.tar.gz',\n",
       " '../data_hdd4t/亞太/honeypot/2020-01-05/amun/amun_log_2020-01-05.tar.gz',\n",
       " '../data_hdd4t/亞太/honeypot/2020-01-05/amun/amun_file_2020-01-05.tar.gz',\n",
       " '../data_hdd4t/亞太/honeypot/2020-01-05/glastopf/glastopf_log_2020-01-05.tar.gz',\n",
       " '../data_hdd4t/亞太/honeypot/2020-01-05/glastopf/glastopf_file_2020-01-05.tar.gz',\n",
       " '../data_hdd4t/亞太/honeypot/2020-01-05/dionaea/dionaea_log_2020-01-05.tar.gz',\n",
       " '../data_hdd4t/亞太/honeypot/2020-01-05/dionaea/dionaea_file_2020-01-05.tar.gz',\n",
       " '../data_hdd4t/亞太/honeypot/2020-01-08/cowrie/cowrie_log_2020-01-08.tar.gz',\n",
       " '../data_hdd4t/亞太/honeypot/2020-01-08/cowrie/cowrie_file_2020-01-08.tar.gz',\n",
       " '../data_hdd4t/亞太/honeypot/2020-01-08/amun/amun_file_2020-01-08.tar.gz',\n",
       " '../data_hdd4t/亞太/honeypot/2020-01-08/amun/amun_log_2020-01-08.tar.gz',\n",
       " '../data_hdd4t/亞太/honeypot/2020-01-08/glastopf/glastopf_file_2020-01-08.tar.gz',\n",
       " '../data_hdd4t/亞太/honeypot/2020-01-08/glastopf/glastopf_log_2020-01-08.tar.gz',\n",
       " '../data_hdd4t/亞太/honeypot/2020-01-08/dionaea/dionaea_file_2020-01-08.tar.gz',\n",
       " '../data_hdd4t/亞太/honeypot/2020-01-08/dionaea/dionaea_log_2020-01-08.tar.gz',\n",
       " '../data_hdd4t/亞太/honeypot/2020-01-07/cowrie/cowrie_log_2020-01-07.tar.gz',\n",
       " '../data_hdd4t/亞太/honeypot/2020-01-07/cowrie/cowrie_file_2020-01-07.tar.gz',\n",
       " '../data_hdd4t/亞太/honeypot/2020-01-07/amun/amun_file_2020-01-07.tar.gz',\n",
       " '../data_hdd4t/亞太/honeypot/2020-01-07/amun/amun_log_2020-01-07.tar.gz',\n",
       " '../data_hdd4t/亞太/honeypot/2020-01-07/glastopf/glastopf_log_2020-01-07.tar.gz',\n",
       " '../data_hdd4t/亞太/honeypot/2020-01-07/glastopf/glastopf_file_2020-01-07.tar.gz',\n",
       " '../data_hdd4t/亞太/honeypot/2020-01-07/dionaea/dionaea_log_2020-01-07.tar.gz',\n",
       " '../data_hdd4t/亞太/honeypot/2020-01-07/dionaea/dionaea_file_2020-01-07.tar.gz',\n",
       " '../data_hdd4t/亞太/honeypot/2020-01-09/cowrie/cowrie_log_2020-01-09.tar.gz',\n",
       " '../data_hdd4t/亞太/honeypot/2020-01-09/cowrie/cowrie_file_2020-01-09.tar.gz',\n",
       " '../data_hdd4t/亞太/honeypot/2020-01-09/amun/amun_file_2020-01-09.tar.gz',\n",
       " '../data_hdd4t/亞太/honeypot/2020-01-09/amun/amun_log_2020-01-09.tar.gz',\n",
       " '../data_hdd4t/亞太/honeypot/2020-01-09/glastopf/glastopf_file_2020-01-09.tar.gz',\n",
       " '../data_hdd4t/亞太/honeypot/2020-01-09/glastopf/glastopf_log_2020-01-09.tar.gz',\n",
       " '../data_hdd4t/亞太/honeypot/2020-01-09/dionaea/dionaea_log_2020-01-09.tar.gz',\n",
       " '../data_hdd4t/亞太/honeypot/2020-01-09/dionaea/dionaea_file_2020-01-09.tar.gz',\n",
       " '../data_hdd4t/亞太/pcap/snort.2020-01-08.tar.gz',\n",
       " '../data_hdd4t/亞太/pcap/snort.2020-01-06.tar.gz',\n",
       " '../data_hdd4t/亞太/pcap/snort.2020-01-09.tar.gz',\n",
       " '../data_hdd4t/亞太/pcap/snort.2020-01-07.tar.gz',\n",
       " '../data_hdd4t/亞太/pcap/snort.2020-01-11.tar.gz',\n",
       " '../data_hdd4t/亞太/pcap/snort.2020-01-10.tar.gz',\n",
       " '../data_hdd4t/亞太/pcap/snort.2020-01-05.tar.gz',\n",
       " '../data_hdd4t/台灣碩網/honeypot/2020-01-10/cowrie/cowrie_log_2020-01-10.tar.gz',\n",
       " '../data_hdd4t/台灣碩網/honeypot/2020-01-10/amun/amun_log_2020-01-10.tar.gz',\n",
       " '../data_hdd4t/台灣碩網/honeypot/2020-01-10/amun/amun_file_2020-01-10.tar.gz',\n",
       " '../data_hdd4t/台灣碩網/honeypot/2020-01-10/glastopf/glastopf_file_2020-01-10.tar.gz',\n",
       " '../data_hdd4t/台灣碩網/honeypot/2020-01-10/glastopf/glastopf_log_2020-01-10.tar.gz',\n",
       " '../data_hdd4t/台灣碩網/honeypot/2020-01-10/dionaea/dionaea_log_2020-01-10.tar.gz',\n",
       " '../data_hdd4t/台灣碩網/honeypot/2020-01-10/dionaea/dionaea_file_2020-01-10.tar.gz',\n",
       " '../data_hdd4t/台灣碩網/honeypot/2020-01-11/cowrie/cowrie_log_2020-01-11.tar.gz',\n",
       " '../data_hdd4t/台灣碩網/honeypot/2020-01-11/amun/amun_log_2020-01-11.tar.gz',\n",
       " '../data_hdd4t/台灣碩網/honeypot/2020-01-11/amun/amun_file_2020-01-11.tar.gz',\n",
       " '../data_hdd4t/台灣碩網/honeypot/2020-01-11/glastopf/glastopf_file_2020-01-11.tar.gz',\n",
       " '../data_hdd4t/台灣碩網/honeypot/2020-01-11/glastopf/glastopf_log_2020-01-11.tar.gz',\n",
       " '../data_hdd4t/台灣碩網/honeypot/2020-01-11/dionaea/dionaea_file_2020-01-11.tar.gz',\n",
       " '../data_hdd4t/台灣碩網/honeypot/2020-01-11/dionaea/dionaea_log_2020-01-11.tar.gz',\n",
       " '../data_hdd4t/台灣碩網/honeypot/2020-01-01/cowrie/cowrie_log_2020-01-01.tar.gz',\n",
       " '../data_hdd4t/台灣碩網/honeypot/2020-01-01/amun/amun_file_2020-01-01.tar.gz',\n",
       " '../data_hdd4t/台灣碩網/honeypot/2020-01-01/amun/amun_log_2020-01-01.tar.gz',\n",
       " '../data_hdd4t/台灣碩網/honeypot/2020-01-01/glastopf/glastopf_file_2020-01-01.tar.gz',\n",
       " '../data_hdd4t/台灣碩網/honeypot/2020-01-01/glastopf/glastopf_log_2020-01-01.tar.gz',\n",
       " '../data_hdd4t/台灣碩網/honeypot/2020-01-01/dionaea/dionaea_log_2020-01-01.tar.gz',\n",
       " '../data_hdd4t/台灣碩網/honeypot/2020-01-01/dionaea/dionaea_file_2020-01-01.tar.gz',\n",
       " '../data_hdd4t/台灣碩網/honeypot/2020-01-06/cowrie/cowrie_log_2020-01-06.tar.gz',\n",
       " '../data_hdd4t/台灣碩網/honeypot/2020-01-06/amun/amun_log_2020-01-06.tar.gz',\n",
       " '../data_hdd4t/台灣碩網/honeypot/2020-01-06/amun/amun_file_2020-01-06.tar.gz',\n",
       " '../data_hdd4t/台灣碩網/honeypot/2020-01-06/glastopf/glastopf_file_2020-01-06.tar.gz',\n",
       " '../data_hdd4t/台灣碩網/honeypot/2020-01-06/glastopf/glastopf_log_2020-01-06.tar.gz',\n",
       " '../data_hdd4t/台灣碩網/honeypot/2020-01-06/dionaea/dionaea_file_2020-01-06.tar.gz',\n",
       " '../data_hdd4t/台灣碩網/honeypot/2020-01-06/dionaea/dionaea_log_2020-01-06.tar.gz',\n",
       " '../data_hdd4t/台灣碩網/honeypot/2020-01-05/cowrie/cowrie_log_2020-01-05.tar.gz',\n",
       " '../data_hdd4t/台灣碩網/honeypot/2020-01-05/amun/amun_log_2020-01-05.tar.gz',\n",
       " '../data_hdd4t/台灣碩網/honeypot/2020-01-05/amun/amun_file_2020-01-05.tar.gz',\n",
       " '../data_hdd4t/台灣碩網/honeypot/2020-01-05/glastopf/glastopf_log_2020-01-05.tar.gz',\n",
       " '../data_hdd4t/台灣碩網/honeypot/2020-01-05/glastopf/glastopf_file_2020-01-05.tar.gz',\n",
       " '../data_hdd4t/台灣碩網/honeypot/2020-01-05/dionaea/dionaea_log_2020-01-05.tar.gz',\n",
       " '../data_hdd4t/台灣碩網/honeypot/2020-01-05/dionaea/dionaea_file_2020-01-05.tar.gz',\n",
       " '../data_hdd4t/台灣碩網/honeypot/2020-01-08/cowrie/cowrie_log_2020-01-08.tar.gz',\n",
       " '../data_hdd4t/台灣碩網/honeypot/2020-01-08/amun/amun_file_2020-01-08.tar.gz',\n",
       " '../data_hdd4t/台灣碩網/honeypot/2020-01-08/amun/amun_log_2020-01-08.tar.gz',\n",
       " '../data_hdd4t/台灣碩網/honeypot/2020-01-08/glastopf/glastopf_file_2020-01-08.tar.gz',\n",
       " '../data_hdd4t/台灣碩網/honeypot/2020-01-08/glastopf/glastopf_log_2020-01-08.tar.gz',\n",
       " '../data_hdd4t/台灣碩網/honeypot/2020-01-08/dionaea/dionaea_file_2020-01-08.tar.gz',\n",
       " '../data_hdd4t/台灣碩網/honeypot/2020-01-08/dionaea/dionaea_log_2020-01-08.tar.gz',\n",
       " '../data_hdd4t/台灣碩網/honeypot/2020-01-03/cowrie/cowrie_log_2020-01-03.tar.gz',\n",
       " '../data_hdd4t/台灣碩網/honeypot/2020-01-03/amun/amun_file_2020-01-03.tar.gz',\n",
       " '../data_hdd4t/台灣碩網/honeypot/2020-01-03/amun/amun_log_2020-01-03.tar.gz',\n",
       " '../data_hdd4t/台灣碩網/honeypot/2020-01-03/glastopf/glastopf_file_2020-01-03.tar.gz',\n",
       " '../data_hdd4t/台灣碩網/honeypot/2020-01-03/glastopf/glastopf_log_2020-01-03.tar.gz',\n",
       " '../data_hdd4t/台灣碩網/honeypot/2020-01-03/dionaea/dionaea_file_2020-01-03.tar.gz',\n",
       " '../data_hdd4t/台灣碩網/honeypot/2020-01-03/dionaea/dionaea_log_2020-01-03.tar.gz',\n",
       " '../data_hdd4t/台灣碩網/honeypot/2020-01-04/cowrie/cowrie_log_2020-01-04.tar.gz',\n",
       " '../data_hdd4t/台灣碩網/honeypot/2020-01-04/amun/amun_file_2020-01-04.tar.gz',\n",
       " '../data_hdd4t/台灣碩網/honeypot/2020-01-04/amun/amun_log_2020-01-04.tar.gz',\n",
       " '../data_hdd4t/台灣碩網/honeypot/2020-01-04/glastopf/glastopf_log_2020-01-04.tar.gz',\n",
       " '../data_hdd4t/台灣碩網/honeypot/2020-01-04/glastopf/glastopf_file_2020-01-04.tar.gz',\n",
       " '../data_hdd4t/台灣碩網/honeypot/2020-01-04/dionaea/dionaea_file_2020-01-04.tar.gz',\n",
       " '../data_hdd4t/台灣碩網/honeypot/2020-01-04/dionaea/dionaea_log_2020-01-04.tar.gz',\n",
       " '../data_hdd4t/台灣碩網/honeypot/2020-01-07/cowrie/cowrie_log_2020-01-07.tar.gz',\n",
       " '../data_hdd4t/台灣碩網/honeypot/2020-01-07/amun/amun_file_2020-01-07.tar.gz',\n",
       " '../data_hdd4t/台灣碩網/honeypot/2020-01-07/amun/amun_log_2020-01-07.tar.gz',\n",
       " '../data_hdd4t/台灣碩網/honeypot/2020-01-07/glastopf/glastopf_log_2020-01-07.tar.gz',\n",
       " '../data_hdd4t/台灣碩網/honeypot/2020-01-07/glastopf/glastopf_file_2020-01-07.tar.gz',\n",
       " '../data_hdd4t/台灣碩網/honeypot/2020-01-07/dionaea/dionaea_log_2020-01-07.tar.gz',\n",
       " '../data_hdd4t/台灣碩網/honeypot/2020-01-07/dionaea/dionaea_file_2020-01-07.tar.gz',\n",
       " '../data_hdd4t/台灣碩網/honeypot/2020-01-09/cowrie/cowrie_log_2020-01-09.tar.gz',\n",
       " '../data_hdd4t/台灣碩網/honeypot/2020-01-09/amun/amun_file_2020-01-09.tar.gz',\n",
       " '../data_hdd4t/台灣碩網/honeypot/2020-01-09/amun/amun_log_2020-01-09.tar.gz',\n",
       " '../data_hdd4t/台灣碩網/honeypot/2020-01-09/glastopf/glastopf_file_2020-01-09.tar.gz',\n",
       " '../data_hdd4t/台灣碩網/honeypot/2020-01-09/glastopf/glastopf_log_2020-01-09.tar.gz',\n",
       " '../data_hdd4t/台灣碩網/honeypot/2020-01-09/dionaea/dionaea_log_2020-01-09.tar.gz',\n",
       " '../data_hdd4t/台灣碩網/honeypot/2020-01-09/dionaea/dionaea_file_2020-01-09.tar.gz',\n",
       " '../data_hdd4t/台灣碩網/honeypot/2020-01-02/cowrie/cowrie_log_2020-01-02.tar.gz',\n",
       " '../data_hdd4t/台灣碩網/honeypot/2020-01-02/amun/amun_log_2020-01-02.tar.gz',\n",
       " '../data_hdd4t/台灣碩網/honeypot/2020-01-02/amun/amun_file_2020-01-02.tar.gz',\n",
       " '../data_hdd4t/台灣碩網/honeypot/2020-01-02/dionaea/dionaea_log_2020-01-02.tar.gz',\n",
       " '../data_hdd4t/台灣碩網/honeypot/2020-01-02/dionaea/dionaea_file_2020-01-02.tar.gz',\n",
       " '../data_hdd4t/台灣碩網/pcap/snort.2020-01-03.tar.gz',\n",
       " '../data_hdd4t/台灣碩網/pcap/snort.2020-01-02.tar.gz',\n",
       " '../data_hdd4t/台灣碩網/pcap/snort.2020-01-08.tar.gz',\n",
       " '../data_hdd4t/台灣碩網/pcap/snort.2020-01-04.tar.gz',\n",
       " '../data_hdd4t/台灣碩網/pcap/snort.2020-01-06.tar.gz',\n",
       " '../data_hdd4t/台灣碩網/pcap/snort.2020-01-09.tar.gz',\n",
       " '../data_hdd4t/台灣碩網/pcap/snort.2020-01-07.tar.gz',\n",
       " '../data_hdd4t/台灣碩網/pcap/snort.2020-01-01.tar.gz',\n",
       " '../data_hdd4t/台灣碩網/pcap/snort.2020-01-11.tar.gz',\n",
       " '../data_hdd4t/台灣碩網/pcap/snort.2020-01-10.tar.gz',\n",
       " '../data_hdd4t/台灣碩網/pcap/snort.2020-01-05.tar.gz',\n",
       " '../data_hdd4t/中嘉寬頻/honeypot/2020-01-10/cowrie/cowrie_log_2020-01-10.tar.gz',\n",
       " '../data_hdd4t/中嘉寬頻/honeypot/2020-01-10/cowrie/cowrie_file_2020-01-10.tar.gz',\n",
       " '../data_hdd4t/中嘉寬頻/honeypot/2020-01-10/amun/amun_log_2020-01-10.tar.gz',\n",
       " '../data_hdd4t/中嘉寬頻/honeypot/2020-01-10/amun/amun_file_2020-01-10.tar.gz',\n",
       " '../data_hdd4t/中嘉寬頻/honeypot/2020-01-10/glastopf/glastopf_file_2020-01-10.tar.gz',\n",
       " '../data_hdd4t/中嘉寬頻/honeypot/2020-01-10/glastopf/glastopf_log_2020-01-10.tar.gz',\n",
       " '../data_hdd4t/中嘉寬頻/honeypot/2020-01-10/dionaea/dionaea_log_2020-01-10.tar.gz',\n",
       " '../data_hdd4t/中嘉寬頻/honeypot/2020-01-10/dionaea/dionaea_file_2020-01-10.tar.gz',\n",
       " '../data_hdd4t/中嘉寬頻/honeypot/2020-01-11/cowrie/cowrie_log_2020-01-11.tar.gz',\n",
       " '../data_hdd4t/中嘉寬頻/honeypot/2020-01-11/cowrie/cowrie_file_2020-01-11.tar.gz',\n",
       " '../data_hdd4t/中嘉寬頻/honeypot/2020-01-11/amun/amun_log_2020-01-11.tar.gz',\n",
       " '../data_hdd4t/中嘉寬頻/honeypot/2020-01-11/amun/amun_file_2020-01-11.tar.gz',\n",
       " '../data_hdd4t/中嘉寬頻/honeypot/2020-01-11/glastopf/glastopf_file_2020-01-11.tar.gz',\n",
       " '../data_hdd4t/中嘉寬頻/honeypot/2020-01-11/glastopf/glastopf_log_2020-01-11.tar.gz',\n",
       " '../data_hdd4t/中嘉寬頻/honeypot/2020-01-11/dionaea/dionaea_file_2020-01-11.tar.gz',\n",
       " '../data_hdd4t/中嘉寬頻/honeypot/2020-01-11/dionaea/dionaea_log_2020-01-11.tar.gz',\n",
       " '../data_hdd4t/中嘉寬頻/honeypot/2020-01-08/cowrie/cowrie_log_2020-01-08.tar.gz',\n",
       " '../data_hdd4t/中嘉寬頻/honeypot/2020-01-08/cowrie/cowrie_file_2020-01-08.tar.gz',\n",
       " '../data_hdd4t/中嘉寬頻/honeypot/2020-01-08/amun/amun_file_2020-01-08.tar.gz',\n",
       " '../data_hdd4t/中嘉寬頻/honeypot/2020-01-08/amun/amun_log_2020-01-08.tar.gz',\n",
       " '../data_hdd4t/中嘉寬頻/honeypot/2020-01-08/glastopf/glastopf_file_2020-01-08.tar.gz',\n",
       " '../data_hdd4t/中嘉寬頻/honeypot/2020-01-08/glastopf/glastopf_log_2020-01-08.tar.gz',\n",
       " '../data_hdd4t/中嘉寬頻/honeypot/2020-01-08/dionaea/dionaea_file_2020-01-08.tar.gz',\n",
       " '../data_hdd4t/中嘉寬頻/honeypot/2020-01-08/dionaea/dionaea_log_2020-01-08.tar.gz',\n",
       " '../data_hdd4t/中嘉寬頻/honeypot/2020-01-07/cowrie/cowrie_log_2020-01-07.tar.gz',\n",
       " '../data_hdd4t/中嘉寬頻/honeypot/2020-01-07/cowrie/cowrie_file_2020-01-07.tar.gz',\n",
       " '../data_hdd4t/中嘉寬頻/honeypot/2020-01-07/amun/amun_file_2020-01-07.tar.gz',\n",
       " '../data_hdd4t/中嘉寬頻/honeypot/2020-01-07/amun/amun_log_2020-01-07.tar.gz',\n",
       " '../data_hdd4t/中嘉寬頻/honeypot/2020-01-07/glastopf/glastopf_log_2020-01-07.tar.gz',\n",
       " '../data_hdd4t/中嘉寬頻/honeypot/2020-01-07/glastopf/glastopf_file_2020-01-07.tar.gz',\n",
       " '../data_hdd4t/中嘉寬頻/honeypot/2020-01-07/dionaea/dionaea_log_2020-01-07.tar.gz',\n",
       " '../data_hdd4t/中嘉寬頻/honeypot/2020-01-07/dionaea/dionaea_file_2020-01-07.tar.gz',\n",
       " '../data_hdd4t/中嘉寬頻/pcap/snort.2020-01-08.tar.gz',\n",
       " '../data_hdd4t/中嘉寬頻/pcap/snort.2020-01-06.tar.gz',\n",
       " '../data_hdd4t/中嘉寬頻/pcap/snort.2020-01-09.tar.gz',\n",
       " '../data_hdd4t/中嘉寬頻/pcap/snort.2020-01-07.tar.gz',\n",
       " '../data_hdd4t/中嘉寬頻/pcap/snort.2020-01-11.tar.gz',\n",
       " '../data_hdd4t/中嘉寬頻/pcap/snort.2020-01-10.tar.gz',\n",
       " '../data_hdd4t/中嘉寬頻/pcap/snort.2020-01-05.tar.gz',\n",
       " '../data_hdd4t/凱擘/honeypot/2020-01-10/cowrie/cowrie_log_2020-01-10.tar.gz',\n",
       " '../data_hdd4t/凱擘/honeypot/2020-01-10/cowrie/cowrie_file_2020-01-10.tar.gz',\n",
       " '../data_hdd4t/凱擘/honeypot/2020-01-10/amun/amun_log_2020-01-10.tar.gz',\n",
       " '../data_hdd4t/凱擘/honeypot/2020-01-10/amun/amun_file_2020-01-10.tar.gz',\n",
       " '../data_hdd4t/凱擘/honeypot/2020-01-10/glastopf/glastopf_file_2020-01-10.tar.gz',\n",
       " '../data_hdd4t/凱擘/honeypot/2020-01-10/glastopf/glastopf_log_2020-01-10.tar.gz',\n",
       " '../data_hdd4t/凱擘/honeypot/2020-01-10/dionaea/dionaea_log_2020-01-10.tar.gz',\n",
       " '../data_hdd4t/凱擘/honeypot/2020-01-10/dionaea/dionaea_file_2020-01-10.tar.gz',\n",
       " '../data_hdd4t/凱擘/honeypot/2020-01-11/cowrie/cowrie_log_2020-01-11.tar.gz',\n",
       " '../data_hdd4t/凱擘/honeypot/2020-01-11/cowrie/cowrie_file_2020-01-11.tar.gz',\n",
       " '../data_hdd4t/凱擘/honeypot/2020-01-11/amun/amun_log_2020-01-11.tar.gz',\n",
       " '../data_hdd4t/凱擘/honeypot/2020-01-11/amun/amun_file_2020-01-11.tar.gz',\n",
       " '../data_hdd4t/凱擘/honeypot/2020-01-11/glastopf/glastopf_file_2020-01-11.tar.gz',\n",
       " '../data_hdd4t/凱擘/honeypot/2020-01-11/glastopf/glastopf_log_2020-01-11.tar.gz',\n",
       " '../data_hdd4t/凱擘/honeypot/2020-01-11/dionaea/dionaea_file_2020-01-11.tar.gz',\n",
       " '../data_hdd4t/凱擘/honeypot/2020-01-11/dionaea/dionaea_log_2020-01-11.tar.gz',\n",
       " '../data_hdd4t/凱擘/honeypot/2020-01-06/cowrie/cowrie_log_2020-01-06.tar.gz',\n",
       " '../data_hdd4t/凱擘/honeypot/2020-01-06/cowrie/cowrie_file_2020-01-06.tar.gz',\n",
       " '../data_hdd4t/凱擘/honeypot/2020-01-06/amun/amun_log_2020-01-06.tar.gz',\n",
       " '../data_hdd4t/凱擘/honeypot/2020-01-06/amun/amun_file_2020-01-06.tar.gz',\n",
       " '../data_hdd4t/凱擘/honeypot/2020-01-06/glastopf/glastopf_file_2020-01-06.tar.gz',\n",
       " '../data_hdd4t/凱擘/honeypot/2020-01-06/glastopf/glastopf_log_2020-01-06.tar.gz',\n",
       " '../data_hdd4t/凱擘/honeypot/2020-01-06/dionaea/dionaea_file_2020-01-06.tar.gz',\n",
       " '../data_hdd4t/凱擘/honeypot/2020-01-06/dionaea/dionaea_log_2020-01-06.tar.gz',\n",
       " '../data_hdd4t/凱擘/honeypot/2020-01-05/cowrie/cowrie_file_2020-01-05.tar.gz',\n",
       " '../data_hdd4t/凱擘/honeypot/2020-01-05/cowrie/cowrie_log_2020-01-05.tar.gz',\n",
       " '../data_hdd4t/凱擘/honeypot/2020-01-05/amun/amun_log_2020-01-05.tar.gz',\n",
       " '../data_hdd4t/凱擘/honeypot/2020-01-05/amun/amun_file_2020-01-05.tar.gz',\n",
       " '../data_hdd4t/凱擘/honeypot/2020-01-05/glastopf/glastopf_log_2020-01-05.tar.gz',\n",
       " '../data_hdd4t/凱擘/honeypot/2020-01-05/glastopf/glastopf_file_2020-01-05.tar.gz',\n",
       " '../data_hdd4t/凱擘/honeypot/2020-01-05/dionaea/dionaea_log_2020-01-05.tar.gz',\n",
       " '../data_hdd4t/凱擘/honeypot/2020-01-05/dionaea/dionaea_file_2020-01-05.tar.gz',\n",
       " '../data_hdd4t/凱擘/honeypot/2020-01-08/cowrie/cowrie_log_2020-01-08.tar.gz',\n",
       " '../data_hdd4t/凱擘/honeypot/2020-01-08/cowrie/cowrie_file_2020-01-08.tar.gz',\n",
       " '../data_hdd4t/凱擘/honeypot/2020-01-08/amun/amun_file_2020-01-08.tar.gz',\n",
       " '../data_hdd4t/凱擘/honeypot/2020-01-08/amun/amun_log_2020-01-08.tar.gz',\n",
       " '../data_hdd4t/凱擘/honeypot/2020-01-08/glastopf/glastopf_file_2020-01-08.tar.gz',\n",
       " '../data_hdd4t/凱擘/honeypot/2020-01-08/glastopf/glastopf_log_2020-01-08.tar.gz',\n",
       " '../data_hdd4t/凱擘/honeypot/2020-01-08/dionaea/dionaea_file_2020-01-08.tar.gz',\n",
       " '../data_hdd4t/凱擘/honeypot/2020-01-08/dionaea/dionaea_log_2020-01-08.tar.gz',\n",
       " '../data_hdd4t/凱擘/honeypot/2020-01-07/cowrie/cowrie_log_2020-01-07.tar.gz',\n",
       " '../data_hdd4t/凱擘/honeypot/2020-01-07/cowrie/cowrie_file_2020-01-07.tar.gz',\n",
       " '../data_hdd4t/凱擘/honeypot/2020-01-07/amun/amun_file_2020-01-07.tar.gz',\n",
       " '../data_hdd4t/凱擘/honeypot/2020-01-07/amun/amun_log_2020-01-07.tar.gz',\n",
       " '../data_hdd4t/凱擘/honeypot/2020-01-07/glastopf/glastopf_log_2020-01-07.tar.gz',\n",
       " '../data_hdd4t/凱擘/honeypot/2020-01-07/glastopf/glastopf_file_2020-01-07.tar.gz',\n",
       " '../data_hdd4t/凱擘/honeypot/2020-01-07/dionaea/dionaea_log_2020-01-07.tar.gz',\n",
       " '../data_hdd4t/凱擘/honeypot/2020-01-07/dionaea/dionaea_file_2020-01-07.tar.gz',\n",
       " '../data_hdd4t/凱擘/honeypot/2020-01-09/cowrie/cowrie_log_2020-01-09.tar.gz',\n",
       " '../data_hdd4t/凱擘/honeypot/2020-01-09/cowrie/cowrie_file_2020-01-09.tar.gz',\n",
       " '../data_hdd4t/凱擘/honeypot/2020-01-09/amun/amun_file_2020-01-09.tar.gz',\n",
       " '../data_hdd4t/凱擘/honeypot/2020-01-09/amun/amun_log_2020-01-09.tar.gz',\n",
       " '../data_hdd4t/凱擘/honeypot/2020-01-09/glastopf/glastopf_file_2020-01-09.tar.gz',\n",
       " '../data_hdd4t/凱擘/honeypot/2020-01-09/glastopf/glastopf_log_2020-01-09.tar.gz',\n",
       " '../data_hdd4t/凱擘/honeypot/2020-01-09/dionaea/dionaea_log_2020-01-09.tar.gz',\n",
       " '../data_hdd4t/凱擘/honeypot/2020-01-09/dionaea/dionaea_file_2020-01-09.tar.gz',\n",
       " '../data_hdd4t/凱擘/pcap/snort.2020-01-08.tar.gz',\n",
       " '../data_hdd4t/凱擘/pcap/snort.2020-01-06.tar.gz',\n",
       " '../data_hdd4t/凱擘/pcap/snort.2020-01-09.tar.gz',\n",
       " '../data_hdd4t/凱擘/pcap/snort.2020-01-07.tar.gz',\n",
       " '../data_hdd4t/凱擘/pcap/snort.2020-01-11.tar.gz',\n",
       " '../data_hdd4t/凱擘/pcap/snort.2020-01-10.tar.gz',\n",
       " '../data_hdd4t/凱擘/pcap/snort.2020-01-05.tar.gz',\n",
       " '../data_hdd4t/台灣之星/honeypot/2020-01-10/cowrie/cowrie_log_2020-01-10.tar.gz',\n",
       " '../data_hdd4t/台灣之星/honeypot/2020-01-10/cowrie/cowrie_file_2020-01-10.tar.gz',\n",
       " '../data_hdd4t/台灣之星/honeypot/2020-01-10/amun/amun_log_2020-01-10.tar.gz',\n",
       " '../data_hdd4t/台灣之星/honeypot/2020-01-10/amun/amun_file_2020-01-10.tar.gz',\n",
       " '../data_hdd4t/台灣之星/honeypot/2020-01-10/glastopf/glastopf_file_2020-01-10.tar.gz',\n",
       " '../data_hdd4t/台灣之星/honeypot/2020-01-10/glastopf/glastopf_log_2020-01-10.tar.gz',\n",
       " '../data_hdd4t/台灣之星/honeypot/2020-01-10/dionaea/dionaea_log_2020-01-10.tar.gz',\n",
       " '../data_hdd4t/台灣之星/honeypot/2020-01-10/dionaea/dionaea_file_2020-01-10.tar.gz',\n",
       " '../data_hdd4t/台灣之星/honeypot/2020-01-06/cowrie/cowrie_log_2020-01-06.tar.gz',\n",
       " '../data_hdd4t/台灣之星/honeypot/2020-01-06/cowrie/cowrie_file_2020-01-06.tar.gz',\n",
       " '../data_hdd4t/台灣之星/honeypot/2020-01-06/amun/amun_log_2020-01-06.tar.gz',\n",
       " '../data_hdd4t/台灣之星/honeypot/2020-01-06/amun/amun_file_2020-01-06.tar.gz',\n",
       " '../data_hdd4t/台灣之星/honeypot/2020-01-06/glastopf/glastopf_file_2020-01-06.tar.gz',\n",
       " '../data_hdd4t/台灣之星/honeypot/2020-01-06/glastopf/glastopf_log_2020-01-06.tar.gz',\n",
       " '../data_hdd4t/台灣之星/honeypot/2020-01-06/dionaea/dionaea_file_2020-01-06.tar.gz',\n",
       " '../data_hdd4t/台灣之星/honeypot/2020-01-06/dionaea/dionaea_log_2020-01-06.tar.gz',\n",
       " '../data_hdd4t/台灣之星/honeypot/2020-01-05/cowrie/cowrie_file_2020-01-05.tar.gz',\n",
       " '../data_hdd4t/台灣之星/honeypot/2020-01-05/cowrie/cowrie_log_2020-01-05.tar.gz',\n",
       " '../data_hdd4t/台灣之星/honeypot/2020-01-05/amun/amun_log_2020-01-05.tar.gz',\n",
       " '../data_hdd4t/台灣之星/honeypot/2020-01-05/amun/amun_file_2020-01-05.tar.gz',\n",
       " '../data_hdd4t/台灣之星/honeypot/2020-01-05/glastopf/glastopf_log_2020-01-05.tar.gz',\n",
       " '../data_hdd4t/台灣之星/honeypot/2020-01-05/glastopf/glastopf_file_2020-01-05.tar.gz',\n",
       " '../data_hdd4t/台灣之星/honeypot/2020-01-05/dionaea/dionaea_log_2020-01-05.tar.gz',\n",
       " '../data_hdd4t/台灣之星/honeypot/2020-01-05/dionaea/dionaea_file_2020-01-05.tar.gz',\n",
       " '../data_hdd4t/台灣之星/honeypot/2020-01-08/cowrie/cowrie_log_2020-01-08.tar.gz',\n",
       " '../data_hdd4t/台灣之星/honeypot/2020-01-08/cowrie/cowrie_file_2020-01-08.tar.gz',\n",
       " '../data_hdd4t/台灣之星/honeypot/2020-01-08/amun/amun_file_2020-01-08.tar.gz',\n",
       " '../data_hdd4t/台灣之星/honeypot/2020-01-08/amun/amun_log_2020-01-08.tar.gz',\n",
       " '../data_hdd4t/台灣之星/honeypot/2020-01-08/glastopf/glastopf_file_2020-01-08.tar.gz',\n",
       " '../data_hdd4t/台灣之星/honeypot/2020-01-08/glastopf/glastopf_log_2020-01-08.tar.gz',\n",
       " '../data_hdd4t/台灣之星/honeypot/2020-01-08/dionaea/dionaea_file_2020-01-08.tar.gz',\n",
       " '../data_hdd4t/台灣之星/honeypot/2020-01-08/dionaea/dionaea_log_2020-01-08.tar.gz',\n",
       " '../data_hdd4t/台灣之星/honeypot/2020-01-07/cowrie/cowrie_log_2020-01-07.tar.gz',\n",
       " '../data_hdd4t/台灣之星/honeypot/2020-01-07/cowrie/cowrie_file_2020-01-07.tar.gz',\n",
       " '../data_hdd4t/台灣之星/honeypot/2020-01-07/amun/amun_file_2020-01-07.tar.gz',\n",
       " '../data_hdd4t/台灣之星/honeypot/2020-01-07/amun/amun_log_2020-01-07.tar.gz',\n",
       " '../data_hdd4t/台灣之星/honeypot/2020-01-07/glastopf/glastopf_log_2020-01-07.tar.gz',\n",
       " '../data_hdd4t/台灣之星/honeypot/2020-01-07/glastopf/glastopf_file_2020-01-07.tar.gz',\n",
       " '../data_hdd4t/台灣之星/honeypot/2020-01-07/dionaea/dionaea_log_2020-01-07.tar.gz',\n",
       " '../data_hdd4t/台灣之星/honeypot/2020-01-07/dionaea/dionaea_file_2020-01-07.tar.gz',\n",
       " '../data_hdd4t/台灣之星/honeypot/2020-01-09/cowrie/cowrie_log_2020-01-09.tar.gz',\n",
       " '../data_hdd4t/台灣之星/honeypot/2020-01-09/cowrie/cowrie_file_2020-01-09.tar.gz',\n",
       " '../data_hdd4t/台灣之星/honeypot/2020-01-09/amun/amun_file_2020-01-09.tar.gz',\n",
       " '../data_hdd4t/台灣之星/honeypot/2020-01-09/amun/amun_log_2020-01-09.tar.gz',\n",
       " '../data_hdd4t/台灣之星/honeypot/2020-01-09/glastopf/glastopf_file_2020-01-09.tar.gz',\n",
       " '../data_hdd4t/台灣之星/honeypot/2020-01-09/glastopf/glastopf_log_2020-01-09.tar.gz',\n",
       " '../data_hdd4t/台灣之星/honeypot/2020-01-09/dionaea/dionaea_log_2020-01-09.tar.gz',\n",
       " '../data_hdd4t/台灣之星/honeypot/2020-01-09/dionaea/dionaea_file_2020-01-09.tar.gz',\n",
       " '../data_hdd4t/台灣之星/pcap/snort.2020-01-08.tar.gz',\n",
       " '../data_hdd4t/台灣之星/pcap/snort.2020-01-06.tar.gz',\n",
       " '../data_hdd4t/台灣之星/pcap/snort.2020-01-09.tar.gz',\n",
       " '../data_hdd4t/台灣之星/pcap/snort.2020-01-07.tar.gz',\n",
       " '../data_hdd4t/台灣之星/pcap/snort.2020-01-11.tar.gz',\n",
       " '../data_hdd4t/台灣之星/pcap/snort.2020-01-10.tar.gz',\n",
       " '../data_hdd4t/台灣之星/pcap/snort.2020-01-05.tar.gz',\n",
       " '../data_hdd4t/遠傳/honeypot/2020-01-10/cowrie/cowrie_log_2020-01-10.tar.gz',\n",
       " '../data_hdd4t/遠傳/honeypot/2020-01-10/cowrie/cowrie_file_2020-01-10.tar.gz',\n",
       " '../data_hdd4t/遠傳/honeypot/2020-01-10/amun/amun_log_2020-01-10.tar.gz',\n",
       " '../data_hdd4t/遠傳/honeypot/2020-01-10/amun/amun_file_2020-01-10.tar.gz',\n",
       " '../data_hdd4t/遠傳/honeypot/2020-01-10/dionaea/dionaea_log_2020-01-10.tar.gz',\n",
       " '../data_hdd4t/遠傳/honeypot/2020-01-10/dionaea/dionaea_file_2020-01-10.tar.gz',\n",
       " '../data_hdd4t/遠傳/honeypot/2020-01-11/cowrie/cowrie_log_2020-01-11.tar.gz',\n",
       " '../data_hdd4t/遠傳/honeypot/2020-01-11/cowrie/cowrie_file_2020-01-11.tar.gz',\n",
       " '../data_hdd4t/遠傳/honeypot/2020-01-11/amun/amun_log_2020-01-11.tar.gz',\n",
       " '../data_hdd4t/遠傳/honeypot/2020-01-11/amun/amun_file_2020-01-11.tar.gz',\n",
       " '../data_hdd4t/遠傳/honeypot/2020-01-11/dionaea/dionaea_file_2020-01-11.tar.gz',\n",
       " '../data_hdd4t/遠傳/honeypot/2020-01-11/dionaea/dionaea_log_2020-01-11.tar.gz',\n",
       " '../data_hdd4t/遠傳/honeypot/2020-01-06/cowrie/cowrie_log_2020-01-06.tar.gz',\n",
       " '../data_hdd4t/遠傳/honeypot/2020-01-05/cowrie/cowrie_file_2020-01-05.tar.gz',\n",
       " '../data_hdd4t/遠傳/honeypot/2020-01-05/cowrie/cowrie_log_2020-01-05.tar.gz',\n",
       " '../data_hdd4t/遠傳/honeypot/2020-01-05/amun/amun_log_2020-01-05.tar.gz',\n",
       " '../data_hdd4t/遠傳/honeypot/2020-01-05/amun/amun_file_2020-01-05.tar.gz',\n",
       " '../data_hdd4t/遠傳/honeypot/2020-01-05/dionaea/dionaea_log_2020-01-05.tar.gz',\n",
       " '../data_hdd4t/遠傳/honeypot/2020-01-05/dionaea/dionaea_file_2020-01-05.tar.gz',\n",
       " '../data_hdd4t/遠傳/honeypot/2020-01-08/cowrie/cowrie_log_2020-01-08.tar.gz',\n",
       " '../data_hdd4t/遠傳/honeypot/2020-01-08/cowrie/cowrie_file_2020-01-08.tar.gz',\n",
       " '../data_hdd4t/遠傳/honeypot/2020-01-08/amun/amun_file_2020-01-08.tar.gz',\n",
       " '../data_hdd4t/遠傳/honeypot/2020-01-08/amun/amun_log_2020-01-08.tar.gz',\n",
       " '../data_hdd4t/遠傳/honeypot/2020-01-08/dionaea/dionaea_file_2020-01-08.tar.gz',\n",
       " '../data_hdd4t/遠傳/honeypot/2020-01-08/dionaea/dionaea_log_2020-01-08.tar.gz',\n",
       " '../data_hdd4t/遠傳/honeypot/2020-01-07/cowrie/cowrie_log_2020-01-07.tar.gz',\n",
       " '../data_hdd4t/遠傳/honeypot/2020-01-07/cowrie/cowrie_file_2020-01-07.tar.gz',\n",
       " '../data_hdd4t/遠傳/honeypot/2020-01-07/amun/amun_file_2020-01-07.tar.gz',\n",
       " '../data_hdd4t/遠傳/honeypot/2020-01-07/amun/amun_log_2020-01-07.tar.gz',\n",
       " '../data_hdd4t/遠傳/honeypot/2020-01-07/dionaea/dionaea_log_2020-01-07.tar.gz',\n",
       " '../data_hdd4t/遠傳/honeypot/2020-01-07/dionaea/dionaea_file_2020-01-07.tar.gz',\n",
       " '../data_hdd4t/遠傳/honeypot/2020-01-09/cowrie/cowrie_log_2020-01-09.tar.gz',\n",
       " '../data_hdd4t/遠傳/honeypot/2020-01-09/cowrie/cowrie_file_2020-01-09.tar.gz',\n",
       " '../data_hdd4t/遠傳/honeypot/2020-01-09/amun/amun_file_2020-01-09.tar.gz',\n",
       " '../data_hdd4t/遠傳/honeypot/2020-01-09/amun/amun_log_2020-01-09.tar.gz',\n",
       " '../data_hdd4t/遠傳/honeypot/2020-01-09/dionaea/dionaea_log_2020-01-09.tar.gz',\n",
       " '../data_hdd4t/遠傳/honeypot/2020-01-09/dionaea/dionaea_file_2020-01-09.tar.gz',\n",
       " '../data_hdd4t/遠傳/pcap/snort.2020-01-06.tar.gz',\n",
       " '../data_hdd4t/遠傳/pcap/snort.2020-01-07.tar.gz',\n",
       " '../data_hdd4t/遠傳/pcap/snort.2020-01-05.tar.gz',\n",
       " '../data_hdd4t/台哥大/honeypot/2020-01-10/cowrie/cowrie_log_2020-01-10.tar.gz',\n",
       " '../data_hdd4t/台哥大/honeypot/2020-01-10/cowrie/cowrie_file_2020-01-10.tar.gz',\n",
       " '../data_hdd4t/台哥大/honeypot/2020-01-10/amun/amun_log_2020-01-10.tar.gz',\n",
       " '../data_hdd4t/台哥大/honeypot/2020-01-10/amun/amun_file_2020-01-10.tar.gz',\n",
       " '../data_hdd4t/台哥大/honeypot/2020-01-10/glastopf/glastopf_file_2020-01-10.tar.gz',\n",
       " '../data_hdd4t/台哥大/honeypot/2020-01-10/glastopf/glastopf_log_2020-01-10.tar.gz',\n",
       " '../data_hdd4t/台哥大/honeypot/2020-01-10/dionaea/dionaea_log_2020-01-10.tar.gz',\n",
       " '../data_hdd4t/台哥大/honeypot/2020-01-10/dionaea/dionaea_file_2020-01-10.tar.gz',\n",
       " '../data_hdd4t/台哥大/honeypot/2020-01-11/cowrie/cowrie_log_2020-01-11.tar.gz',\n",
       " '../data_hdd4t/台哥大/honeypot/2020-01-11/cowrie/cowrie_file_2020-01-11.tar.gz',\n",
       " '../data_hdd4t/台哥大/honeypot/2020-01-11/amun/amun_log_2020-01-11.tar.gz',\n",
       " '../data_hdd4t/台哥大/honeypot/2020-01-11/amun/amun_file_2020-01-11.tar.gz',\n",
       " '../data_hdd4t/台哥大/honeypot/2020-01-11/glastopf/glastopf_file_2020-01-11.tar.gz',\n",
       " '../data_hdd4t/台哥大/honeypot/2020-01-11/glastopf/glastopf_log_2020-01-11.tar.gz',\n",
       " '../data_hdd4t/台哥大/honeypot/2020-01-11/dionaea/dionaea_file_2020-01-11.tar.gz',\n",
       " '../data_hdd4t/台哥大/honeypot/2020-01-11/dionaea/dionaea_log_2020-01-11.tar.gz',\n",
       " '../data_hdd4t/台哥大/honeypot/2020-01-06/cowrie/cowrie_log_2020-01-06.tar.gz',\n",
       " '../data_hdd4t/台哥大/honeypot/2020-01-06/cowrie/cowrie_file_2020-01-06.tar.gz',\n",
       " '../data_hdd4t/台哥大/honeypot/2020-01-06/amun/amun_log_2020-01-06.tar.gz',\n",
       " '../data_hdd4t/台哥大/honeypot/2020-01-06/amun/amun_file_2020-01-06.tar.gz',\n",
       " '../data_hdd4t/台哥大/honeypot/2020-01-06/glastopf/glastopf_file_2020-01-06.tar.gz',\n",
       " '../data_hdd4t/台哥大/honeypot/2020-01-06/glastopf/glastopf_log_2020-01-06.tar.gz',\n",
       " '../data_hdd4t/台哥大/honeypot/2020-01-06/dionaea/dionaea_file_2020-01-06.tar.gz',\n",
       " '../data_hdd4t/台哥大/honeypot/2020-01-06/dionaea/dionaea_log_2020-01-06.tar.gz',\n",
       " '../data_hdd4t/台哥大/honeypot/2020-01-05/cowrie/cowrie_file_2020-01-05.tar.gz',\n",
       " '../data_hdd4t/台哥大/honeypot/2020-01-05/cowrie/cowrie_log_2020-01-05.tar.gz',\n",
       " '../data_hdd4t/台哥大/honeypot/2020-01-05/amun/amun_log_2020-01-05.tar.gz',\n",
       " '../data_hdd4t/台哥大/honeypot/2020-01-05/amun/amun_file_2020-01-05.tar.gz',\n",
       " '../data_hdd4t/台哥大/honeypot/2020-01-05/glastopf/glastopf_log_2020-01-05.tar.gz',\n",
       " '../data_hdd4t/台哥大/honeypot/2020-01-05/glastopf/glastopf_file_2020-01-05.tar.gz',\n",
       " '../data_hdd4t/台哥大/honeypot/2020-01-05/dionaea/dionaea_log_2020-01-05.tar.gz',\n",
       " '../data_hdd4t/台哥大/honeypot/2020-01-05/dionaea/dionaea_file_2020-01-05.tar.gz',\n",
       " '../data_hdd4t/台哥大/honeypot/2020-01-08/cowrie/cowrie_log_2020-01-08.tar.gz',\n",
       " '../data_hdd4t/台哥大/honeypot/2020-01-08/cowrie/cowrie_file_2020-01-08.tar.gz',\n",
       " '../data_hdd4t/台哥大/honeypot/2020-01-08/amun/amun_file_2020-01-08.tar.gz',\n",
       " '../data_hdd4t/台哥大/honeypot/2020-01-08/amun/amun_log_2020-01-08.tar.gz',\n",
       " '../data_hdd4t/台哥大/honeypot/2020-01-08/glastopf/glastopf_file_2020-01-08.tar.gz',\n",
       " '../data_hdd4t/台哥大/honeypot/2020-01-08/glastopf/glastopf_log_2020-01-08.tar.gz',\n",
       " '../data_hdd4t/台哥大/honeypot/2020-01-08/dionaea/dionaea_file_2020-01-08.tar.gz',\n",
       " '../data_hdd4t/台哥大/honeypot/2020-01-08/dionaea/dionaea_log_2020-01-08.tar.gz',\n",
       " '../data_hdd4t/台哥大/honeypot/2020-01-07/cowrie/cowrie_log_2020-01-07.tar.gz',\n",
       " '../data_hdd4t/台哥大/honeypot/2020-01-07/cowrie/cowrie_file_2020-01-07.tar.gz',\n",
       " '../data_hdd4t/台哥大/honeypot/2020-01-07/amun/amun_file_2020-01-07.tar.gz',\n",
       " '../data_hdd4t/台哥大/honeypot/2020-01-07/amun/amun_log_2020-01-07.tar.gz',\n",
       " '../data_hdd4t/台哥大/honeypot/2020-01-07/glastopf/glastopf_log_2020-01-07.tar.gz',\n",
       " '../data_hdd4t/台哥大/honeypot/2020-01-07/glastopf/glastopf_file_2020-01-07.tar.gz',\n",
       " '../data_hdd4t/台哥大/honeypot/2020-01-07/dionaea/dionaea_log_2020-01-07.tar.gz',\n",
       " '../data_hdd4t/台哥大/honeypot/2020-01-07/dionaea/dionaea_file_2020-01-07.tar.gz',\n",
       " '../data_hdd4t/台哥大/honeypot/2020-01-09/cowrie/cowrie_log_2020-01-09.tar.gz',\n",
       " '../data_hdd4t/台哥大/honeypot/2020-01-09/cowrie/cowrie_file_2020-01-09.tar.gz',\n",
       " '../data_hdd4t/台哥大/honeypot/2020-01-09/amun/amun_file_2020-01-09.tar.gz',\n",
       " '../data_hdd4t/台哥大/honeypot/2020-01-09/amun/amun_log_2020-01-09.tar.gz',\n",
       " '../data_hdd4t/台哥大/honeypot/2020-01-09/glastopf/glastopf_file_2020-01-09.tar.gz',\n",
       " '../data_hdd4t/台哥大/honeypot/2020-01-09/glastopf/glastopf_log_2020-01-09.tar.gz',\n",
       " '../data_hdd4t/台哥大/honeypot/2020-01-09/dionaea/dionaea_log_2020-01-09.tar.gz',\n",
       " '../data_hdd4t/台哥大/honeypot/2020-01-09/dionaea/dionaea_file_2020-01-09.tar.gz',\n",
       " '../data_hdd4t/台哥大/pcap/snort.2020-01-08.tar.gz',\n",
       " '../data_hdd4t/台哥大/pcap/snort.2020-01-06.tar.gz',\n",
       " '../data_hdd4t/台哥大/pcap/snort.2020-01-09.tar.gz',\n",
       " '../data_hdd4t/台哥大/pcap/snort.2020-01-07.tar.gz',\n",
       " '../data_hdd4t/台哥大/pcap/snort.2020-01-11.tar.gz',\n",
       " '../data_hdd4t/台哥大/pcap/snort.2020-01-10.tar.gz',\n",
       " '../data_hdd4t/台哥大/pcap/snort.2020-01-05.tar.gz',\n",
       " '../data_hdd4t/台基開發/honeypot/2020-01-10/amun/amun_log_2020-01-10.tar.gz',\n",
       " '../data_hdd4t/台基開發/honeypot/2020-01-10/amun/amun_file_2020-01-10.tar.gz',\n",
       " '../data_hdd4t/台基開發/honeypot/2020-01-10/glastopf/glastopf_file_2020-01-10.tar.gz',\n",
       " '../data_hdd4t/台基開發/honeypot/2020-01-10/glastopf/glastopf_log_2020-01-10.tar.gz',\n",
       " '../data_hdd4t/台基開發/honeypot/2020-01-10/dionaea/dionaea_log_2020-01-10.tar.gz',\n",
       " '../data_hdd4t/台基開發/honeypot/2020-01-10/dionaea/dionaea_file_2020-01-10.tar.gz',\n",
       " '../data_hdd4t/台基開發/honeypot/2020-01-11/amun/amun_log_2020-01-11.tar.gz',\n",
       " '../data_hdd4t/台基開發/honeypot/2020-01-11/amun/amun_file_2020-01-11.tar.gz',\n",
       " '../data_hdd4t/台基開發/honeypot/2020-01-11/glastopf/glastopf_file_2020-01-11.tar.gz',\n",
       " '../data_hdd4t/台基開發/honeypot/2020-01-11/glastopf/glastopf_log_2020-01-11.tar.gz',\n",
       " '../data_hdd4t/台基開發/honeypot/2020-01-11/dionaea/dionaea_file_2020-01-11.tar.gz',\n",
       " '../data_hdd4t/台基開發/honeypot/2020-01-11/dionaea/dionaea_log_2020-01-11.tar.gz',\n",
       " '../data_hdd4t/台基開發/honeypot/2020-01-06/amun/amun_log_2020-01-06.tar.gz',\n",
       " '../data_hdd4t/台基開發/honeypot/2020-01-06/amun/amun_file_2020-01-06.tar.gz',\n",
       " '../data_hdd4t/台基開發/honeypot/2020-01-06/glastopf/glastopf_file_2020-01-06.tar.gz',\n",
       " '../data_hdd4t/台基開發/honeypot/2020-01-06/glastopf/glastopf_log_2020-01-06.tar.gz',\n",
       " '../data_hdd4t/台基開發/honeypot/2020-01-06/dionaea/dionaea_file_2020-01-06.tar.gz',\n",
       " '../data_hdd4t/台基開發/honeypot/2020-01-06/dionaea/dionaea_log_2020-01-06.tar.gz',\n",
       " '../data_hdd4t/台基開發/honeypot/2020-01-05/amun/amun_log_2020-01-05.tar.gz',\n",
       " '../data_hdd4t/台基開發/honeypot/2020-01-05/amun/amun_file_2020-01-05.tar.gz',\n",
       " '../data_hdd4t/台基開發/honeypot/2020-01-05/glastopf/glastopf_log_2020-01-05.tar.gz',\n",
       " '../data_hdd4t/台基開發/honeypot/2020-01-05/glastopf/glastopf_file_2020-01-05.tar.gz',\n",
       " '../data_hdd4t/台基開發/honeypot/2020-01-05/dionaea/dionaea_log_2020-01-05.tar.gz',\n",
       " '../data_hdd4t/台基開發/honeypot/2020-01-05/dionaea/dionaea_file_2020-01-05.tar.gz',\n",
       " '../data_hdd4t/台基開發/honeypot/2020-01-08/amun/amun_file_2020-01-08.tar.gz',\n",
       " '../data_hdd4t/台基開發/honeypot/2020-01-08/amun/amun_log_2020-01-08.tar.gz',\n",
       " '../data_hdd4t/台基開發/honeypot/2020-01-08/glastopf/glastopf_file_2020-01-08.tar.gz',\n",
       " '../data_hdd4t/台基開發/honeypot/2020-01-08/glastopf/glastopf_log_2020-01-08.tar.gz',\n",
       " '../data_hdd4t/台基開發/honeypot/2020-01-08/dionaea/dionaea_file_2020-01-08.tar.gz',\n",
       " '../data_hdd4t/台基開發/honeypot/2020-01-08/dionaea/dionaea_log_2020-01-08.tar.gz',\n",
       " '../data_hdd4t/台基開發/honeypot/2020-01-07/amun/amun_file_2020-01-07.tar.gz',\n",
       " '../data_hdd4t/台基開發/honeypot/2020-01-07/amun/amun_log_2020-01-07.tar.gz',\n",
       " '../data_hdd4t/台基開發/honeypot/2020-01-07/glastopf/glastopf_log_2020-01-07.tar.gz',\n",
       " '../data_hdd4t/台基開發/honeypot/2020-01-07/glastopf/glastopf_file_2020-01-07.tar.gz',\n",
       " '../data_hdd4t/台基開發/honeypot/2020-01-07/dionaea/dionaea_log_2020-01-07.tar.gz',\n",
       " '../data_hdd4t/台基開發/honeypot/2020-01-07/dionaea/dionaea_file_2020-01-07.tar.gz',\n",
       " '../data_hdd4t/台基開發/honeypot/2020-01-09/amun/amun_file_2020-01-09.tar.gz',\n",
       " '../data_hdd4t/台基開發/honeypot/2020-01-09/amun/amun_log_2020-01-09.tar.gz',\n",
       " '../data_hdd4t/台基開發/honeypot/2020-01-09/glastopf/glastopf_file_2020-01-09.tar.gz',\n",
       " '../data_hdd4t/台基開發/honeypot/2020-01-09/glastopf/glastopf_log_2020-01-09.tar.gz',\n",
       " '../data_hdd4t/台基開發/honeypot/2020-01-09/dionaea/dionaea_log_2020-01-09.tar.gz',\n",
       " '../data_hdd4t/台基開發/honeypot/2020-01-09/dionaea/dionaea_file_2020-01-09.tar.gz',\n",
       " '../data_hdd4t/台基開發/pcap/snort.2020-01-08.tar.gz',\n",
       " '../data_hdd4t/台基開發/pcap/snort.2020-01-06.tar.gz',\n",
       " '../data_hdd4t/台基開發/pcap/snort.2020-01-09.tar.gz',\n",
       " '../data_hdd4t/台基開發/pcap/snort.2020-01-07.tar.gz',\n",
       " '../data_hdd4t/台基開發/pcap/snort.2020-01-11.tar.gz',\n",
       " '../data_hdd4t/台基開發/pcap/snort.2020-01-10.tar.gz',\n",
       " '../data_hdd4t/台基開發/pcap/snort.2020-01-05.tar.gz',\n",
       " '../data_hdd4t/中華電信/honeypot/2020-01-10/cowrie/cowrie_log_2020-01-10.tar.gz',\n",
       " '../data_hdd4t/中華電信/honeypot/2020-01-10/cowrie/cowrie_file_2020-01-10.tar.gz',\n",
       " '../data_hdd4t/中華電信/honeypot/2020-01-10/amun/amun_log_2020-01-10.tar.gz',\n",
       " '../data_hdd4t/中華電信/honeypot/2020-01-10/amun/amun_file_2020-01-10.tar.gz',\n",
       " '../data_hdd4t/中華電信/honeypot/2020-01-10/glastopf/glastopf_file_2020-01-10.tar.gz',\n",
       " '../data_hdd4t/中華電信/honeypot/2020-01-10/glastopf/glastopf_log_2020-01-10.tar.gz',\n",
       " '../data_hdd4t/中華電信/honeypot/2020-01-10/dionaea/dionaea_log_2020-01-10.tar.gz',\n",
       " '../data_hdd4t/中華電信/honeypot/2020-01-10/dionaea/dionaea_file_2020-01-10.tar.gz',\n",
       " '../data_hdd4t/中華電信/honeypot/2020-01-11/cowrie/cowrie_log_2020-01-11.tar.gz',\n",
       " '../data_hdd4t/中華電信/honeypot/2020-01-11/cowrie/cowrie_file_2020-01-11.tar.gz',\n",
       " '../data_hdd4t/中華電信/honeypot/2020-01-11/amun/amun_log_2020-01-11.tar.gz',\n",
       " '../data_hdd4t/中華電信/honeypot/2020-01-11/amun/amun_file_2020-01-11.tar.gz',\n",
       " '../data_hdd4t/中華電信/honeypot/2020-01-11/glastopf/glastopf_file_2020-01-11.tar.gz',\n",
       " '../data_hdd4t/中華電信/honeypot/2020-01-11/glastopf/glastopf_log_2020-01-11.tar.gz',\n",
       " '../data_hdd4t/中華電信/honeypot/2020-01-11/dionaea/dionaea_file_2020-01-11.tar.gz',\n",
       " '../data_hdd4t/中華電信/honeypot/2020-01-11/dionaea/dionaea_log_2020-01-11.tar.gz',\n",
       " '../data_hdd4t/中華電信/honeypot/2020-01-01/cowrie/cowrie_file_2020-01-01.tar.gz',\n",
       " '../data_hdd4t/中華電信/honeypot/2020-01-01/cowrie/cowrie_log_2020-01-01.tar.gz',\n",
       " '../data_hdd4t/中華電信/honeypot/2020-01-01/amun/amun_file_2020-01-01.tar.gz',\n",
       " '../data_hdd4t/中華電信/honeypot/2020-01-01/amun/amun_log_2020-01-01.tar.gz',\n",
       " '../data_hdd4t/中華電信/honeypot/2020-01-01/glastopf/glastopf_file_2020-01-01.tar.gz',\n",
       " '../data_hdd4t/中華電信/honeypot/2020-01-01/glastopf/glastopf_log_2020-01-01.tar.gz',\n",
       " '../data_hdd4t/中華電信/honeypot/2020-01-01/dionaea/dionaea_log_2020-01-01.tar.gz',\n",
       " '../data_hdd4t/中華電信/honeypot/2020-01-01/dionaea/dionaea_file_2020-01-01.tar.gz',\n",
       " '../data_hdd4t/中華電信/honeypot/2020-01-08/cowrie/cowrie_log_2020-01-08.tar.gz',\n",
       " '../data_hdd4t/中華電信/honeypot/2020-01-08/cowrie/cowrie_file_2020-01-08.tar.gz',\n",
       " '../data_hdd4t/中華電信/honeypot/2020-01-08/amun/amun_file_2020-01-08.tar.gz',\n",
       " '../data_hdd4t/中華電信/honeypot/2020-01-08/amun/amun_log_2020-01-08.tar.gz',\n",
       " '../data_hdd4t/中華電信/honeypot/2020-01-08/glastopf/glastopf_file_2020-01-08.tar.gz',\n",
       " '../data_hdd4t/中華電信/honeypot/2020-01-08/glastopf/glastopf_log_2020-01-08.tar.gz',\n",
       " '../data_hdd4t/中華電信/honeypot/2020-01-08/dionaea/dionaea_file_2020-01-08.tar.gz',\n",
       " '../data_hdd4t/中華電信/honeypot/2020-01-08/dionaea/dionaea_log_2020-01-08.tar.gz',\n",
       " '../data_hdd4t/中華電信/honeypot/2020-01-07/cowrie/cowrie_log_2020-01-07.tar.gz',\n",
       " '../data_hdd4t/中華電信/honeypot/2020-01-07/cowrie/cowrie_file_2020-01-07.tar.gz',\n",
       " '../data_hdd4t/中華電信/honeypot/2020-01-07/amun/amun_file_2020-01-07.tar.gz',\n",
       " '../data_hdd4t/中華電信/honeypot/2020-01-07/amun/amun_log_2020-01-07.tar.gz',\n",
       " '../data_hdd4t/中華電信/honeypot/2020-01-07/glastopf/glastopf_log_2020-01-07.tar.gz',\n",
       " '../data_hdd4t/中華電信/honeypot/2020-01-07/glastopf/glastopf_file_2020-01-07.tar.gz',\n",
       " '../data_hdd4t/中華電信/honeypot/2020-01-07/dionaea/dionaea_log_2020-01-07.tar.gz',\n",
       " '../data_hdd4t/中華電信/honeypot/2020-01-07/dionaea/dionaea_file_2020-01-07.tar.gz',\n",
       " '../data_hdd4t/中華電信/pcap/snort.2020-01-03.tar.gz',\n",
       " '../data_hdd4t/中華電信/pcap/snort.2020-01-02.tar.gz',\n",
       " '../data_hdd4t/中華電信/pcap/snort.2020-01-08.tar.gz',\n",
       " '../data_hdd4t/中華電信/pcap/snort.2020-01-04.tar.gz',\n",
       " '../data_hdd4t/中華電信/pcap/snort.2020-01-06.tar.gz',\n",
       " '../data_hdd4t/中華電信/pcap/snort.2020-01-09.tar.gz',\n",
       " '../data_hdd4t/中華電信/pcap/snort.2020-01-07.tar.gz',\n",
       " '../data_hdd4t/中華電信/pcap/snort.2020-01-01.tar.gz',\n",
       " '../data_hdd4t/中華電信/pcap/snort.2020-01-11.tar.gz',\n",
       " '../data_hdd4t/中華電信/pcap/snort.2020-01-10.tar.gz',\n",
       " '../data_hdd4t/中華電信/pcap/snort.2020-01-05.tar.gz',\n",
       " '../data_hdd4t/台灣固網/honeypot/2020-01-10/cowrie/cowrie_log_2020-01-10.tar.gz',\n",
       " '../data_hdd4t/台灣固網/honeypot/2020-01-10/cowrie/cowrie_file_2020-01-10.tar.gz',\n",
       " '../data_hdd4t/台灣固網/honeypot/2020-01-10/amun/amun_log_2020-01-10.tar.gz',\n",
       " '../data_hdd4t/台灣固網/honeypot/2020-01-10/amun/amun_file_2020-01-10.tar.gz',\n",
       " '../data_hdd4t/台灣固網/honeypot/2020-01-10/glastopf/glastopf_file_2020-01-10.tar.gz',\n",
       " '../data_hdd4t/台灣固網/honeypot/2020-01-10/glastopf/glastopf_log_2020-01-10.tar.gz',\n",
       " '../data_hdd4t/台灣固網/honeypot/2020-01-10/dionaea/dionaea_log_2020-01-10.tar.gz',\n",
       " '../data_hdd4t/台灣固網/honeypot/2020-01-10/dionaea/dionaea_file_2020-01-10.tar.gz',\n",
       " '../data_hdd4t/台灣固網/honeypot/2020-01-11/cowrie/cowrie_log_2020-01-11.tar.gz',\n",
       " '../data_hdd4t/台灣固網/honeypot/2020-01-11/cowrie/cowrie_file_2020-01-11.tar.gz',\n",
       " '../data_hdd4t/台灣固網/honeypot/2020-01-11/amun/amun_log_2020-01-11.tar.gz',\n",
       " '../data_hdd4t/台灣固網/honeypot/2020-01-11/amun/amun_file_2020-01-11.tar.gz',\n",
       " '../data_hdd4t/台灣固網/honeypot/2020-01-11/glastopf/glastopf_file_2020-01-11.tar.gz',\n",
       " '../data_hdd4t/台灣固網/honeypot/2020-01-11/glastopf/glastopf_log_2020-01-11.tar.gz',\n",
       " '../data_hdd4t/台灣固網/honeypot/2020-01-11/dionaea/dionaea_file_2020-01-11.tar.gz',\n",
       " '../data_hdd4t/台灣固網/honeypot/2020-01-11/dionaea/dionaea_log_2020-01-11.tar.gz',\n",
       " '../data_hdd4t/台灣固網/honeypot/2020-01-06/cowrie/cowrie_log_2020-01-06.tar.gz',\n",
       " '../data_hdd4t/台灣固網/honeypot/2020-01-06/cowrie/cowrie_file_2020-01-06.tar.gz',\n",
       " '../data_hdd4t/台灣固網/honeypot/2020-01-06/amun/amun_log_2020-01-06.tar.gz',\n",
       " '../data_hdd4t/台灣固網/honeypot/2020-01-06/amun/amun_file_2020-01-06.tar.gz',\n",
       " '../data_hdd4t/台灣固網/honeypot/2020-01-06/glastopf/glastopf_file_2020-01-06.tar.gz',\n",
       " '../data_hdd4t/台灣固網/honeypot/2020-01-06/glastopf/glastopf_log_2020-01-06.tar.gz',\n",
       " '../data_hdd4t/台灣固網/honeypot/2020-01-06/dionaea/dionaea_file_2020-01-06.tar.gz',\n",
       " '../data_hdd4t/台灣固網/honeypot/2020-01-06/dionaea/dionaea_log_2020-01-06.tar.gz',\n",
       " '../data_hdd4t/台灣固網/honeypot/2020-01-05/cowrie/cowrie_file_2020-01-05.tar.gz',\n",
       " '../data_hdd4t/台灣固網/honeypot/2020-01-05/cowrie/cowrie_log_2020-01-05.tar.gz',\n",
       " '../data_hdd4t/台灣固網/honeypot/2020-01-05/amun/amun_log_2020-01-05.tar.gz',\n",
       " '../data_hdd4t/台灣固網/honeypot/2020-01-05/amun/amun_file_2020-01-05.tar.gz',\n",
       " '../data_hdd4t/台灣固網/honeypot/2020-01-05/glastopf/glastopf_log_2020-01-05.tar.gz',\n",
       " '../data_hdd4t/台灣固網/honeypot/2020-01-05/glastopf/glastopf_file_2020-01-05.tar.gz',\n",
       " '../data_hdd4t/台灣固網/honeypot/2020-01-05/dionaea/dionaea_log_2020-01-05.tar.gz',\n",
       " '../data_hdd4t/台灣固網/honeypot/2020-01-05/dionaea/dionaea_file_2020-01-05.tar.gz',\n",
       " '../data_hdd4t/台灣固網/honeypot/2020-01-08/cowrie/cowrie_log_2020-01-08.tar.gz',\n",
       " '../data_hdd4t/台灣固網/honeypot/2020-01-08/cowrie/cowrie_file_2020-01-08.tar.gz',\n",
       " '../data_hdd4t/台灣固網/honeypot/2020-01-08/amun/amun_file_2020-01-08.tar.gz',\n",
       " '../data_hdd4t/台灣固網/honeypot/2020-01-08/amun/amun_log_2020-01-08.tar.gz',\n",
       " '../data_hdd4t/台灣固網/honeypot/2020-01-08/glastopf/glastopf_file_2020-01-08.tar.gz',\n",
       " '../data_hdd4t/台灣固網/honeypot/2020-01-08/glastopf/glastopf_log_2020-01-08.tar.gz',\n",
       " '../data_hdd4t/台灣固網/honeypot/2020-01-08/dionaea/dionaea_file_2020-01-08.tar.gz',\n",
       " '../data_hdd4t/台灣固網/honeypot/2020-01-08/dionaea/dionaea_log_2020-01-08.tar.gz',\n",
       " '../data_hdd4t/台灣固網/honeypot/2020-01-07/cowrie/cowrie_log_2020-01-07.tar.gz',\n",
       " '../data_hdd4t/台灣固網/honeypot/2020-01-07/cowrie/cowrie_file_2020-01-07.tar.gz',\n",
       " '../data_hdd4t/台灣固網/honeypot/2020-01-07/amun/amun_file_2020-01-07.tar.gz',\n",
       " '../data_hdd4t/台灣固網/honeypot/2020-01-07/amun/amun_log_2020-01-07.tar.gz',\n",
       " '../data_hdd4t/台灣固網/honeypot/2020-01-07/glastopf/glastopf_log_2020-01-07.tar.gz',\n",
       " '../data_hdd4t/台灣固網/honeypot/2020-01-07/glastopf/glastopf_file_2020-01-07.tar.gz',\n",
       " '../data_hdd4t/台灣固網/honeypot/2020-01-07/dionaea/dionaea_log_2020-01-07.tar.gz',\n",
       " '../data_hdd4t/台灣固網/honeypot/2020-01-07/dionaea/dionaea_file_2020-01-07.tar.gz',\n",
       " '../data_hdd4t/台灣固網/honeypot/2020-01-09/cowrie/cowrie_log_2020-01-09.tar.gz',\n",
       " '../data_hdd4t/台灣固網/honeypot/2020-01-09/cowrie/cowrie_file_2020-01-09.tar.gz',\n",
       " '../data_hdd4t/台灣固網/honeypot/2020-01-09/amun/amun_file_2020-01-09.tar.gz',\n",
       " '../data_hdd4t/台灣固網/honeypot/2020-01-09/amun/amun_log_2020-01-09.tar.gz',\n",
       " '../data_hdd4t/台灣固網/honeypot/2020-01-09/glastopf/glastopf_file_2020-01-09.tar.gz',\n",
       " '../data_hdd4t/台灣固網/honeypot/2020-01-09/glastopf/glastopf_log_2020-01-09.tar.gz',\n",
       " '../data_hdd4t/台灣固網/honeypot/2020-01-09/dionaea/dionaea_log_2020-01-09.tar.gz',\n",
       " '../data_hdd4t/台灣固網/honeypot/2020-01-09/dionaea/dionaea_file_2020-01-09.tar.gz',\n",
       " '../data_hdd4t/台灣固網/pcap/snort.2020-01-08.tar.gz',\n",
       " '../data_hdd4t/台灣固網/pcap/snort.2020-01-06.tar.gz',\n",
       " '../data_hdd4t/台灣固網/pcap/snort.2020-01-09.tar.gz',\n",
       " '../data_hdd4t/台灣固網/pcap/snort.2020-01-07.tar.gz',\n",
       " '../data_hdd4t/台灣固網/pcap/snort.2020-01-11.tar.gz',\n",
       " '../data_hdd4t/台灣固網/pcap/snort.2020-01-10.tar.gz',\n",
       " '../data_hdd4t/台灣固網/pcap/snort.2020-01-05.tar.gz',\n",
       " '../data_hdd4t/台固媒體/honeypot/2020-01-10/cowrie/cowrie_log_2020-01-10.tar.gz',\n",
       " '../data_hdd4t/台固媒體/honeypot/2020-01-10/cowrie/cowrie_file_2020-01-10.tar.gz',\n",
       " '../data_hdd4t/台固媒體/honeypot/2020-01-10/amun/amun_log_2020-01-10.tar.gz',\n",
       " '../data_hdd4t/台固媒體/honeypot/2020-01-10/amun/amun_file_2020-01-10.tar.gz',\n",
       " '../data_hdd4t/台固媒體/honeypot/2020-01-10/glastopf/glastopf_file_2020-01-10.tar.gz',\n",
       " '../data_hdd4t/台固媒體/honeypot/2020-01-10/glastopf/glastopf_log_2020-01-10.tar.gz',\n",
       " '../data_hdd4t/台固媒體/honeypot/2020-01-10/dionaea/dionaea_log_2020-01-10.tar.gz',\n",
       " '../data_hdd4t/台固媒體/honeypot/2020-01-10/dionaea/dionaea_file_2020-01-10.tar.gz',\n",
       " '../data_hdd4t/台固媒體/honeypot/2020-01-11/cowrie/cowrie_log_2020-01-11.tar.gz',\n",
       " '../data_hdd4t/台固媒體/honeypot/2020-01-11/cowrie/cowrie_file_2020-01-11.tar.gz',\n",
       " '../data_hdd4t/台固媒體/honeypot/2020-01-11/amun/amun_log_2020-01-11.tar.gz',\n",
       " '../data_hdd4t/台固媒體/honeypot/2020-01-11/amun/amun_file_2020-01-11.tar.gz',\n",
       " '../data_hdd4t/台固媒體/honeypot/2020-01-11/glastopf/glastopf_file_2020-01-11.tar.gz',\n",
       " '../data_hdd4t/台固媒體/honeypot/2020-01-11/glastopf/glastopf_log_2020-01-11.tar.gz',\n",
       " '../data_hdd4t/台固媒體/honeypot/2020-01-11/dionaea/dionaea_file_2020-01-11.tar.gz',\n",
       " '../data_hdd4t/台固媒體/honeypot/2020-01-11/dionaea/dionaea_log_2020-01-11.tar.gz',\n",
       " '../data_hdd4t/台固媒體/honeypot/2020-01-06/cowrie/cowrie_log_2020-01-06.tar.gz',\n",
       " '../data_hdd4t/台固媒體/honeypot/2020-01-06/cowrie/cowrie_file_2020-01-06.tar.gz',\n",
       " '../data_hdd4t/台固媒體/honeypot/2020-01-06/amun/amun_log_2020-01-06.tar.gz',\n",
       " '../data_hdd4t/台固媒體/honeypot/2020-01-06/amun/amun_file_2020-01-06.tar.gz',\n",
       " '../data_hdd4t/台固媒體/honeypot/2020-01-06/glastopf/glastopf_file_2020-01-06.tar.gz',\n",
       " '../data_hdd4t/台固媒體/honeypot/2020-01-06/glastopf/glastopf_log_2020-01-06.tar.gz',\n",
       " '../data_hdd4t/台固媒體/honeypot/2020-01-06/dionaea/dionaea_file_2020-01-06.tar.gz',\n",
       " '../data_hdd4t/台固媒體/honeypot/2020-01-06/dionaea/dionaea_log_2020-01-06.tar.gz',\n",
       " '../data_hdd4t/台固媒體/honeypot/2020-01-05/cowrie/cowrie_file_2020-01-05.tar.gz',\n",
       " '../data_hdd4t/台固媒體/honeypot/2020-01-05/cowrie/cowrie_log_2020-01-05.tar.gz',\n",
       " '../data_hdd4t/台固媒體/honeypot/2020-01-05/amun/amun_log_2020-01-05.tar.gz',\n",
       " '../data_hdd4t/台固媒體/honeypot/2020-01-05/amun/amun_file_2020-01-05.tar.gz',\n",
       " '../data_hdd4t/台固媒體/honeypot/2020-01-05/glastopf/glastopf_log_2020-01-05.tar.gz',\n",
       " '../data_hdd4t/台固媒體/honeypot/2020-01-05/glastopf/glastopf_file_2020-01-05.tar.gz',\n",
       " '../data_hdd4t/台固媒體/honeypot/2020-01-05/dionaea/dionaea_log_2020-01-05.tar.gz',\n",
       " '../data_hdd4t/台固媒體/honeypot/2020-01-05/dionaea/dionaea_file_2020-01-05.tar.gz',\n",
       " '../data_hdd4t/台固媒體/honeypot/2020-01-08/cowrie/cowrie_log_2020-01-08.tar.gz',\n",
       " '../data_hdd4t/台固媒體/honeypot/2020-01-08/cowrie/cowrie_file_2020-01-08.tar.gz',\n",
       " '../data_hdd4t/台固媒體/honeypot/2020-01-08/amun/amun_file_2020-01-08.tar.gz',\n",
       " '../data_hdd4t/台固媒體/honeypot/2020-01-08/amun/amun_log_2020-01-08.tar.gz',\n",
       " '../data_hdd4t/台固媒體/honeypot/2020-01-08/glastopf/glastopf_file_2020-01-08.tar.gz',\n",
       " '../data_hdd4t/台固媒體/honeypot/2020-01-08/glastopf/glastopf_log_2020-01-08.tar.gz',\n",
       " '../data_hdd4t/台固媒體/honeypot/2020-01-08/dionaea/dionaea_file_2020-01-08.tar.gz',\n",
       " '../data_hdd4t/台固媒體/honeypot/2020-01-08/dionaea/dionaea_log_2020-01-08.tar.gz',\n",
       " '../data_hdd4t/台固媒體/honeypot/2020-01-07/cowrie/cowrie_log_2020-01-07.tar.gz',\n",
       " '../data_hdd4t/台固媒體/honeypot/2020-01-07/cowrie/cowrie_file_2020-01-07.tar.gz',\n",
       " '../data_hdd4t/台固媒體/honeypot/2020-01-07/amun/amun_file_2020-01-07.tar.gz',\n",
       " '../data_hdd4t/台固媒體/honeypot/2020-01-07/amun/amun_log_2020-01-07.tar.gz',\n",
       " '../data_hdd4t/台固媒體/honeypot/2020-01-07/glastopf/glastopf_log_2020-01-07.tar.gz',\n",
       " '../data_hdd4t/台固媒體/honeypot/2020-01-07/glastopf/glastopf_file_2020-01-07.tar.gz',\n",
       " '../data_hdd4t/台固媒體/honeypot/2020-01-07/dionaea/dionaea_log_2020-01-07.tar.gz',\n",
       " '../data_hdd4t/台固媒體/honeypot/2020-01-07/dionaea/dionaea_file_2020-01-07.tar.gz',\n",
       " '../data_hdd4t/台固媒體/honeypot/2020-01-09/cowrie/cowrie_log_2020-01-09.tar.gz',\n",
       " '../data_hdd4t/台固媒體/honeypot/2020-01-09/cowrie/cowrie_file_2020-01-09.tar.gz',\n",
       " '../data_hdd4t/台固媒體/honeypot/2020-01-09/amun/amun_file_2020-01-09.tar.gz',\n",
       " '../data_hdd4t/台固媒體/honeypot/2020-01-09/amun/amun_log_2020-01-09.tar.gz',\n",
       " '../data_hdd4t/台固媒體/honeypot/2020-01-09/glastopf/glastopf_file_2020-01-09.tar.gz',\n",
       " '../data_hdd4t/台固媒體/honeypot/2020-01-09/glastopf/glastopf_log_2020-01-09.tar.gz',\n",
       " '../data_hdd4t/台固媒體/honeypot/2020-01-09/dionaea/dionaea_log_2020-01-09.tar.gz',\n",
       " '../data_hdd4t/台固媒體/honeypot/2020-01-09/dionaea/dionaea_file_2020-01-09.tar.gz',\n",
       " '../data_hdd4t/台固媒體/pcap/snort.2020-01-08.tar.gz',\n",
       " '../data_hdd4t/台固媒體/pcap/snort.2020-01-06.tar.gz',\n",
       " '../data_hdd4t/台固媒體/pcap/snort.2020-01-09.tar.gz',\n",
       " '../data_hdd4t/台固媒體/pcap/snort.2020-01-07.tar.gz',\n",
       " '../data_hdd4t/台固媒體/pcap/snort.2020-01-11.tar.gz',\n",
       " '../data_hdd4t/台固媒體/pcap/snort.2020-01-10.tar.gz',\n",
       " '../data_hdd4t/台固媒體/pcap/snort.2020-01-05.tar.gz']"
      ]
     },
     "execution_count": 20,
     "metadata": {},
     "output_type": "execute_result"
    }
   ],
   "source": [
    "all_files = glob.glob(src_dir+'**/*.tar.gz', recursive=True)\n",
    "print(len(all_files))\n",
    "all_files"
   ]
  },
  {
   "cell_type": "code",
   "execution_count": 24,
   "metadata": {
    "scrolled": true
   },
   "outputs": [
    {
     "name": "stderr",
     "output_type": "stream",
     "text": [
      " 17%|█▋        | 106/635 [09:35<02:22,  3.72it/s]  "
     ]
    },
    {
     "name": "stdout",
     "output_type": "stream",
     "text": [
      "../data_hdd4t/台灣碩網/honeypot/2020-01-03/cowrie/cowrie_log_2020-01-03.tar.gz\n",
      "../data_hdd4t/台灣碩網/honeypot/2020-01-03/amun/amun_file_2020-01-03.tar.gz\n"
     ]
    },
    {
     "name": "stderr",
     "output_type": "stream",
     "text": [
      "\r",
      " 17%|█▋        | 107/635 [09:36<02:09,  4.09it/s]"
     ]
    },
    {
     "name": "stdout",
     "output_type": "stream",
     "text": [
      "../data_hdd4t/台灣碩網/honeypot/2020-01-03/amun/amun_log_2020-01-03.tar.gz\n"
     ]
    },
    {
     "name": "stderr",
     "output_type": "stream",
     "text": [
      "\r",
      " 17%|█▋        | 108/635 [09:37<03:52,  2.27it/s]"
     ]
    },
    {
     "name": "stdout",
     "output_type": "stream",
     "text": [
      "../data_hdd4t/台灣碩網/honeypot/2020-01-03/glastopf/glastopf_file_2020-01-03.tar.gz\n"
     ]
    },
    {
     "name": "stderr",
     "output_type": "stream",
     "text": [
      "\r",
      " 17%|█▋        | 109/635 [09:38<06:43,  1.30it/s]"
     ]
    },
    {
     "name": "stdout",
     "output_type": "stream",
     "text": [
      "../data_hdd4t/台灣碩網/honeypot/2020-01-03/glastopf/glastopf_log_2020-01-03.tar.gz\n",
      "../data_hdd4t/台灣碩網/honeypot/2020-01-03/dionaea/dionaea_file_2020-01-03.tar.gz\n",
      "../data_hdd4t/台灣碩網/honeypot/2020-01-03/dionaea/dionaea_log_2020-01-03.tar.gz\n"
     ]
    },
    {
     "name": "stderr",
     "output_type": "stream",
     "text": [
      " 18%|█▊        | 113/635 [09:40<04:50,  1.79it/s]"
     ]
    },
    {
     "name": "stdout",
     "output_type": "stream",
     "text": [
      "../data_hdd4t/台灣碩網/honeypot/2020-01-04/cowrie/cowrie_log_2020-01-04.tar.gz\n",
      "../data_hdd4t/台灣碩網/honeypot/2020-01-04/amun/amun_file_2020-01-04.tar.gz\n",
      "../data_hdd4t/台灣碩網/honeypot/2020-01-04/amun/amun_log_2020-01-04.tar.gz\n"
     ]
    },
    {
     "name": "stderr",
     "output_type": "stream",
     "text": [
      " 18%|█▊        | 116/635 [09:41<02:56,  2.95it/s]"
     ]
    },
    {
     "name": "stdout",
     "output_type": "stream",
     "text": [
      "../data_hdd4t/台灣碩網/honeypot/2020-01-04/glastopf/glastopf_log_2020-01-04.tar.gz\n",
      "../data_hdd4t/台灣碩網/honeypot/2020-01-04/glastopf/glastopf_file_2020-01-04.tar.gz\n"
     ]
    },
    {
     "name": "stderr",
     "output_type": "stream",
     "text": [
      "\r",
      " 18%|█▊        | 117/635 [09:44<11:56,  1.38s/it]"
     ]
    },
    {
     "name": "stdout",
     "output_type": "stream",
     "text": [
      "../data_hdd4t/台灣碩網/honeypot/2020-01-04/dionaea/dionaea_file_2020-01-04.tar.gz\n",
      "../data_hdd4t/台灣碩網/honeypot/2020-01-04/dionaea/dionaea_log_2020-01-04.tar.gz\n"
     ]
    },
    {
     "name": "stderr",
     "output_type": "stream",
     "text": [
      " 21%|██        | 134/635 [09:50<01:54,  4.36it/s]"
     ]
    },
    {
     "name": "stdout",
     "output_type": "stream",
     "text": [
      "../data_hdd4t/台灣碩網/honeypot/2020-01-02/cowrie/cowrie_log_2020-01-02.tar.gz\n",
      "../data_hdd4t/台灣碩網/honeypot/2020-01-02/amun/amun_log_2020-01-02.tar.gz\n"
     ]
    },
    {
     "name": "stderr",
     "output_type": "stream",
     "text": [
      "\r",
      " 21%|██▏       | 135/635 [09:51<03:10,  2.63it/s]"
     ]
    },
    {
     "name": "stdout",
     "output_type": "stream",
     "text": [
      "../data_hdd4t/台灣碩網/honeypot/2020-01-02/amun/amun_file_2020-01-02.tar.gz\n",
      "../data_hdd4t/台灣碩網/honeypot/2020-01-02/dionaea/dionaea_log_2020-01-02.tar.gz\n"
     ]
    },
    {
     "name": "stderr",
     "output_type": "stream",
     "text": [
      "\r",
      " 22%|██▏       | 137/635 [09:51<02:29,  3.34it/s]"
     ]
    },
    {
     "name": "stdout",
     "output_type": "stream",
     "text": [
      "../data_hdd4t/台灣碩網/honeypot/2020-01-02/dionaea/dionaea_file_2020-01-02.tar.gz\n"
     ]
    },
    {
     "name": "stderr",
     "output_type": "stream",
     "text": [
      " 75%|███████▍  | 474/635 [4:01:15<02:58,  1.11s/it]    "
     ]
    },
    {
     "name": "stdout",
     "output_type": "stream",
     "text": [
      "../data_hdd4t/中華電信/honeypot/2020-01-01/cowrie/cowrie_file_2020-01-01.tar.gz\n"
     ]
    },
    {
     "name": "stderr",
     "output_type": "stream",
     "text": [
      "\r",
      " 75%|███████▍  | 475/635 [4:01:16<02:28,  1.08it/s]"
     ]
    },
    {
     "name": "stdout",
     "output_type": "stream",
     "text": [
      "../data_hdd4t/中華電信/honeypot/2020-01-01/cowrie/cowrie_log_2020-01-01.tar.gz\n"
     ]
    },
    {
     "name": "stderr",
     "output_type": "stream",
     "text": [
      "\r",
      " 75%|███████▍  | 476/635 [4:01:22<06:37,  2.50s/it]"
     ]
    },
    {
     "name": "stdout",
     "output_type": "stream",
     "text": [
      "../data_hdd4t/中華電信/honeypot/2020-01-01/amun/amun_file_2020-01-01.tar.gz\n"
     ]
    },
    {
     "name": "stderr",
     "output_type": "stream",
     "text": [
      "\r",
      " 75%|███████▌  | 477/635 [4:01:22<04:52,  1.85s/it]"
     ]
    },
    {
     "name": "stdout",
     "output_type": "stream",
     "text": [
      "../data_hdd4t/中華電信/honeypot/2020-01-01/amun/amun_log_2020-01-01.tar.gz\n",
      "../data_hdd4t/中華電信/honeypot/2020-01-01/glastopf/glastopf_file_2020-01-01.tar.gz\n",
      "../data_hdd4t/中華電信/honeypot/2020-01-01/glastopf/glastopf_log_2020-01-01.tar.gz\n",
      "../data_hdd4t/中華電信/honeypot/2020-01-01/dionaea/dionaea_log_2020-01-01.tar.gz\n"
     ]
    },
    {
     "name": "stderr",
     "output_type": "stream",
     "text": [
      "\r",
      " 76%|███████▌  | 481/635 [4:01:23<03:23,  1.32s/it]"
     ]
    },
    {
     "name": "stdout",
     "output_type": "stream",
     "text": [
      "../data_hdd4t/中華電信/honeypot/2020-01-01/dionaea/dionaea_file_2020-01-01.tar.gz\n"
     ]
    },
    {
     "name": "stderr",
     "output_type": "stream",
     "text": [
      "100%|██████████| 635/635 [7:07:56<00:00, 40.43s/it]    \n"
     ]
    }
   ],
   "source": [
    "for path in tqdm(all_files):\n",
    "    path_li = path.split('/')\n",
    "    if path_li[2] in ['pcap','honeypot','metadata']:\n",
    "        continue\n",
    "    if len(path_li) == 5: #pcap\n",
    "        date_dir = path_li[-1].split('.')[1]\n",
    "        date_dir = date_dir.replace('-','_')\n",
    "        assert len(date_dir.split('_')) == 3\n",
    "        isp_dir = path_li[2]\n",
    "        isp_dir = aliase_convert(isp_dir)\n",
    "        fileName = path_li[-1]\n",
    "        assert 'snort' in fileName\n",
    "        assert date_dir.split('_')[-1] in fileName\n",
    "        assert '.tar.gz' in fileName\n",
    "        save_dir = rearrange_dir+'pcap/'+date_dir+'/'+isp_dir#+'/'+fileName\n",
    "        if not os.path.exists(save_dir):\n",
    "            os.makedirs(save_dir,exist_ok=True)\n",
    "        try:\n",
    "            shutil.move(path,save_dir+'/')\n",
    "        except :\n",
    "            print(path)\n",
    "            ori = hashlib.md5(open(path,'rb').read()).hexdigest()\n",
    "            dest =  hashlib.md5(open(rearrange_dir+'pcap/'+date_dir+'/'+isp_dir+'/'+fileName,'rb').read()).hexdigest()\n",
    "            if ori == dest:\n",
    "                os.remove(path)\n",
    "            else:\n",
    "                print('_2 was created')                \n",
    "                shutil.move(path,save_dir+'/'+fileName+'_2')\n",
    "    elif len(path_li) == 7: #hp\n",
    "        date_dir = path_li[-3]\n",
    "        date_dir = date_dir.replace('-','_')\n",
    "        assert len(date_dir.split('_')) == 3\n",
    "        type_dir = path_li[-2]\n",
    "        assert type_dir in ['amun', 'cowrie', 'dionaea',  'glastopf']\n",
    "        isp_dir = path_li[2]\n",
    "        isp_dir = aliase_convert(isp_dir)\n",
    "        fileName = path_li[-1]\n",
    "        assert type_dir in fileName\n",
    "        assert date_dir.split('_')[-1] in fileName\n",
    "        assert '.tar.gz' in fileName\n",
    "        save_dir = rearrange_dir+'honeypot/'+date_dir+'/'+type_dir+'/'+isp_dir#+'/'+fileName\n",
    "        if not os.path.exists(save_dir):\n",
    "            os.makedirs(save_dir,exist_ok=True)        \n",
    "        try:\n",
    "            shutil.move(path,save_dir+'/')\n",
    "        except : #重複一模一樣的檔名\n",
    "            print(path)\n",
    "            ori = hashlib.md5(open(path,'rb').read()).hexdigest()\n",
    "            dest =  hashlib.md5(open(save_dir+'/'+fileName,'rb').read()).hexdigest()\n",
    "            if ori == dest: #真的一模一樣舊移除舊的\n",
    "                os.remove(path)\n",
    "            else: #不一樣舊都保留到新的位置去\n",
    "                print('_2 was created')\n",
    "                shutil.move(path,save_dir+'/'+fileName+'_2')\n",
    "            "
   ]
  },
  {
   "cell_type": "code",
   "execution_count": 28,
   "metadata": {},
   "outputs": [
    {
     "data": {
      "text/plain": [
       "False"
      ]
     },
     "execution_count": 28,
     "metadata": {},
     "output_type": "execute_result"
    }
   ],
   "source": [
    "recursive_delete_if_empty(src_dir)"
   ]
  },
  {
   "cell_type": "code",
   "execution_count": 27,
   "metadata": {},
   "outputs": [
    {
     "data": {
      "text/plain": [
       "'../data_hdd4t/'"
      ]
     },
     "execution_count": 27,
     "metadata": {},
     "output_type": "execute_result"
    }
   ],
   "source": [
    "src_dir"
   ]
  },
  {
   "cell_type": "code",
   "execution_count": 23,
   "metadata": {},
   "outputs": [
    {
     "data": {
      "text/plain": [
       "5"
      ]
     },
     "execution_count": 23,
     "metadata": {},
     "output_type": "execute_result"
    }
   ],
   "source": [
    "len('../data_hdd4t/台灣碩網/pcap/snort.2020-01-06.tar.gz'.split('/'))"
   ]
  }
 ],
 "metadata": {
  "kernelspec": {
   "display_name": "Python 3",
   "language": "python",
   "name": "python3"
  },
  "language_info": {
   "codemirror_mode": {
    "name": "ipython",
    "version": 3
   },
   "file_extension": ".py",
   "mimetype": "text/x-python",
   "name": "python",
   "nbconvert_exporter": "python",
   "pygments_lexer": "ipython3",
   "version": "3.7.7"
  }
 },
 "nbformat": 4,
 "nbformat_minor": 4
}
