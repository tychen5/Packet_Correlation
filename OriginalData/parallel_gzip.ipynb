{
 "cells": [
  {
   "cell_type": "markdown",
   "metadata": {},
   "source": [
    "tar -C /tmp/ayu -zvxf xyz.tar.gz"
   ]
  },
  {
   "cell_type": "code",
   "execution_count": 1,
   "metadata": {},
   "outputs": [],
   "source": [
    "import os,sys,pickle,time\n",
    "import pandas as pd\n",
    "import numpy as np\n",
    "import subprocess\n",
    "from multiprocessing import Pool \n",
    "import shutil\n",
    "from tqdm import tqdm"
   ]
  },
  {
   "cell_type": "code",
   "execution_count": 6,
   "metadata": {
    "scrolled": true
   },
   "outputs": [
    {
     "data": {
      "text/plain": [
       "['2019_12_29',\n",
       " '2019_12_30',\n",
       " '2019_12_31',\n",
       " '2020_01_01',\n",
       " '2020_01_02',\n",
       " '2020_01_03',\n",
       " '2020_01_04',\n",
       " '2020_01_05',\n",
       " '2020_01_06',\n",
       " '2020_01_07',\n",
       " '2020_01_08',\n",
       " '2020_01_09',\n",
       " '2020_01_10',\n",
       " '2020_01_11',\n",
       " '2020_01_12',\n",
       " '2020_01_13',\n",
       " '2020_01_14',\n",
       " '2020_01_15',\n",
       " '2020_01_16',\n",
       " '2020_01_17',\n",
       " '2020_01_18',\n",
       " '2020_01_19',\n",
       " '2020_01_20',\n",
       " '2020_01_21',\n",
       " '2020_01_22',\n",
       " '2020_01_23',\n",
       " '2020_01_24',\n",
       " '2020_01_25',\n",
       " '2020_01_26',\n",
       " '2020_01_27',\n",
       " '2020_01_28',\n",
       " '2020_01_29',\n",
       " '2020_01_30',\n",
       " '2020_01_31',\n",
       " '2020_02_01',\n",
       " '2020_02_02',\n",
       " '2020_02_03',\n",
       " '2020_02_04',\n",
       " '2020_02_05',\n",
       " '2020_02_06',\n",
       " '2020_02_07',\n",
       " '2020_02_08']"
      ]
     },
     "execution_count": 6,
     "metadata": {},
     "output_type": "execute_result"
    }
   ],
   "source": [
    "tgz_dir = \"../RAID5/pcap/\"\n",
    "decompress_dir = \"../data_hdd4t/pcap_process/\"\n",
    "all_dates = next(os.walk(tgz_dir))[1]\n",
    "all_dates = sorted(all_dates)\n",
    "all_dates"
   ]
  },
  {
   "cell_type": "code",
   "execution_count": 36,
   "metadata": {},
   "outputs": [],
   "source": [
    "def parallel_untar(in_file,out_dir):\n",
    "    test_dir = out_dir.split('/')\n",
    "    test_dir = test_dir[:3]\n",
    "    test_dir = \"/\".join(test_dir)\n",
    "    total, used, free = shutil.disk_usage(test_dir)\n",
    "    if (free<total*0.05) or (free // (2**30) < 130):\n",
    "#         cmd = ['rmdir',out_dir]\n",
    "#         p = subprocess.Popen(cmd, stderr=subprocess.PIPE, stdout=subprocess.PIPE, shell=False)\n",
    "#         out, err = p.communicate()\n",
    "#         print(\"!Error:\", err, '!')\n",
    "        print('Disk not enough space ERR:',in_file,out_dir)\n",
    "        return out_dir\n",
    "    else:\n",
    "        if not os.path.exists(out_dir):\n",
    "            os.makedirs(out_dir, exist_ok=True)\n",
    "        cmd = [\"tar\",\"-C\", out_dir,\n",
    "           \"-zvxf\", in_file]\n",
    "        p = subprocess.Popen(cmd, stderr=subprocess.PIPE, stdout=subprocess.PIPE, shell=False)\n",
    "        out, err = p.communicate()\n",
    "        print(\"!Error:\", err, '! Done:',out_dir)\n",
    "    "
   ]
  },
  {
   "cell_type": "markdown",
   "metadata": {},
   "source": [
    "## For ISP's Pcap\n",
    "parallel by function name"
   ]
  },
  {
   "cell_type": "code",
   "execution_count": 22,
   "metadata": {
    "scrolled": true
   },
   "outputs": [
    {
     "name": "stderr",
     "output_type": "stream",
     "text": [
      "100%|██████████| 42/42 [00:00<00:00, 25086.98it/s]\n"
     ]
    },
    {
     "data": {
      "text/plain": [
       "6"
      ]
     },
     "execution_count": 22,
     "metadata": {},
     "output_type": "execute_result"
    }
   ],
   "source": [
    "# %%time\n",
    "in_file_paths = []\n",
    "out_dir_paths = []\n",
    "days = ['2019_12_31','2020_01_01','2020_01_02','2020_01_30','2020_01_31','2020_02_01'] #指定日期，清空掉就是全部日子\n",
    "isps = ['中華電信']\n",
    "for date in tqdm(all_dates):\n",
    "    if date not in days:\n",
    "        continue\n",
    "    pcap_path = tgz_dir + date + '/'\n",
    "    isp_names = next(os.walk(pcap_path))[1]\n",
    "    take_isps = []\n",
    "    for isp in isp_names:\n",
    "        if isp in isps:\n",
    "            take_isps.append(isp)\n",
    "    for isp in take_isps:\n",
    "        file_names = next(os.walk(pcap_path+isp))[2]\n",
    "        file_names = list(filter(lambda f: f.endswith(\".tar.gz\"), file_names))\n",
    "        if len(file_names)>1:\n",
    "            print('WARNING: more than 1 pcap tgz file in',pcap_path+isp+'/')\n",
    "        for file_name in file_names:\n",
    "            pcap_path_ = pcap_path+isp+'/'+file_name\n",
    "            output_path = decompress_dir+date+'/'+isp+'/'+file_name.replace('.tar.gz','_dir')+'/'\n",
    "            in_file_paths.append(pcap_path_)\n",
    "            out_dir_paths.append(output_path)\n",
    "\n",
    "assert len(in_file_paths) == len(out_dir_paths)\n",
    "assert in_file_paths[0].split('/')[3] == out_dir_paths[0].split('/')[3]\n",
    "assert in_file_paths[-1].split('/')[4] == out_dir_paths[-1].split('/')[4]\n",
    "len(in_file_paths)"
   ]
  },
  {
   "cell_type": "code",
   "execution_count": null,
   "metadata": {},
   "outputs": [],
   "source": [
    "# #create new dir for decompress\n",
    "# pcap_path = root_dir + name + '/pcap/'\n",
    "# file_names = next(os.walk(pcap_path))[2]\n",
    "# file_names = list(filter(lambda f: f.endswith(\".tar.gz\"), file_names))\n",
    "# new_dir_names = [x.replace('.tar.gz','_dir') for x in file_names]\n",
    "# for dir_name in new_dir_names:\n",
    "#     path = pcap_path+dir_name\n",
    "#     try:\n",
    "#         if days != []:\n",
    "#             for day in days:\n",
    "#                 if day in path:\n",
    "#                     os.makedirs(path, exist_ok=True)\n",
    "#                     paths.append(path)\n",
    "#         else:\n",
    "#             os.makedirs(path, exist_ok=True)\n",
    "#             paths.append(path)\n",
    "#     except NameError:\n",
    "#         os.makedirs(path, exist_ok=True)\n",
    "#         paths.append(path)\n",
    "\n",
    "# paths"
   ]
  },
  {
   "cell_type": "code",
   "execution_count": 37,
   "metadata": {},
   "outputs": [
    {
     "name": "stdout",
     "output_type": "stream",
     "text": [
      "!Error: b'' !\n",
      "!Error: b'' !\n",
      "!Error: b'' !\n",
      "!Error: b'' !\n",
      "!Error: b'' !\n",
      "!Error: b'' !\n",
      "return: None\n",
      "return: None\n",
      "return: None\n",
      "return: None\n",
      "return: None\n",
      "return: None\n",
      "Decompress Time: 1.000000:30.000000:31.162456\n",
      "CPU times: user 2.85 s, sys: 813 ms, total: 3.66 s\n",
      "Wall time: 1h 30min 31s\n"
     ]
    }
   ],
   "source": [
    "%%time\n",
    "load_start = time.time()\n",
    "pool_result = []\n",
    "pool = Pool(processes=2) #processes=21\n",
    "for path_in,dir_out in zip(in_file_paths,out_dir_paths):\n",
    "    r = pool.apply_async(parallel_untar,args=(path_in,dir_out))\n",
    "    pool_result.append(r)\n",
    "pool.close()\n",
    "pool.join()\n",
    "for r in pool_result:\n",
    "    print('return:',r.get())\n",
    "load_end = time.time() - load_start\n",
    "print(\"Decompress Time:\", '{:02f}:{:02f}:{:02f}'.format(load_end // 3600, (load_end % 3600 // 60), load_end % 60))"
   ]
  },
  {
   "cell_type": "code",
   "execution_count": 28,
   "metadata": {},
   "outputs": [
    {
     "ename": "FileNotFoundError",
     "evalue": "[Errno 2] No such file or directory: '../data_hdd4t/pcap_process/2020_02_01/中華電信/pcap_2020_02_01_dir/'",
     "output_type": "error",
     "traceback": [
      "\u001b[0;31m---------------------------------------------------------------------------\u001b[0m",
      "\u001b[0;31mRemoteTraceback\u001b[0m                           Traceback (most recent call last)",
      "\u001b[0;31mRemoteTraceback\u001b[0m: \n\"\"\"\nTraceback (most recent call last):\n  File \"/home/antslab/anaconda3/lib/python3.7/multiprocessing/pool.py\", line 121, in worker\n    result = (True, func(*args, **kwds))\n  File \"<ipython-input-21-b270f1036308>\", line 2, in parallel_untar\n    total, used, free = shutil.disk_usage(out_dir)\n  File \"/home/antslab/anaconda3/lib/python3.7/shutil.py\", line 1019, in disk_usage\n    st = os.statvfs(path)\nFileNotFoundError: [Errno 2] No such file or directory: '../data_hdd4t/pcap_process/2020_02_01/中華電信/pcap_2020_02_01_dir/'\n\"\"\"",
      "\nThe above exception was the direct cause of the following exception:\n",
      "\u001b[0;31mFileNotFoundError\u001b[0m                         Traceback (most recent call last)",
      "\u001b[0;32m<ipython-input-28-38c18158b1e5>\u001b[0m in \u001b[0;36m<module>\u001b[0;34m\u001b[0m\n\u001b[0;32m----> 1\u001b[0;31m \u001b[0mr\u001b[0m\u001b[0;34m.\u001b[0m\u001b[0mget\u001b[0m\u001b[0;34m(\u001b[0m\u001b[0;34m)\u001b[0m\u001b[0;34m\u001b[0m\u001b[0;34m\u001b[0m\u001b[0m\n\u001b[0m",
      "\u001b[0;32m~/anaconda3/lib/python3.7/multiprocessing/pool.py\u001b[0m in \u001b[0;36mget\u001b[0;34m(self, timeout)\u001b[0m\n\u001b[1;32m    655\u001b[0m             \u001b[0;32mreturn\u001b[0m \u001b[0mself\u001b[0m\u001b[0;34m.\u001b[0m\u001b[0m_value\u001b[0m\u001b[0;34m\u001b[0m\u001b[0;34m\u001b[0m\u001b[0m\n\u001b[1;32m    656\u001b[0m         \u001b[0;32melse\u001b[0m\u001b[0;34m:\u001b[0m\u001b[0;34m\u001b[0m\u001b[0;34m\u001b[0m\u001b[0m\n\u001b[0;32m--> 657\u001b[0;31m             \u001b[0;32mraise\u001b[0m \u001b[0mself\u001b[0m\u001b[0;34m.\u001b[0m\u001b[0m_value\u001b[0m\u001b[0;34m\u001b[0m\u001b[0;34m\u001b[0m\u001b[0m\n\u001b[0m\u001b[1;32m    658\u001b[0m \u001b[0;34m\u001b[0m\u001b[0m\n\u001b[1;32m    659\u001b[0m     \u001b[0;32mdef\u001b[0m \u001b[0m_set\u001b[0m\u001b[0;34m(\u001b[0m\u001b[0mself\u001b[0m\u001b[0;34m,\u001b[0m \u001b[0mi\u001b[0m\u001b[0;34m,\u001b[0m \u001b[0mobj\u001b[0m\u001b[0;34m)\u001b[0m\u001b[0;34m:\u001b[0m\u001b[0;34m\u001b[0m\u001b[0;34m\u001b[0m\u001b[0m\n",
      "\u001b[0;31mFileNotFoundError\u001b[0m: [Errno 2] No such file or directory: '../data_hdd4t/pcap_process/2020_02_01/中華電信/pcap_2020_02_01_dir/'"
     ]
    }
   ],
   "source": [
    "r.get()"
   ]
  },
  {
   "cell_type": "code",
   "execution_count": 29,
   "metadata": {},
   "outputs": [
    {
     "data": {
      "text/plain": [
       "True"
      ]
     },
     "execution_count": 29,
     "metadata": {},
     "output_type": "execute_result"
    }
   ],
   "source": [
    "not os.path.exists(dir_out)"
   ]
  },
  {
   "cell_type": "markdown",
   "metadata": {},
   "source": [
    "### remove folder recursively"
   ]
  },
  {
   "cell_type": "code",
   "execution_count": 34,
   "metadata": {
    "scrolled": true
   },
   "outputs": [
    {
     "name": "stderr",
     "output_type": "stream",
     "text": [
      "\r",
      "  0%|          | 0/11 [00:00<?, ?it/s]"
     ]
    },
    {
     "name": "stdout",
     "output_type": "stream",
     "text": [
      "../data_hdd4t/中華電信/pcap/snort.2020-01-04_dir/\n",
      "../data_hdd4t/中華電信/pcap/snort.2020-01-10_dir/\n",
      "../data_hdd4t/中華電信/pcap/snort.2020-01-09_dir/\n",
      "../data_hdd4t/中華電信/pcap/snort.2020-01-02_dir/\n"
     ]
    },
    {
     "name": "stderr",
     "output_type": "stream",
     "text": [
      "100%|██████████| 11/11 [00:04<00:00,  2.25it/s]"
     ]
    },
    {
     "name": "stdout",
     "output_type": "stream",
     "text": [
      "../data_hdd4t/中華電信/pcap/snort.2020-01-11_dir/\n",
      "../data_hdd4t/中華電信/pcap/snort.2020-01-08_dir/\n",
      "../data_hdd4t/中華電信/pcap/snort.2020-01-05_dir/\n",
      "../data_hdd4t/中華電信/pcap/snort.2020-01-06_dir/\n",
      "../data_hdd4t/中華電信/pcap/snort.2020-01-07_dir/\n",
      "../data_hdd4t/中華電信/pcap/snort.2020-01-03_dir/\n",
      "../data_hdd4t/中華電信/pcap/snort.2020-01-01_dir/\n"
     ]
    },
    {
     "name": "stderr",
     "output_type": "stream",
     "text": [
      "\n"
     ]
    }
   ],
   "source": [
    "for name in tqdm(company_names):\n",
    "#     if name == '中華電信': #指定電信公司\n",
    "#         continue\n",
    "    pcap_path = root_dir + name + '/pcap/'\n",
    "    dir_names = next(os.walk(pcap_path))[1]\n",
    "    if dir_names != []:\n",
    "        for folder in dir_names:\n",
    "            shutil.rmtree(pcap_path+folder+'/')\n",
    "            print(pcap_path+folder+'/')"
   ]
  },
  {
   "cell_type": "markdown",
   "metadata": {},
   "source": [
    "## For ISPs' honeypot"
   ]
  },
  {
   "cell_type": "code",
   "execution_count": 22,
   "metadata": {},
   "outputs": [
    {
     "name": "stderr",
     "output_type": "stream",
     "text": [
      "100%|██████████| 11/11 [00:00<00:00, 420.87it/s]\n"
     ]
    },
    {
     "data": {
      "text/plain": [
       "['../data_hdd4t/中華電信/honeypot/2020-01-10/cowrie/cowrie_log_2020-01-10_dir',\n",
       " '../data_hdd4t/中華電信/honeypot/2020-01-10/cowrie/cowrie_file_2020-01-10_dir',\n",
       " '../data_hdd4t/中華電信/honeypot/2020-01-10/amun/amun_log_2020-01-10_dir',\n",
       " '../data_hdd4t/中華電信/honeypot/2020-01-10/amun/amun_file_2020-01-10_dir',\n",
       " '../data_hdd4t/中華電信/honeypot/2020-01-10/glastopf/glastopf_file_2020-01-10_dir',\n",
       " '../data_hdd4t/中華電信/honeypot/2020-01-10/glastopf/glastopf_log_2020-01-10_dir',\n",
       " '../data_hdd4t/中華電信/honeypot/2020-01-10/dionaea/dionaea_log_2020-01-10_dir',\n",
       " '../data_hdd4t/中華電信/honeypot/2020-01-10/dionaea/dionaea_file_2020-01-10_dir',\n",
       " '../data_hdd4t/中華電信/honeypot/2020-01-11/cowrie/cowrie_log_2020-01-11_dir',\n",
       " '../data_hdd4t/中華電信/honeypot/2020-01-11/cowrie/cowrie_file_2020-01-11_dir',\n",
       " '../data_hdd4t/中華電信/honeypot/2020-01-11/amun/amun_log_2020-01-11_dir',\n",
       " '../data_hdd4t/中華電信/honeypot/2020-01-11/amun/amun_file_2020-01-11_dir',\n",
       " '../data_hdd4t/中華電信/honeypot/2020-01-11/glastopf/glastopf_file_2020-01-11_dir',\n",
       " '../data_hdd4t/中華電信/honeypot/2020-01-11/glastopf/glastopf_log_2020-01-11_dir',\n",
       " '../data_hdd4t/中華電信/honeypot/2020-01-11/dionaea/dionaea_file_2020-01-11_dir',\n",
       " '../data_hdd4t/中華電信/honeypot/2020-01-11/dionaea/dionaea_log_2020-01-11_dir']"
      ]
     },
     "execution_count": 22,
     "metadata": {},
     "output_type": "execute_result"
    }
   ],
   "source": [
    "paths = []\n",
    "days = ['2020-01-09','2020-01-10','2020-01-11'] #指定日期，清空掉就是全部日子\n",
    "for name in tqdm(company_names):\n",
    "    if name != '中華電信': #指定電信公司，註解掉就是全部\n",
    "        continue\n",
    "#     print('=== Running:',name,'===')\n",
    "    hp_path = root_dir + name + '/honeypot/'\n",
    "    date_dir_names = next(os.walk(hp_path))[1]\n",
    "    if days != []:\n",
    "        temp = []\n",
    "        for date in date_dir_names:\n",
    "            for day in days:\n",
    "                if day == date:\n",
    "                    temp.append(date)\n",
    "        date_dir_names = temp\n",
    "    else:\n",
    "        pass\n",
    "    for date in date_dir_names:\n",
    "        hp_date_path = hp_path + date +'/'\n",
    "        hp_names_dir = next(os.walk(hp_date_path))[1]\n",
    "        for name in hp_names_dir:\n",
    "            file_names = next(os.walk(hp_date_path+name+'/'))[2]\n",
    "            file_names = list(filter(lambda f: f.endswith(\".tar.gz\"), file_names))\n",
    "            new_dir_names = [x.replace('.tar.gz','_dir') for x in file_names]\n",
    "            for dir_name in new_dir_names:\n",
    "                path = hp_date_path+name+'/'+dir_name\n",
    "                os.makedirs(path, exist_ok=True)\n",
    "                paths.append(path)\n",
    "        \n",
    "paths"
   ]
  },
  {
   "cell_type": "code",
   "execution_count": 23,
   "metadata": {
    "scrolled": true
   },
   "outputs": [
    {
     "name": "stdout",
     "output_type": "stream",
     "text": [
      "!Error: b'' !\n",
      "!Error: b'' !\n",
      "!Error: b'' !\n",
      "!Error: b'' !\n",
      "!Error: b'' !\n",
      "!Error: b'' !\n",
      "!Error: b'' !\n",
      "!Error: b'' !\n",
      "!Error: b'' !\n",
      "!Error: b'' !\n",
      "!Error: b'' !\n",
      "!Error: b'' !\n",
      "!Error: b'' !\n",
      "!Error: b'' !\n",
      "!Error: b'' !\n",
      "!Error: b'' !\n",
      "return: <multiprocessing.pool.ApplyResult object at 0x7f10d16d4390>\n",
      "return: <multiprocessing.pool.ApplyResult object at 0x7f10d16d4c90>\n",
      "return: <multiprocessing.pool.ApplyResult object at 0x7f10d16d4290>\n",
      "return: <multiprocessing.pool.ApplyResult object at 0x7f10d16d4490>\n",
      "return: <multiprocessing.pool.ApplyResult object at 0x7f10d16d4690>\n",
      "return: <multiprocessing.pool.ApplyResult object at 0x7f10d16d4850>\n",
      "return: <multiprocessing.pool.ApplyResult object at 0x7f10d16d4310>\n",
      "return: <multiprocessing.pool.ApplyResult object at 0x7f10d163aa90>\n",
      "return: <multiprocessing.pool.ApplyResult object at 0x7f10d163ab90>\n",
      "return: <multiprocessing.pool.ApplyResult object at 0x7f10d16d4610>\n",
      "return: <multiprocessing.pool.ApplyResult object at 0x7f10d163a750>\n",
      "return: <multiprocessing.pool.ApplyResult object at 0x7f10d163a450>\n",
      "return: <multiprocessing.pool.ApplyResult object at 0x7f10d163aad0>\n",
      "return: <multiprocessing.pool.ApplyResult object at 0x7f10d163a650>\n",
      "return: <multiprocessing.pool.ApplyResult object at 0x7f10d163a810>\n",
      "return: <multiprocessing.pool.ApplyResult object at 0x7f10d163a8d0>\n",
      "CPU times: user 21.8 ms, sys: 41 ms, total: 62.8 ms\n",
      "Wall time: 14.4 s\n"
     ]
    }
   ],
   "source": [
    "%%time\n",
    "pool_result = []\n",
    "pool = Pool() #processes=21\n",
    "for path in paths:\n",
    "    r = pool.apply_async(parallel_untar,(path,))\n",
    "    pool_result.append(r)\n",
    "pool.close()\n",
    "pool.join()\n",
    "for r in pool_result:\n",
    "    print('return:',r)"
   ]
  },
  {
   "cell_type": "code",
   "execution_count": 19,
   "metadata": {},
   "outputs": [
    {
     "data": {
      "text/plain": [
       "'2020-01-11'"
      ]
     },
     "execution_count": 19,
     "metadata": {},
     "output_type": "execute_result"
    }
   ],
   "source": []
  },
  {
   "cell_type": "code",
   "execution_count": null,
   "metadata": {},
   "outputs": [],
   "source": []
  },
  {
   "cell_type": "code",
   "execution_count": 49,
   "metadata": {},
   "outputs": [
    {
     "name": "stdout",
     "output_type": "stream",
     "text": [
      "Total: 3667 GiB\n",
      "Used: 2367 GiB\n",
      "Free: 1113 GiB\n"
     ]
    }
   ],
   "source": [
    "\n",
    "\n",
    "total, used, free = shutil.disk_usage(paths[0])\n",
    "\n",
    "print(\"Total: %d GiB\" % (total // (2**30)))\n",
    "print(\"Used: %d GiB\" % (used // (2**30)))\n",
    "print(\"Free: %d GiB\" % (free // (2**30)))"
   ]
  },
  {
   "cell_type": "code",
   "execution_count": 34,
   "metadata": {},
   "outputs": [
    {
     "name": "stdout",
     "output_type": "stream",
     "text": [
      "1\n"
     ]
    }
   ],
   "source": [
    "if 1<2 and (2<3:\n",
    "    print(1)"
   ]
  },
  {
   "cell_type": "code",
   "execution_count": 12,
   "metadata": {},
   "outputs": [],
   "source": [
    "os.makedirs(pcap_path+new_dir_names[0], exist_ok=True)"
   ]
  },
  {
   "cell_type": "code",
   "execution_count": 5,
   "metadata": {},
   "outputs": [
    {
     "name": "stdout",
     "output_type": "stream",
     "text": [
      "anaconda3  data  data_hdd4t  Download  Leo_code\r\n"
     ]
    }
   ],
   "source": [
    "!ls  ../"
   ]
  },
  {
   "cell_type": "code",
   "execution_count": 25,
   "metadata": {},
   "outputs": [
    {
     "name": "stdout",
     "output_type": "stream",
     "text": [
      "b'anaconda3\\ndata\\ndata_hdd4t\\nDownload\\nLeo_code\\n'\n"
     ]
    }
   ],
   "source": [
    "cmd = [\"ls\",'../']\n",
    "p = subprocess.Popen(cmd, stderr=subprocess.PIPE, stdout=subprocess.PIPE, shell=False)\n",
    "out, err = p.communicate()\n",
    "print(str(out))"
   ]
  },
  {
   "cell_type": "code",
   "execution_count": 16,
   "metadata": {},
   "outputs": [
    {
     "data": {
      "text/plain": [
       "b''"
      ]
     },
     "execution_count": 16,
     "metadata": {},
     "output_type": "execute_result"
    }
   ],
   "source": []
  },
  {
   "cell_type": "code",
   "execution_count": null,
   "metadata": {},
   "outputs": [],
   "source": []
  },
  {
   "cell_type": "markdown",
   "metadata": {},
   "source": [
    "spark test"
   ]
  },
  {
   "cell_type": "code",
   "execution_count": null,
   "metadata": {},
   "outputs": [],
   "source": []
  }
 ],
 "metadata": {
  "kernelspec": {
   "display_name": "Python 3",
   "language": "python",
   "name": "python3"
  },
  "language_info": {
   "codemirror_mode": {
    "name": "ipython",
    "version": 3
   },
   "file_extension": ".py",
   "mimetype": "text/x-python",
   "name": "python",
   "nbconvert_exporter": "python",
   "pygments_lexer": "ipython3",
   "version": "3.7.7"
  }
 },
 "nbformat": 4,
 "nbformat_minor": 4
}
