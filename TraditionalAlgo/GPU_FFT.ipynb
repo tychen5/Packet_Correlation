{
 "cells": [
  {
   "cell_type": "code",
   "execution_count": 13,
   "metadata": {},
   "outputs": [],
   "source": [
    "import cupy as cp\n",
    "import numpy as np\n",
    "import matplotlib.pyplot as plt\n",
    "from matplotlib.pylab import mpl\n",
    "\n"
   ]
  },
  {
   "cell_type": "code",
   "execution_count": 8,
   "metadata": {},
   "outputs": [
    {
     "data": {
      "text/plain": [
       "(1400,)"
      ]
     },
     "execution_count": 8,
     "metadata": {},
     "output_type": "execute_result"
    }
   ],
   "source": [
    "x=cp.linspace(0,1,1400)\n",
    "x.shape"
   ]
  },
  {
   "cell_type": "code",
   "execution_count": 11,
   "metadata": {},
   "outputs": [
    {
     "data": {
      "text/plain": [
       "array([0.00000000e+00, 7.14796283e-04, 1.42959257e-03, ...,\n",
       "       9.98570407e-01, 9.99285204e-01, 1.00000000e+00])"
      ]
     },
     "execution_count": 11,
     "metadata": {},
     "output_type": "execute_result"
    }
   ],
   "source": [
    "x"
   ]
  },
  {
   "cell_type": "code",
   "execution_count": 9,
   "metadata": {},
   "outputs": [
    {
     "data": {
      "text/plain": [
       "array([ 0.00000000e+00,  1.16452736e+01,  2.30324170e+00, ...,\n",
       "       -2.30324170e+00, -1.16452736e+01, -4.77824807e-13])"
      ]
     },
     "execution_count": 9,
     "metadata": {},
     "output_type": "execute_result"
    }
   ],
   "source": [
    "y=7*cp.sin(2*cp.pi*200*x) + 5*cp.sin(2*cp.pi*400*x)+3*cp.sin(2*cp.pi*600*x)\n",
    "y"
   ]
  },
  {
   "cell_type": "code",
   "execution_count": 10,
   "metadata": {},
   "outputs": [
    {
     "data": {
      "text/plain": [
       "(1400,)"
      ]
     },
     "execution_count": 10,
     "metadata": {},
     "output_type": "execute_result"
    }
   ],
   "source": [
    "y.shape"
   ]
  },
  {
   "cell_type": "code",
   "execution_count": 19,
   "metadata": {},
   "outputs": [],
   "source": [
    "from cupy.fft import fft"
   ]
  },
  {
   "cell_type": "code",
   "execution_count": 20,
   "metadata": {},
   "outputs": [
    {
     "name": "stdout",
     "output_type": "stream",
     "text": [
      "1400\n",
      "[-4.17443857e-12+0.j          9.66210986e-05-0.04305756j\n",
      "  3.86508070e-04-0.08611996j  8.69732036e-04-0.12919206j\n",
      "  1.54641157e-03-0.17227871j]\n"
     ]
    }
   ],
   "source": [
    "fft_y = fft(y)\n",
    "print(len(fft_y))\n",
    "print(fft_y[0:5])\n",
    "\n"
   ]
  },
  {
   "cell_type": "code",
   "execution_count": 205,
   "metadata": {
    "scrolled": true
   },
   "outputs": [
    {
     "name": "stdout",
     "output_type": "stream",
     "text": [
      "CPU times: user 1.42 ms, sys: 321 µs, total: 1.74 ms\n",
      "Wall time: 998 µs\n"
     ]
    }
   ],
   "source": [
    "%%time\n",
    "#1.6ms\n",
    "#平行化: 24~55個processes\n",
    "\n",
    "Fs = 86400.0;     # sampling rate取樣率\n",
    "Ts = 1.0/Fs;    # sampling interval 取樣區間\n",
    "t = cp.arange(0,1,Ts)  # time vector,這裡Ts也是步長\n",
    " \n",
    "ff = 25;     # frequency of the signal\n",
    "y = cp.sin(2*cp.pi*ff*t)\n",
    " \n",
    "n = len(y)     # length of the signal\n",
    "k = cp.arange(n)\n",
    "T = n/Fs\n",
    "frq = k/T     # two sides frequency range\n",
    "frq1 = frq[(int(n/2))] # one side frequency range\n",
    " \n",
    "YY = cp.fft.fft(y)   # 未歸一化\n",
    "Y = cp.fft.fft(y)/n   # fft computing and normalization 歸一化\n",
    "Y1 = Y[(int(n/2))]\n",
    " \n",
    "# fig, ax = plt.subplots(4, 1)\n",
    "# t = cp.asnumpy(t)\n",
    "# y = cp.asnumpy(y)\n",
    "# YY = cp.asnumpy(YY)\n",
    "# frq = cp.asnumpy(frq)\n",
    "# frq1 = cp.asnumpy(frq1)\n",
    "# Y1 = cp.asnumpy(Y1)\n",
    "# Y = cp.asnumpy(Y)\n",
    " \n",
    "# ax[0].plot(t,y)\n",
    "# ax[0].set_xlabel('Time')\n",
    "# ax[0].set_ylabel('Amplitude')\n",
    " \n",
    "# ax[1].plot(frq,abs(YY),'r') # plotting the spectrum\n",
    "# ax[1].set_xlabel('Freq (Hz)')\n",
    "# ax[1].set_ylabel('|Y(freq)|')\n",
    " \n",
    "# ax[2].plot(frq,abs(Y),'G') # plotting the spectrum\n",
    "# ax[2].set_xlabel('Freq (Hz)')\n",
    "# ax[2].set_ylabel('|Y(freq)|')\n",
    " \n",
    "# ax[3].plot(frq1,abs(Y1),'B') # plotting the spectrum\n",
    "# ax[3].set_xlabel('Freq (Hz)')\n",
    "# ax[3].set_ylabel('|Y(freq)|')\n",
    " \n",
    "# plt.show()"
   ]
  },
  {
   "cell_type": "code",
   "execution_count": 75,
   "metadata": {
    "scrolled": true
   },
   "outputs": [
    {
     "data": {
      "text/plain": [
       "array([ 0.00000000e+00,  8.66025404e-01,  8.66025404e-01,  1.22464680e-16,\n",
       "       -8.66025404e-01, -8.66025404e-01, -2.44929360e-16,  8.66025404e-01,\n",
       "        8.66025404e-01, -1.40896280e-15, -8.66025404e-01, -8.66025404e-01,\n",
       "       -4.89858720e-16,  8.66025404e-01,  8.66025404e-01, -1.16403344e-15,\n",
       "       -8.66025404e-01, -8.66025404e-01,  2.81792560e-15,  8.66025404e-01,\n",
       "        8.66025404e-01, -2.69546092e-15, -8.66025404e-01, -8.66025404e-01,\n",
       "       -9.79717439e-16,  8.66025404e-01,  8.66025404e-01, -2.45053156e-15,\n",
       "       -8.66025404e-01, -8.66025404e-01,  2.32806688e-15,  8.66025404e-01,\n",
       "        8.66025404e-01, -2.20560220e-15, -8.66025404e-01, -8.66025404e-01,\n",
       "        5.63585120e-15,  8.66025404e-01,  8.66025404e-01, -1.96067284e-15,\n",
       "       -8.66025404e-01, -8.66025404e-01,  5.39092184e-15,  8.66025404e-01,\n",
       "        8.66025404e-01, -8.82117084e-15, -8.66025404e-01, -8.66025404e-01,\n",
       "       -1.95943488e-15,  8.66025404e-01,  8.66025404e-01, -1.47081412e-15,\n",
       "       -8.66025404e-01, -8.66025404e-01,  4.90106312e-15,  8.66025404e-01,\n",
       "        8.66025404e-01, -1.22588476e-15, -8.66025404e-01, -8.66025404e-01,\n",
       "        4.65613376e-15,  8.66025404e-01,  8.66025404e-01, -9.80955401e-16,\n",
       "       -8.66025404e-01, -8.66025404e-01,  4.41120440e-15,  8.66025404e-01,\n",
       "        8.66025404e-01, -7.84145340e-15, -8.66025404e-01, -8.66025404e-01,\n",
       "        1.12717024e-14,  8.66025404e-01,  8.66025404e-01, -4.91096681e-16,\n",
       "       -8.66025404e-01, -8.66025404e-01,  3.92134568e-15,  8.66025404e-01,\n",
       "        8.66025404e-01, -7.35159468e-15, -8.66025404e-01, -8.66025404e-01,\n",
       "        1.07818437e-14,  8.66025404e-01,  8.66025404e-01, -1.42120927e-14,\n",
       "       -8.66025404e-01, -8.66025404e-01,  1.76423417e-14,  8.66025404e-01,\n",
       "        8.66025404e-01, -6.86173596e-15, -8.66025404e-01, -8.66025404e-01,\n",
       "       -3.91886976e-15,  8.66025404e-01,  8.66025404e-01,  4.88620758e-16,\n",
       "       -8.66025404e-01, -8.66025404e-01,  2.94162824e-15,  8.66025404e-01,\n",
       "        8.66025404e-01, -6.37187724e-15, -8.66025404e-01, -8.66025404e-01,\n",
       "        9.80212624e-15,  8.66025404e-01,  8.66025404e-01, -1.32323752e-14,\n",
       "       -8.66025404e-01, -8.66025404e-01,  2.45176952e-15,  8.66025404e-01,\n",
       "        8.66025404e-01, -5.88201852e-15, -8.66025404e-01, -8.66025404e-01,\n",
       "        9.31226752e-15,  8.66025404e-01,  8.66025404e-01, -1.27425165e-14,\n",
       "       -8.66025404e-01, -8.66025404e-01,  1.96191080e-15,  8.66025404e-01,\n",
       "        8.66025404e-01, -1.96030145e-14, -8.66025404e-01, -8.66025404e-01,\n",
       "        8.82240880e-15,  8.66025404e-01,  8.66025404e-01,  1.95819692e-15,\n",
       "       -8.66025404e-01, -8.66025404e-01,  1.56829068e-14,  8.66025404e-01,\n",
       "        8.66025404e-01, -4.90230108e-15, -8.66025404e-01, -8.66025404e-01,\n",
       "        2.25434048e-14,  8.66025404e-01,  8.66025404e-01, -1.17627991e-14,\n",
       "       -8.66025404e-01, -8.66025404e-01])"
      ]
     },
     "execution_count": 75,
     "metadata": {},
     "output_type": "execute_result"
    }
   ],
   "source": [
    "y"
   ]
  },
  {
   "cell_type": "code",
   "execution_count": 84,
   "metadata": {},
   "outputs": [
    {
     "data": {
      "text/plain": [
       "(86400,)"
      ]
     },
     "execution_count": 84,
     "metadata": {},
     "output_type": "execute_result"
    }
   ],
   "source": [
    "y.shape"
   ]
  },
  {
   "cell_type": "code",
   "execution_count": 253,
   "metadata": {},
   "outputs": [
    {
     "name": "stdout",
     "output_type": "stream",
     "text": [
      "CPU times: user 6.18 ms, sys: 144 µs, total: 6.32 ms\n",
      "Wall time: 5.62 ms\n"
     ]
    }
   ],
   "source": [
    "%%time\n",
    "#6ms\n",
    " \n",
    "\n",
    "Fs = 86400.0;     # sampling rate取樣率\n",
    "Ts = 1.0/Fs;    # sampling interval 取樣區間\n",
    "t = np.arange(0,1,Ts)  # time vector,這裡Ts也是步長\n",
    " \n",
    "ff = 25;     # frequency of the signal\n",
    "y = np.sin(2*np.pi*ff*t)\n",
    " \n",
    "n = len(y)     # length of the signal\n",
    "k = np.arange(n)\n",
    "T = n/Fs\n",
    "frq = k/T     # two sides frequency range\n",
    "frq1 = frq[(int(n/2))] # one side frequency range\n",
    " \n",
    "YY = np.fft.fft(y)   # 未歸一化\n",
    "Y = np.fft.fft(y)/n   # fft computing and normalization 歸一化\n",
    "Y1 = Y[(int(n/2))]\n",
    " \n",
    "# fig, ax = plt.subplots(4, 1)\n",
    " \n",
    "# ax[0].plot(t,y)\n",
    "# ax[0].set_xlabel('Time')\n",
    "# ax[0].set_ylabel('Amplitude')\n",
    " \n",
    "# ax[1].plot(frq,abs(YY),'r') # plotting the spectrum\n",
    "# ax[1].set_xlabel('Freq (Hz)')\n",
    "# ax[1].set_ylabel('|Y(freq)|')\n",
    " \n",
    "# ax[2].plot(frq,abs(Y),'G') # plotting the spectrum\n",
    "# ax[2].set_xlabel('Freq (Hz)')\n",
    "# ax[2].set_ylabel('|Y(freq)|')\n",
    " \n",
    "# ax[3].plot(frq1,abs(Y1),'B') # plotting the spectrum\n",
    "# ax[3].set_xlabel('Freq (Hz)')\n",
    "# ax[3].set_ylabel('|Y(freq)|')\n",
    " \n",
    "# plt.show()"
   ]
  },
  {
   "cell_type": "code",
   "execution_count": 271,
   "metadata": {},
   "outputs": [
    {
     "data": {
      "image/png": "[encoded data removed]",
      "text/plain": [
       "<Figure size 432x288 with 2 Axes>"
      ]
     },
     "metadata": {
      "needs_background": "light"
     },
     "output_type": "display_data"
    }
   ],
   "source": [
    "import numpy as np\n",
    "import matplotlib.pyplot as plt\n",
    "from scipy.fftpack import fft, ifft\n",
    "def GenSin(x,Hz):\n",
    "     return np.sin(2*np.pi*Hz*x)\n",
    "N=1000 #sampling data points: 一秒取樣幾個點，最高可以detect 頻率為N/2\n",
    "dataX = np.linspace(0, 1, N) # sampling time = 1/N\n",
    "dataY = np.zeros(N)\n",
    "for i in range(0,N):\n",
    "     dataY[i] = GenSin(dataX[i],50)\n",
    "\n",
    "xf = np.abs(fft(dataY)) #先經過fft: 只要放Y進去，有就是0.001秒的量\n",
    "plt.figure(1);\n",
    "plt.subplot(211);\n",
    "plt.xlabel('s')\n",
    "plt.plot(dataX, dataY, marker=\".\", linestyle='-',color='#0F0F0F')\n",
    "plt.subplot(212);\n",
    "freq = np.fft.fftfreq(N, d=1/N) #再經過fftfreq，d=1/N\n",
    "plt.plot(freq[0:N//2], xf[0:N//2],'g-' ); #只要看一半的地方就可以了\n",
    "plt.xlabel('Hz')\n",
    "plt.subplots_adjust(hspace=0.3, left=0.1, right=0.95, bottom=0.1, top=0.95)\n",
    "plt.show()"
   ]
  },
  {
   "cell_type": "code",
   "execution_count": null,
   "metadata": {},
   "outputs": [],
   "source": [
    "100"
   ]
  }
 ],
 "metadata": {
  "kernelspec": {
   "display_name": "Python 3",
   "language": "python",
   "name": "python3"
  },
  "language_info": {
   "codemirror_mode": {
    "name": "ipython",
    "version": 3
   },
   "file_extension": ".py",
   "mimetype": "text/x-python",
   "name": "python",
   "nbconvert_exporter": "python",
   "pygments_lexer": "ipython3",
   "version": "3.7.7"
  }
 },
 "nbformat": 4,
 "nbformat_minor": 4
}
