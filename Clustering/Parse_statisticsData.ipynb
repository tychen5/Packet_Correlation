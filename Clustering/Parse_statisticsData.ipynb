{
 "cells": [
  {
   "cell_type": "code",
   "execution_count": 1,
   "metadata": {},
   "outputs": [],
   "source": [
    "import pandas as pd\n",
    "import numpy as np\n",
    "import pickle\n",
    "import re\n",
    "import nltk"
   ]
  },
  {
   "cell_type": "code",
   "execution_count": 63,
   "metadata": {
    "scrolled": true
   },
   "outputs": [
    {
     "name": "stdout",
     "output_type": "stream",
     "text": [
      "1/10\n",
      "所有protocol總和中，1.原本的session總數: 50461592  2.in-bound具有payload的sessiony總數: 13649714  3.in-與out-bound都具有payload的session總數且不包含googlebot(最終拿來進行分群的sessions): 3178444\n",
      "\n",
      "1/9\n",
      "tds\n",
      "\n",
      "1/11\n",
      "tds\n",
      "\n",
      "1/6\n",
      "所有protocol總和中，1.原本的session總數: 43074691  2.in-bound具有payload的sessiony總數: 8834840  3.in-與out-bound都具有payload的session總數(最終拿來進行分群的sessions): 3265801\n",
      "\n",
      "1/7\n",
      "所有protocol總和中，1.原本的session總數: 35814003  2.in-bound具有payload的sessiony總數: 10552921  3.in-與out-bound都具有payload的session總數(最終拿來進行分群的sessions): 3864335\n",
      "\n",
      "1/8\n",
      "所有protocol總和中，原本的session總數: 38988269 in-bound具有payload的session數: 8827363 in與out-bound都具有payload的session總數: 2978942\n",
      "\n",
      "1/12\n",
      "所有protocol總和中，1.原本的session總數: 15967350  2.in-bound具有payload的sessiony總數: 1124036  3.in-與out-bound都具有payload的session總數(最終拿來進行分群的sessions): 596141\n",
      "\n"
     ]
    },
    {
     "data": {
      "text/plain": [
       "{'1/6': {'http': 70370,\n",
       "  'ftp': 3475,\n",
       "  'imap': 496,\n",
       "  'mysql': 50,\n",
       "  'pop': 685,\n",
       "  'rpc': 346,\n",
       "  'sip': 2084,\n",
       "  'smb': 33326,\n",
       "  'smtp': 16424,\n",
       "  'ssh': 222869,\n",
       "  'telnet': 137,\n",
       "  'tds': 193552},\n",
       " '1/7': {'http': 70370,\n",
       "  'ftp': 3475,\n",
       "  'imap': 496,\n",
       "  'mysql': 50,\n",
       "  'pop': 685,\n",
       "  'rpc': 346,\n",
       "  'sip': 2084,\n",
       "  'smb': 33326,\n",
       "  'smtp': 16424,\n",
       "  'ssh': 222869,\n",
       "  'telnet': 137,\n",
       "  'tds': 193552},\n",
       " '1/8': {'http': 70370,\n",
       "  'ftp': 3475,\n",
       "  'imap': 496,\n",
       "  'mysql': 50,\n",
       "  'pop': 685,\n",
       "  'rpc': 346,\n",
       "  'sip': 2084,\n",
       "  'smb': 33326,\n",
       "  'smtp': 16424,\n",
       "  'ssh': 222869,\n",
       "  'telnet': 137,\n",
       "  'tds': 193552},\n",
       " '1/9': {'http': 70370,\n",
       "  'ftp': 3475,\n",
       "  'imap': 496,\n",
       "  'mysql': 50,\n",
       "  'pop': 685,\n",
       "  'rpc': 346,\n",
       "  'sip': 2084,\n",
       "  'smb': 33326,\n",
       "  'smtp': 16424,\n",
       "  'ssh': 222869,\n",
       "  'telnet': 137,\n",
       "  'tds': 193552},\n",
       " '1/10': {'http': 70370,\n",
       "  'ftp': 3475,\n",
       "  'imap': 496,\n",
       "  'mysql': 50,\n",
       "  'pop': 685,\n",
       "  'rpc': 346,\n",
       "  'sip': 2084,\n",
       "  'smb': 33326,\n",
       "  'smtp': 16424,\n",
       "  'ssh': 222869,\n",
       "  'telnet': 137,\n",
       "  'tds': 193552},\n",
       " '1/11': {'http': 70370,\n",
       "  'ftp': 3475,\n",
       "  'imap': 496,\n",
       "  'mysql': 50,\n",
       "  'pop': 685,\n",
       "  'rpc': 346,\n",
       "  'sip': 2084,\n",
       "  'smb': 33326,\n",
       "  'smtp': 16424,\n",
       "  'ssh': 222869,\n",
       "  'telnet': 137,\n",
       "  'tds': 193552},\n",
       " '1/12': {'http': 70370,\n",
       "  'ftp': 3475,\n",
       "  'imap': 496,\n",
       "  'mysql': 50,\n",
       "  'pop': 685,\n",
       "  'rpc': 346,\n",
       "  'sip': 2084,\n",
       "  'smb': 33326,\n",
       "  'smtp': 16424,\n",
       "  'ssh': 222869,\n",
       "  'telnet': 137,\n",
       "  'tds': 193552}}"
      ]
     },
     "execution_count": 63,
     "metadata": {},
     "output_type": "execute_result"
    }
   ],
   "source": [
    "file = open('./Cluster_Statistics.txt','r')\n",
    "all_file = file.readlines()\n",
    "dates = ['1/6','1/7','1/8','1/9','1/10','1/11','1/12']\n",
    "protocols = ['HTTP', 'FTP', 'IMAP', 'MySQL', 'POP', 'RPC', 'SIP', 'SMB', 'SMTP', 'SSH', 'Telnet','tds']\n",
    "protocols = [x.lower() for x in protocols]\n",
    "proto_dict = {}\n",
    "for proto in protocols:\n",
    "    proto_dict[proto] = 'NaN'\n",
    "date_dict = {}\n",
    "for date in dates:\n",
    "    date_dict[date] = 'NaN'\n",
    "for i,line in enumerate(all_file):\n",
    "    for da in dates:\n",
    "        if line == da+'\\n':\n",
    "            date = da\n",
    "            print(da)\n",
    "            print(all_file[i+1])\n",
    "    for proto in protocols:\n",
    "        if line == proto+'\\n':\n",
    "#             print(proto)\n",
    "#             print(all_file[i+1])\n",
    "            try:\n",
    "                proto_dict[proto] = int(all_file[i+1].split()[-1].split('\\n')[0])\n",
    "            except ValueError:\n",
    "                try:\n",
    "                    proto_dict[proto] = int(all_file[i+1].split()[0].split('有')[-1])\n",
    "                except ValueError:\n",
    "                    try:\n",
    "                        proto_dict[proto] = int(all_file[i+1].split()[1])\n",
    "                    except ValueError:\n",
    "                        proto_dict[proto] = int(all_file[i+1].split()[0].split('共')[-1])\n",
    "            date_dict[date] = proto_dict\n",
    "#             print(i)\n",
    "#             break\n",
    "#         print(line=='1/10\\n')\n",
    "date_dict"
   ]
  },
  {
   "cell_type": "code",
   "execution_count": 62,
   "metadata": {},
   "outputs": [
    {
     "data": {
      "text/plain": [
       "'2533912'"
      ]
     },
     "execution_count": 62,
     "metadata": {},
     "output_type": "execute_result"
    }
   ],
   "source": []
  },
  {
   "cell_type": "code",
   "execution_count": 55,
   "metadata": {},
   "outputs": [
    {
     "data": {
      "text/plain": [
       "'1799699'"
      ]
     },
     "execution_count": 55,
     "metadata": {},
     "output_type": "execute_result"
    }
   ],
   "source": [
    "all_file[i+1].split()[0].split('有')[-1]"
   ]
  },
  {
   "cell_type": "code",
   "execution_count": 64,
   "metadata": {},
   "outputs": [
    {
     "name": "stdout",
     "output_type": "stream",
     "text": [
      "http 70370.0\n",
      "ftp 3475.0\n",
      "imap 496.0\n",
      "mysql 50.0\n",
      "pop 685.0\n",
      "rpc 346.0\n",
      "sip 2084.0\n",
      "smb 33326.0\n",
      "smtp 16424.0\n",
      "ssh 222869.0\n",
      "telnet 137.0\n",
      "tds 193552.0\n"
     ]
    },
    {
     "data": {
      "text/plain": [
       "543814.0"
      ]
     },
     "execution_count": 64,
     "metadata": {},
     "output_type": "execute_result"
    }
   ],
   "source": [
    "test = []\n",
    "for pro in protocols:\n",
    "    count = 0\n",
    "    for k,v in date_dict.items():\n",
    "        count = count + v[pro]\n",
    "    print(pro,count/len(date_dict))\n",
    "    test.append(count)\n",
    "np.sum(test)/len(date_dict)    "
   ]
  },
  {
   "cell_type": "code",
   "execution_count": 50,
   "metadata": {},
   "outputs": [
    {
     "data": {
      "text/plain": [
       "[492590, 24325, 3472, 350, 4795, 2422, 14588, 233282, 114968, 1560083, 959]"
      ]
     },
     "execution_count": 50,
     "metadata": {},
     "output_type": "execute_result"
    }
   ],
   "source": [
    "test"
   ]
  },
  {
   "cell_type": "code",
   "execution_count": 52,
   "metadata": {},
   "outputs": [
    {
     "ename": "KeyError",
     "evalue": "'tds'",
     "output_type": "error",
     "traceback": [
      "\u001b[0;31m---------------------------------------------------------------------------\u001b[0m",
      "\u001b[0;31mKeyError\u001b[0m                                  Traceback (most recent call last)",
      "\u001b[0;32m<ipython-input-52-0f030ea86c76>\u001b[0m in \u001b[0;36m<module>\u001b[0;34m\u001b[0m\n\u001b[1;32m      2\u001b[0m \u001b[0mpro\u001b[0m \u001b[0;34m=\u001b[0m \u001b[0;34m'tds'\u001b[0m\u001b[0;34m\u001b[0m\u001b[0;34m\u001b[0m\u001b[0m\n\u001b[1;32m      3\u001b[0m \u001b[0;32mfor\u001b[0m \u001b[0mk\u001b[0m\u001b[0;34m,\u001b[0m\u001b[0mv\u001b[0m \u001b[0;32min\u001b[0m \u001b[0mdate_dict\u001b[0m\u001b[0;34m.\u001b[0m\u001b[0mitems\u001b[0m\u001b[0;34m(\u001b[0m\u001b[0;34m)\u001b[0m\u001b[0;34m:\u001b[0m\u001b[0;34m\u001b[0m\u001b[0;34m\u001b[0m\u001b[0m\n\u001b[0;32m----> 4\u001b[0;31m     \u001b[0mcount\u001b[0m \u001b[0;34m=\u001b[0m \u001b[0mcount\u001b[0m \u001b[0;34m+\u001b[0m \u001b[0mv\u001b[0m\u001b[0;34m[\u001b[0m\u001b[0mpro\u001b[0m\u001b[0;34m]\u001b[0m\u001b[0;34m\u001b[0m\u001b[0;34m\u001b[0m\u001b[0m\n\u001b[0m\u001b[1;32m      5\u001b[0m \u001b[0mprint\u001b[0m\u001b[0;34m(\u001b[0m\u001b[0mpro\u001b[0m\u001b[0;34m,\u001b[0m\u001b[0mcount\u001b[0m\u001b[0;34m/\u001b[0m\u001b[0mlen\u001b[0m\u001b[0;34m(\u001b[0m\u001b[0mdate_dict\u001b[0m\u001b[0;34m)\u001b[0m\u001b[0;34m)\u001b[0m\u001b[0;34m\u001b[0m\u001b[0;34m\u001b[0m\u001b[0m\n\u001b[1;32m      6\u001b[0m \u001b[0mtest\u001b[0m\u001b[0;34m.\u001b[0m\u001b[0mappend\u001b[0m\u001b[0;34m(\u001b[0m\u001b[0mcount\u001b[0m\u001b[0;34m)\u001b[0m\u001b[0;34m\u001b[0m\u001b[0;34m\u001b[0m\u001b[0m\n",
      "\u001b[0;31mKeyError\u001b[0m: 'tds'"
     ]
    }
   ],
   "source": [
    "count = 0\n",
    "pro = 'tds'\n",
    "for k,v in date_dict.items():\n",
    "    count = count + v[pro]\n",
    "print(pro,count/len(date_dict))\n",
    "test.append(count)"
   ]
  },
  {
   "cell_type": "code",
   "execution_count": null,
   "metadata": {},
   "outputs": [],
   "source": [
    "0\n",
    "1029\n",
    "1800\n",
    "3618\n",
    "4165\n",
    "4789\n",
    "5342"
   ]
  },
  {
   "cell_type": "code",
   "execution_count": 23,
   "metadata": {},
   "outputs": [
    {
     "data": {
      "text/plain": [
       "['http',\n",
       " 'ftp',\n",
       " 'imap',\n",
       " 'mysql',\n",
       " 'pop',\n",
       " 'rpc',\n",
       " 'sip',\n",
       " 'smb',\n",
       " 'smtp',\n",
       " 'ssh',\n",
       " 'telnet']"
      ]
     },
     "execution_count": 23,
     "metadata": {},
     "output_type": "execute_result"
    }
   ],
   "source": [
    "protocols"
   ]
  },
  {
   "cell_type": "code",
   "execution_count": 33,
   "metadata": {},
   "outputs": [
    {
     "data": {
      "text/plain": [
       "'\\n'"
      ]
     },
     "execution_count": 33,
     "metadata": {},
     "output_type": "execute_result"
    }
   ],
   "source": [
    "line"
   ]
  },
  {
   "cell_type": "code",
   "execution_count": 37,
   "metadata": {},
   "outputs": [
    {
     "data": {
      "text/plain": [
       "'719'"
      ]
     },
     "execution_count": 37,
     "metadata": {},
     "output_type": "execute_result"
    }
   ],
   "source": [
    "all_file[4631]"
   ]
  }
 ],
 "metadata": {
  "kernelspec": {
   "display_name": "Python [conda env:root] *",
   "language": "python",
   "name": "conda-root-py"
  },
  "language_info": {
   "codemirror_mode": {
    "name": "ipython",
    "version": 3
   },
   "file_extension": ".py",
   "mimetype": "text/x-python",
   "name": "python",
   "nbconvert_exporter": "python",
   "pygments_lexer": "ipython3",
   "version": "3.7.7"
  }
 },
 "nbformat": 4,
 "nbformat_minor": 4
}
